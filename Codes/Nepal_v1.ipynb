{
 "cells": [
  {
   "cell_type": "markdown",
   "metadata": {
    "id": "5C0H0BVGzC2c"
   },
   "source": [
    "# **Landslide Footprint Detection over Time**\n",
    "**Model: Multi-scale Attention U-Net**\n",
    "\n",
    "**Code Author: Kushanav Bhuyan**\n",
    "\n"
   ]
  },
  {
   "cell_type": "markdown",
   "metadata": {
    "id": "FM7QdfvHzyww"
   },
   "source": [
    "## Libraries"
   ]
  },
  {
   "cell_type": "code",
   "execution_count": 49,
   "metadata": {
    "colab": {
     "base_uri": "https://localhost:8080/"
    },
    "executionInfo": {
     "elapsed": 15277,
     "status": "ok",
     "timestamp": 1619196726721,
     "user": {
      "displayName": "Kushanav Bhuyan",
      "photoUrl": "https://lh3.googleusercontent.com/a-/AOh14GhpJDzYajMCPL_21Vep_aig5cbphA73G195JQkf=s64",
      "userId": "13534778218088456884"
     },
     "user_tz": -120
    },
    "id": "WHTzdTb3y2Y8",
    "outputId": "4644402d-8522-4525-e6b6-10c2c5932c99"
   },
   "outputs": [
    {
     "name": "stdout",
     "output_type": "stream",
     "text": [
      "Importing packages.......\n",
      "Populating the interactive namespace from numpy and matplotlib\n",
      "Importing helper functions !!\n",
      "Libraries imported....\n",
      "Helpers imported....\n"
     ]
    }
   ],
   "source": [
    "# Import the required Libraries\n",
    "\n",
    "print(\"Importing packages.......\")\n",
    "\n",
    "import os\n",
    "import numpy as np\n",
    "from osgeo import gdal\n",
    "import tensorflow.keras\n",
    "import tensorflow as tf\n",
    "\n",
    "# physical_devices = tf.config.list_physical_devices('GPU')\n",
    "# tf.config.experimental.set_memory_growth(physical_devices[0], True)\n",
    "\n",
    "# from tensorflow.compat.v1 import ConfigProto\n",
    "# from tensorflow.compat.v1 import InteractiveSession\n",
    "\n",
    "# config = ConfigProto()\n",
    "# config.gpu_options.allow_growth = True\n",
    "# session = InteractiveSession(config=config\n",
    "\n",
    "%matplotlib inline\n",
    "%pylab inline\n",
    "\n",
    "pylab.rcParams['figure.figsize'] = (15, 10)\n",
    "import matplotlib.pyplot as plt\n",
    "import matplotlib.patches as mpatches\n",
    "from skimage import exposure\n",
    "from sklearn.model_selection import train_test_split\n",
    "import pandas as pd\n",
    "\n",
    "from tensorflow.keras.models import *\n",
    "from tensorflow.keras.layers import *\n",
    "from tensorflow.keras.optimizers import *\n",
    "from tensorflow.keras.callbacks import ModelCheckpoint, LearningRateScheduler\n",
    "from tensorflow.keras import regularizers\n",
    "from tensorflow.keras import backend as keras\n",
    "from tensorflow.python.keras import backend as K\n",
    "sess = K.get_session()\n",
    "from tensorflow.compat.v1.keras.backend import set_session\n",
    "from tensorflow.keras.layers import LeakyReLU\n",
    "\n",
    "import pickle\n",
    "import matplotlib.pyplot as plt \n",
    "import sys\n",
    "\n",
    "# print(\"Installing packages.......\")\n",
    "\n",
    "# !pip install keras-tqdm\n",
    "# from keras_tqdm import TQDMCallback, TQDMNotebookCallback\n",
    "\n",
    "# !pip install ipython-autotime\n",
    "# %load_ext autotime\n",
    "import imgaug.augmenters as iaa\n",
    "\n",
    "print(\"Importing helper functions !!\")\n",
    "\n",
    "# from utils import *\n",
    "from losses import *\n",
    "from attention_Unets import *\n",
    "\n",
    "print(\"Libraries imported....\")\n",
    "print(\"Helpers imported....\")"
   ]
  },
  {
   "cell_type": "markdown",
   "metadata": {
    "id": "sJSfvuyV01zL"
   },
   "source": [
    "## Loading the data"
   ]
  },
  {
   "cell_type": "markdown",
   "metadata": {
    "id": "Du1-Gc6Pz3M8"
   },
   "source": [
    "### Define file directories"
   ]
  },
  {
   "cell_type": "code",
   "execution_count": 50,
   "metadata": {
    "colab": {
     "base_uri": "https://localhost:8080/"
    },
    "executionInfo": {
     "elapsed": 867,
     "status": "ok",
     "timestamp": 1619196729145,
     "user": {
      "displayName": "Kushanav Bhuyan",
      "photoUrl": "https://lh3.googleusercontent.com/a-/AOh14GhpJDzYajMCPL_21Vep_aig5cbphA73G195JQkf=s64",
      "userId": "13534778218088456884"
     },
     "user_tz": -120
    },
    "id": "d8yLtwr1z2Sm",
    "outputId": "0739ae69-8699-4758-a5d7-c7f8fa84f4b9"
   },
   "outputs": [],
   "source": [
    "# Set file directory of the location where the data is stored\n",
    "Data_folder= \"path_to_data\""
   ]
  },
  {
   "cell_type": "markdown",
   "metadata": {
    "id": "AJJsdL6407tX"
   },
   "source": [
    "### Prepare required dataset\n",
    "Make a list of the satellite images"
   ]
  },
  {
   "cell_type": "code",
   "execution_count": 51,
   "metadata": {
    "colab": {
     "base_uri": "https://localhost:8080/"
    },
    "executionInfo": {
     "elapsed": 520,
     "status": "ok",
     "timestamp": 1619196729572,
     "user": {
      "displayName": "Kushanav Bhuyan",
      "photoUrl": "https://lh3.googleusercontent.com/a-/AOh14GhpJDzYajMCPL_21Vep_aig5cbphA73G195JQkf=s64",
      "userId": "13534778218088456884"
     },
     "user_tz": -120
    },
    "id": "uFOkKYBeL_ld",
    "outputId": "605bcd71-2f78-493d-b3f1-9d14ccc5a542"
   },
   "outputs": [],
   "source": [
    "def readdata(directory, folder_name):\n",
    "      \n",
    "    data_path = os.path.join(directory, folder_name)\n",
    "    data_list = {}\n",
    "\n",
    "    for f in sorted(os.listdir(data_path)):\n",
    "        fdir = os.path.join(data_path, f)\n",
    "        _, ext = os.path.splitext(f)\n",
    "        if ext.lower() == \".tif\":\n",
    "            imgtype = f[-20:-4] # Number of characters of the image file. Example, \"Image_1.tif\" = 11 characters\n",
    "            image_data=gdal.Open(fdir)\n",
    "            bands = [image_data.GetRasterBand(i+1).ReadAsArray() for i in range(image_data.RasterCount)]\n",
    "            data_list[imgtype] = np.stack(bands, axis=2) \n",
    "\n",
    "    return data_list"
   ]
  },
  {
   "cell_type": "code",
   "execution_count": 52,
   "metadata": {
    "colab": {
     "base_uri": "https://localhost:8080/"
    },
    "executionInfo": {
     "elapsed": 58741,
     "status": "ok",
     "timestamp": 1619196789000,
     "user": {
      "displayName": "Kushanav Bhuyan",
      "photoUrl": "https://lh3.googleusercontent.com/a-/AOh14GhpJDzYajMCPL_21Vep_aig5cbphA73G195JQkf=s64",
      "userId": "13534778218088456884"
     },
     "user_tz": -120
    },
    "id": "W5389bYrMAsG",
    "outputId": "ab5a70fe-78d8-437f-b6f9-412f666eecbb"
   },
   "outputs": [],
   "source": [
    "image_list = readdata(directory=Data_folder, folder_name=\"Satellite images\")\n",
    "label_list = readdata(directory=Data_folder, folder_name=\"Label images\")"
   ]
  },
  {
   "cell_type": "code",
   "execution_count": 53,
   "metadata": {
    "colab": {
     "base_uri": "https://localhost:8080/"
    },
    "executionInfo": {
     "elapsed": 1028,
     "status": "ok",
     "timestamp": 1619197633260,
     "user": {
      "displayName": "Kushanav Bhuyan",
      "photoUrl": "https://lh3.googleusercontent.com/a-/AOh14GhpJDzYajMCPL_21Vep_aig5cbphA73G195JQkf=s64",
      "userId": "13534778218088456884"
     },
     "user_tz": -120
    },
    "id": "HjMM4q3m6x4l",
    "outputId": "5db4106a-073c-416b-f6cc-7ec3ed7995a0"
   },
   "outputs": [
    {
     "name": "stdout",
     "output_type": "stream",
     "text": [
      "Number of satellite images: 10\n",
      "Shape of the image: (1461, 1936, 5)\n",
      "Number of label images: 14\n",
      "Shape of the image: (1461, 1936, 1)\n"
     ]
    }
   ],
   "source": [
    "#Check If Everything Works (CIEW)\n",
    "print(\"Number of satellite images: \" + str(len(image_list)))\n",
    "print(\"Shape of the image: \"+ str(image_list[\"image_3\"].shape))\n",
    "\n",
    "print(\"Number of label images: \" + str(len(label_list)))\n",
    "print(\"Shape of the image: \"+ str(label_list[\"image_3\"].shape))"
   ]
  },
  {
   "cell_type": "code",
   "execution_count": 54,
   "metadata": {},
   "outputs": [
    {
     "name": "stdout",
     "output_type": "stream",
     "text": [
      "The collection of images available in the list are:\n",
      "------------------------------\n",
      "image_1\n",
      "image_2\n",
      "image_2018\n",
      "image_2018_clip\n",
      "image_2019\n",
      "image_2019_clip\n",
      "image_3\n",
      "image_4\n",
      "image_5\n",
      "image_6\n"
     ]
    }
   ],
   "source": [
    "# Print all the stacks that are collected\n",
    "print(\"The collection of images available in the list are:\")\n",
    "print(\"-\"*30)\n",
    "print(*image_list, sep='\\n')"
   ]
  },
  {
   "cell_type": "markdown",
   "metadata": {
    "id": "Cz0fgioVCX7r"
   },
   "source": [
    "### Visualise the images"
   ]
  },
  {
   "cell_type": "code",
   "execution_count": 55,
   "metadata": {
    "id": "voV3zKbUBL-6"
   },
   "outputs": [],
   "source": [
    "# Visualise both satellite and label images together\n",
    "# IMPORTANT NOTE: Use an 8-bit unsigned integer label image otherwise any other data type won't be visualised. \n",
    "\n",
    "sample_image=\"image_1\"\n",
    "sample_label=\"image_1\"\n",
    "\n",
    "def visualise_data(data,data2):\n",
    "    f, axarr = plt.subplots(1,2)   \n",
    "    data = data.astype(float)\n",
    "    for i in range(data.shape[2]):\n",
    "        p2, p98 = np.percentile(data[:, :, i], (2, 98))\n",
    "        data[:, :, i] = exposure.rescale_intensity(data[:, :, i],\n",
    "                                                      in_range=(p2, p98))\n",
    "    axarr[0].imshow(data[:,:,3])\n",
    "    axarr[0].set_title(\"Satellite image\")\n",
    "\n",
    "    a=axarr[1]\n",
    "    values = np.unique(data2.ravel())\n",
    "    im = axarr[1].imshow(data2[:,:,0])\n",
    "    a.set_title(\"Labelled image\")\n",
    "    colors = [im.cmap(im.norm(value)) for value in values] \n",
    "    data2 = [\"Background\", \"Landslide footprints\"]\n",
    "    patches = [mpatches.Patch(color=colors[i], label=j) for i, j in zip(range(len(values)), data2)]\n",
    "    plt.legend(handles=patches, bbox_to_anchor=(1.05, 1), loc=2, borderaxespad=0. )\n",
    "\n",
    "# visualise_data(image_list[sample_image],label_list[sample_label])"
   ]
  },
  {
   "cell_type": "markdown",
   "metadata": {
    "id": "Wjt6-QOtDKM1"
   },
   "source": [
    "## Design patches, encode into categorical data, remove zero patches, and data augmentations\n"
   ]
  },
  {
   "cell_type": "markdown",
   "metadata": {
    "id": "eQ1vzOBTucaW"
   },
   "source": [
    "### Generate Patches and encode"
   ]
  },
  {
   "cell_type": "code",
   "execution_count": 56,
   "metadata": {
    "colab": {
     "base_uri": "https://localhost:8080/"
    },
    "executionInfo": {
     "elapsed": 1496,
     "status": "ok",
     "timestamp": 1619197639234,
     "user": {
      "displayName": "Kushanav Bhuyan",
      "photoUrl": "https://lh3.googleusercontent.com/a-/AOh14GhpJDzYajMCPL_21Vep_aig5cbphA73G195JQkf=s64",
      "userId": "13534778218088456884"
     },
     "user_tz": -120
    },
    "id": "yBiPnILADSIY",
    "outputId": "64b1b99f-5664-4a10-c87d-ca232799f356"
   },
   "outputs": [],
   "source": [
    "def gridwise_sample(imgarray, patchsize):\n",
    "\n",
    "    \"\"\"Extract sample patches of size patchsize x patchsize from an image (imgarray) in a gridwise manner.\n",
    "    \"\"\"\n",
    "    nrows, ncols, nbands = imgarray.shape\n",
    "    patchsamples = np.zeros(shape=(0, patchsize, patchsize, nbands),\n",
    "                            dtype=imgarray.dtype)\n",
    "    for i in range(int(nrows/patchsize)):\n",
    "        for j in range(int(ncols/patchsize)):\n",
    "            tocat = imgarray[i*patchsize:(i+1)*patchsize,\n",
    "                             j*patchsize:(j+1)*patchsize, :]\n",
    "            tocat = np.expand_dims(tocat, axis=0)\n",
    "            patchsamples = np.concatenate((patchsamples, tocat),\n",
    "                                          axis=0)\n",
    "    return patchsamples"
   ]
  },
  {
   "cell_type": "code",
   "execution_count": 57,
   "metadata": {
    "colab": {
     "base_uri": "https://localhost:8080/"
    },
    "executionInfo": {
     "elapsed": 115661,
     "status": "ok",
     "timestamp": 1619197753411,
     "user": {
      "displayName": "Kushanav Bhuyan",
      "photoUrl": "https://lh3.googleusercontent.com/a-/AOh14GhpJDzYajMCPL_21Vep_aig5cbphA73G195JQkf=s64",
      "userId": "13534778218088456884"
     },
     "user_tz": -120
    },
    "id": "gRK4prcNUcJ2",
    "outputId": "42e15298-f168-4e54-f8df-76c31bdf3bd9"
   },
   "outputs": [
    {
     "name": "stdout",
     "output_type": "stream",
     "text": [
      "[0. 1.]\n",
      "There are 1995 number of training patches\n"
     ]
    }
   ],
   "source": [
    "# FOR GENERATING TRAINING SITES\n",
    "\n",
    "PATCHSIZE = 128 # 224\n",
    "NBANDS = image_list[\"image_1\"].shape[-1]\n",
    "\n",
    "Xtrain = np.zeros(shape=(0, PATCHSIZE, PATCHSIZE, NBANDS), dtype=np.float32)\n",
    "Ytrain = np.zeros(shape=(0, PATCHSIZE, PATCHSIZE, 1), dtype=np.float32)\n",
    "\n",
    "# Sample each training tile systematically in a gridwise manner\n",
    "train_areas = [\"add images here\"] \n",
    "\n",
    "for area in train_areas:\n",
    "    X_toadd = gridwise_sample(image_list[area], PATCHSIZE)\n",
    "    Y_toadd = gridwise_sample(label_list[area], PATCHSIZE)\n",
    "    Xtrain = np.concatenate((Xtrain, X_toadd), axis=0)\n",
    "    Ytrain = np.concatenate((Ytrain, Y_toadd), axis=0)\n",
    "\n",
    "# Encode all landslide and background labels into their respective classes \"0\" and \"1\" (Categorical)\n",
    "Ytrain[Ytrain==0] = 0\n",
    "Ytrain[Ytrain==65535] = 0\n",
    "Ytrain[Ytrain==255] = 1\n",
    "print(np.unique(Ytrain))\n",
    "\n",
    "print(\"There are %i number of training patches\" % (Xtrain.shape[0]))"
   ]
  },
  {
   "cell_type": "code",
   "execution_count": 58,
   "metadata": {
    "colab": {
     "base_uri": "https://localhost:8080/"
    },
    "executionInfo": {
     "elapsed": 123462,
     "status": "ok",
     "timestamp": 1619197761219,
     "user": {
      "displayName": "Kushanav Bhuyan",
      "photoUrl": "https://lh3.googleusercontent.com/a-/AOh14GhpJDzYajMCPL_21Vep_aig5cbphA73G195JQkf=s64",
      "userId": "13534778218088456884"
     },
     "user_tz": -120
    },
    "id": "VpPp5gi1G28D",
    "outputId": "22f76555-5563-46be-f613-eba849f843e3"
   },
   "outputs": [
    {
     "name": "stdout",
     "output_type": "stream",
     "text": [
      "Pixel percentage of landslides = 1.287679648339599 %\n",
      "Pixel percentage of background = 98.7123203516604 %\n"
     ]
    }
   ],
   "source": [
    "#CIEW for training patches\n",
    "bd_px=len(Ytrain[Ytrain==1])/(len(Ytrain[Ytrain==1])+len(Ytrain[Ytrain==0]))\n",
    "bg_px=len(Ytrain[Ytrain==0])/(len(Ytrain[Ytrain==1])+len(Ytrain[Ytrain==0]))\n",
    "\n",
    "print(\"Pixel percentage of landslides = \" + str(bd_px* 100)+ \" %\") \n",
    "print(\"Pixel percentage of background = \" + str(bg_px* 100)+ \" %\")"
   ]
  },
  {
   "cell_type": "code",
   "execution_count": 59,
   "metadata": {},
   "outputs": [],
   "source": [
    "Xtrain, Xtest, Ytrain, Ytest = train_test_split(Xtrain, Ytrain, test_size=0.33, random_state=42)"
   ]
  },
  {
   "cell_type": "code",
   "execution_count": 60,
   "metadata": {
    "colab": {
     "base_uri": "https://localhost:8080/"
    },
    "executionInfo": {
     "elapsed": 130451,
     "status": "ok",
     "timestamp": 1619197768215,
     "user": {
      "displayName": "Kushanav Bhuyan",
      "photoUrl": "https://lh3.googleusercontent.com/a-/AOh14GhpJDzYajMCPL_21Vep_aig5cbphA73G195JQkf=s64",
      "userId": "13534778218088456884"
     },
     "user_tz": -120
    },
    "id": "gFCKk8E3HIUp",
    "outputId": "c37ae13d-a597-48db-925c-ca20a0c957c6"
   },
   "outputs": [],
   "source": [
    "# # FOR GENERATING TEST SITES\n",
    "\n",
    "# Xtest = np.zeros(shape=(0, PATCHSIZE, PATCHSIZE, NBANDS), dtype=np.float32)\n",
    "# Ytest = np.zeros(shape=(0, PATCHSIZE, PATCHSIZE, 1), dtype=np.float32)\n",
    "\n",
    "# # Sample each testing tile systematically in a gridwise manner\n",
    "\n",
    "# validation_areas = [\"image_3\"]\n",
    "# for area in validation_areas:\n",
    "#     X_toadd = gridwise_sample(image_list[area], PATCHSIZE)\n",
    "#     Y_toadd = gridwise_sample(label_list[area], PATCHSIZE)\n",
    "#     Xtest = np.concatenate((Xtest, X_toadd), axis=0)\n",
    "#     Ytest = np.concatenate((Ytest, Y_toadd), axis=0)\n",
    "\n",
    "# # encode all landslide and background classes as one class (Categorical)\n",
    "# Ytest[Ytest==0] = 0\n",
    "# Ytest[Ytest!=0] = 1\n",
    "\n",
    "# print(\"There are %i number of testing patches\" % (Xtest.shape[0]))"
   ]
  },
  {
   "cell_type": "code",
   "execution_count": 61,
   "metadata": {
    "colab": {
     "base_uri": "https://localhost:8080/"
    },
    "executionInfo": {
     "elapsed": 131406,
     "status": "ok",
     "timestamp": 1619197769172,
     "user": {
      "displayName": "Kushanav Bhuyan",
      "photoUrl": "https://lh3.googleusercontent.com/a-/AOh14GhpJDzYajMCPL_21Vep_aig5cbphA73G195JQkf=s64",
      "userId": "13534778218088456884"
     },
     "user_tz": -120
    },
    "id": "bbdsGAeGHrTL",
    "outputId": "c8ac38fc-6892-411b-b7fd-8a229d0169b2"
   },
   "outputs": [
    {
     "name": "stdout",
     "output_type": "stream",
     "text": [
      "Pixel percentage of landslides = 1.373967125853566 %\n",
      "Pixel percentage of background = 98.62603287414643 %\n"
     ]
    }
   ],
   "source": [
    "#CIEW for test patches\n",
    "bd_px=len(Ytest[Ytest==1])/(len(Ytest[Ytest==1])+len(Ytest[Ytest==0]))\n",
    "bg_px=len(Ytest[Ytest==0])/(len(Ytest[Ytest==1])+len(Ytest[Ytest==0]))\n",
    "\n",
    "print(\"Pixel percentage of landslides = \" + str(bd_px* 100) + \" %\") \n",
    "print(\"Pixel percentage of background = \" + str(bg_px* 100)+ \" %\")"
   ]
  },
  {
   "cell_type": "markdown",
   "metadata": {},
   "source": [
    "### Remove Zero Patches"
   ]
  },
  {
   "cell_type": "code",
   "execution_count": 62,
   "metadata": {},
   "outputs": [],
   "source": [
    "def remove_zeros(images_array,masks_array):\n",
    "    \n",
    "    all_zeros = []\n",
    "    for i in range(masks_array.shape[0]):\n",
    "        if masks_array[i].max() == 0:\n",
    "            all_zeros.append(i)\n",
    "    print(\"There are: {} arrays with just 0 values, and {} arrays with non zero values \".format(len(all_zeros), (\n",
    "                images_array.shape[0] - len(all_zeros))))\n",
    "    images = []\n",
    "    masks = []\n",
    "    for i in range(images_array.shape[0]):\n",
    "        if i not in all_zeros:\n",
    "            images.append(images_array[i])\n",
    "            masks.append(masks_array[i])\n",
    "\n",
    "    # Convert to array\n",
    "    images = np.array(images, dtype=\"float64\")\n",
    "    masks = np.array(masks, dtype=\"float32\")\n",
    "    print(\"Image shape: {}, Mask shape: {}\".format(images.shape, masks.shape))\n",
    "    return images, masks"
   ]
  },
  {
   "cell_type": "code",
   "execution_count": 63,
   "metadata": {},
   "outputs": [
    {
     "name": "stdout",
     "output_type": "stream",
     "text": [
      "There are: 1023 arrays with just 0 values, and 313 arrays with non zero values \n",
      "Image shape: (313, 128, 128, 5), Mask shape: (313, 128, 128, 1)\n",
      "------------------------------------------------------------\n",
      "There are: 490 arrays with just 0 values, and 169 arrays with non zero values \n",
      "Image shape: (169, 128, 128, 5), Mask shape: (169, 128, 128, 1)\n",
      "------------------------------------------------------------\n",
      "There are 313 number of training patches\n",
      "There are 169 number of testing patches\n"
     ]
    }
   ],
   "source": [
    "X_train, Y_train = remove_zeros(Xtrain, Ytrain)\n",
    "\n",
    "print(\"----\"*15)\n",
    "\n",
    "X_test, Y_test = remove_zeros(Xtest, Ytest)\n",
    "\n",
    "print(\"----\"*15)\n",
    "\n",
    "print(\"There are %i number of training patches\" % (X_train.shape[0]))\n",
    "print(\"There are %i number of testing patches\" % (X_test.shape[0]))"
   ]
  },
  {
   "cell_type": "code",
   "execution_count": 64,
   "metadata": {},
   "outputs": [
    {
     "name": "stdout",
     "output_type": "stream",
     "text": [
      "Pixel percentage of landslides = 5.31462160543131 %\n",
      "Pixel percentage of background = 94.68537839456869 %\n"
     ]
    }
   ],
   "source": [
    "#CIEW for training patches\n",
    "bd_px=len(Y_train[Y_train==1])/(len(Y_train[Y_train==1])+len(Y_train[Y_train==0]))\n",
    "bg_px=len(Y_train[Y_train==0])/(len(Y_train[Y_train==1])+len(Y_train[Y_train==0]))\n",
    "\n",
    "print(\"Pixel percentage of landslides = \" + str(bd_px* 100)+ \" %\") \n",
    "print(\"Pixel percentage of background = \" + str(bg_px* 100)+ \" %\")"
   ]
  },
  {
   "cell_type": "code",
   "execution_count": 65,
   "metadata": {},
   "outputs": [
    {
     "name": "stdout",
     "output_type": "stream",
     "text": [
      "Pixel percentage of landslides = 5.357658792529586 %\n",
      "Pixel percentage of background = 94.64234120747041 %\n"
     ]
    }
   ],
   "source": [
    "#CIEW for testing patches\n",
    "bd_px=len(Y_test[Y_test==1])/(len(Y_test[Y_test==1])+len(Y_test[Y_test==0]))\n",
    "bg_px=len(Y_test[Y_test==0])/(len(Y_test[Y_test==1])+len(Y_test[Y_test==0]))\n",
    "\n",
    "print(\"Pixel percentage of landslides = \" + str(bd_px* 100)+ \" %\") \n",
    "print(\"Pixel percentage of background = \" + str(bg_px* 100)+ \" %\")"
   ]
  },
  {
   "cell_type": "markdown",
   "metadata": {},
   "source": [
    "### Data augmentations"
   ]
  },
  {
   "cell_type": "code",
   "execution_count": 66,
   "metadata": {},
   "outputs": [
    {
     "name": "stdout",
     "output_type": "stream",
     "text": [
      "Shape of the image collection before augmentation: (313, 128, 128, 5)\n",
      "Shape of the label collection before augmentation: (313, 128, 128, 1)\n",
      "----------------------------------------\n",
      "Shape of the image collection after augmentation: (2191, 128, 128, 5)\n",
      "Shape of the label collection after augmentation: (2191, 128, 128, 1)\n"
     ]
    }
   ],
   "source": [
    "print(f'Shape of the image collection before augmentation: {X_train.shape}')\n",
    "print(f'Shape of the label collection before augmentation: {Y_train.shape}')\n",
    "\n",
    "# Geometric\n",
    "seq = iaa.Sequential([\n",
    "    iaa.Fliplr(1)\n",
    "])\n",
    "seq1 = iaa.Sequential([\n",
    "    iaa.Flipud(1)\n",
    "])\n",
    "\n",
    "seq2 = iaa.Sequential([\n",
    "    iaa.ShearX((-20, 20))\n",
    "])\n",
    "\n",
    "seq3 = iaa.Sequential([\n",
    "    iaa.ShearY((-20, 20))\n",
    "])\n",
    "\n",
    "seq4 = iaa.Sequential([\n",
    "    iaa.Rotate((-45, 45))\n",
    "])\n",
    "\n",
    "# Horizontal Flip\n",
    "X_aug, Y_aug = seq(images=X_train, heatmaps=Y_train)\n",
    "# Vertical Flip\n",
    "X_aug1, Y_aug1 = seq1(images=X_train, heatmaps=Y_train)\n",
    "# Shear X\n",
    "X_aug2, Y_aug2 = seq2(images=X_train, heatmaps=Y_train)\n",
    "# Shear Y\n",
    "X_aug3, Y_aug3 = seq3(images=X_train, heatmaps=Y_train)\n",
    "# Rotate +-45\n",
    "X_aug4, Y_aug4 = seq4(images=X_train, heatmaps=Y_train)\n",
    "\n",
    "# X_train = np.concatenate((X_train, X_aug1, X_aug2, X_aug3,  X_aug4), axis=0)\n",
    "# Y_train = np.concatenate((Y_train, Y_aug1, Y_aug2, Y_aug3,  Y_aug4), axis=0)\n",
    "\n",
    "# Radiometric\n",
    "seq5 = iaa.Sequential([\n",
    "    iaa.GaussianBlur(sigma=(0.0, 3.0))\n",
    "])\n",
    "\n",
    "seq6 = iaa.Sequential([\n",
    "    iaa.Sharpen(alpha=(0.0, 1.0), lightness=(0.75, 2.0))\n",
    "])\n",
    "\n",
    "# seq7 = iaa.Sequential([\n",
    "#     iaa.AdditiveGaussianNoise(scale=(0, 0.2*255))\n",
    "# ])\n",
    "\n",
    "# Blur\n",
    "X_aug5, Y_aug5 = seq5(images=X_train, heatmaps=Y_train)\n",
    "# Sharp\n",
    "X_aug6, Y_aug6 = seq6(images=X_train, heatmaps=Y_train)\n",
    "# # Noise\n",
    "# X_aug7, Y_aug7 = seq7(images=X_train.astype(np.uint8), heatmaps=Y_train)\n",
    "\n",
    "X_train = np.concatenate((X_train, X_aug1, X_aug2, X_aug3,  X_aug4, X_aug5 ,X_aug6), axis=0)\n",
    "Y_train = np.concatenate((Y_train, Y_aug1, Y_aug2, Y_aug3,  Y_aug4, Y_aug5 ,Y_aug6), axis=0)\n",
    "\n",
    "print(\"--\"*20)\n",
    "print(f'Shape of the image collection after augmentation: {X_train.shape}')\n",
    "print(f'Shape of the label collection after augmentation: {Y_train.shape}')"
   ]
  },
  {
   "cell_type": "code",
   "execution_count": 67,
   "metadata": {},
   "outputs": [
    {
     "name": "stdout",
     "output_type": "stream",
     "text": [
      "There are 2191 number of training patches\n",
      "------------------------------------------------------------\n",
      "Pixel percentage of landslides = 4.745764284795296 %\n",
      "Pixel percentage of background = 95.2542357152047 %\n"
     ]
    }
   ],
   "source": [
    "print(\"There are %i number of training patches\" % (X_train.shape[0]))\n",
    "\n",
    "#CIEW for training patches\n",
    "bd_px=len(Y_train[Y_train==1])/(len(Y_train[Y_train==1])+len(Y_train[Y_train==0]))\n",
    "bg_px=len(Y_train[Y_train==0])/(len(Y_train[Y_train==1])+len(Y_train[Y_train==0]))\n",
    "\n",
    "print(\"----\"*15)\n",
    "\n",
    "print(\"Pixel percentage of landslides = \" + str(bd_px* 100)+ \" %\") \n",
    "print(\"Pixel percentage of background = \" + str(bg_px* 100)+ \" %\")"
   ]
  },
  {
   "cell_type": "markdown",
   "metadata": {
    "id": "pCr3n2WYvFWF"
   },
   "source": [
    "## Training the model "
   ]
  },
  {
   "cell_type": "code",
   "execution_count": 68,
   "metadata": {
    "colab": {
     "base_uri": "https://localhost:8080/"
    },
    "executionInfo": {
     "elapsed": 4803157,
     "status": "ok",
     "timestamp": 1619203324726,
     "user": {
      "displayName": "Kushanav Bhuyan",
      "photoUrl": "https://lh3.googleusercontent.com/a-/AOh14GhpJDzYajMCPL_21Vep_aig5cbphA73G195JQkf=s64",
      "userId": "13534778218088456884"
     },
     "user_tz": -120
    },
    "id": "TDVxeZmhzLZO",
    "outputId": "de8bba98-dfa3-4137-e57d-889d62dbf4e0"
   },
   "outputs": [
    {
     "name": "stdout",
     "output_type": "stream",
     "text": [
      "---------------------------------------------------------------------------------------------------------------------\n",
      "Initialising in 3..........2..........1......................................\n",
      "Training on 2191 images with learning rate 0.001, batch size 32, and number of filters 32\n",
      "Epoch 1/70\n",
      "62/62 - 56s - loss: 2.9504 - pred1_loss: 0.7812 - pred2_loss: 0.7068 - pred3_loss: 0.7692 - final_loss: 0.6932 - pred1_accuracy: 0.7775 - pred1_precision_m: 0.1559 - pred1_recall_m: 0.5444 - pred1_f1_m: 0.2310 - pred2_accuracy: 0.8432 - pred2_precision_m: 0.2985 - pred2_recall_m: 0.5709 - pred2_f1_m: 0.3569 - pred3_accuracy: 0.7664 - pred3_precision_m: 0.2072 - pred3_recall_m: 0.6689 - pred3_f1_m: 0.2917 - final_accuracy: 0.8343 - final_precision_m: 0.2829 - final_recall_m: 0.6506 - final_f1_m: 0.3648 - val_loss: 3.2336 - val_pred1_loss: 0.7859 - val_pred2_loss: 0.8596 - val_pred3_loss: 0.8301 - val_final_loss: 0.7579 - val_pred1_accuracy: 0.9172 - val_pred1_precision_m: 0.2846 - val_pred1_recall_m: 0.3270 - val_pred1_f1_m: 0.3004 - val_pred2_accuracy: 0.9523 - val_pred2_precision_m: 0.8838 - val_pred2_recall_m: 0.1602 - val_pred2_f1_m: 0.2632 - val_pred3_accuracy: 0.9523 - val_pred3_precision_m: 0.6643 - val_pred3_recall_m: 0.3089 - val_pred3_f1_m: 0.4154 - val_final_accuracy: 0.9561 - val_final_precision_m: 0.8101 - val_final_recall_m: 0.2719 - val_final_f1_m: 0.4008\n",
      "\n",
      "Epoch 00001: val_final_loss improved from inf to 0.75795, saving model to Checkpoints\\weights.01-0.76.hdf5\n",
      "Epoch 2/70\n",
      "62/62 - 9s - loss: 2.5140 - pred1_loss: 0.6987 - pred2_loss: 0.6026 - pred3_loss: 0.6433 - final_loss: 0.5693 - pred1_accuracy: 0.9094 - pred1_precision_m: 0.3075 - pred1_recall_m: 0.4725 - pred1_f1_m: 0.3588 - pred2_accuracy: 0.9416 - pred2_precision_m: 0.4732 - pred2_recall_m: 0.5379 - pred2_f1_m: 0.4921 - pred3_accuracy: 0.9373 - pred3_precision_m: 0.4380 - pred3_recall_m: 0.5835 - pred3_f1_m: 0.4899 - final_accuracy: 0.9347 - final_precision_m: 0.4348 - final_recall_m: 0.6164 - final_f1_m: 0.4971 - val_loss: 2.9413 - val_pred1_loss: 0.7278 - val_pred2_loss: 0.7988 - val_pred3_loss: 0.7734 - val_final_loss: 0.6414 - val_pred1_accuracy: 0.9459 - val_pred1_precision_m: 0.5265 - val_pred1_recall_m: 0.3072 - val_pred1_f1_m: 0.3793 - val_pred2_accuracy: 0.9539 - val_pred2_precision_m: 0.8365 - val_pred2_recall_m: 0.2068 - val_pred2_f1_m: 0.3242 - val_pred3_accuracy: 0.9555 - val_pred3_precision_m: 0.7902 - val_pred3_recall_m: 0.2697 - val_pred3_f1_m: 0.3940 - val_final_accuracy: 0.9563 - val_final_precision_m: 0.7434 - val_final_recall_m: 0.3279 - val_final_f1_m: 0.4487\n",
      "\n",
      "Epoch 00002: val_final_loss improved from 0.75795 to 0.64142, saving model to Checkpoints\\weights.02-0.64.hdf5\n",
      "Epoch 3/70\n",
      "62/62 - 9s - loss: 2.3436 - pred1_loss: 0.6339 - pred2_loss: 0.5920 - pred3_loss: 0.6014 - final_loss: 0.5163 - pred1_accuracy: 0.9369 - pred1_precision_m: 0.4120 - pred1_recall_m: 0.4956 - pred1_f1_m: 0.4404 - pred2_accuracy: 0.9469 - pred2_precision_m: 0.4867 - pred2_recall_m: 0.5291 - pred2_f1_m: 0.4995 - pred3_accuracy: 0.9397 - pred3_precision_m: 0.4700 - pred3_recall_m: 0.5712 - pred3_f1_m: 0.5016 - final_accuracy: 0.9406 - final_precision_m: 0.4781 - final_recall_m: 0.5926 - final_f1_m: 0.5150 - val_loss: 2.6268 - val_pred1_loss: 0.7439 - val_pred2_loss: 0.7365 - val_pred3_loss: 0.6653 - val_final_loss: 0.4810 - val_pred1_accuracy: 0.9553 - val_pred1_precision_m: 0.7902 - val_pred1_recall_m: 0.2575 - val_pred1_f1_m: 0.3850 - val_pred2_accuracy: 0.9572 - val_pred2_precision_m: 0.8737 - val_pred2_recall_m: 0.2664 - val_pred2_f1_m: 0.4026 - val_pred3_accuracy: 0.9597 - val_pred3_precision_m: 0.7937 - val_pred3_recall_m: 0.3730 - val_pred3_f1_m: 0.5029 - val_final_accuracy: 0.9578 - val_final_precision_m: 0.6571 - val_final_recall_m: 0.5067 - val_final_f1_m: 0.5692\n",
      "\n",
      "Epoch 00003: val_final_loss improved from 0.64142 to 0.48104, saving model to Checkpoints\\weights.03-0.48.hdf5\n",
      "Epoch 4/70\n",
      "62/62 - 9s - loss: 2.3074 - pred1_loss: 0.6329 - pred2_loss: 0.5870 - pred3_loss: 0.5901 - final_loss: 0.4975 - pred1_accuracy: 0.9362 - pred1_precision_m: 0.4041 - pred1_recall_m: 0.4994 - pred1_f1_m: 0.4378 - pred2_accuracy: 0.9471 - pred2_precision_m: 0.4949 - pred2_recall_m: 0.5401 - pred2_f1_m: 0.5067 - pred3_accuracy: 0.9462 - pred3_precision_m: 0.4901 - pred3_recall_m: 0.5629 - pred3_f1_m: 0.5135 - final_accuracy: 0.9440 - final_precision_m: 0.4883 - final_recall_m: 0.5799 - final_f1_m: 0.5165 - val_loss: 2.8798 - val_pred1_loss: 0.6431 - val_pred2_loss: 0.7898 - val_pred3_loss: 0.8277 - val_final_loss: 0.6191 - val_pred1_accuracy: 0.9525 - val_pred1_precision_m: 0.6029 - val_pred1_recall_m: 0.4062 - val_pred1_f1_m: 0.4825 - val_pred2_accuracy: 0.9565 - val_pred2_precision_m: 0.8062 - val_pred2_recall_m: 0.2817 - val_pred2_f1_m: 0.4124 - val_pred3_accuracy: 0.9524 - val_pred3_precision_m: 0.8613 - val_pred3_recall_m: 0.1689 - val_pred3_f1_m: 0.2740 - val_final_accuracy: 0.9577 - val_final_precision_m: 0.8065 - val_final_recall_m: 0.3148 - val_final_f1_m: 0.4463\n",
      "\n",
      "Epoch 00004: val_final_loss did not improve from 0.48104\n",
      "Epoch 5/70\n",
      "62/62 - 9s - loss: 2.2620 - pred1_loss: 0.6146 - pred2_loss: 0.5802 - pred3_loss: 0.5787 - final_loss: 0.4884 - pred1_accuracy: 0.9382 - pred1_precision_m: 0.4319 - pred1_recall_m: 0.5158 - pred1_f1_m: 0.4612 - pred2_accuracy: 0.9481 - pred2_precision_m: 0.5061 - pred2_recall_m: 0.5412 - pred2_f1_m: 0.5128 - pred3_accuracy: 0.9492 - pred3_precision_m: 0.5158 - pred3_recall_m: 0.5454 - pred3_f1_m: 0.5205 - final_accuracy: 0.9480 - final_precision_m: 0.5110 - final_recall_m: 0.5593 - final_f1_m: 0.5227 - val_loss: 2.7884 - val_pred1_loss: 0.6109 - val_pred2_loss: 0.6808 - val_pred3_loss: 0.8558 - val_final_loss: 0.6408 - val_pred1_accuracy: 0.9345 - val_pred1_precision_m: 0.4231 - val_pred1_recall_m: 0.5188 - val_pred1_f1_m: 0.4623 - val_pred2_accuracy: 0.9569 - val_pred2_precision_m: 0.7593 - val_pred2_recall_m: 0.3317 - val_pred2_f1_m: 0.4580 - val_pred3_accuracy: 0.9502 - val_pred3_precision_m: 0.7877 - val_pred3_recall_m: 0.1398 - val_pred3_f1_m: 0.2338 - val_final_accuracy: 0.9567 - val_final_precision_m: 0.8039 - val_final_recall_m: 0.2927 - val_final_f1_m: 0.4256\n",
      "\n",
      "Epoch 00005: val_final_loss did not improve from 0.48104\n",
      "Epoch 6/70\n",
      "62/62 - 9s - loss: 2.1721 - pred1_loss: 0.6050 - pred2_loss: 0.5562 - pred3_loss: 0.5519 - final_loss: 0.4591 - pred1_accuracy: 0.9412 - pred1_precision_m: 0.4466 - pred1_recall_m: 0.5301 - pred1_f1_m: 0.4740 - pred2_accuracy: 0.9514 - pred2_precision_m: 0.5253 - pred2_recall_m: 0.5669 - pred2_f1_m: 0.5387 - pred3_accuracy: 0.9523 - pred3_precision_m: 0.5356 - pred3_recall_m: 0.5744 - pred3_f1_m: 0.5477 - final_accuracy: 0.9531 - final_precision_m: 0.5449 - final_recall_m: 0.5680 - final_f1_m: 0.5488 - val_loss: 2.3997 - val_pred1_loss: 0.5900 - val_pred2_loss: 0.6265 - val_pred3_loss: 0.6724 - val_final_loss: 0.5107 - val_pred1_accuracy: 0.9279 - val_pred1_precision_m: 0.3949 - val_pred1_recall_m: 0.5859 - val_pred1_f1_m: 0.4695 - val_pred2_accuracy: 0.9604 - val_pred2_precision_m: 0.7863 - val_pred2_recall_m: 0.3946 - val_pred2_f1_m: 0.5216 - val_pred3_accuracy: 0.9592 - val_pred3_precision_m: 0.8162 - val_pred3_recall_m: 0.3430 - val_pred3_f1_m: 0.4794 - val_final_accuracy: 0.9622 - val_final_precision_m: 0.7950 - val_final_recall_m: 0.4298 - val_final_f1_m: 0.5548\n",
      "\n",
      "Epoch 00006: val_final_loss did not improve from 0.48104\n",
      "Epoch 7/70\n",
      "62/62 - 9s - loss: 2.1721 - pred1_loss: 0.6068 - pred2_loss: 0.5565 - pred3_loss: 0.5575 - final_loss: 0.4512 - pred1_accuracy: 0.9437 - pred1_precision_m: 0.4567 - pred1_recall_m: 0.5117 - pred1_f1_m: 0.4750 - pred2_accuracy: 0.9513 - pred2_precision_m: 0.5312 - pred2_recall_m: 0.5643 - pred2_f1_m: 0.5376 - pred3_accuracy: 0.9400 - pred3_precision_m: 0.5225 - pred3_recall_m: 0.5884 - pred3_f1_m: 0.5343 - final_accuracy: 0.9435 - final_precision_m: 0.5267 - final_recall_m: 0.6149 - final_f1_m: 0.5501 - val_loss: 2.2120 - val_pred1_loss: 0.5838 - val_pred2_loss: 0.5584 - val_pred3_loss: 0.5847 - val_final_loss: 0.4852 - val_pred1_accuracy: 0.9511 - val_pred1_precision_m: 0.5720 - val_pred1_recall_m: 0.4971 - val_pred1_f1_m: 0.5225 - val_pred2_accuracy: 0.9496 - val_pred2_precision_m: 0.5509 - val_pred2_recall_m: 0.5440 - val_pred2_f1_m: 0.5425 - val_pred3_accuracy: 0.9574 - val_pred3_precision_m: 0.6747 - val_pred3_recall_m: 0.4696 - val_pred3_f1_m: 0.5470 - val_final_accuracy: 0.9594 - val_final_precision_m: 0.7115 - val_final_recall_m: 0.4711 - val_final_f1_m: 0.5597\n",
      "\n",
      "Epoch 00007: val_final_loss did not improve from 0.48104\n",
      "Epoch 8/70\n",
      "62/62 - 9s - loss: 2.0987 - pred1_loss: 0.5996 - pred2_loss: 0.5533 - pred3_loss: 0.5450 - final_loss: 0.4008 - pred1_accuracy: 0.9436 - pred1_precision_m: 0.4572 - pred1_recall_m: 0.5259 - pred1_f1_m: 0.4820 - pred2_accuracy: 0.9522 - pred2_precision_m: 0.5339 - pred2_recall_m: 0.5642 - pred2_f1_m: 0.5421 - pred3_accuracy: 0.9485 - pred3_precision_m: 0.5231 - pred3_recall_m: 0.6042 - pred3_f1_m: 0.5477 - final_accuracy: 0.9505 - final_precision_m: 0.5276 - final_recall_m: 0.6916 - final_f1_m: 0.5878 - val_loss: 2.5518 - val_pred1_loss: 0.6292 - val_pred2_loss: 0.7098 - val_pred3_loss: 0.6798 - val_final_loss: 0.5330 - val_pred1_accuracy: 0.9551 - val_pred1_precision_m: 0.6565 - val_pred1_recall_m: 0.4091 - val_pred1_f1_m: 0.4965 - val_pred2_accuracy: 0.9559 - val_pred2_precision_m: 0.7758 - val_pred2_recall_m: 0.2987 - val_pred2_f1_m: 0.4249 - val_pred3_accuracy: 0.9565 - val_pred3_precision_m: 0.7533 - val_pred3_recall_m: 0.3418 - val_pred3_f1_m: 0.4596 - val_final_accuracy: 0.9591 - val_final_precision_m: 0.7530 - val_final_recall_m: 0.4081 - val_final_f1_m: 0.5209\n",
      "\n",
      "Epoch 00008: val_final_loss did not improve from 0.48104\n",
      "Epoch 9/70\n",
      "62/62 - 9s - loss: 2.0472 - pred1_loss: 0.5849 - pred2_loss: 0.5498 - pred3_loss: 0.5383 - final_loss: 0.3741 - pred1_accuracy: 0.9465 - pred1_precision_m: 0.4743 - pred1_recall_m: 0.5359 - pred1_f1_m: 0.4966 - pred2_accuracy: 0.9533 - pred2_precision_m: 0.5420 - pred2_recall_m: 0.5608 - pred2_f1_m: 0.5450 - pred3_accuracy: 0.9519 - pred3_precision_m: 0.5351 - pred3_recall_m: 0.5953 - pred3_f1_m: 0.5565 - final_accuracy: 0.9474 - final_precision_m: 0.5247 - final_recall_m: 0.7326 - final_f1_m: 0.6031 - val_loss: 2.6641 - val_pred1_loss: 0.6538 - val_pred2_loss: 0.6562 - val_pred3_loss: 0.7240 - val_final_loss: 0.6302 - val_pred1_accuracy: 0.9577 - val_pred1_precision_m: 0.7374 - val_pred1_recall_m: 0.3707 - val_pred1_f1_m: 0.4866 - val_pred2_accuracy: 0.9589 - val_pred2_precision_m: 0.7880 - val_pred2_recall_m: 0.3580 - val_pred2_f1_m: 0.4877 - val_pred3_accuracy: 0.9574 - val_pred3_precision_m: 0.8547 - val_pred3_recall_m: 0.2793 - val_pred3_f1_m: 0.4160 - val_final_accuracy: 0.9587 - val_final_precision_m: 0.8700 - val_final_recall_m: 0.2985 - val_final_f1_m: 0.4397\n",
      "\n",
      "Epoch 00009: val_final_loss did not improve from 0.48104\n",
      "Epoch 10/70\n",
      "62/62 - 9s - loss: 1.9933 - pred1_loss: 0.5835 - pred2_loss: 0.5539 - pred3_loss: 0.4945 - final_loss: 0.3613 - pred1_accuracy: 0.9456 - pred1_precision_m: 0.4803 - pred1_recall_m: 0.5399 - pred1_f1_m: 0.4966 - pred2_accuracy: 0.9510 - pred2_precision_m: 0.5258 - pred2_recall_m: 0.5673 - pred2_f1_m: 0.5363 - pred3_accuracy: 0.9438 - pred3_precision_m: 0.5153 - pred3_recall_m: 0.7087 - pred3_f1_m: 0.5828 - final_accuracy: 0.9525 - final_precision_m: 0.5305 - final_recall_m: 0.7391 - final_f1_m: 0.6118 - val_loss: 2.1555 - val_pred1_loss: 0.5931 - val_pred2_loss: 0.5424 - val_pred3_loss: 0.5802 - val_final_loss: 0.4399 - val_pred1_accuracy: 0.9564 - val_pred1_precision_m: 0.6496 - val_pred1_recall_m: 0.4619 - val_pred1_f1_m: 0.5342 - val_pred2_accuracy: 0.9572 - val_pred2_precision_m: 0.6386 - val_pred2_recall_m: 0.5332 - val_pred2_f1_m: 0.5774 - val_pred3_accuracy: 0.9598 - val_pred3_precision_m: 0.7180 - val_pred3_recall_m: 0.4672 - val_pred3_f1_m: 0.5604 - val_final_accuracy: 0.9585 - val_final_precision_m: 0.6582 - val_final_recall_m: 0.5371 - val_final_f1_m: 0.5872\n",
      "\n",
      "Epoch 00010: val_final_loss improved from 0.48104 to 0.43986, saving model to Checkpoints\\weights.10-0.44.hdf5\n",
      "Epoch 11/70\n",
      "62/62 - 9s - loss: 1.8745 - pred1_loss: 0.5627 - pred2_loss: 0.5357 - pred3_loss: 0.4444 - final_loss: 0.3317 - pred1_accuracy: 0.9506 - pred1_precision_m: 0.5084 - pred1_recall_m: 0.5511 - pred1_f1_m: 0.5251 - pred2_accuracy: 0.9552 - pred2_precision_m: 0.5566 - pred2_recall_m: 0.5721 - pred2_f1_m: 0.5607 - pred3_accuracy: 0.9525 - pred3_precision_m: 0.5464 - pred3_recall_m: 0.7600 - pred3_f1_m: 0.6294 - final_accuracy: 0.9552 - final_precision_m: 0.5493 - final_recall_m: 0.7646 - final_f1_m: 0.6352 - val_loss: 2.0353 - val_pred1_loss: 0.5339 - val_pred2_loss: 0.5117 - val_pred3_loss: 0.5565 - val_final_loss: 0.4332 - val_pred1_accuracy: 0.9459 - val_pred1_precision_m: 0.5108 - val_pred1_recall_m: 0.6003 - val_pred1_f1_m: 0.5480 - val_pred2_accuracy: 0.9515 - val_pred2_precision_m: 0.5581 - val_pred2_recall_m: 0.6108 - val_pred2_f1_m: 0.5806 - val_pred3_accuracy: 0.9585 - val_pred3_precision_m: 0.6653 - val_pred3_recall_m: 0.5091 - val_pred3_f1_m: 0.5737 - val_final_accuracy: 0.9565 - val_final_precision_m: 0.6222 - val_final_recall_m: 0.5545 - val_final_f1_m: 0.5833\n",
      "\n",
      "Epoch 00011: val_final_loss improved from 0.43986 to 0.43316, saving model to Checkpoints\\weights.11-0.43.hdf5\n",
      "Epoch 12/70\n",
      "62/62 - 9s - loss: 1.8885 - pred1_loss: 0.5796 - pred2_loss: 0.5333 - pred3_loss: 0.4488 - final_loss: 0.3268 - pred1_accuracy: 0.9403 - pred1_precision_m: 0.4786 - pred1_recall_m: 0.5590 - pred1_f1_m: 0.5016 - pred2_accuracy: 0.9540 - pred2_precision_m: 0.5548 - pred2_recall_m: 0.5931 - pred2_f1_m: 0.5658 - pred3_accuracy: 0.9544 - pred3_precision_m: 0.5480 - pred3_recall_m: 0.7475 - pred3_f1_m: 0.6251 - final_accuracy: 0.9549 - final_precision_m: 0.5458 - final_recall_m: 0.7753 - final_f1_m: 0.6354 - val_loss: 2.1989 - val_pred1_loss: 0.5332 - val_pred2_loss: 0.5570 - val_pred3_loss: 0.6215 - val_final_loss: 0.4871 - val_pred1_accuracy: 0.9534 - val_pred1_precision_m: 0.5831 - val_pred1_recall_m: 0.5657 - val_pred1_f1_m: 0.5696 - val_pred2_accuracy: 0.9573 - val_pred2_precision_m: 0.6523 - val_pred2_recall_m: 0.5082 - val_pred2_f1_m: 0.5670 - val_pred3_accuracy: 0.9608 - val_pred3_precision_m: 0.7941 - val_pred3_recall_m: 0.4032 - val_pred3_f1_m: 0.5295 - val_final_accuracy: 0.9622 - val_final_precision_m: 0.7781 - val_final_recall_m: 0.4529 - val_final_f1_m: 0.5675\n",
      "\n",
      "Epoch 00012: val_final_loss did not improve from 0.43316\n",
      "Epoch 13/70\n",
      "62/62 - 9s - loss: 1.8473 - pred1_loss: 0.5644 - pred2_loss: 0.5386 - pred3_loss: 0.4276 - final_loss: 0.3168 - pred1_accuracy: 0.9509 - pred1_precision_m: 0.5105 - pred1_recall_m: 0.5512 - pred1_f1_m: 0.5244 - pred2_accuracy: 0.9549 - pred2_precision_m: 0.5538 - pred2_recall_m: 0.5743 - pred2_f1_m: 0.5583 - pred3_accuracy: 0.9562 - pred3_precision_m: 0.5544 - pred3_recall_m: 0.7749 - pred3_f1_m: 0.6404 - final_accuracy: 0.9565 - final_precision_m: 0.5546 - final_recall_m: 0.7816 - final_f1_m: 0.6437 - val_loss: 2.0957 - val_pred1_loss: 0.5381 - val_pred2_loss: 0.5446 - val_pred3_loss: 0.5648 - val_final_loss: 0.4482 - val_pred1_accuracy: 0.9465 - val_pred1_precision_m: 0.5210 - val_pred1_recall_m: 0.5920 - val_pred1_f1_m: 0.5480 - val_pred2_accuracy: 0.9458 - val_pred2_precision_m: 0.5379 - val_pred2_recall_m: 0.5801 - val_pred2_f1_m: 0.5464 - val_pred3_accuracy: 0.9503 - val_pred3_precision_m: 0.5891 - val_pred3_recall_m: 0.5263 - val_pred3_f1_m: 0.5428 - val_final_accuracy: 0.9523 - val_final_precision_m: 0.6048 - val_final_recall_m: 0.5475 - val_final_f1_m: 0.5628\n",
      "\n",
      "Epoch 00013: val_final_loss did not improve from 0.43316\n",
      "Epoch 14/70\n",
      "62/62 - 9s - loss: 1.8214 - pred1_loss: 0.5657 - pred2_loss: 0.5319 - pred3_loss: 0.4189 - final_loss: 0.3049 - pred1_accuracy: 0.9493 - pred1_precision_m: 0.4994 - pred1_recall_m: 0.5547 - pred1_f1_m: 0.5202 - pred2_accuracy: 0.9565 - pred2_precision_m: 0.5720 - pred2_recall_m: 0.5747 - pred2_f1_m: 0.5678 - pred3_accuracy: 0.9569 - pred3_precision_m: 0.5583 - pred3_recall_m: 0.7774 - pred3_f1_m: 0.6464 - final_accuracy: 0.9581 - final_precision_m: 0.5654 - final_recall_m: 0.7879 - final_f1_m: 0.6555 - val_loss: 1.9580 - val_pred1_loss: 0.5089 - val_pred2_loss: 0.5006 - val_pred3_loss: 0.5269 - val_final_loss: 0.4217 - val_pred1_accuracy: 0.9513 - val_pred1_precision_m: 0.5563 - val_pred1_recall_m: 0.6176 - val_pred1_f1_m: 0.5807 - val_pred2_accuracy: 0.9584 - val_pred2_precision_m: 0.6357 - val_pred2_recall_m: 0.5931 - val_pred2_f1_m: 0.6102 - val_pred3_accuracy: 0.9623 - val_pred3_precision_m: 0.7199 - val_pred3_recall_m: 0.5308 - val_pred3_f1_m: 0.6072 - val_final_accuracy: 0.9620 - val_final_precision_m: 0.7104 - val_final_recall_m: 0.5405 - val_final_f1_m: 0.6100\n",
      "\n",
      "Epoch 00014: val_final_loss improved from 0.43316 to 0.42168, saving model to Checkpoints\\weights.14-0.42.hdf5\n",
      "Epoch 15/70\n",
      "62/62 - 9s - loss: 1.7928 - pred1_loss: 0.5609 - pred2_loss: 0.5209 - pred3_loss: 0.4119 - final_loss: 0.2990 - pred1_accuracy: 0.9514 - pred1_precision_m: 0.5143 - pred1_recall_m: 0.5546 - pred1_f1_m: 0.5268 - pred2_accuracy: 0.9570 - pred2_precision_m: 0.5846 - pred2_recall_m: 0.5919 - pred2_f1_m: 0.5791 - pred3_accuracy: 0.9577 - pred3_precision_m: 0.5607 - pred3_recall_m: 0.7861 - pred3_f1_m: 0.6508 - final_accuracy: 0.9593 - final_precision_m: 0.5722 - final_recall_m: 0.7922 - final_f1_m: 0.6613 - val_loss: 1.8830 - val_pred1_loss: 0.5163 - val_pred2_loss: 0.4867 - val_pred3_loss: 0.4709 - val_final_loss: 0.4091 - val_pred1_accuracy: 0.9483 - val_pred1_precision_m: 0.5310 - val_pred1_recall_m: 0.6195 - val_pred1_f1_m: 0.5658 - val_pred2_accuracy: 0.9578 - val_pred2_precision_m: 0.6250 - val_pred2_recall_m: 0.6133 - val_pred2_f1_m: 0.6149 - val_pred3_accuracy: 0.9627 - val_pred3_precision_m: 0.6855 - val_pred3_recall_m: 0.6146 - val_pred3_f1_m: 0.6441 - val_final_accuracy: 0.9620 - val_final_precision_m: 0.7020 - val_final_recall_m: 0.5592 - val_final_f1_m: 0.6178\n",
      "\n",
      "Epoch 00015: val_final_loss improved from 0.42168 to 0.40911, saving model to Checkpoints\\weights.15-0.41.hdf5\n",
      "Epoch 16/70\n",
      "62/62 - 9s - loss: 1.7434 - pred1_loss: 0.5602 - pred2_loss: 0.4684 - pred3_loss: 0.4114 - final_loss: 0.3034 - pred1_accuracy: 0.9516 - pred1_precision_m: 0.5163 - pred1_recall_m: 0.5546 - pred1_f1_m: 0.5274 - pred2_accuracy: 0.9573 - pred2_precision_m: 0.5727 - pred2_recall_m: 0.7013 - pred2_f1_m: 0.6211 - pred3_accuracy: 0.9577 - pred3_precision_m: 0.5604 - pred3_recall_m: 0.7909 - pred3_f1_m: 0.6515 - final_accuracy: 0.9588 - final_precision_m: 0.5684 - final_recall_m: 0.7910 - final_f1_m: 0.6578 - val_loss: 1.8141 - val_pred1_loss: 0.5308 - val_pred2_loss: 0.5402 - val_pred3_loss: 0.3976 - val_final_loss: 0.3455 - val_pred1_accuracy: 0.9608 - val_pred1_precision_m: 0.6908 - val_pred1_recall_m: 0.5307 - val_pred1_f1_m: 0.5947 - val_pred2_accuracy: 0.9605 - val_pred2_precision_m: 0.6962 - val_pred2_recall_m: 0.5200 - val_pred2_f1_m: 0.5910 - val_pred3_accuracy: 0.9583 - val_pred3_precision_m: 0.5917 - val_pred3_recall_m: 0.7863 - val_pred3_f1_m: 0.6748 - val_final_accuracy: 0.9645 - val_final_precision_m: 0.6996 - val_final_recall_m: 0.6394 - val_final_f1_m: 0.6652\n",
      "\n",
      "Epoch 00016: val_final_loss improved from 0.40911 to 0.34548, saving model to Checkpoints\\weights.16-0.35.hdf5\n",
      "Epoch 17/70\n",
      "62/62 - 9s - loss: 1.7061 - pred1_loss: 0.5483 - pred2_loss: 0.4485 - pred3_loss: 0.4096 - final_loss: 0.2997 - pred1_accuracy: 0.9530 - pred1_precision_m: 0.5267 - pred1_recall_m: 0.5728 - pred1_f1_m: 0.5429 - pred2_accuracy: 0.9547 - pred2_precision_m: 0.5642 - pred2_recall_m: 0.7369 - pred2_f1_m: 0.6299 - pred3_accuracy: 0.9583 - pred3_precision_m: 0.5675 - pred3_recall_m: 0.7882 - pred3_f1_m: 0.6542 - final_accuracy: 0.9594 - final_precision_m: 0.5723 - final_recall_m: 0.7933 - final_f1_m: 0.6606 - val_loss: 2.0891 - val_pred1_loss: 0.5120 - val_pred2_loss: 0.5505 - val_pred3_loss: 0.5673 - val_final_loss: 0.4594 - val_pred1_accuracy: 0.9523 - val_pred1_precision_m: 0.5643 - val_pred1_recall_m: 0.6072 - val_pred1_f1_m: 0.5815 - val_pred2_accuracy: 0.9640 - val_pred2_precision_m: 0.7830 - val_pred2_recall_m: 0.4907 - val_pred2_f1_m: 0.5991 - val_pred3_accuracy: 0.9634 - val_pred3_precision_m: 0.7939 - val_pred3_recall_m: 0.4659 - val_pred3_f1_m: 0.5829 - val_final_accuracy: 0.9639 - val_final_precision_m: 0.7925 - val_final_recall_m: 0.4790 - val_final_f1_m: 0.5928\n",
      "\n",
      "Epoch 00017: val_final_loss did not improve from 0.34548\n",
      "Epoch 18/70\n",
      "62/62 - 9s - loss: 1.7541 - pred1_loss: 0.5526 - pred2_loss: 0.5125 - pred3_loss: 0.3966 - final_loss: 0.2922 - pred1_accuracy: 0.9525 - pred1_precision_m: 0.5240 - pred1_recall_m: 0.5643 - pred1_f1_m: 0.5376 - pred2_accuracy: 0.9582 - pred2_precision_m: 0.5852 - pred2_recall_m: 0.6068 - pred2_f1_m: 0.5875 - pred3_accuracy: 0.9606 - pred3_precision_m: 0.5830 - pred3_recall_m: 0.7935 - pred3_f1_m: 0.6687 - final_accuracy: 0.9615 - final_precision_m: 0.5898 - final_recall_m: 0.7894 - final_f1_m: 0.6723 - val_loss: 1.9568 - val_pred1_loss: 0.5242 - val_pred2_loss: 0.5066 - val_pred3_loss: 0.5110 - val_final_loss: 0.4150 - val_pred1_accuracy: 0.9606 - val_pred1_precision_m: 0.6878 - val_pred1_recall_m: 0.5430 - val_pred1_f1_m: 0.5997 - val_pred2_accuracy: 0.9636 - val_pred2_precision_m: 0.7291 - val_pred2_recall_m: 0.5573 - val_pred2_f1_m: 0.6271 - val_pred3_accuracy: 0.9659 - val_pred3_precision_m: 0.7862 - val_pred3_recall_m: 0.5369 - val_pred3_f1_m: 0.6334 - val_final_accuracy: 0.9655 - val_final_precision_m: 0.7806 - val_final_recall_m: 0.5320 - val_final_f1_m: 0.6280\n",
      "\n",
      "Epoch 00018: val_final_loss did not improve from 0.34548\n",
      "Epoch 19/70\n",
      "62/62 - 9s - loss: 1.6929 - pred1_loss: 0.5399 - pred2_loss: 0.4969 - pred3_loss: 0.3800 - final_loss: 0.2761 - pred1_accuracy: 0.9554 - pred1_precision_m: 0.5523 - pred1_recall_m: 0.5669 - pred1_f1_m: 0.5549 - pred2_accuracy: 0.9609 - pred2_precision_m: 0.6153 - pred2_recall_m: 0.6075 - pred2_f1_m: 0.6081 - pred3_accuracy: 0.9619 - pred3_precision_m: 0.5925 - pred3_recall_m: 0.8121 - pred3_f1_m: 0.6829 - final_accuracy: 0.9621 - final_precision_m: 0.5937 - final_recall_m: 0.8118 - final_f1_m: 0.6839 - val_loss: 2.6927 - val_pred1_loss: 0.4950 - val_pred2_loss: 0.7117 - val_pred3_loss: 0.7764 - val_final_loss: 0.7096 - val_pred1_accuracy: 0.9579 - val_pred1_precision_m: 0.6263 - val_pred1_recall_m: 0.6076 - val_pred1_f1_m: 0.6126 - val_pred2_accuracy: 0.7123 - val_pred2_precision_m: 0.1428 - val_pred2_recall_m: 0.8337 - val_pred2_f1_m: 0.2434 - val_pred3_accuracy: 0.6306 - val_pred3_precision_m: 0.1136 - val_pred3_recall_m: 0.8298 - val_pred3_f1_m: 0.1995 - val_final_accuracy: 0.6388 - val_final_precision_m: 0.1161 - val_final_recall_m: 0.8302 - val_final_f1_m: 0.2034\n",
      "\n",
      "Epoch 00019: val_final_loss did not improve from 0.34548\n",
      "Epoch 20/70\n",
      "62/62 - 9s - loss: 1.6096 - pred1_loss: 0.5388 - pred2_loss: 0.4056 - pred3_loss: 0.3844 - final_loss: 0.2809 - pred1_accuracy: 0.9546 - pred1_precision_m: 0.5524 - pred1_recall_m: 0.5739 - pred1_f1_m: 0.5565 - pred2_accuracy: 0.9605 - pred2_precision_m: 0.5881 - pred2_recall_m: 0.7841 - pred2_f1_m: 0.6685 - pred3_accuracy: 0.9614 - pred3_precision_m: 0.5915 - pred3_recall_m: 0.8065 - pred3_f1_m: 0.6793 - final_accuracy: 0.9613 - final_precision_m: 0.5900 - final_recall_m: 0.8080 - final_f1_m: 0.6788 - val_loss: 2.7731 - val_pred1_loss: 0.5048 - val_pred2_loss: 0.7819 - val_pred3_loss: 0.7858 - val_final_loss: 0.7006 - val_pred1_accuracy: 0.9580 - val_pred1_precision_m: 0.6343 - val_pred1_recall_m: 0.5866 - val_pred1_f1_m: 0.6018 - val_pred2_accuracy: 0.6356 - val_pred2_precision_m: 0.1124 - val_pred2_recall_m: 0.8059 - val_pred2_f1_m: 0.1969 - val_pred3_accuracy: 0.6511 - val_pred3_precision_m: 0.1113 - val_pred3_recall_m: 0.7542 - val_pred3_f1_m: 0.1936 - val_final_accuracy: 0.6747 - val_final_precision_m: 0.1215 - val_final_recall_m: 0.7754 - val_final_f1_m: 0.2096\n",
      "\n",
      "Epoch 00020: val_final_loss did not improve from 0.34548\n",
      "Epoch 21/70\n",
      "62/62 - 9s - loss: 1.5971 - pred1_loss: 0.5314 - pred2_loss: 0.4013 - pred3_loss: 0.3853 - final_loss: 0.2791 - pred1_accuracy: 0.9549 - pred1_precision_m: 0.5513 - pred1_recall_m: 0.5862 - pred1_f1_m: 0.5625 - pred2_accuracy: 0.9617 - pred2_precision_m: 0.5979 - pred2_recall_m: 0.7831 - pred2_f1_m: 0.6739 - pred3_accuracy: 0.9614 - pred3_precision_m: 0.5916 - pred3_recall_m: 0.8066 - pred3_f1_m: 0.6784 - final_accuracy: 0.9622 - final_precision_m: 0.5972 - final_recall_m: 0.8057 - final_f1_m: 0.6828 - val_loss: 2.7246 - val_pred1_loss: 0.5021 - val_pred2_loss: 0.7615 - val_pred3_loss: 0.7647 - val_final_loss: 0.6963 - val_pred1_accuracy: 0.9474 - val_pred1_precision_m: 0.5193 - val_pred1_recall_m: 0.6493 - val_pred1_f1_m: 0.5736 - val_pred2_accuracy: 0.6283 - val_pred2_precision_m: 0.1201 - val_pred2_recall_m: 0.8989 - val_pred2_f1_m: 0.2116 - val_pred3_accuracy: 0.6228 - val_pred3_precision_m: 0.1182 - val_pred3_recall_m: 0.8952 - val_pred3_f1_m: 0.2085 - val_final_accuracy: 0.6316 - val_final_precision_m: 0.1203 - val_final_recall_m: 0.8903 - val_final_f1_m: 0.2116\n",
      "\n",
      "Epoch 00021: val_final_loss did not improve from 0.34548\n",
      "Epoch 22/70\n",
      "62/62 - 9s - loss: 1.5691 - pred1_loss: 0.5350 - pred2_loss: 0.3889 - pred3_loss: 0.3742 - final_loss: 0.2709 - pred1_accuracy: 0.9562 - pred1_precision_m: 0.5587 - pred1_recall_m: 0.5754 - pred1_f1_m: 0.5622 - pred2_accuracy: 0.9628 - pred2_precision_m: 0.6018 - pred2_recall_m: 0.7957 - pred2_f1_m: 0.6819 - pred3_accuracy: 0.9632 - pred3_precision_m: 0.6031 - pred3_recall_m: 0.8143 - pred3_f1_m: 0.6899 - final_accuracy: 0.9637 - final_precision_m: 0.6074 - final_recall_m: 0.8107 - final_f1_m: 0.6918 - val_loss: 2.6798 - val_pred1_loss: 0.5040 - val_pred2_loss: 0.7219 - val_pred3_loss: 0.7587 - val_final_loss: 0.6953 - val_pred1_accuracy: 0.9637 - val_pred1_precision_m: 0.7235 - val_pred1_recall_m: 0.5623 - val_pred1_f1_m: 0.6277 - val_pred2_accuracy: 0.7017 - val_pred2_precision_m: 0.1432 - val_pred2_recall_m: 0.8768 - val_pred2_f1_m: 0.2458 - val_pred3_accuracy: 0.6485 - val_pred3_precision_m: 0.1236 - val_pred3_recall_m: 0.8733 - val_pred3_f1_m: 0.2162 - val_final_accuracy: 0.6408 - val_final_precision_m: 0.1214 - val_final_recall_m: 0.8741 - val_final_f1_m: 0.2129\n",
      "\n",
      "Epoch 00022: val_final_loss did not improve from 0.34548\n",
      "Epoch 23/70\n",
      "62/62 - 9s - loss: 1.6711 - pred1_loss: 0.5284 - pred2_loss: 0.4343 - pred3_loss: 0.4090 - final_loss: 0.2994 - pred1_accuracy: 0.9547 - pred1_precision_m: 0.5549 - pred1_recall_m: 0.5935 - pred1_f1_m: 0.5650 - pred2_accuracy: 0.9588 - pred2_precision_m: 0.5772 - pred2_recall_m: 0.7478 - pred2_f1_m: 0.6457 - pred3_accuracy: 0.9593 - pred3_precision_m: 0.5755 - pred3_recall_m: 0.7823 - pred3_f1_m: 0.6586 - final_accuracy: 0.9606 - final_precision_m: 0.5860 - final_recall_m: 0.7823 - final_f1_m: 0.6658 - val_loss: 2.7538 - val_pred1_loss: 0.4903 - val_pred2_loss: 0.7690 - val_pred3_loss: 0.7785 - val_final_loss: 0.7160 - val_pred1_accuracy: 0.9537 - val_pred1_precision_m: 0.5768 - val_pred1_recall_m: 0.6344 - val_pred1_f1_m: 0.6004 - val_pred2_accuracy: 0.5994 - val_pred2_precision_m: 0.1152 - val_pred2_recall_m: 0.9304 - val_pred2_f1_m: 0.2047 - val_pred3_accuracy: 0.5632 - val_pred3_precision_m: 0.1083 - val_pred3_recall_m: 0.9523 - val_pred3_f1_m: 0.1944 - val_final_accuracy: 0.5606 - val_final_precision_m: 0.1080 - val_final_recall_m: 0.9544 - val_final_f1_m: 0.1939\n",
      "\n",
      "Epoch 00023: val_final_loss did not improve from 0.34548\n",
      "Epoch 24/70\n",
      "62/62 - 9s - loss: 1.5999 - pred1_loss: 0.5100 - pred2_loss: 0.4097 - pred3_loss: 0.3934 - final_loss: 0.2868 - pred1_accuracy: 0.9545 - pred1_precision_m: 0.5523 - pred1_recall_m: 0.6305 - pred1_f1_m: 0.5788 - pred2_accuracy: 0.9608 - pred2_precision_m: 0.5898 - pred2_recall_m: 0.7731 - pred2_f1_m: 0.6653 - pred3_accuracy: 0.9615 - pred3_precision_m: 0.5929 - pred3_recall_m: 0.7933 - pred3_f1_m: 0.6748 - final_accuracy: 0.9617 - final_precision_m: 0.5922 - final_recall_m: 0.7980 - final_f1_m: 0.6768 - val_loss: 2.0337 - val_pred1_loss: 0.4961 - val_pred2_loss: 0.4612 - val_pred3_loss: 0.7609 - val_final_loss: 0.3155 - val_pred1_accuracy: 0.9604 - val_pred1_precision_m: 0.6609 - val_pred1_recall_m: 0.5878 - val_pred1_f1_m: 0.6177 - val_pred2_accuracy: 0.9655 - val_pred2_precision_m: 0.7266 - val_pred2_recall_m: 0.6130 - val_pred2_f1_m: 0.6611 - val_pred3_accuracy: 0.6479 - val_pred3_precision_m: 0.1220 - val_pred3_recall_m: 0.8584 - val_pred3_f1_m: 0.2132 - val_final_accuracy: 0.9620 - val_final_precision_m: 0.6244 - val_final_recall_m: 0.7789 - val_final_f1_m: 0.6929\n",
      "\n",
      "Epoch 00024: val_final_loss improved from 0.34548 to 0.31554, saving model to Checkpoints\\weights.24-0.32.hdf5\n",
      "Epoch 25/70\n",
      "62/62 - 9s - loss: 1.5711 - pred1_loss: 0.4989 - pred2_loss: 0.4021 - pred3_loss: 0.3895 - final_loss: 0.2806 - pred1_accuracy: 0.9559 - pred1_precision_m: 0.5616 - pred1_recall_m: 0.6419 - pred1_f1_m: 0.5908 - pred2_accuracy: 0.9610 - pred2_precision_m: 0.5915 - pred2_recall_m: 0.7838 - pred2_f1_m: 0.6691 - pred3_accuracy: 0.9615 - pred3_precision_m: 0.5934 - pred3_recall_m: 0.8009 - pred3_f1_m: 0.6766 - final_accuracy: 0.9626 - final_precision_m: 0.6016 - final_recall_m: 0.8022 - final_f1_m: 0.6834 - val_loss: 1.9037 - val_pred1_loss: 0.4629 - val_pred2_loss: 0.4615 - val_pred3_loss: 0.5328 - val_final_loss: 0.4464 - val_pred1_accuracy: 0.9565 - val_pred1_precision_m: 0.5966 - val_pred1_recall_m: 0.6630 - val_pred1_f1_m: 0.6248 - val_pred2_accuracy: 0.9664 - val_pred2_precision_m: 0.7415 - val_pred2_recall_m: 0.6098 - val_pred2_f1_m: 0.6658 - val_pred3_accuracy: 0.9314 - val_pred3_precision_m: 0.4365 - val_pred3_recall_m: 0.7893 - val_pred3_f1_m: 0.5604 - val_final_accuracy: 0.9272 - val_final_precision_m: 0.4171 - val_final_recall_m: 0.7498 - val_final_f1_m: 0.5339\n",
      "\n",
      "Epoch 00025: val_final_loss did not improve from 0.31554\n",
      "Epoch 26/70\n",
      "62/62 - 9s - loss: 1.5637 - pred1_loss: 0.5219 - pred2_loss: 0.3923 - pred3_loss: 0.3777 - final_loss: 0.2719 - pred1_accuracy: 0.9549 - pred1_precision_m: 0.5588 - pred1_recall_m: 0.6048 - pred1_f1_m: 0.5704 - pred2_accuracy: 0.9616 - pred2_precision_m: 0.5952 - pred2_recall_m: 0.7936 - pred2_f1_m: 0.6758 - pred3_accuracy: 0.9623 - pred3_precision_m: 0.5951 - pred3_recall_m: 0.8130 - pred3_f1_m: 0.6843 - final_accuracy: 0.9626 - final_precision_m: 0.5974 - final_recall_m: 0.8157 - final_f1_m: 0.6868 - val_loss: 1.9985 - val_pred1_loss: 0.4919 - val_pred2_loss: 0.5325 - val_pred3_loss: 0.5351 - val_final_loss: 0.4389 - val_pred1_accuracy: 0.9586 - val_pred1_precision_m: 0.6291 - val_pred1_recall_m: 0.6059 - val_pred1_f1_m: 0.6133 - val_pred2_accuracy: 0.9656 - val_pred2_precision_m: 0.8071 - val_pred2_recall_m: 0.5054 - val_pred2_f1_m: 0.6169 - val_pred3_accuracy: 0.9650 - val_pred3_precision_m: 0.7928 - val_pred3_recall_m: 0.5058 - val_pred3_f1_m: 0.6125 - val_final_accuracy: 0.9650 - val_final_precision_m: 0.7988 - val_final_recall_m: 0.5002 - val_final_f1_m: 0.6102\n",
      "\n",
      "Epoch 00026: val_final_loss did not improve from 0.31554\n",
      "Epoch 27/70\n",
      "62/62 - 9s - loss: 1.5247 - pred1_loss: 0.4976 - pred2_loss: 0.3885 - pred3_loss: 0.3721 - final_loss: 0.2665 - pred1_accuracy: 0.9537 - pred1_precision_m: 0.5537 - pred1_recall_m: 0.6556 - pred1_f1_m: 0.5894 - pred2_accuracy: 0.9615 - pred2_precision_m: 0.5990 - pred2_recall_m: 0.7965 - pred2_f1_m: 0.6789 - pred3_accuracy: 0.9633 - pred3_precision_m: 0.6033 - pred3_recall_m: 0.8153 - pred3_f1_m: 0.6904 - final_accuracy: 0.9641 - final_precision_m: 0.6095 - final_recall_m: 0.8142 - final_f1_m: 0.6946 - val_loss: 1.9704 - val_pred1_loss: 0.5118 - val_pred2_loss: 0.5071 - val_pred3_loss: 0.5176 - val_final_loss: 0.4339 - val_pred1_accuracy: 0.9629 - val_pred1_precision_m: 0.7075 - val_pred1_recall_m: 0.5557 - val_pred1_f1_m: 0.6188 - val_pred2_accuracy: 0.9573 - val_pred2_precision_m: 0.6239 - val_pred2_recall_m: 0.5871 - val_pred2_f1_m: 0.6010 - val_pred3_accuracy: 0.9595 - val_pred3_precision_m: 0.6605 - val_pred3_recall_m: 0.5609 - val_pred3_f1_m: 0.6027 - val_final_accuracy: 0.9618 - val_final_precision_m: 0.7157 - val_final_recall_m: 0.5224 - val_final_f1_m: 0.6001\n",
      "\n",
      "Epoch 00027: val_final_loss did not improve from 0.31554\n",
      "Epoch 28/70\n",
      "62/62 - 9s - loss: 1.5926 - pred1_loss: 0.5351 - pred2_loss: 0.3992 - pred3_loss: 0.3817 - final_loss: 0.2766 - pred1_accuracy: 0.9556 - pred1_precision_m: 0.5587 - pred1_recall_m: 0.5803 - pred1_f1_m: 0.5593 - pred2_accuracy: 0.9611 - pred2_precision_m: 0.5914 - pred2_recall_m: 0.7860 - pred2_f1_m: 0.6684 - pred3_accuracy: 0.9620 - pred3_precision_m: 0.5977 - pred3_recall_m: 0.8097 - pred3_f1_m: 0.6810 - final_accuracy: 0.9627 - final_precision_m: 0.6022 - final_recall_m: 0.8088 - final_f1_m: 0.6842 - val_loss: 2.3218 - val_pred1_loss: 0.4851 - val_pred2_loss: 0.3784 - val_pred3_loss: 0.7607 - val_final_loss: 0.6975 - val_pred1_accuracy: 0.9625 - val_pred1_precision_m: 0.6849 - val_pred1_recall_m: 0.5989 - val_pred1_f1_m: 0.6350 - val_pred2_accuracy: 0.9671 - val_pred2_precision_m: 0.6759 - val_pred2_recall_m: 0.7706 - val_pred2_f1_m: 0.7199 - val_pred3_accuracy: 0.6510 - val_pred3_precision_m: 0.1226 - val_pred3_recall_m: 0.8546 - val_pred3_f1_m: 0.2140 - val_final_accuracy: 0.6433 - val_final_precision_m: 0.1210 - val_final_recall_m: 0.8612 - val_final_f1_m: 0.2118\n",
      "\n",
      "Epoch 00028: val_final_loss did not improve from 0.31554\n",
      "Epoch 29/70\n",
      "62/62 - 9s - loss: 1.4852 - pred1_loss: 0.4890 - pred2_loss: 0.3751 - pred3_loss: 0.3612 - final_loss: 0.2599 - pred1_accuracy: 0.9575 - pred1_precision_m: 0.5713 - pred1_recall_m: 0.6484 - pred1_f1_m: 0.6005 - pred2_accuracy: 0.9645 - pred2_precision_m: 0.6148 - pred2_recall_m: 0.8073 - pred2_f1_m: 0.6948 - pred3_accuracy: 0.9654 - pred3_precision_m: 0.6191 - pred3_recall_m: 0.8202 - pred3_f1_m: 0.7037 - final_accuracy: 0.9655 - final_precision_m: 0.6211 - final_recall_m: 0.8178 - final_f1_m: 0.7041 - val_loss: 1.8878 - val_pred1_loss: 0.6467 - val_pred2_loss: 0.4114 - val_pred3_loss: 0.4712 - val_final_loss: 0.3584 - val_pred1_accuracy: 0.8215 - val_pred1_precision_m: 0.2160 - val_pred1_recall_m: 0.8534 - val_pred1_f1_m: 0.3442 - val_pred2_accuracy: 0.9626 - val_pred2_precision_m: 0.6223 - val_pred2_recall_m: 0.8159 - val_pred2_f1_m: 0.7058 - val_pred3_accuracy: 0.9660 - val_pred3_precision_m: 0.7441 - val_pred3_recall_m: 0.5993 - val_pred3_f1_m: 0.6588 - val_final_accuracy: 0.9657 - val_final_precision_m: 0.7310 - val_final_recall_m: 0.6143 - val_final_f1_m: 0.6627\n",
      "\n",
      "Epoch 00029: val_final_loss did not improve from 0.31554\n",
      "Epoch 30/70\n",
      "62/62 - 9s - loss: 1.4321 - pred1_loss: 0.4491 - pred2_loss: 0.3697 - pred3_loss: 0.3582 - final_loss: 0.2552 - pred1_accuracy: 0.9576 - pred1_precision_m: 0.5607 - pred1_recall_m: 0.7219 - pred1_f1_m: 0.6268 - pred2_accuracy: 0.9649 - pred2_precision_m: 0.6186 - pred2_recall_m: 0.8109 - pred2_f1_m: 0.6985 - pred3_accuracy: 0.9650 - pred3_precision_m: 0.6167 - pred3_recall_m: 0.8288 - pred3_f1_m: 0.7040 - final_accuracy: 0.9657 - final_precision_m: 0.6224 - final_recall_m: 0.8251 - final_f1_m: 0.7069 - val_loss: 2.7516 - val_pred1_loss: 0.5411 - val_pred2_loss: 0.7576 - val_pred3_loss: 0.7619 - val_final_loss: 0.6909 - val_pred1_accuracy: 0.9107 - val_pred1_precision_m: 0.3598 - val_pred1_recall_m: 0.8123 - val_pred1_f1_m: 0.4984 - val_pred2_accuracy: 0.6462 - val_pred2_precision_m: 0.1234 - val_pred2_recall_m: 0.8779 - val_pred2_f1_m: 0.2160 - val_pred3_accuracy: 0.6440 - val_pred3_precision_m: 0.1214 - val_pred3_recall_m: 0.8653 - val_pred3_f1_m: 0.2126 - val_final_accuracy: 0.6557 - val_final_precision_m: 0.1243 - val_final_recall_m: 0.8566 - val_final_f1_m: 0.2167\n",
      "\n",
      "Epoch 00030: val_final_loss did not improve from 0.31554\n",
      "Epoch 31/70\n",
      "62/62 - 9s - loss: 1.4061 - pred1_loss: 0.4361 - pred2_loss: 0.3622 - pred3_loss: 0.3555 - final_loss: 0.2523 - pred1_accuracy: 0.9577 - pred1_precision_m: 0.5665 - pred1_recall_m: 0.7407 - pred1_f1_m: 0.6361 - pred2_accuracy: 0.9660 - pred2_precision_m: 0.6271 - pred2_recall_m: 0.8182 - pred2_f1_m: 0.7063 - pred3_accuracy: 0.9661 - pred3_precision_m: 0.6256 - pred3_recall_m: 0.8268 - pred3_f1_m: 0.7092 - final_accuracy: 0.9664 - final_precision_m: 0.6286 - final_recall_m: 0.8258 - final_f1_m: 0.7110 - val_loss: 1.7526 - val_pred1_loss: 0.3875 - val_pred2_loss: 0.4734 - val_pred3_loss: 0.4974 - val_final_loss: 0.3943 - val_pred1_accuracy: 0.9632 - val_pred1_precision_m: 0.6388 - val_pred1_recall_m: 0.7634 - val_pred1_f1_m: 0.6946 - val_pred2_accuracy: 0.9654 - val_pred2_precision_m: 0.7319 - val_pred2_recall_m: 0.5978 - val_pred2_f1_m: 0.6541 - val_pred3_accuracy: 0.9666 - val_pred3_precision_m: 0.7848 - val_pred3_recall_m: 0.5539 - val_pred3_f1_m: 0.6454 - val_final_accuracy: 0.9672 - val_final_precision_m: 0.7965 - val_final_recall_m: 0.5529 - val_final_f1_m: 0.6488\n",
      "\n",
      "Epoch 00031: val_final_loss did not improve from 0.31554\n",
      "Epoch 32/70\n",
      "62/62 - 9s - loss: 1.3775 - pred1_loss: 0.4246 - pred2_loss: 0.3554 - pred3_loss: 0.3494 - final_loss: 0.2480 - pred1_accuracy: 0.9583 - pred1_precision_m: 0.5693 - pred1_recall_m: 0.7582 - pred1_f1_m: 0.6450 - pred2_accuracy: 0.9664 - pred2_precision_m: 0.6301 - pred2_recall_m: 0.8234 - pred2_f1_m: 0.7113 - pred3_accuracy: 0.9668 - pred3_precision_m: 0.6323 - pred3_recall_m: 0.8305 - pred3_f1_m: 0.7155 - final_accuracy: 0.9668 - final_precision_m: 0.6335 - final_recall_m: 0.8285 - final_f1_m: 0.7155 - val_loss: 2.5817 - val_pred1_loss: 0.4419 - val_pred2_loss: 0.6854 - val_pred3_loss: 0.7645 - val_final_loss: 0.6900 - val_pred1_accuracy: 0.9618 - val_pred1_precision_m: 0.6490 - val_pred1_recall_m: 0.6734 - val_pred1_f1_m: 0.6580 - val_pred2_accuracy: 0.7545 - val_pred2_precision_m: 0.1695 - val_pred2_recall_m: 0.8745 - val_pred2_f1_m: 0.2834 - val_pred3_accuracy: 0.6361 - val_pred3_precision_m: 0.1195 - val_pred3_recall_m: 0.8688 - val_pred3_f1_m: 0.2097 - val_final_accuracy: 0.6526 - val_final_precision_m: 0.1245 - val_final_recall_m: 0.8673 - val_final_f1_m: 0.2174\n",
      "\n",
      "Epoch 00032: val_final_loss did not improve from 0.31554\n",
      "Epoch 33/70\n",
      "62/62 - 9s - loss: 1.3693 - pred1_loss: 0.4209 - pred2_loss: 0.3546 - pred3_loss: 0.3477 - final_loss: 0.2461 - pred1_accuracy: 0.9598 - pred1_precision_m: 0.5795 - pred1_recall_m: 0.7533 - pred1_f1_m: 0.6513 - pred2_accuracy: 0.9667 - pred2_precision_m: 0.6347 - pred2_recall_m: 0.8216 - pred2_f1_m: 0.7137 - pred3_accuracy: 0.9671 - pred3_precision_m: 0.6360 - pred3_recall_m: 0.8300 - pred3_f1_m: 0.7179 - final_accuracy: 0.9671 - final_precision_m: 0.6360 - final_recall_m: 0.8289 - final_f1_m: 0.7176 - val_loss: 2.6089 - val_pred1_loss: 0.3950 - val_pred2_loss: 0.7580 - val_pred3_loss: 0.7628 - val_final_loss: 0.6931 - val_pred1_accuracy: 0.9651 - val_pred1_precision_m: 0.6671 - val_pred1_recall_m: 0.7324 - val_pred1_f1_m: 0.6969 - val_pred2_accuracy: 0.6461 - val_pred2_precision_m: 0.1233 - val_pred2_recall_m: 0.8772 - val_pred2_f1_m: 0.2159 - val_pred3_accuracy: 0.6354 - val_pred3_precision_m: 0.1202 - val_pred3_recall_m: 0.8778 - val_pred3_f1_m: 0.2111 - val_final_accuracy: 0.6494 - val_final_precision_m: 0.1231 - val_final_recall_m: 0.8636 - val_final_f1_m: 0.2151\n",
      "\n",
      "Epoch 00033: val_final_loss did not improve from 0.31554\n",
      "Epoch 34/70\n",
      "62/62 - 9s - loss: 1.3629 - pred1_loss: 0.4171 - pred2_loss: 0.3534 - pred3_loss: 0.3469 - final_loss: 0.2455 - pred1_accuracy: 0.9593 - pred1_precision_m: 0.5747 - pred1_recall_m: 0.7665 - pred1_f1_m: 0.6518 - pred2_accuracy: 0.9664 - pred2_precision_m: 0.6307 - pred2_recall_m: 0.8272 - pred2_f1_m: 0.7125 - pred3_accuracy: 0.9666 - pred3_precision_m: 0.6297 - pred3_recall_m: 0.8370 - pred3_f1_m: 0.7160 - final_accuracy: 0.9670 - final_precision_m: 0.6339 - final_recall_m: 0.8331 - final_f1_m: 0.7171 - val_loss: 2.9367 - val_pred1_loss: 0.7416 - val_pred2_loss: 0.7482 - val_pred3_loss: 0.7573 - val_final_loss: 0.6896 - val_pred1_accuracy: 0.6643 - val_pred1_precision_m: 0.1321 - val_pred1_recall_m: 0.9137 - val_pred1_f1_m: 0.2305 - val_pred2_accuracy: 0.6457 - val_pred2_precision_m: 0.1275 - val_pred2_recall_m: 0.9188 - val_pred2_f1_m: 0.2236 - val_pred3_accuracy: 0.6304 - val_pred3_precision_m: 0.1222 - val_pred3_recall_m: 0.9125 - val_pred3_f1_m: 0.2153 - val_final_accuracy: 0.6320 - val_final_precision_m: 0.1226 - val_final_recall_m: 0.9105 - val_final_f1_m: 0.2158\n",
      "\n",
      "Epoch 00034: val_final_loss did not improve from 0.31554\n",
      "Epoch 35/70\n",
      "62/62 - 9s - loss: 1.3640 - pred1_loss: 0.4210 - pred2_loss: 0.3510 - pred3_loss: 0.3448 - final_loss: 0.2472 - pred1_accuracy: 0.9605 - pred1_precision_m: 0.5835 - pred1_recall_m: 0.7519 - pred1_f1_m: 0.6524 - pred2_accuracy: 0.9674 - pred2_precision_m: 0.6371 - pred2_recall_m: 0.8252 - pred2_f1_m: 0.7162 - pred3_accuracy: 0.9675 - pred3_precision_m: 0.6367 - pred3_recall_m: 0.8339 - pred3_f1_m: 0.7192 - final_accuracy: 0.9678 - final_precision_m: 0.6425 - final_recall_m: 0.8262 - final_f1_m: 0.7194 - val_loss: 1.6461 - val_pred1_loss: 0.3698 - val_pred2_loss: 0.4598 - val_pred3_loss: 0.4612 - val_final_loss: 0.3554 - val_pred1_accuracy: 0.9666 - val_pred1_precision_m: 0.6712 - val_pred1_recall_m: 0.7649 - val_pred1_f1_m: 0.7145 - val_pred2_accuracy: 0.9635 - val_pred2_precision_m: 0.6869 - val_pred2_recall_m: 0.6310 - val_pred2_f1_m: 0.6544 - val_pred3_accuracy: 0.9634 - val_pred3_precision_m: 0.6886 - val_pred3_recall_m: 0.6289 - val_pred3_f1_m: 0.6536 - val_final_accuracy: 0.9581 - val_final_precision_m: 0.6155 - val_final_recall_m: 0.6617 - val_final_f1_m: 0.6343\n",
      "\n",
      "Epoch 00035: val_final_loss did not improve from 0.31554\n",
      "Epoch 36/70\n",
      "62/62 - 9s - loss: 1.3379 - pred1_loss: 0.4030 - pred2_loss: 0.3472 - pred3_loss: 0.3441 - final_loss: 0.2435 - pred1_accuracy: 0.9620 - pred1_precision_m: 0.5926 - pred1_recall_m: 0.7714 - pred1_f1_m: 0.6681 - pred2_accuracy: 0.9679 - pred2_precision_m: 0.6429 - pred2_recall_m: 0.8261 - pred2_f1_m: 0.7206 - pred3_accuracy: 0.9675 - pred3_precision_m: 0.6376 - pred3_recall_m: 0.8331 - pred3_f1_m: 0.7204 - final_accuracy: 0.9678 - final_precision_m: 0.6404 - final_recall_m: 0.8297 - final_f1_m: 0.7208 - val_loss: 1.7116 - val_pred1_loss: 0.4315 - val_pred2_loss: 0.4520 - val_pred3_loss: 0.4550 - val_final_loss: 0.3732 - val_pred1_accuracy: 0.9425 - val_pred1_precision_m: 0.4855 - val_pred1_recall_m: 0.8371 - val_pred1_f1_m: 0.6144 - val_pred2_accuracy: 0.9648 - val_pred2_precision_m: 0.7017 - val_pred2_recall_m: 0.6356 - val_pred2_f1_m: 0.6636 - val_pred3_accuracy: 0.9646 - val_pred3_precision_m: 0.7023 - val_pred3_recall_m: 0.6325 - val_pred3_f1_m: 0.6618 - val_final_accuracy: 0.9594 - val_final_precision_m: 0.6517 - val_final_recall_m: 0.6322 - val_final_f1_m: 0.6321\n",
      "\n",
      "Epoch 00036: val_final_loss did not improve from 0.31554\n",
      "Epoch 37/70\n",
      "62/62 - 9s - loss: 1.3627 - pred1_loss: 0.4082 - pred2_loss: 0.3559 - pred3_loss: 0.3504 - final_loss: 0.2481 - pred1_accuracy: 0.9603 - pred1_precision_m: 0.5842 - pred1_recall_m: 0.7733 - pred1_f1_m: 0.6605 - pred2_accuracy: 0.9664 - pred2_precision_m: 0.6330 - pred2_recall_m: 0.8232 - pred2_f1_m: 0.7121 - pred3_accuracy: 0.9667 - pred3_precision_m: 0.6347 - pred3_recall_m: 0.8285 - pred3_f1_m: 0.7156 - final_accuracy: 0.9668 - final_precision_m: 0.6335 - final_recall_m: 0.8291 - final_f1_m: 0.7154 - val_loss: 2.5693 - val_pred1_loss: 0.3678 - val_pred2_loss: 0.7543 - val_pred3_loss: 0.7583 - val_final_loss: 0.6890 - val_pred1_accuracy: 0.9675 - val_pred1_precision_m: 0.6812 - val_pred1_recall_m: 0.7661 - val_pred1_f1_m: 0.7205 - val_pred2_accuracy: 0.6471 - val_pred2_precision_m: 0.1251 - val_pred2_recall_m: 0.8897 - val_pred2_f1_m: 0.2190 - val_pred3_accuracy: 0.6389 - val_pred3_precision_m: 0.1227 - val_pred3_recall_m: 0.8912 - val_pred3_f1_m: 0.2153 - val_final_accuracy: 0.6367 - val_final_precision_m: 0.1236 - val_final_recall_m: 0.9057 - val_final_f1_m: 0.2171\n",
      "\n",
      "Epoch 00037: val_final_loss did not improve from 0.31554\n",
      "Epoch 38/70\n",
      "62/62 - 9s - loss: 1.3376 - pred1_loss: 0.3977 - pred2_loss: 0.3487 - pred3_loss: 0.3467 - final_loss: 0.2445 - pred1_accuracy: 0.9617 - pred1_precision_m: 0.5900 - pred1_recall_m: 0.7844 - pred1_f1_m: 0.6692 - pred2_accuracy: 0.9675 - pred2_precision_m: 0.6387 - pred2_recall_m: 0.8274 - pred2_f1_m: 0.7173 - pred3_accuracy: 0.9672 - pred3_precision_m: 0.6335 - pred3_recall_m: 0.8340 - pred3_f1_m: 0.7166 - final_accuracy: 0.9679 - final_precision_m: 0.6407 - final_recall_m: 0.8287 - final_f1_m: 0.7196 - val_loss: 2.5590 - val_pred1_loss: 0.3560 - val_pred2_loss: 0.7548 - val_pred3_loss: 0.7573 - val_final_loss: 0.6909 - val_pred1_accuracy: 0.9675 - val_pred1_precision_m: 0.6755 - val_pred1_recall_m: 0.7860 - val_pred1_f1_m: 0.7258 - val_pred2_accuracy: 0.6297 - val_pred2_precision_m: 0.1233 - val_pred2_recall_m: 0.9252 - val_pred2_f1_m: 0.2173 - val_pred3_accuracy: 0.6276 - val_pred3_precision_m: 0.1219 - val_pred3_recall_m: 0.9171 - val_pred3_f1_m: 0.2149 - val_final_accuracy: 0.6285 - val_final_precision_m: 0.1219 - val_final_recall_m: 0.9134 - val_final_f1_m: 0.2147\n",
      "\n",
      "Epoch 00038: val_final_loss did not improve from 0.31554\n",
      "Epoch 39/70\n",
      "62/62 - 9s - loss: 1.3389 - pred1_loss: 0.3935 - pred2_loss: 0.3529 - pred3_loss: 0.3480 - final_loss: 0.2445 - pred1_accuracy: 0.9631 - pred1_precision_m: 0.6005 - pred1_recall_m: 0.7814 - pred1_f1_m: 0.6760 - pred2_accuracy: 0.9678 - pred2_precision_m: 0.6422 - pred2_recall_m: 0.8183 - pred2_f1_m: 0.7168 - pred3_accuracy: 0.9674 - pred3_precision_m: 0.6359 - pred3_recall_m: 0.8304 - pred3_f1_m: 0.7175 - final_accuracy: 0.9682 - final_precision_m: 0.6451 - final_recall_m: 0.8252 - final_f1_m: 0.7219 - val_loss: 1.5844 - val_pred1_loss: 0.4420 - val_pred2_loss: 0.3864 - val_pred3_loss: 0.4073 - val_final_loss: 0.3487 - val_pred1_accuracy: 0.9636 - val_pred1_precision_m: 0.6748 - val_pred1_recall_m: 0.6633 - val_pred1_f1_m: 0.6655 - val_pred2_accuracy: 0.9700 - val_pred2_precision_m: 0.7396 - val_pred2_recall_m: 0.7115 - val_pred2_f1_m: 0.7228 - val_pred3_accuracy: 0.9679 - val_pred3_precision_m: 0.7236 - val_pred3_recall_m: 0.6898 - val_pred3_f1_m: 0.7028 - val_final_accuracy: 0.9659 - val_final_precision_m: 0.7261 - val_final_recall_m: 0.6276 - val_final_f1_m: 0.6688\n",
      "\n",
      "Epoch 00039: val_final_loss did not improve from 0.31554\n",
      "Epoch 40/70\n",
      "62/62 - 9s - loss: 1.2785 - pred1_loss: 0.3807 - pred2_loss: 0.3321 - pred3_loss: 0.3332 - final_loss: 0.2325 - pred1_accuracy: 0.9640 - pred1_precision_m: 0.6109 - pred1_recall_m: 0.7986 - pred1_f1_m: 0.6888 - pred2_accuracy: 0.9696 - pred2_precision_m: 0.6562 - pred2_recall_m: 0.8399 - pred2_f1_m: 0.7348 - pred3_accuracy: 0.9688 - pred3_precision_m: 0.6476 - pred3_recall_m: 0.8446 - pred3_f1_m: 0.7308 - final_accuracy: 0.9691 - final_precision_m: 0.6507 - final_recall_m: 0.8419 - final_f1_m: 0.7318 - val_loss: 1.4697 - val_pred1_loss: 0.3458 - val_pred2_loss: 0.3863 - val_pred3_loss: 0.4114 - val_final_loss: 0.3262 - val_pred1_accuracy: 0.9717 - val_pred1_precision_m: 0.7282 - val_pred1_recall_m: 0.7735 - val_pred1_f1_m: 0.7492 - val_pred2_accuracy: 0.9728 - val_pred2_precision_m: 0.7925 - val_pred2_recall_m: 0.6919 - val_pred2_f1_m: 0.7366 - val_pred3_accuracy: 0.9707 - val_pred3_precision_m: 0.7783 - val_pred3_recall_m: 0.6641 - val_pred3_f1_m: 0.7134 - val_final_accuracy: 0.9702 - val_final_precision_m: 0.7898 - val_final_recall_m: 0.6367 - val_final_f1_m: 0.7014\n",
      "\n",
      "Epoch 00040: val_final_loss did not improve from 0.31554\n",
      "Epoch 41/70\n",
      "62/62 - 9s - loss: 1.2254 - pred1_loss: 0.3652 - pred2_loss: 0.3189 - pred3_loss: 0.3208 - final_loss: 0.2204 - pred1_accuracy: 0.9651 - pred1_precision_m: 0.6149 - pred1_recall_m: 0.8164 - pred1_f1_m: 0.6987 - pred2_accuracy: 0.9707 - pred2_precision_m: 0.6645 - pred2_recall_m: 0.8522 - pred2_f1_m: 0.7449 - pred3_accuracy: 0.9702 - pred3_precision_m: 0.6586 - pred3_recall_m: 0.8535 - pred3_f1_m: 0.7418 - final_accuracy: 0.9707 - final_precision_m: 0.6641 - final_recall_m: 0.8497 - final_f1_m: 0.7440 - val_loss: 1.5203 - val_pred1_loss: 0.4099 - val_pred2_loss: 0.3985 - val_pred3_loss: 0.4022 - val_final_loss: 0.3097 - val_pred1_accuracy: 0.9706 - val_pred1_precision_m: 0.7698 - val_pred1_recall_m: 0.6712 - val_pred1_f1_m: 0.7132 - val_pred2_accuracy: 0.9726 - val_pred2_precision_m: 0.8042 - val_pred2_recall_m: 0.6713 - val_pred2_f1_m: 0.7291 - val_pred3_accuracy: 0.9717 - val_pred3_precision_m: 0.7887 - val_pred3_recall_m: 0.6726 - val_pred3_f1_m: 0.7231 - val_final_accuracy: 0.9715 - val_final_precision_m: 0.7979 - val_final_recall_m: 0.6549 - val_final_f1_m: 0.7161\n",
      "\n",
      "Epoch 00041: val_final_loss improved from 0.31554 to 0.30967, saving model to Checkpoints\\weights.41-0.31.hdf5\n",
      "Epoch 42/70\n",
      "62/62 - 9s - loss: 1.2134 - pred1_loss: 0.3625 - pred2_loss: 0.3151 - pred3_loss: 0.3181 - final_loss: 0.2177 - pred1_accuracy: 0.9666 - pred1_precision_m: 0.6296 - pred1_recall_m: 0.8104 - pred1_f1_m: 0.7065 - pred2_accuracy: 0.9715 - pred2_precision_m: 0.6719 - pred2_recall_m: 0.8543 - pred2_f1_m: 0.7508 - pred3_accuracy: 0.9710 - pred3_precision_m: 0.6679 - pred3_recall_m: 0.8516 - pred3_f1_m: 0.7473 - final_accuracy: 0.9713 - final_precision_m: 0.6705 - final_recall_m: 0.8503 - final_f1_m: 0.7486 - val_loss: 1.7765 - val_pred1_loss: 0.5830 - val_pred2_loss: 0.4146 - val_pred3_loss: 0.4390 - val_final_loss: 0.3399 - val_pred1_accuracy: 0.8527 - val_pred1_precision_m: 0.2592 - val_pred1_recall_m: 0.9078 - val_pred1_f1_m: 0.4029 - val_pred2_accuracy: 0.9709 - val_pred2_precision_m: 0.7824 - val_pred2_recall_m: 0.6590 - val_pred2_f1_m: 0.7124 - val_pred3_accuracy: 0.9690 - val_pred3_precision_m: 0.7701 - val_pred3_recall_m: 0.6315 - val_pred3_f1_m: 0.6904 - val_final_accuracy: 0.9694 - val_final_precision_m: 0.7847 - val_final_recall_m: 0.6209 - val_final_f1_m: 0.6896\n",
      "\n",
      "Epoch 00042: val_final_loss did not improve from 0.30967\n",
      "Epoch 43/70\n",
      "62/62 - 9s - loss: 1.2053 - pred1_loss: 0.3624 - pred2_loss: 0.3137 - pred3_loss: 0.3144 - final_loss: 0.2149 - pred1_accuracy: 0.9662 - pred1_precision_m: 0.6270 - pred1_recall_m: 0.8148 - pred1_f1_m: 0.7060 - pred2_accuracy: 0.9716 - pred2_precision_m: 0.6741 - pred2_recall_m: 0.8548 - pred2_f1_m: 0.7518 - pred3_accuracy: 0.9712 - pred3_precision_m: 0.6694 - pred3_recall_m: 0.8560 - pred3_f1_m: 0.7498 - final_accuracy: 0.9714 - final_precision_m: 0.6715 - final_recall_m: 0.8544 - final_f1_m: 0.7504 - val_loss: 1.2309 - val_pred1_loss: 0.3681 - val_pred2_loss: 0.2964 - val_pred3_loss: 0.3247 - val_final_loss: 0.2417 - val_pred1_accuracy: 0.9720 - val_pred1_precision_m: 0.7547 - val_pred1_recall_m: 0.7314 - val_pred1_f1_m: 0.7413 - val_pred2_accuracy: 0.9741 - val_pred2_precision_m: 0.7285 - val_pred2_recall_m: 0.8423 - val_pred2_f1_m: 0.7809 - val_pred3_accuracy: 0.9753 - val_pred3_precision_m: 0.7743 - val_pred3_recall_m: 0.7791 - val_pred3_f1_m: 0.7759 - val_final_accuracy: 0.9751 - val_final_precision_m: 0.7922 - val_final_recall_m: 0.7469 - val_final_f1_m: 0.7676\n",
      "\n",
      "Epoch 00043: val_final_loss improved from 0.30967 to 0.24167, saving model to Checkpoints\\weights.43-0.24.hdf5\n",
      "Epoch 44/70\n",
      "62/62 - 9s - loss: 1.1823 - pred1_loss: 0.3524 - pred2_loss: 0.3080 - pred3_loss: 0.3107 - final_loss: 0.2113 - pred1_accuracy: 0.9669 - pred1_precision_m: 0.6311 - pred1_recall_m: 0.8267 - pred1_f1_m: 0.7134 - pred2_accuracy: 0.9729 - pred2_precision_m: 0.6866 - pred2_recall_m: 0.8551 - pred2_f1_m: 0.7600 - pred3_accuracy: 0.9722 - pred3_precision_m: 0.6795 - pred3_recall_m: 0.8549 - pred3_f1_m: 0.7555 - final_accuracy: 0.9726 - final_precision_m: 0.6833 - final_recall_m: 0.8532 - final_f1_m: 0.7571 - val_loss: 1.5386 - val_pred1_loss: 0.3544 - val_pred2_loss: 0.4203 - val_pred3_loss: 0.4324 - val_final_loss: 0.3314 - val_pred1_accuracy: 0.9706 - val_pred1_precision_m: 0.7191 - val_pred1_recall_m: 0.7675 - val_pred1_f1_m: 0.7411 - val_pred2_accuracy: 0.9689 - val_pred2_precision_m: 0.7474 - val_pred2_recall_m: 0.6632 - val_pred2_f1_m: 0.6996 - val_pred3_accuracy: 0.9677 - val_pred3_precision_m: 0.7371 - val_pred3_recall_m: 0.6510 - val_pred3_f1_m: 0.6878 - val_final_accuracy: 0.9682 - val_final_precision_m: 0.7504 - val_final_recall_m: 0.6425 - val_final_f1_m: 0.6886\n",
      "\n",
      "Epoch 00044: val_final_loss did not improve from 0.24167\n",
      "Epoch 45/70\n",
      "62/62 - 9s - loss: 1.1839 - pred1_loss: 0.3534 - pred2_loss: 0.3085 - pred3_loss: 0.3101 - final_loss: 0.2119 - pred1_accuracy: 0.9669 - pred1_precision_m: 0.6308 - pred1_recall_m: 0.8275 - pred1_f1_m: 0.7125 - pred2_accuracy: 0.9723 - pred2_precision_m: 0.6784 - pred2_recall_m: 0.8608 - pred2_f1_m: 0.7565 - pred3_accuracy: 0.9713 - pred3_precision_m: 0.6674 - pred3_recall_m: 0.8657 - pred3_f1_m: 0.7513 - final_accuracy: 0.9718 - final_precision_m: 0.6734 - final_recall_m: 0.8595 - final_f1_m: 0.7529 - val_loss: 1.4302 - val_pred1_loss: 0.3257 - val_pred2_loss: 0.3784 - val_pred3_loss: 0.4143 - val_final_loss: 0.3118 - val_pred1_accuracy: 0.9733 - val_pred1_precision_m: 0.7399 - val_pred1_recall_m: 0.7944 - val_pred1_f1_m: 0.7654 - val_pred2_accuracy: 0.9714 - val_pred2_precision_m: 0.7551 - val_pred2_recall_m: 0.7150 - val_pred2_f1_m: 0.7322 - val_pred3_accuracy: 0.9685 - val_pred3_precision_m: 0.7354 - val_pred3_recall_m: 0.6757 - val_pred3_f1_m: 0.7009 - val_final_accuracy: 0.9686 - val_final_precision_m: 0.7406 - val_final_recall_m: 0.6713 - val_final_f1_m: 0.7009\n",
      "\n",
      "Epoch 00045: val_final_loss did not improve from 0.24167\n",
      "Epoch 46/70\n",
      "62/62 - 9s - loss: 1.1849 - pred1_loss: 0.3506 - pred2_loss: 0.3104 - pred3_loss: 0.3112 - final_loss: 0.2127 - pred1_accuracy: 0.9678 - pred1_precision_m: 0.6402 - pred1_recall_m: 0.8256 - pred1_f1_m: 0.7175 - pred2_accuracy: 0.9721 - pred2_precision_m: 0.6781 - pred2_recall_m: 0.8575 - pred2_f1_m: 0.7549 - pred3_accuracy: 0.9717 - pred3_precision_m: 0.6731 - pred3_recall_m: 0.8594 - pred3_f1_m: 0.7523 - final_accuracy: 0.9718 - final_precision_m: 0.6736 - final_recall_m: 0.8577 - final_f1_m: 0.7522 - val_loss: 2.5274 - val_pred1_loss: 0.3232 - val_pred2_loss: 0.7540 - val_pred3_loss: 0.7592 - val_final_loss: 0.6910 - val_pred1_accuracy: 0.9650 - val_pred1_precision_m: 0.6299 - val_pred1_recall_m: 0.8760 - val_pred1_f1_m: 0.7324 - val_pred2_accuracy: 0.6413 - val_pred2_precision_m: 0.1247 - val_pred2_recall_m: 0.9033 - val_pred2_f1_m: 0.2188 - val_pred3_accuracy: 0.6291 - val_pred3_precision_m: 0.1213 - val_pred3_recall_m: 0.9059 - val_pred3_f1_m: 0.2136 - val_final_accuracy: 0.6357 - val_final_precision_m: 0.1226 - val_final_recall_m: 0.8984 - val_final_f1_m: 0.2154\n",
      "\n",
      "Epoch 00046: val_final_loss did not improve from 0.24167\n",
      "Epoch 47/70\n",
      "62/62 - 9s - loss: 1.1564 - pred1_loss: 0.3429 - pred2_loss: 0.3032 - pred3_loss: 0.3034 - final_loss: 0.2068 - pred1_accuracy: 0.9690 - pred1_precision_m: 0.6509 - pred1_recall_m: 0.8283 - pred1_f1_m: 0.7269 - pred2_accuracy: 0.9731 - pred2_precision_m: 0.6885 - pred2_recall_m: 0.8602 - pred2_f1_m: 0.7632 - pred3_accuracy: 0.9723 - pred3_precision_m: 0.6793 - pred3_recall_m: 0.8659 - pred3_f1_m: 0.7597 - final_accuracy: 0.9728 - final_precision_m: 0.6864 - final_recall_m: 0.8579 - final_f1_m: 0.7608 - val_loss: 2.4610 - val_pred1_loss: 0.3081 - val_pred2_loss: 0.7224 - val_pred3_loss: 0.7516 - val_final_loss: 0.6788 - val_pred1_accuracy: 0.9711 - val_pred1_precision_m: 0.6930 - val_pred1_recall_m: 0.8496 - val_pred1_f1_m: 0.7631 - val_pred2_accuracy: 0.6849 - val_pred2_precision_m: 0.1419 - val_pred2_recall_m: 0.9226 - val_pred2_f1_m: 0.2456 - val_pred3_accuracy: 0.6332 - val_pred3_precision_m: 0.1250 - val_pred3_recall_m: 0.9302 - val_pred3_f1_m: 0.2200 - val_final_accuracy: 0.6453 - val_final_precision_m: 0.1278 - val_final_recall_m: 0.9210 - val_final_f1_m: 0.2242\n",
      "\n",
      "Epoch 00047: val_final_loss did not improve from 0.24167\n",
      "Epoch 48/70\n",
      "62/62 - 9s - loss: 1.1632 - pred1_loss: 0.3479 - pred2_loss: 0.3032 - pred3_loss: 0.3047 - final_loss: 0.2075 - pred1_accuracy: 0.9685 - pred1_precision_m: 0.6453 - pred1_recall_m: 0.8234 - pred1_f1_m: 0.7209 - pred2_accuracy: 0.9734 - pred2_precision_m: 0.6909 - pred2_recall_m: 0.8587 - pred2_f1_m: 0.7639 - pred3_accuracy: 0.9727 - pred3_precision_m: 0.6833 - pred3_recall_m: 0.8618 - pred3_f1_m: 0.7603 - final_accuracy: 0.9727 - final_precision_m: 0.6841 - final_recall_m: 0.8578 - final_f1_m: 0.7594 - val_loss: 1.2314 - val_pred1_loss: 0.3069 - val_pred2_loss: 0.3126 - val_pred3_loss: 0.3507 - val_final_loss: 0.2611 - val_pred1_accuracy: 0.9683 - val_pred1_precision_m: 0.6580 - val_pred1_recall_m: 0.8765 - val_pred1_f1_m: 0.7514 - val_pred2_accuracy: 0.9744 - val_pred2_precision_m: 0.7486 - val_pred2_recall_m: 0.8082 - val_pred2_f1_m: 0.7761 - val_pred3_accuracy: 0.9718 - val_pred3_precision_m: 0.7394 - val_pred3_recall_m: 0.7604 - val_pred3_f1_m: 0.7476 - val_final_accuracy: 0.9719 - val_final_precision_m: 0.7533 - val_final_recall_m: 0.7367 - val_final_f1_m: 0.7426\n",
      "\n",
      "Epoch 00048: val_final_loss did not improve from 0.24167\n",
      "Epoch 49/70\n",
      "62/62 - 9s - loss: 1.1476 - pred1_loss: 0.3412 - pred2_loss: 0.3003 - pred3_loss: 0.3015 - final_loss: 0.2046 - pred1_accuracy: 0.9697 - pred1_precision_m: 0.6579 - pred1_recall_m: 0.8264 - pred1_f1_m: 0.7306 - pred2_accuracy: 0.9737 - pred2_precision_m: 0.6924 - pred2_recall_m: 0.8613 - pred2_f1_m: 0.7664 - pred3_accuracy: 0.9729 - pred3_precision_m: 0.6837 - pred3_recall_m: 0.8653 - pred3_f1_m: 0.7625 - final_accuracy: 0.9731 - final_precision_m: 0.6858 - final_recall_m: 0.8611 - final_f1_m: 0.7624 - val_loss: 1.2320 - val_pred1_loss: 0.3405 - val_pred2_loss: 0.3190 - val_pred3_loss: 0.3216 - val_final_loss: 0.2508 - val_pred1_accuracy: 0.9745 - val_pred1_precision_m: 0.7735 - val_pred1_recall_m: 0.7607 - val_pred1_f1_m: 0.7657 - val_pred2_accuracy: 0.9752 - val_pred2_precision_m: 0.7695 - val_pred2_recall_m: 0.7886 - val_pred2_f1_m: 0.7777 - val_pred3_accuracy: 0.9746 - val_pred3_precision_m: 0.7615 - val_pred3_recall_m: 0.7887 - val_pred3_f1_m: 0.7736 - val_final_accuracy: 0.9690 - val_final_precision_m: 0.7091 - val_final_recall_m: 0.7770 - val_final_f1_m: 0.7359\n",
      "\n",
      "Epoch 00049: val_final_loss did not improve from 0.24167\n",
      "Epoch 50/70\n",
      "62/62 - 9s - loss: 1.1338 - pred1_loss: 0.3416 - pred2_loss: 0.2952 - pred3_loss: 0.2971 - final_loss: 0.1999 - pred1_accuracy: 0.9687 - pred1_precision_m: 0.6470 - pred1_recall_m: 0.8314 - pred1_f1_m: 0.7252 - pred2_accuracy: 0.9740 - pred2_precision_m: 0.6946 - pred2_recall_m: 0.8673 - pred2_f1_m: 0.7697 - pred3_accuracy: 0.9731 - pred3_precision_m: 0.6851 - pred3_recall_m: 0.8721 - pred3_f1_m: 0.7653 - final_accuracy: 0.9733 - final_precision_m: 0.6869 - final_recall_m: 0.8689 - final_f1_m: 0.7654 - val_loss: 1.9889 - val_pred1_loss: 0.2964 - val_pred2_loss: 0.7075 - val_pred3_loss: 0.6661 - val_final_loss: 0.3189 - val_pred1_accuracy: 0.9723 - val_pred1_precision_m: 0.7015 - val_pred1_recall_m: 0.8601 - val_pred1_f1_m: 0.7725 - val_pred2_accuracy: 0.7107 - val_pred2_precision_m: 0.1526 - val_pred2_recall_m: 0.9203 - val_pred2_f1_m: 0.2613 - val_pred3_accuracy: 0.7662 - val_pred3_precision_m: 0.1832 - val_pred3_recall_m: 0.9257 - val_pred3_f1_m: 0.3053 - val_final_accuracy: 0.9330 - val_final_precision_m: 0.4488 - val_final_recall_m: 0.9083 - val_final_f1_m: 0.6003\n",
      "\n",
      "Epoch 00050: val_final_loss did not improve from 0.24167\n",
      "Epoch 51/70\n",
      "62/62 - 9s - loss: 1.1223 - pred1_loss: 0.3327 - pred2_loss: 0.2944 - pred3_loss: 0.2958 - final_loss: 0.1994 - pred1_accuracy: 0.9699 - pred1_precision_m: 0.6569 - pred1_recall_m: 0.8395 - pred1_f1_m: 0.7348 - pred2_accuracy: 0.9743 - pred2_precision_m: 0.6998 - pred2_recall_m: 0.8662 - pred2_f1_m: 0.7723 - pred3_accuracy: 0.9737 - pred3_precision_m: 0.6923 - pred3_recall_m: 0.8689 - pred3_f1_m: 0.7687 - final_accuracy: 0.9739 - final_precision_m: 0.6959 - final_recall_m: 0.8637 - final_f1_m: 0.7689 - val_loss: 1.1502 - val_pred1_loss: 0.2956 - val_pred2_loss: 0.2934 - val_pred3_loss: 0.3244 - val_final_loss: 0.2367 - val_pred1_accuracy: 0.9741 - val_pred1_precision_m: 0.7263 - val_pred1_recall_m: 0.8431 - val_pred1_f1_m: 0.7801 - val_pred2_accuracy: 0.9776 - val_pred2_precision_m: 0.7866 - val_pred2_recall_m: 0.8142 - val_pred2_f1_m: 0.7995 - val_pred3_accuracy: 0.9761 - val_pred3_precision_m: 0.7917 - val_pred3_recall_m: 0.7727 - val_pred3_f1_m: 0.7806 - val_final_accuracy: 0.9760 - val_final_precision_m: 0.8063 - val_final_recall_m: 0.7479 - val_final_f1_m: 0.7744\n",
      "\n",
      "Epoch 00051: val_final_loss improved from 0.24167 to 0.23674, saving model to Checkpoints\\weights.51-0.24.hdf5\n",
      "Epoch 52/70\n",
      "62/62 - 9s - loss: 1.1377 - pred1_loss: 0.3369 - pred2_loss: 0.2964 - pred3_loss: 0.2999 - final_loss: 0.2045 - pred1_accuracy: 0.9706 - pred1_precision_m: 0.6637 - pred1_recall_m: 0.8277 - pred1_f1_m: 0.7344 - pred2_accuracy: 0.9744 - pred2_precision_m: 0.6966 - pred2_recall_m: 0.8658 - pred2_f1_m: 0.7705 - pred3_accuracy: 0.9736 - pred3_precision_m: 0.6892 - pred3_recall_m: 0.8644 - pred3_f1_m: 0.7653 - final_accuracy: 0.9735 - final_precision_m: 0.6903 - final_recall_m: 0.8595 - final_f1_m: 0.7637 - val_loss: 2.4992 - val_pred1_loss: 0.2998 - val_pred2_loss: 0.7544 - val_pred3_loss: 0.7563 - val_final_loss: 0.6887 - val_pred1_accuracy: 0.9760 - val_pred1_precision_m: 0.7624 - val_pred1_recall_m: 0.8186 - val_pred1_f1_m: 0.7890 - val_pred2_accuracy: 0.6344 - val_pred2_precision_m: 0.1238 - val_pred2_recall_m: 0.9148 - val_pred2_f1_m: 0.2177 - val_pred3_accuracy: 0.6378 - val_pred3_precision_m: 0.1233 - val_pred3_recall_m: 0.9001 - val_pred3_f1_m: 0.2166 - val_final_accuracy: 0.6404 - val_final_precision_m: 0.1238 - val_final_recall_m: 0.8959 - val_final_f1_m: 0.2172\n",
      "\n",
      "Epoch 00052: val_final_loss did not improve from 0.23674\n",
      "Epoch 53/70\n",
      "62/62 - 9s - loss: 1.1238 - pred1_loss: 0.3345 - pred2_loss: 0.2933 - pred3_loss: 0.2964 - final_loss: 0.1996 - pred1_accuracy: 0.9701 - pred1_precision_m: 0.6594 - pred1_recall_m: 0.8359 - pred1_f1_m: 0.7343 - pred2_accuracy: 0.9747 - pred2_precision_m: 0.7015 - pred2_recall_m: 0.8671 - pred2_f1_m: 0.7738 - pred3_accuracy: 0.9741 - pred3_precision_m: 0.6961 - pred3_recall_m: 0.8655 - pred3_f1_m: 0.7699 - final_accuracy: 0.9740 - final_precision_m: 0.6969 - final_recall_m: 0.8630 - final_f1_m: 0.7694 - val_loss: 1.3857 - val_pred1_loss: 0.3106 - val_pred2_loss: 0.3730 - val_pred3_loss: 0.4013 - val_final_loss: 0.3008 - val_pred1_accuracy: 0.9764 - val_pred1_precision_m: 0.7799 - val_pred1_recall_m: 0.7956 - val_pred1_f1_m: 0.7866 - val_pred2_accuracy: 0.9741 - val_pred2_precision_m: 0.8056 - val_pred2_recall_m: 0.7042 - val_pred2_f1_m: 0.7484 - val_pred3_accuracy: 0.9727 - val_pred3_precision_m: 0.8090 - val_pred3_recall_m: 0.6682 - val_pred3_f1_m: 0.7284 - val_final_accuracy: 0.9727 - val_final_precision_m: 0.8148 - val_final_recall_m: 0.6615 - val_final_f1_m: 0.7267\n",
      "\n",
      "Epoch 00053: val_final_loss did not improve from 0.23674\n",
      "Epoch 54/70\n",
      "62/62 - 9s - loss: 1.1252 - pred1_loss: 0.3327 - pred2_loss: 0.2945 - pred3_loss: 0.2975 - final_loss: 0.2004 - pred1_accuracy: 0.9707 - pred1_precision_m: 0.6625 - pred1_recall_m: 0.8373 - pred1_f1_m: 0.7364 - pred2_accuracy: 0.9744 - pred2_precision_m: 0.6973 - pred2_recall_m: 0.8684 - pred2_f1_m: 0.7709 - pred3_accuracy: 0.9734 - pred3_precision_m: 0.6854 - pred3_recall_m: 0.8710 - pred3_f1_m: 0.7645 - final_accuracy: 0.9736 - final_precision_m: 0.6889 - final_recall_m: 0.8675 - final_f1_m: 0.7655 - val_loss: 1.4110 - val_pred1_loss: 0.2921 - val_pred2_loss: 0.5172 - val_pred3_loss: 0.3370 - val_final_loss: 0.2646 - val_pred1_accuracy: 0.9710 - val_pred1_precision_m: 0.6833 - val_pred1_recall_m: 0.8760 - val_pred1_f1_m: 0.7674 - val_pred2_accuracy: 0.8888 - val_pred2_precision_m: 0.3252 - val_pred2_recall_m: 0.9324 - val_pred2_f1_m: 0.4812 - val_pred3_accuracy: 0.9558 - val_pred3_precision_m: 0.5617 - val_pred3_recall_m: 0.9188 - val_pred3_f1_m: 0.6968 - val_final_accuracy: 0.9492 - val_final_precision_m: 0.5244 - val_final_recall_m: 0.9079 - val_final_f1_m: 0.6644\n",
      "\n",
      "Epoch 00054: val_final_loss did not improve from 0.23674\n",
      "Epoch 55/70\n",
      "62/62 - 9s - loss: 1.0937 - pred1_loss: 0.3228 - pred2_loss: 0.2868 - pred3_loss: 0.2898 - final_loss: 0.1942 - pred1_accuracy: 0.9716 - pred1_precision_m: 0.6727 - pred1_recall_m: 0.8415 - pred1_f1_m: 0.7461 - pred2_accuracy: 0.9753 - pred2_precision_m: 0.7079 - pred2_recall_m: 0.8701 - pred2_f1_m: 0.7791 - pred3_accuracy: 0.9743 - pred3_precision_m: 0.6971 - pred3_recall_m: 0.8725 - pred3_f1_m: 0.7734 - final_accuracy: 0.9745 - final_precision_m: 0.7000 - final_recall_m: 0.8681 - final_f1_m: 0.7734 - val_loss: 1.0397 - val_pred1_loss: 0.3023 - val_pred2_loss: 0.2610 - val_pred3_loss: 0.2849 - val_final_loss: 0.1915 - val_pred1_accuracy: 0.9763 - val_pred1_precision_m: 0.7725 - val_pred1_recall_m: 0.8079 - val_pred1_f1_m: 0.7891 - val_pred2_accuracy: 0.9749 - val_pred2_precision_m: 0.7157 - val_pred2_recall_m: 0.9002 - val_pred2_f1_m: 0.7970 - val_pred3_accuracy: 0.9762 - val_pred3_precision_m: 0.7551 - val_pred3_recall_m: 0.8418 - val_pred3_f1_m: 0.7951 - val_final_accuracy: 0.9771 - val_final_precision_m: 0.7736 - val_final_recall_m: 0.8269 - val_final_f1_m: 0.7986\n",
      "\n",
      "Epoch 00055: val_final_loss improved from 0.23674 to 0.19149, saving model to Checkpoints\\weights.55-0.19.hdf5\n",
      "Epoch 56/70\n",
      "62/62 - 9s - loss: 1.1042 - pred1_loss: 0.3271 - pred2_loss: 0.2881 - pred3_loss: 0.2923 - final_loss: 0.1967 - pred1_accuracy: 0.9715 - pred1_precision_m: 0.6715 - pred1_recall_m: 0.8399 - pred1_f1_m: 0.7436 - pred2_accuracy: 0.9753 - pred2_precision_m: 0.7071 - pred2_recall_m: 0.8707 - pred2_f1_m: 0.7785 - pred3_accuracy: 0.9745 - pred3_precision_m: 0.6977 - pred3_recall_m: 0.8708 - pred3_f1_m: 0.7727 - final_accuracy: 0.9745 - final_precision_m: 0.6992 - final_recall_m: 0.8671 - final_f1_m: 0.7722 - val_loss: 1.0057 - val_pred1_loss: 0.2882 - val_pred2_loss: 0.2620 - val_pred3_loss: 0.2753 - val_final_loss: 0.1802 - val_pred1_accuracy: 0.9761 - val_pred1_precision_m: 0.7528 - val_pred1_recall_m: 0.8395 - val_pred1_f1_m: 0.7934 - val_pred2_accuracy: 0.9760 - val_pred2_precision_m: 0.7331 - val_pred2_recall_m: 0.8859 - val_pred2_f1_m: 0.8018 - val_pred3_accuracy: 0.9746 - val_pred3_precision_m: 0.7227 - val_pred3_recall_m: 0.8747 - val_pred3_f1_m: 0.7909 - val_final_accuracy: 0.9738 - val_final_precision_m: 0.7112 - val_final_recall_m: 0.8818 - val_final_f1_m: 0.7870\n",
      "\n",
      "Epoch 00056: val_final_loss improved from 0.19149 to 0.18023, saving model to Checkpoints\\weights.56-0.18.hdf5\n",
      "Epoch 57/70\n",
      "62/62 - 9s - loss: 1.0785 - pred1_loss: 0.3231 - pred2_loss: 0.2807 - pred3_loss: 0.2848 - final_loss: 0.1898 - pred1_accuracy: 0.9719 - pred1_precision_m: 0.6763 - pred1_recall_m: 0.8415 - pred1_f1_m: 0.7476 - pred2_accuracy: 0.9759 - pred2_precision_m: 0.7121 - pred2_recall_m: 0.8775 - pred2_f1_m: 0.7849 - pred3_accuracy: 0.9749 - pred3_precision_m: 0.7005 - pred3_recall_m: 0.8786 - pred3_f1_m: 0.7782 - final_accuracy: 0.9750 - final_precision_m: 0.7038 - final_recall_m: 0.8733 - final_f1_m: 0.7781 - val_loss: 1.1862 - val_pred1_loss: 0.2852 - val_pred2_loss: 0.2817 - val_pred3_loss: 0.3587 - val_final_loss: 0.2606 - val_pred1_accuracy: 0.9768 - val_pred1_precision_m: 0.7648 - val_pred1_recall_m: 0.8332 - val_pred1_f1_m: 0.7970 - val_pred2_accuracy: 0.9792 - val_pred2_precision_m: 0.8045 - val_pred2_recall_m: 0.8217 - val_pred2_f1_m: 0.8120 - val_pred3_accuracy: 0.9749 - val_pred3_precision_m: 0.8064 - val_pred3_recall_m: 0.7224 - val_pred3_f1_m: 0.7594 - val_final_accuracy: 0.9751 - val_final_precision_m: 0.8180 - val_final_recall_m: 0.7117 - val_final_f1_m: 0.7586\n",
      "\n",
      "Epoch 00057: val_final_loss did not improve from 0.18023\n",
      "Epoch 58/70\n",
      "62/62 - 9s - loss: 1.0840 - pred1_loss: 0.3242 - pred2_loss: 0.2816 - pred3_loss: 0.2867 - final_loss: 0.1915 - pred1_accuracy: 0.9716 - pred1_precision_m: 0.6717 - pred1_recall_m: 0.8419 - pred1_f1_m: 0.7447 - pred2_accuracy: 0.9757 - pred2_precision_m: 0.7091 - pred2_recall_m: 0.8781 - pred2_f1_m: 0.7830 - pred3_accuracy: 0.9747 - pred3_precision_m: 0.6980 - pred3_recall_m: 0.8780 - pred3_f1_m: 0.7758 - final_accuracy: 0.9748 - final_precision_m: 0.7011 - final_recall_m: 0.8733 - final_f1_m: 0.7759 - val_loss: 2.4679 - val_pred1_loss: 0.2817 - val_pred2_loss: 0.7510 - val_pred3_loss: 0.7509 - val_final_loss: 0.6843 - val_pred1_accuracy: 0.9775 - val_pred1_precision_m: 0.7693 - val_pred1_recall_m: 0.8421 - val_pred1_f1_m: 0.8034 - val_pred2_accuracy: 0.6273 - val_pred2_precision_m: 0.1245 - val_pred2_recall_m: 0.9417 - val_pred2_f1_m: 0.2195 - val_pred3_accuracy: 0.6316 - val_pred3_precision_m: 0.1254 - val_pred3_recall_m: 0.9387 - val_pred3_f1_m: 0.2209 - val_final_accuracy: 0.6353 - val_final_precision_m: 0.1249 - val_final_recall_m: 0.9216 - val_final_f1_m: 0.2196\n",
      "\n",
      "Epoch 00058: val_final_loss did not improve from 0.18023\n",
      "Epoch 59/70\n",
      "62/62 - 9s - loss: 1.0897 - pred1_loss: 0.3210 - pred2_loss: 0.2831 - pred3_loss: 0.2912 - final_loss: 0.1945 - pred1_accuracy: 0.9726 - pred1_precision_m: 0.6815 - pred1_recall_m: 0.8412 - pred1_f1_m: 0.7506 - pred2_accuracy: 0.9758 - pred2_precision_m: 0.7103 - pred2_recall_m: 0.8757 - pred2_f1_m: 0.7819 - pred3_accuracy: 0.9750 - pred3_precision_m: 0.7041 - pred3_recall_m: 0.8669 - pred3_f1_m: 0.7748 - final_accuracy: 0.9749 - final_precision_m: 0.7045 - final_recall_m: 0.8661 - final_f1_m: 0.7745 - val_loss: 1.0106 - val_pred1_loss: 0.2935 - val_pred2_loss: 0.2533 - val_pred3_loss: 0.2761 - val_final_loss: 0.1877 - val_pred1_accuracy: 0.9676 - val_pred1_precision_m: 0.6462 - val_pred1_recall_m: 0.9063 - val_pred1_f1_m: 0.7536 - val_pred2_accuracy: 0.9772 - val_pred2_precision_m: 0.7438 - val_pred2_recall_m: 0.8930 - val_pred2_f1_m: 0.8111 - val_pred3_accuracy: 0.9745 - val_pred3_precision_m: 0.7209 - val_pred3_recall_m: 0.8760 - val_pred3_f1_m: 0.7905 - val_final_accuracy: 0.9783 - val_final_precision_m: 0.7911 - val_final_recall_m: 0.8241 - val_final_f1_m: 0.8068\n",
      "\n",
      "Epoch 00059: val_final_loss did not improve from 0.18023\n",
      "Epoch 60/70\n",
      "62/62 - 9s - loss: 1.0545 - pred1_loss: 0.3166 - pred2_loss: 0.2732 - pred3_loss: 0.2797 - final_loss: 0.1849 - pred1_accuracy: 0.9725 - pred1_precision_m: 0.6823 - pred1_recall_m: 0.8461 - pred1_f1_m: 0.7538 - pred2_accuracy: 0.9764 - pred2_precision_m: 0.7172 - pred2_recall_m: 0.8846 - pred2_f1_m: 0.7908 - pred3_accuracy: 0.9753 - pred3_precision_m: 0.7051 - pred3_recall_m: 0.8825 - pred3_f1_m: 0.7826 - final_accuracy: 0.9753 - final_precision_m: 0.7070 - final_recall_m: 0.8788 - final_f1_m: 0.7823 - val_loss: 1.1422 - val_pred1_loss: 0.4261 - val_pred2_loss: 0.2708 - val_pred3_loss: 0.2641 - val_final_loss: 0.1812 - val_pred1_accuracy: 0.9290 - val_pred1_precision_m: 0.4331 - val_pred1_recall_m: 0.9333 - val_pred1_f1_m: 0.5909 - val_pred2_accuracy: 0.9720 - val_pred2_precision_m: 0.6858 - val_pred2_recall_m: 0.9078 - val_pred2_f1_m: 0.7808 - val_pred3_accuracy: 0.9771 - val_pred3_precision_m: 0.7516 - val_pred3_recall_m: 0.8725 - val_pred3_f1_m: 0.8072 - val_final_accuracy: 0.9785 - val_final_precision_m: 0.7862 - val_final_recall_m: 0.8367 - val_final_f1_m: 0.8102\n",
      "\n",
      "Epoch 00060: val_final_loss did not improve from 0.18023\n",
      "Epoch 61/70\n",
      "62/62 - 9s - loss: 1.0680 - pred1_loss: 0.3197 - pred2_loss: 0.2766 - pred3_loss: 0.2833 - final_loss: 0.1884 - pred1_accuracy: 0.9734 - pred1_precision_m: 0.6907 - pred1_recall_m: 0.8363 - pred1_f1_m: 0.7547 - pred2_accuracy: 0.9767 - pred2_precision_m: 0.7196 - pred2_recall_m: 0.8790 - pred2_f1_m: 0.7895 - pred3_accuracy: 0.9757 - pred3_precision_m: 0.7103 - pred3_recall_m: 0.8754 - pred3_f1_m: 0.7821 - final_accuracy: 0.9759 - final_precision_m: 0.7132 - final_recall_m: 0.8712 - final_f1_m: 0.7823 - val_loss: 1.0184 - val_pred1_loss: 0.2752 - val_pred2_loss: 0.2529 - val_pred3_loss: 0.2906 - val_final_loss: 0.1998 - val_pred1_accuracy: 0.9732 - val_pred1_precision_m: 0.7002 - val_pred1_recall_m: 0.8929 - val_pred1_f1_m: 0.7846 - val_pred2_accuracy: 0.9777 - val_pred2_precision_m: 0.7523 - val_pred2_recall_m: 0.8862 - val_pred2_f1_m: 0.8132 - val_pred3_accuracy: 0.9770 - val_pred3_precision_m: 0.7739 - val_pred3_recall_m: 0.8245 - val_pred3_f1_m: 0.7973 - val_final_accuracy: 0.9770 - val_final_precision_m: 0.7819 - val_final_recall_m: 0.8104 - val_final_f1_m: 0.7947\n",
      "\n",
      "Epoch 00061: val_final_loss did not improve from 0.18023\n",
      "Epoch 62/70\n",
      "62/62 - 9s - loss: 1.0593 - pred1_loss: 0.3155 - pred2_loss: 0.2759 - pred3_loss: 0.2810 - final_loss: 0.1870 - pred1_accuracy: 0.9730 - pred1_precision_m: 0.6835 - pred1_recall_m: 0.8470 - pred1_f1_m: 0.7537 - pred2_accuracy: 0.9769 - pred2_precision_m: 0.7198 - pred2_recall_m: 0.8791 - pred2_f1_m: 0.7899 - pred3_accuracy: 0.9758 - pred3_precision_m: 0.7085 - pred3_recall_m: 0.8779 - pred3_f1_m: 0.7827 - final_accuracy: 0.9757 - final_precision_m: 0.7084 - final_recall_m: 0.8760 - final_f1_m: 0.7819 - val_loss: 1.1147 - val_pred1_loss: 0.2685 - val_pred2_loss: 0.2995 - val_pred3_loss: 0.3212 - val_final_loss: 0.2254 - val_pred1_accuracy: 0.9768 - val_pred1_precision_m: 0.7490 - val_pred1_recall_m: 0.8689 - val_pred1_f1_m: 0.8041 - val_pred2_accuracy: 0.9773 - val_pred2_precision_m: 0.7889 - val_pred2_recall_m: 0.8048 - val_pred2_f1_m: 0.7954 - val_pred3_accuracy: 0.9766 - val_pred3_precision_m: 0.7980 - val_pred3_recall_m: 0.7737 - val_pred3_f1_m: 0.7840 - val_final_accuracy: 0.9765 - val_final_precision_m: 0.8035 - val_final_recall_m: 0.7646 - val_final_f1_m: 0.7819\n",
      "\n",
      "Epoch 00062: val_final_loss did not improve from 0.18023\n",
      "Epoch 63/70\n",
      "62/62 - 9s - loss: 1.0371 - pred1_loss: 0.3097 - pred2_loss: 0.2701 - pred3_loss: 0.2752 - final_loss: 0.1821 - pred1_accuracy: 0.9737 - pred1_precision_m: 0.6916 - pred1_recall_m: 0.8518 - pred1_f1_m: 0.7612 - pred2_accuracy: 0.9768 - pred2_precision_m: 0.7175 - pred2_recall_m: 0.8887 - pred2_f1_m: 0.7926 - pred3_accuracy: 0.9759 - pred3_precision_m: 0.7081 - pred3_recall_m: 0.8875 - pred3_f1_m: 0.7861 - final_accuracy: 0.9759 - final_precision_m: 0.7096 - final_recall_m: 0.8830 - final_f1_m: 0.7853 - val_loss: 1.1671 - val_pred1_loss: 0.2697 - val_pred2_loss: 0.3060 - val_pred3_loss: 0.3416 - val_final_loss: 0.2498 - val_pred1_accuracy: 0.9735 - val_pred1_precision_m: 0.7015 - val_pred1_recall_m: 0.8988 - val_pred1_f1_m: 0.7875 - val_pred2_accuracy: 0.9780 - val_pred2_precision_m: 0.8108 - val_pred2_recall_m: 0.7876 - val_pred2_f1_m: 0.7973 - val_pred3_accuracy: 0.9757 - val_pred3_precision_m: 0.8035 - val_pred3_recall_m: 0.7452 - val_pred3_f1_m: 0.7709 - val_final_accuracy: 0.9758 - val_final_precision_m: 0.8192 - val_final_recall_m: 0.7259 - val_final_f1_m: 0.7674\n",
      "\n",
      "Epoch 00063: val_final_loss did not improve from 0.18023\n",
      "Epoch 64/70\n",
      "62/62 - 9s - loss: 1.0373 - pred1_loss: 0.3093 - pred2_loss: 0.2684 - pred3_loss: 0.2766 - final_loss: 0.1830 - pred1_accuracy: 0.9739 - pred1_precision_m: 0.6951 - pred1_recall_m: 0.8477 - pred1_f1_m: 0.7619 - pred2_accuracy: 0.9776 - pred2_precision_m: 0.7300 - pred2_recall_m: 0.8832 - pred2_f1_m: 0.7978 - pred3_accuracy: 0.9763 - pred3_precision_m: 0.7169 - pred3_recall_m: 0.8795 - pred3_f1_m: 0.7884 - final_accuracy: 0.9763 - final_precision_m: 0.7181 - final_recall_m: 0.8755 - final_f1_m: 0.7875 - val_loss: 0.9647 - val_pred1_loss: 0.2861 - val_pred2_loss: 0.2434 - val_pred3_loss: 0.2661 - val_final_loss: 0.1692 - val_pred1_accuracy: 0.9786 - val_pred1_precision_m: 0.7987 - val_pred1_recall_m: 0.8180 - val_pred1_f1_m: 0.8076 - val_pred2_accuracy: 0.9772 - val_pred2_precision_m: 0.7371 - val_pred2_recall_m: 0.9099 - val_pred2_f1_m: 0.8140 - val_pred3_accuracy: 0.9718 - val_pred3_precision_m: 0.6814 - val_pred3_recall_m: 0.9184 - val_pred3_f1_m: 0.7819 - val_final_accuracy: 0.9744 - val_final_precision_m: 0.7119 - val_final_recall_m: 0.8994 - val_final_f1_m: 0.7943\n",
      "\n",
      "Epoch 00064: val_final_loss improved from 0.18023 to 0.16916, saving model to Checkpoints\\weights.64-0.17.hdf5\n",
      "Epoch 65/70\n",
      "62/62 - 9s - loss: 1.0207 - pred1_loss: 0.3058 - pred2_loss: 0.2649 - pred3_loss: 0.2714 - final_loss: 0.1785 - pred1_accuracy: 0.9740 - pred1_precision_m: 0.6938 - pred1_recall_m: 0.8545 - pred1_f1_m: 0.7635 - pred2_accuracy: 0.9775 - pred2_precision_m: 0.7254 - pred2_recall_m: 0.8902 - pred2_f1_m: 0.7980 - pred3_accuracy: 0.9764 - pred3_precision_m: 0.7132 - pred3_recall_m: 0.8888 - pred3_f1_m: 0.7899 - final_accuracy: 0.9762 - final_precision_m: 0.7127 - final_recall_m: 0.8856 - final_f1_m: 0.7883 - val_loss: 1.1067 - val_pred1_loss: 0.3255 - val_pred2_loss: 0.2759 - val_pred3_loss: 0.3016 - val_final_loss: 0.2038 - val_pred1_accuracy: 0.9595 - val_pred1_precision_m: 0.5839 - val_pred1_recall_m: 0.9166 - val_pred1_f1_m: 0.7126 - val_pred2_accuracy: 0.9803 - val_pred2_precision_m: 0.8220 - val_pred2_recall_m: 0.8208 - val_pred2_f1_m: 0.8206 - val_pred3_accuracy: 0.9783 - val_pred3_precision_m: 0.8106 - val_pred3_recall_m: 0.7937 - val_pred3_f1_m: 0.8008 - val_final_accuracy: 0.9786 - val_final_precision_m: 0.8189 - val_final_recall_m: 0.7884 - val_final_f1_m: 0.8024\n",
      "\n",
      "Epoch 00065: val_final_loss did not improve from 0.16916\n",
      "Epoch 66/70\n",
      "62/62 - 9s - loss: 1.0269 - pred1_loss: 0.3097 - pred2_loss: 0.2668 - pred3_loss: 0.2717 - final_loss: 0.1788 - pred1_accuracy: 0.9743 - pred1_precision_m: 0.7007 - pred1_recall_m: 0.8464 - pred1_f1_m: 0.7636 - pred2_accuracy: 0.9777 - pred2_precision_m: 0.7306 - pred2_recall_m: 0.8858 - pred2_f1_m: 0.7986 - pred3_accuracy: 0.9769 - pred3_precision_m: 0.7198 - pred3_recall_m: 0.8855 - pred3_f1_m: 0.7921 - final_accuracy: 0.9768 - final_precision_m: 0.7199 - final_recall_m: 0.8821 - final_f1_m: 0.7909 - val_loss: 1.2112 - val_pred1_loss: 0.2721 - val_pred2_loss: 0.3188 - val_pred3_loss: 0.3578 - val_final_loss: 0.2625 - val_pred1_accuracy: 0.9798 - val_pred1_precision_m: 0.8021 - val_pred1_recall_m: 0.8381 - val_pred1_f1_m: 0.8193 - val_pred2_accuracy: 0.9793 - val_pred2_precision_m: 0.8535 - val_pred2_recall_m: 0.7568 - val_pred2_f1_m: 0.8005 - val_pred3_accuracy: 0.9758 - val_pred3_precision_m: 0.8246 - val_pred3_recall_m: 0.7179 - val_pred3_f1_m: 0.7647 - val_final_accuracy: 0.9752 - val_final_precision_m: 0.8225 - val_final_recall_m: 0.7078 - val_final_f1_m: 0.7581\n",
      "\n",
      "Epoch 00066: val_final_loss did not improve from 0.16916\n",
      "Epoch 67/70\n",
      "62/62 - 9s - loss: 1.0390 - pred1_loss: 0.3086 - pred2_loss: 0.2708 - pred3_loss: 0.2764 - final_loss: 0.1831 - pred1_accuracy: 0.9743 - pred1_precision_m: 0.6993 - pred1_recall_m: 0.8480 - pred1_f1_m: 0.7638 - pred2_accuracy: 0.9774 - pred2_precision_m: 0.7256 - pred2_recall_m: 0.8831 - pred2_f1_m: 0.7948 - pred3_accuracy: 0.9764 - pred3_precision_m: 0.7152 - pred3_recall_m: 0.8816 - pred3_f1_m: 0.7879 - final_accuracy: 0.9764 - final_precision_m: 0.7168 - final_recall_m: 0.8772 - final_f1_m: 0.7871 - val_loss: 1.1219 - val_pred1_loss: 0.2990 - val_pred2_loss: 0.2882 - val_pred3_loss: 0.3200 - val_final_loss: 0.2146 - val_pred1_accuracy: 0.9794 - val_pred1_precision_m: 0.8300 - val_pred1_recall_m: 0.7865 - val_pred1_f1_m: 0.8067 - val_pred2_accuracy: 0.9801 - val_pred2_precision_m: 0.8318 - val_pred2_recall_m: 0.8018 - val_pred2_f1_m: 0.8154 - val_pred3_accuracy: 0.9777 - val_pred3_precision_m: 0.8193 - val_pred3_recall_m: 0.7668 - val_pred3_f1_m: 0.7905 - val_final_accuracy: 0.9781 - val_final_precision_m: 0.8215 - val_final_recall_m: 0.7727 - val_final_f1_m: 0.7949\n",
      "\n",
      "Epoch 00067: val_final_loss did not improve from 0.16916\n",
      "Epoch 68/70\n",
      "62/62 - 9s - loss: 1.0356 - pred1_loss: 0.3086 - pred2_loss: 0.2702 - pred3_loss: 0.2749 - final_loss: 0.1819 - pred1_accuracy: 0.9736 - pred1_precision_m: 0.6914 - pred1_recall_m: 0.8547 - pred1_f1_m: 0.7608 - pred2_accuracy: 0.9770 - pred2_precision_m: 0.7216 - pred2_recall_m: 0.8882 - pred2_f1_m: 0.7934 - pred3_accuracy: 0.9764 - pred3_precision_m: 0.7147 - pred3_recall_m: 0.8840 - pred3_f1_m: 0.7881 - final_accuracy: 0.9762 - final_precision_m: 0.7129 - final_recall_m: 0.8820 - final_f1_m: 0.7863 - val_loss: 2.4753 - val_pred1_loss: 0.2986 - val_pred2_loss: 0.7474 - val_pred3_loss: 0.7483 - val_final_loss: 0.6809 - val_pred1_accuracy: 0.9642 - val_pred1_precision_m: 0.6160 - val_pred1_recall_m: 0.9262 - val_pred1_f1_m: 0.7392 - val_pred2_accuracy: 0.6292 - val_pred2_precision_m: 0.1265 - val_pred2_recall_m: 0.9560 - val_pred2_f1_m: 0.2230 - val_pred3_accuracy: 0.6306 - val_pred3_precision_m: 0.1263 - val_pred3_recall_m: 0.9503 - val_pred3_f1_m: 0.2225 - val_final_accuracy: 0.6412 - val_final_precision_m: 0.1267 - val_final_recall_m: 0.9219 - val_final_f1_m: 0.2224\n",
      "\n",
      "Epoch 00068: val_final_loss did not improve from 0.16916\n",
      "Epoch 69/70\n",
      "62/62 - 9s - loss: 1.0255 - pred1_loss: 0.3045 - pred2_loss: 0.2678 - pred3_loss: 0.2733 - final_loss: 0.1799 - pred1_accuracy: 0.9752 - pred1_precision_m: 0.7134 - pred1_recall_m: 0.8439 - pred1_f1_m: 0.7713 - pred2_accuracy: 0.9776 - pred2_precision_m: 0.7324 - pred2_recall_m: 0.8827 - pred2_f1_m: 0.7988 - pred3_accuracy: 0.9767 - pred3_precision_m: 0.7222 - pred3_recall_m: 0.8808 - pred3_f1_m: 0.7922 - final_accuracy: 0.9766 - final_precision_m: 0.7216 - final_recall_m: 0.8785 - final_f1_m: 0.7907 - val_loss: 1.2100 - val_pred1_loss: 0.4087 - val_pred2_loss: 0.3098 - val_pred3_loss: 0.3120 - val_final_loss: 0.1795 - val_pred1_accuracy: 0.9352 - val_pred1_precision_m: 0.4564 - val_pred1_recall_m: 0.9338 - val_pred1_f1_m: 0.6124 - val_pred2_accuracy: 0.9596 - val_pred2_precision_m: 0.5860 - val_pred2_recall_m: 0.9366 - val_pred2_f1_m: 0.7203 - val_pred3_accuracy: 0.9596 - val_pred3_precision_m: 0.5879 - val_pred3_recall_m: 0.9308 - val_pred3_f1_m: 0.7200 - val_final_accuracy: 0.9740 - val_final_precision_m: 0.7151 - val_final_recall_m: 0.8807 - val_final_f1_m: 0.7885\n",
      "\n",
      "Epoch 00069: val_final_loss did not improve from 0.16916\n",
      "Epoch 70/70\n",
      "62/62 - 9s - loss: 1.0235 - pred1_loss: 0.3063 - pred2_loss: 0.2645 - pred3_loss: 0.2728 - final_loss: 0.1800 - pred1_accuracy: 0.9748 - pred1_precision_m: 0.7072 - pred1_recall_m: 0.8464 - pred1_f1_m: 0.7683 - pred2_accuracy: 0.9782 - pred2_precision_m: 0.7349 - pred2_recall_m: 0.8875 - pred2_f1_m: 0.8023 - pred3_accuracy: 0.9768 - pred3_precision_m: 0.7191 - pred3_recall_m: 0.8843 - pred3_f1_m: 0.7914 - final_accuracy: 0.9769 - final_precision_m: 0.7222 - final_recall_m: 0.8795 - final_f1_m: 0.7913 - val_loss: 1.0250 - val_pred1_loss: 0.2595 - val_pred2_loss: 0.2467 - val_pred3_loss: 0.2950 - val_final_loss: 0.2238 - val_pred1_accuracy: 0.9769 - val_pred1_precision_m: 0.7419 - val_pred1_recall_m: 0.8863 - val_pred1_f1_m: 0.8075 - val_pred2_accuracy: 0.9799 - val_pred2_precision_m: 0.7834 - val_pred2_recall_m: 0.8773 - val_pred2_f1_m: 0.8270 - val_pred3_accuracy: 0.9777 - val_pred3_precision_m: 0.7929 - val_pred3_recall_m: 0.8092 - val_pred3_f1_m: 0.7995 - val_final_accuracy: 0.9759 - val_final_precision_m: 0.7896 - val_final_recall_m: 0.7725 - val_final_f1_m: 0.7790\n",
      "\n",
      "Epoch 00070: val_final_loss did not improve from 0.16916\n",
      "6/6 - 13s - loss: 1.5603 - pred1_loss: 0.4044 - pred2_loss: 0.3778 - pred3_loss: 0.4253 - final_loss: 0.3528 - pred1_accuracy: 0.9649 - pred1_precision_m: 0.6467 - pred1_recall_m: 0.7334 - pred1_f1_m: 0.6860 - pred2_accuracy: 0.9709 - pred2_precision_m: 0.7171 - pred2_recall_m: 0.7414 - pred2_f1_m: 0.7271 - pred3_accuracy: 0.9684 - pred3_precision_m: 0.7185 - pred3_recall_m: 0.6815 - pred3_f1_m: 0.6953 - final_accuracy: 0.9665 - final_precision_m: 0.7110 - final_recall_m: 0.6485 - final_f1_m: 0.6722\n",
      "The metrics for the test set with learning rate 0.001,  filters 32, and batch size 32 is [1.5602680444717407, 0.40438342094421387, 0.37781578302383423, 0.425285667181015, 0.3527831435203552, 0.9648668766021729, 0.6467474102973938, 0.7334387898445129, 0.6860292553901672, 0.9709284901618958, 0.7171377539634705, 0.7413975596427917, 0.7271469235420227, 0.9684076309204102, 0.7185435891151428, 0.681461751461029, 0.6953194737434387, 0.9665209650993347, 0.71100252866745, 0.6484728455543518, 0.6722361445426941]\n",
      "__________________________________________________________________________________________________________________________________________________________________________\n"
     ]
    }
   ],
   "source": [
    "# Number of epochs\n",
    "NUMBER_EPOCHS = 70\n",
    "\n",
    "# List of hyperparameters\n",
    "lr = [1e-3]\n",
    "batch_size_list = [32]\n",
    "filters = [32]\n",
    "\n",
    "# Dictionary of results\n",
    "results = {\n",
    "           \"filters\": [],\n",
    "           \"learning_rate\": [],\n",
    "           \"batch_size\": [],\n",
    "           \"loss\": [],\n",
    "           \"accuracy\": [],\n",
    "           \"precision\": [],\n",
    "           \"recall\": [],\n",
    "           \"f1\": []\n",
    "           }\n",
    "\n",
    "# Multi-scales for training and testing\n",
    "gt1 = Y_train[:,::8,::8,:]\n",
    "gt2 = Y_train[:,::4,::4,:]\n",
    "gt3 = Y_train[:,::2,::2,:]\n",
    "gt4 = Y_train\n",
    "gt_train = [gt1,gt2,gt3,gt4]\n",
    "\n",
    "# gv1 = Yval[:,::8,::8,:]\n",
    "# gv2 = Yval[:,::4,::4,:]\n",
    "# gv3 = Yval[:,::2,::2,:]\n",
    "# gv4 = Yval\n",
    "# gv_val = [gv1,gv2,gv3,gv4]\n",
    "\n",
    "gte1 = Y_test[:,::8,::8,:]\n",
    "gte2 = Y_test[:,::4,::4,:]\n",
    "gte3 = Y_test[:,::2,::2,:]\n",
    "gte4 = Y_test\n",
    "gt_test = [gte1,gte2,gte3,gte4]\n",
    "\n",
    "for learning_rate in lr:\n",
    "\n",
    "    for batch_size in batch_size_list:\n",
    "\n",
    "        for no_filters in filters:\n",
    "\n",
    "            # Define the model architecture\n",
    "            def ms_attUNet(lr,filtersFirstLayer, pretrained_weights=None, input_size=(PATCHSIZE, PATCHSIZE, NBANDS)):\n",
    "\n",
    "                img_input = Input(shape=input_size, name='input_scale1')\n",
    "                scale_img_2 = AveragePooling2D(pool_size=(2, 2), name='input_scale2')(img_input)\n",
    "                scale_img_3 = AveragePooling2D(pool_size=(2, 2), name='input_scale3')(scale_img_2)\n",
    "                scale_img_4 = AveragePooling2D(pool_size=(2, 2), name='input_scale4')(scale_img_3)\n",
    "\n",
    "                conv1 = UnetConv2D(img_input, filtersFirstLayer, is_batchnorm=True, name='conv1')\n",
    "                pool1 = MaxPooling2D(pool_size=(2, 2))(conv1)\n",
    "\n",
    "                input2 = Conv2D(filtersFirstLayer*2, (3, 3), padding='same', activation='relu', name='conv_scale2')(scale_img_2)\n",
    "                input2 = concatenate([input2, pool1], axis=3)\n",
    "                conv2 = UnetConv2D(input2, filtersFirstLayer*2, is_batchnorm=True, name='conv2')\n",
    "                pool2 = MaxPooling2D(pool_size=(2, 2))(conv2)\n",
    "\n",
    "                input3 = Conv2D(filtersFirstLayer*4, (3, 3), padding='same', activation='relu', name='conv_scale3')(scale_img_3)\n",
    "                input3 = concatenate([input3, pool2], axis=3)\n",
    "                conv3 = UnetConv2D(input3, filtersFirstLayer*4, is_batchnorm=True, name='conv3')\n",
    "                pool3 = MaxPooling2D(pool_size=(2, 2))(conv3)\n",
    "\n",
    "                input4 = Conv2D(filtersFirstLayer*8, (3, 3), padding='same', activation='relu', name='conv_scale4')(scale_img_4)\n",
    "                input4 = concatenate([input4, pool3], axis=3)\n",
    "                conv4 = UnetConv2D(input4, filtersFirstLayer*2, is_batchnorm=True, name='conv4')\n",
    "                pool4 = MaxPooling2D(pool_size=(2, 2))(conv4)\n",
    "\n",
    "                center = UnetConv2D(pool4, filtersFirstLayer*16, is_batchnorm=True, name='center')\n",
    "\n",
    "                g1 = UnetGatingSignal(center, is_batchnorm=True, name='g1')\n",
    "                attn1 = AttnGatingBlock(conv4, g1, filtersFirstLayer*4, '_1')\n",
    "                up1 = concatenate([Conv2DTranspose(filtersFirstLayer, (3,3), strides=(2,2), padding='same', activation='relu', kernel_initializer=kinit)(center), attn1], name='up1')\n",
    "\n",
    "                g2 = UnetGatingSignal(up1, is_batchnorm=True, name='g2')\n",
    "                attn2 = AttnGatingBlock(conv3, g2, filtersFirstLayer*2, '_2')\n",
    "                up2 = concatenate([Conv2DTranspose(filtersFirstLayer*2, (3,3), strides=(2,2), padding='same', activation='relu', kernel_initializer=kinit)(up1), attn2], name='up2')\n",
    "\n",
    "                g3 = UnetGatingSignal(up1, is_batchnorm=True, name='g3')\n",
    "                attn3 = AttnGatingBlock(conv2, g3, filtersFirstLayer, '_3')\n",
    "                up3 = concatenate([Conv2DTranspose(filtersFirstLayer, (3,3), strides=(2,2), padding='same', activation='relu', kernel_initializer=kinit)(up2), attn3], name='up3')\n",
    "\n",
    "                up4 = concatenate([Conv2DTranspose(filtersFirstLayer, (3,3), strides=(2,2), padding='same', activation='relu', kernel_initializer=kinit)(up3), conv1], name='up4')\n",
    "\n",
    "                conv6 = UnetConv2D(up1, filtersFirstLayer*8, is_batchnorm=True, name='conv6')\n",
    "                conv7 = UnetConv2D(up2, filtersFirstLayer*4, is_batchnorm=True, name='conv7')\n",
    "                conv8 = UnetConv2D(up3, filtersFirstLayer*2, is_batchnorm=True, name='conv8')\n",
    "                conv9 = UnetConv2D(up4, filtersFirstLayer, is_batchnorm=True, name='conv9')\n",
    "\n",
    "                out6 = Conv2D(1, (1, 1), activation='sigmoid', name='pred1')(conv6)\n",
    "                out7 = Conv2D(1, (1, 1), activation='sigmoid', name='pred2')(conv7)\n",
    "                out8 = Conv2D(1, (1, 1), activation='sigmoid', name='pred3')(conv8)\n",
    "                out9 = Conv2D(1, (1, 1), activation='sigmoid', name='final')(conv9)\n",
    "\n",
    "                model = Model(inputs=[img_input], outputs=[out6, out7, out8, out9])\n",
    "\n",
    "                loss = {'pred1':focal_tversky,\n",
    "                        'pred2':focal_tversky,\n",
    "                        'pred3':focal_tversky,\n",
    "                        'final':losses.tversky_loss}\n",
    "\n",
    "                loss_weights = {'pred1':1,\n",
    "                                'pred2':1,\n",
    "                                'pred3':1,\n",
    "                                'final':1}\n",
    "                model.compile(optimizer=Adam(learning_rate=lr), loss=loss, loss_weights=loss_weights,\n",
    "                              metrics=metrics)\n",
    "                # model.summary()\n",
    "                \n",
    "                if(pretrained_weights):\n",
    "                    model.load_weights(pretrained_weights)\n",
    "                    \n",
    "                return model\n",
    "            \n",
    "            # Load the model\n",
    "            model = ms_attUNet(lr=learning_rate, filtersFirstLayer=no_filters,pretrained_weights=None, input_size=(PATCHSIZE, PATCHSIZE, NBANDS))\n",
    "    \n",
    "            print(\"---------------------------------------------------------------------------------------------------------------------\")\n",
    "\n",
    "            print(\"Initialising in 3..........2..........1......................................\")\n",
    "\n",
    "            print(f'Training on {X_train.shape[0]} images with learning rate {learning_rate}, batch size {batch_size}, and number of filters {no_filters}')\n",
    "\n",
    "            # Checkpoint for saving the weights \n",
    "            checkpoint_path = os.path.join('Checkpoints/','weights.{epoch:02d}-{val_final_loss:.2f}.hdf5')\n",
    "\n",
    "            # Create a callback that saves the model's weights at every epoch\n",
    "            callback = tf.keras.callbacks.ModelCheckpoint(filepath=checkpoint_path,\n",
    "                                                            save_weights_only=True, save_best_only=True, monitor=\"val_final_loss\", mode = \"min\",\n",
    "                                                            verbose=1)\n",
    "\n",
    "            # Create a callback to reduce the learning rate using the ReduceLROnPlateau function\n",
    "            reduce_lr = tf.keras.callbacks.ReduceLROnPlateau(monitor=\"val_final_loss\", factor=0.33, patience=15, mode=\"min\")\n",
    "            \n",
    "            early_stop = tf.keras.callbacks.EarlyStopping(monitor = 'val_final_loss', # what is the metric to measure\n",
    "                              patience = 40, # how many epochs to continue running the model after seeing an increase in val_loss\n",
    "                              restore_best_weights = True) # update the mod\n",
    "            \n",
    "            # Compile the checkpoints and other settings as a callback\n",
    "            callback_list = [callback, reduce_lr, early_stop]\n",
    "\n",
    "            history = model.fit(X_train, gt_train,\n",
    "                        epochs=NUMBER_EPOCHS,\n",
    "                        batch_size=batch_size,\n",
    "                        validation_split = 0.1,\n",
    "                        # validation_data=(Xval, gv_val),\n",
    "                        callbacks=callback_list,\n",
    "                        verbose=2) \n",
    "\n",
    "            ########      EVALUATION      ###########\n",
    "            tf.keras.backend.clear_session()\n",
    "            evaluate = model.evaluate(X_test, gt_test, verbose=2)\n",
    "\n",
    "            ########      Saving results      ###########\n",
    "            results[\"filters\"].append(no_filters)\n",
    "            results[\"learning_rate\"].append(learning_rate)\n",
    "            results[\"batch_size\"].append(batch_size)\n",
    "            results[\"loss\"].append(evaluate[16])\n",
    "            results[\"accuracy\"].append(evaluate[17])\n",
    "            results[\"precision\"].append(evaluate[18])\n",
    "            results[\"recall\"].append(evaluate[19])\n",
    "            results[\"f1\"].append(evaluate[20])\n",
    "\n",
    "            # Convert results to a pandas dataframe\n",
    "            results_df = pd.DataFrame(results)\n",
    "\n",
    "            # Export as a CSV\n",
    "            save_path_results = f'Results in CSV'\n",
    "            if not os.path.exists(save_path_results):\n",
    "                os.makedirs(save_path_results)\n",
    "\n",
    "            results_df.to_csv(f'{save_path_results}/learning_rate_{learning_rate}_batch_size_{batch_size}_filters_{no_filters}.csv', index=False)\n",
    "\n",
    "            tf.compat.v1.reset_default_graph()\n",
    "\n",
    "            print(f\"The metrics for the test set with learning rate {learning_rate},  filters {no_filters}, and batch size {batch_size} is {evaluate}\")\n",
    "            print(\"__________________________________________________________________________________________________________________________________________________________________________\")"
   ]
  },
  {
   "cell_type": "markdown",
   "metadata": {
    "id": "SmFTAVATJPM1"
   },
   "source": [
    "## Testing the model"
   ]
  },
  {
   "cell_type": "code",
   "execution_count": null,
   "metadata": {},
   "outputs": [],
   "source": [
    "# Save model\n",
    "\n",
    "import imp, h5py\n",
    "imp.reload(h5py)\n",
    "model_fname = \"Checkpoints/2015.hdf5\".format(filters, batch_size_list, lr)\n",
    "model.save(model_fname)"
   ]
  },
  {
   "cell_type": "markdown",
   "metadata": {
    "id": "jAHNFP8KuPCa"
   },
   "source": [
    "### Evaluate the model"
   ]
  },
  {
   "cell_type": "markdown",
   "metadata": {
    "id": "ldFjQDOvnR--"
   },
   "source": [
    "LOAD MODELS FROM SAVED WEIGHTS (FOR PARTICULAR EPOCH WITH BEST PERFORMANCE)"
   ]
  },
  {
   "cell_type": "code",
   "execution_count": 29,
   "metadata": {
    "colab": {
     "base_uri": "https://localhost:8080/"
    },
    "executionInfo": {
     "elapsed": 39299,
     "status": "ok",
     "timestamp": 1618838110223,
     "user": {
      "displayName": "Kushanav Bhuyan",
      "photoUrl": "https://lh3.googleusercontent.com/a-/AOh14GhpJDzYajMCPL_21Vep_aig5cbphA73G195JQkf=s64",
      "userId": "13534778218088456884"
     },
     "user_tz": -120
    },
    "id": "E_vxRDOnZ93p",
    "outputId": "eb105caa-cf00-48da-95f6-c9f1d5a8876b"
   },
   "outputs": [
    {
     "name": "stdout",
     "output_type": "stream",
     "text": [
      "Model: \"model\"\n",
      "__________________________________________________________________________________________________\n",
      "Layer (type)                    Output Shape         Param #     Connected to                     \n",
      "==================================================================================================\n",
      "input_1 (InputLayer)            [(None, 128, 128, 5) 0                                            \n",
      "__________________________________________________________________________________________________\n",
      "conv2d (Conv2D)                 (None, 128, 128, 32) 1472        input_1[0][0]                    \n",
      "__________________________________________________________________________________________________\n",
      "batch_normalization (BatchNorma (None, 128, 128, 32) 128         conv2d[0][0]                     \n",
      "__________________________________________________________________________________________________\n",
      "activation (Activation)         (None, 128, 128, 32) 0           batch_normalization[0][0]        \n",
      "__________________________________________________________________________________________________\n",
      "conv2d_1 (Conv2D)               (None, 128, 128, 32) 9248        activation[0][0]                 \n",
      "__________________________________________________________________________________________________\n",
      "batch_normalization_1 (BatchNor (None, 128, 128, 32) 128         conv2d_1[0][0]                   \n",
      "__________________________________________________________________________________________________\n",
      "activation_1 (Activation)       (None, 128, 128, 32) 0           batch_normalization_1[0][0]      \n",
      "__________________________________________________________________________________________________\n",
      "max_pooling2d (MaxPooling2D)    (None, 64, 64, 32)   0           activation_1[0][0]               \n",
      "__________________________________________________________________________________________________\n",
      "conv2d_2 (Conv2D)               (None, 64, 64, 64)   18496       max_pooling2d[0][0]              \n",
      "__________________________________________________________________________________________________\n",
      "batch_normalization_2 (BatchNor (None, 64, 64, 64)   256         conv2d_2[0][0]                   \n",
      "__________________________________________________________________________________________________\n",
      "activation_2 (Activation)       (None, 64, 64, 64)   0           batch_normalization_2[0][0]      \n",
      "__________________________________________________________________________________________________\n",
      "conv2d_3 (Conv2D)               (None, 64, 64, 64)   36928       activation_2[0][0]               \n",
      "__________________________________________________________________________________________________\n",
      "batch_normalization_3 (BatchNor (None, 64, 64, 64)   256         conv2d_3[0][0]                   \n",
      "__________________________________________________________________________________________________\n",
      "activation_3 (Activation)       (None, 64, 64, 64)   0           batch_normalization_3[0][0]      \n",
      "__________________________________________________________________________________________________\n",
      "max_pooling2d_1 (MaxPooling2D)  (None, 32, 32, 64)   0           activation_3[0][0]               \n",
      "__________________________________________________________________________________________________\n",
      "conv2d_4 (Conv2D)               (None, 32, 32, 128)  73856       max_pooling2d_1[0][0]            \n",
      "__________________________________________________________________________________________________\n",
      "batch_normalization_4 (BatchNor (None, 32, 32, 128)  512         conv2d_4[0][0]                   \n",
      "__________________________________________________________________________________________________\n",
      "activation_4 (Activation)       (None, 32, 32, 128)  0           batch_normalization_4[0][0]      \n",
      "__________________________________________________________________________________________________\n",
      "conv2d_5 (Conv2D)               (None, 32, 32, 128)  147584      activation_4[0][0]               \n",
      "__________________________________________________________________________________________________\n",
      "batch_normalization_5 (BatchNor (None, 32, 32, 128)  512         conv2d_5[0][0]                   \n",
      "__________________________________________________________________________________________________\n",
      "activation_5 (Activation)       (None, 32, 32, 128)  0           batch_normalization_5[0][0]      \n",
      "__________________________________________________________________________________________________\n",
      "max_pooling2d_2 (MaxPooling2D)  (None, 16, 16, 128)  0           activation_5[0][0]               \n",
      "__________________________________________________________________________________________________\n",
      "conv2d_6 (Conv2D)               (None, 16, 16, 256)  295168      max_pooling2d_2[0][0]            \n",
      "__________________________________________________________________________________________________\n",
      "batch_normalization_6 (BatchNor (None, 16, 16, 256)  1024        conv2d_6[0][0]                   \n",
      "__________________________________________________________________________________________________\n",
      "activation_6 (Activation)       (None, 16, 16, 256)  0           batch_normalization_6[0][0]      \n",
      "__________________________________________________________________________________________________\n",
      "conv2d_7 (Conv2D)               (None, 16, 16, 256)  590080      activation_6[0][0]               \n",
      "__________________________________________________________________________________________________\n",
      "batch_normalization_7 (BatchNor (None, 16, 16, 256)  1024        conv2d_7[0][0]                   \n",
      "__________________________________________________________________________________________________\n",
      "activation_7 (Activation)       (None, 16, 16, 256)  0           batch_normalization_7[0][0]      \n",
      "__________________________________________________________________________________________________\n",
      "max_pooling2d_3 (MaxPooling2D)  (None, 8, 8, 256)    0           activation_7[0][0]               \n",
      "__________________________________________________________________________________________________\n",
      "conv2d_8 (Conv2D)               (None, 8, 8, 512)    1180160     max_pooling2d_3[0][0]            \n",
      "__________________________________________________________________________________________________\n",
      "batch_normalization_8 (BatchNor (None, 8, 8, 512)    2048        conv2d_8[0][0]                   \n",
      "__________________________________________________________________________________________________\n",
      "activation_8 (Activation)       (None, 8, 8, 512)    0           batch_normalization_8[0][0]      \n",
      "__________________________________________________________________________________________________\n",
      "conv2d_9 (Conv2D)               (None, 8, 8, 512)    2359808     activation_8[0][0]               \n",
      "__________________________________________________________________________________________________\n",
      "batch_normalization_9 (BatchNor (None, 8, 8, 512)    2048        conv2d_9[0][0]                   \n",
      "__________________________________________________________________________________________________\n",
      "activation_9 (Activation)       (None, 8, 8, 512)    0           batch_normalization_9[0][0]      \n",
      "__________________________________________________________________________________________________\n",
      "conv2d_transpose (Conv2DTranspo (None, 16, 16, 128)  262272      activation_9[0][0]               \n",
      "__________________________________________________________________________________________________\n",
      "concatenate (Concatenate)       (None, 16, 16, 384)  0           conv2d_transpose[0][0]           \n",
      "                                                                 activation_7[0][0]               \n",
      "__________________________________________________________________________________________________\n",
      "conv2d_10 (Conv2D)              (None, 16, 16, 256)  884992      concatenate[0][0]                \n",
      "__________________________________________________________________________________________________\n",
      "batch_normalization_10 (BatchNo (None, 16, 16, 256)  1024        conv2d_10[0][0]                  \n",
      "__________________________________________________________________________________________________\n",
      "activation_10 (Activation)      (None, 16, 16, 256)  0           batch_normalization_10[0][0]     \n",
      "__________________________________________________________________________________________________\n",
      "conv2d_11 (Conv2D)              (None, 16, 16, 256)  590080      activation_10[0][0]              \n",
      "__________________________________________________________________________________________________\n",
      "batch_normalization_11 (BatchNo (None, 16, 16, 256)  1024        conv2d_11[0][0]                  \n",
      "__________________________________________________________________________________________________\n",
      "activation_11 (Activation)      (None, 16, 16, 256)  0           batch_normalization_11[0][0]     \n",
      "__________________________________________________________________________________________________\n",
      "conv2d_transpose_1 (Conv2DTrans (None, 32, 32, 64)   65600       activation_11[0][0]              \n",
      "__________________________________________________________________________________________________\n",
      "concatenate_1 (Concatenate)     (None, 32, 32, 192)  0           conv2d_transpose_1[0][0]         \n",
      "                                                                 activation_5[0][0]               \n",
      "__________________________________________________________________________________________________\n",
      "conv2d_12 (Conv2D)              (None, 32, 32, 128)  221312      concatenate_1[0][0]              \n",
      "__________________________________________________________________________________________________\n",
      "batch_normalization_12 (BatchNo (None, 32, 32, 128)  512         conv2d_12[0][0]                  \n",
      "__________________________________________________________________________________________________\n",
      "activation_12 (Activation)      (None, 32, 32, 128)  0           batch_normalization_12[0][0]     \n",
      "__________________________________________________________________________________________________\n",
      "conv2d_13 (Conv2D)              (None, 32, 32, 128)  147584      activation_12[0][0]              \n",
      "__________________________________________________________________________________________________\n",
      "batch_normalization_13 (BatchNo (None, 32, 32, 128)  512         conv2d_13[0][0]                  \n",
      "__________________________________________________________________________________________________\n",
      "activation_13 (Activation)      (None, 32, 32, 128)  0           batch_normalization_13[0][0]     \n",
      "__________________________________________________________________________________________________\n",
      "conv2d_transpose_2 (Conv2DTrans (None, 64, 64, 32)   16416       activation_13[0][0]              \n",
      "__________________________________________________________________________________________________\n",
      "concatenate_2 (Concatenate)     (None, 64, 64, 96)   0           conv2d_transpose_2[0][0]         \n",
      "                                                                 activation_3[0][0]               \n",
      "__________________________________________________________________________________________________\n",
      "conv2d_14 (Conv2D)              (None, 64, 64, 64)   55360       concatenate_2[0][0]              \n",
      "__________________________________________________________________________________________________\n",
      "batch_normalization_14 (BatchNo (None, 64, 64, 64)   256         conv2d_14[0][0]                  \n",
      "__________________________________________________________________________________________________\n",
      "activation_14 (Activation)      (None, 64, 64, 64)   0           batch_normalization_14[0][0]     \n",
      "__________________________________________________________________________________________________\n",
      "conv2d_15 (Conv2D)              (None, 64, 64, 64)   36928       activation_14[0][0]              \n",
      "__________________________________________________________________________________________________\n",
      "batch_normalization_15 (BatchNo (None, 64, 64, 64)   256         conv2d_15[0][0]                  \n",
      "__________________________________________________________________________________________________\n",
      "activation_15 (Activation)      (None, 64, 64, 64)   0           batch_normalization_15[0][0]     \n",
      "__________________________________________________________________________________________________\n",
      "conv2d_transpose_3 (Conv2DTrans (None, 128, 128, 16) 4112        activation_15[0][0]              \n",
      "__________________________________________________________________________________________________\n",
      "concatenate_3 (Concatenate)     (None, 128, 128, 48) 0           conv2d_transpose_3[0][0]         \n",
      "                                                                 activation_1[0][0]               \n",
      "__________________________________________________________________________________________________\n",
      "conv2d_16 (Conv2D)              (None, 128, 128, 32) 13856       concatenate_3[0][0]              \n",
      "__________________________________________________________________________________________________\n",
      "batch_normalization_16 (BatchNo (None, 128, 128, 32) 128         conv2d_16[0][0]                  \n",
      "__________________________________________________________________________________________________\n",
      "activation_16 (Activation)      (None, 128, 128, 32) 0           batch_normalization_16[0][0]     \n",
      "__________________________________________________________________________________________________\n",
      "conv2d_17 (Conv2D)              (None, 128, 128, 32) 9248        activation_16[0][0]              \n",
      "__________________________________________________________________________________________________\n",
      "batch_normalization_17 (BatchNo (None, 128, 128, 32) 128         conv2d_17[0][0]                  \n",
      "__________________________________________________________________________________________________\n",
      "activation_17 (Activation)      (None, 128, 128, 32) 0           batch_normalization_17[0][0]     \n",
      "__________________________________________________________________________________________________\n",
      "conv2d_18 (Conv2D)              (None, 128, 128, 1)  33          activation_17[0][0]              \n",
      "==================================================================================================\n",
      "Total params: 7,032,369\n",
      "Trainable params: 7,026,481\n",
      "Non-trainable params: 5,888\n",
      "__________________________________________________________________________________________________\n",
      "None\n",
      "The metric evaluations are [0.2095232903957367, 0.9778963923454285, 0.8273731470108032, 0.7146214246749878, 0.7664780616760254]\n"
     ]
    }
   ],
   "source": [
    "# To load model weights from older runs, if present.\n",
    "# Please load previous metrics and functions and other required variables.\n",
    "# Also, insert the argument values manually for the model.\n",
    "\n",
    "best_model = UNet(loss=tversky_loss, lr=1e-3, filters=32,pretrained_weights=None, input_size=(PATCHSIZE, PATCHSIZE, NBANDS))\n",
    "best_model.load_weights(\"Checkpoints/all_train.hdf5\")\n",
    "results = best_model.evaluate(X_test, Y_test, verbose=0)\n",
    "print(f'The metric evaluations are {results}')"
   ]
  },
  {
   "cell_type": "markdown",
   "metadata": {
    "id": "ktTIs3ibnVEq"
   },
   "source": [
    "LOAD MODELS FROM CURRENT RUN (Last Model)"
   ]
  },
  {
   "cell_type": "code",
   "execution_count": 31,
   "metadata": {
    "colab": {
     "base_uri": "https://localhost:8080/"
    },
    "executionInfo": {
     "elapsed": 4195,
     "status": "ok",
     "timestamp": 1611692292014,
     "user": {
      "displayName": "Kushanav Bhuyan",
      "photoUrl": "https://lh3.googleusercontent.com/a-/AOh14GhpJDzYajMCPL_21Vep_aig5cbphA73G195JQkf=s64",
      "userId": "13534778218088456884"
     },
     "user_tz": -60
    },
    "id": "4reSJk2Ew4XX",
    "outputId": "e4ce2e0a-6386-4fb1-bbe9-63fc0e073eb8"
   },
   "outputs": [
    {
     "name": "stdout",
     "output_type": "stream",
     "text": [
      "2/2 - 0s - loss: 0.2095 - accuracy: 0.9779 - precision_m: 0.8274 - recall_m: 0.7146 - f1_m: 0.7665\n"
     ]
    },
    {
     "data": {
      "text/plain": [
       "[0.2095232903957367,\n",
       " 0.9778963923454285,\n",
       " 0.8273731470108032,\n",
       " 0.7146214246749878,\n",
       " 0.7664780616760254]"
      ]
     },
     "execution_count": 31,
     "metadata": {},
     "output_type": "execute_result"
    }
   ],
   "source": [
    "# To load model from current run\n",
    "best_model.evaluate(X_test, Y_test, verbose=2)"
   ]
  },
  {
   "cell_type": "markdown",
   "metadata": {
    "id": "L6IYYcW6uVJ0"
   },
   "source": [
    "### Predict the model "
   ]
  },
  {
   "cell_type": "code",
   "execution_count": 32,
   "metadata": {
    "colab": {
     "base_uri": "https://localhost:8080/"
    },
    "executionInfo": {
     "elapsed": 1057,
     "status": "ok",
     "timestamp": 1611692388400,
     "user": {
      "displayName": "Kushanav Bhuyan",
      "photoUrl": "https://lh3.googleusercontent.com/a-/AOh14GhpJDzYajMCPL_21Vep_aig5cbphA73G195JQkf=s64",
      "userId": "13534778218088456884"
     },
     "user_tz": -60
    },
    "id": "GmfMiSUnPc7J",
    "outputId": "6f6d5d89-3029-4432-dba4-583ee6cc4069"
   },
   "outputs": [],
   "source": [
    "def visualize_prediction(data,mask,predict):\n",
    "    f, axarr = plt.subplots(1,3)\n",
    "    data = data[:, :, 0:3] \n",
    "    axarr[0].imshow(data)\n",
    "    axarr[0].set_title(\"Satellite image\")\n",
    "\n",
    "    a=axarr[1]\n",
    "    values = np.unique(mask.ravel())\n",
    "    im = axarr[1].imshow(mask[:,:,0])\n",
    "    a.set_title(\"Ground truth labeled image\")\n",
    "    colors = [im.cmap(im.norm(value)) for value in values]\n",
    "\n",
    "    b=axarr[2]\n",
    "    values = np.unique(predict.ravel())\n",
    "    im = axarr[2].imshow(predict[:,:,0])\n",
    "    b.set_title(\"Predicted image\")\n",
    "    colors = [im.cmap(im.norm(value)) for value in values]\n",
    "\n",
    "    mask = [\"Background\", \"Landslide footprints\"]\n",
    "    patches = [mpatches.Patch(color=colors[i], label=j) for i, j in zip(range(len(values)), mask)]\n",
    "    plt.legend(handles=patches, bbox_to_anchor=(1.05, 1), loc=2, borderaxespad=0. )"
   ]
  },
  {
   "cell_type": "code",
   "execution_count": 33,
   "metadata": {
    "colab": {
     "base_uri": "https://localhost:8080/",
     "height": 394
    },
    "executionInfo": {
     "elapsed": 7201,
     "status": "ok",
     "timestamp": 1611692401903,
     "user": {
      "displayName": "Kushanav Bhuyan",
      "photoUrl": "https://lh3.googleusercontent.com/a-/AOh14GhpJDzYajMCPL_21Vep_aig5cbphA73G195JQkf=s64",
      "userId": "13534778218088456884"
     },
     "user_tz": -60
    },
    "id": "2R0sUb2VPnBc",
    "outputId": "9b2d4e65-f6b3-4547-befc-a2732aa91d2f"
   },
   "outputs": [
    {
     "name": "stdout",
     "output_type": "stream",
     "text": [
      "Precision:  tf.Tensor(0.07608695, shape=(), dtype=float32)\n",
      "Recall:  tf.Tensor(0.9722222, shape=(), dtype=float32)\n",
      "F1-score:  tf.Tensor(0.141129, shape=(), dtype=float32)\n",
      "Site number= 10\n"
     ]
    },
    {
     "data": {
      "image/png": "[encoded data removed]",
      "text/plain": [
       "<Figure size 1080x720 with 3 Axes>"
      ]
     },
     "metadata": {
      "needs_background": "light"
     },
     "output_type": "display_data"
    }
   ],
   "source": [
    "# Select the model and predict on the test image\n",
    "prediction = model.predict(X_test)\n",
    "\n",
    "# Run this code if the predicted data needs to be in \"int\" type and if you need to do THRESHOLDING.\n",
    "prediction[prediction>0.5]=1\n",
    "prediction[prediction<0.5]=0\n",
    "\n",
    "PATCH_NO = 10  #random.randint(0, len(Xtest)-1)\n",
    "test = Y_test[PATCH_NO]\n",
    "\n",
    "print(\"Precision: \", (precision_m(test, prediction[PATCH_NO])))\n",
    "print(\"Recall: \" , recall_m(test, prediction[PATCH_NO]))\n",
    "print(\"F1-score: \" , f1_m(test, prediction[PATCH_NO]))\n",
    "\n",
    "visualize_prediction(X_test[PATCH_NO].astype('uint8'),Y_test[PATCH_NO], prediction[PATCH_NO])\n",
    "print(\"Site number= %i\" % (PATCH_NO))"
   ]
  }
 ],
 "metadata": {
  "accelerator": "GPU",
  "colab": {
   "authorship_tag": "ABX9TyOZg4r3JA6/w8iI+xXJFZGJ",
   "collapsed_sections": [
    "FM7QdfvHzyww",
    "sJSfvuyV01zL",
    "Wjt6-QOtDKM1",
    "HfLAs-f3O59V"
   ],
   "machine_shape": "hm",
   "name": "Local_v0.3.1.ipynb",
   "provenance": [
    {
     "file_id": "14VGS6iC4C5lY2O9U_veYZMeX0u8MGMuX",
     "timestamp": 1610574487969
    },
    {
     "file_id": "10ci_zSfdTzMzqO2m7J9Nwme_Ebr5PX-P",
     "timestamp": 1609747228851
    }
   ],
   "toc_visible": true
  },
  "interpreter": {
   "hash": "28ea9cb954659dbdeb242555929885b4da1f2c57e320f1a07e78377d39f2b6a8"
  },
  "kernelspec": {
   "display_name": "Python 3.7.0 64-bit ('DL': conda)",
   "name": "python3"
  },
  "language_info": {
   "codemirror_mode": {
    "name": "ipython",
    "version": 3
   },
   "file_extension": ".py",
   "mimetype": "text/x-python",
   "name": "python",
   "nbconvert_exporter": "python",
   "pygments_lexer": "ipython3",
   "version": "3.7.0"
  }
 },
 "nbformat": 4,
 "nbformat_minor": 1
}
