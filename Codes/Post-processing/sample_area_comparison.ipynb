{
 "cells": [
  {
   "cell_type": "markdown",
   "metadata": {},
   "source": [
    "# Area Comparison for Performance Analysis"
   ]
  },
  {
   "cell_type": "code",
   "execution_count": 1,
   "metadata": {},
   "outputs": [],
   "source": [
    "# Import libraries\n",
    "\n",
    "from utilities import *\n",
    "\n",
    "import fiona\n",
    "import rasterio\n",
    "import gdal\n",
    "from rasterio.mask import mask\n",
    "import os\n",
    "from rasterio import plot\n",
    "from glob import glob\n",
    "import geopandas as gpd\n",
    "import numpy as np\n",
    "from shapely.geometry import box\n",
    "from shapely.geometry import shape\n",
    "\n",
    "from matplotlib import pyplot as plt"
   ]
  },
  {
   "cell_type": "code",
   "execution_count": 2,
   "metadata": {},
   "outputs": [
    {
     "name": "stdout",
     "output_type": "stream",
     "text": [
      "Number of manual landslides = 8\n",
      "Number of predicted landslides = 10\n"
     ]
    }
   ],
   "source": [
    "#Paths to files to load\n",
    "manual_path = \"Inventories/Manual/China/2017_m_new.shp\"\n",
    "prediction_path = \"Inventories/Predicted/China/2017_p_new.shp\"\n",
    "\n",
    "#Paths to files to save\n",
    "polygon_path = \"Inventories/Results/China/2017_prediction_new.shp\"\n",
    "csv_path1 = \"Inventories/Results/China/2017_NEW_AREA_ID_prediction_new.csv\"\n",
    "csv_path2 = \"Inventories/Results/China/2017_AREA_ID_manual_new.csv\"\n",
    "\n",
    "# Load the shapefiles of the manual and predicted landslide inventories\n",
    "manual=gpd.read_file(manual_path)\n",
    "prediction=gpd.read_file(prediction_path)\n",
    "\n",
    "print(f'Number of manual landslides = {len(manual)}')\n",
    "print(f'Number of predicted landslides = {len(prediction)}')\n",
    "\n",
    "# prediction.head(30)\n",
    "\n",
    "# Now that we have the two important files: manual and intx, we now have to rename the IDs of the intx into that of the manual one where they intersect\n",
    "# First, we inspect the IDs of the manual inventory and the intx gdframe.\n",
    "# Now, we try to find the common IDs between the two data frames. So, we find the common ones from the intx data frame\n",
    "# Then, we try to replace the IDs of the intx with that of the manual ones based on their geolocation."
   ]
  },
  {
   "cell_type": "code",
   "execution_count": 3,
   "metadata": {},
   "outputs": [],
   "source": [
    "def intx_area_ID_count(prediction,manual,polygon_path,csv_path1,csv_path2):\n",
    "  #iterates row by row, with the series (index)\n",
    "\n",
    "  #maximum area = 0\n",
    "  #for each polygon:\n",
    "    #convert to shapely object\n",
    "    #find whether intersects\n",
    "    #if not: pass\n",
    "    #is yes: caluclate the intersection area A\n",
    "      #compare with previous max area\n",
    "      #if larger, max = A\n",
    "      #keep record of the current geoseires\n",
    "      #get the ID of the polygon,\n",
    "      #repeat\n",
    "      #return the A, ID\n",
    "      #add ID attribute, max_area attribute to prediction polygon\n",
    "\n",
    "  #initialize the list / geoseries\n",
    "  # This list of geoseries would be the final PREDICTION SHAPEFILE WITH ID AND AREA INFORMATION\n",
    "\n",
    "  new_list=[]\n",
    "\n",
    "  for j in range(len(prediction)):\n",
    "    pred = prediction[j:j+1]\n",
    "    # print(pred)\n",
    "    # pred.plot()\n",
    "    polygon = pred['geometry'].iloc[0].buffer(0) # Selects as an element instead of the entire row\n",
    "    max_area = 0\n",
    "    ID = None\n",
    "    for i in range(len(manual)):\n",
    "      p = manual[i:i+1]\n",
    "      # p['geometry'] = p.buffer(0)\n",
    "      manual_p = p['geometry'].iloc[0].buffer(0)\n",
    "      # print(manual_p)\n",
    "\n",
    "      A = polygon.intersection(manual_p).area\n",
    "      if A > max_area:\n",
    "        max_area = A\n",
    "        # print(max_area)\n",
    "        # print(p)\n",
    "        ID = p['ID'].iloc[0] # Selects as an element instead of the entire row for the ID\n",
    "        # print(ID)\n",
    "    # print(max_area)\n",
    "    # print(ID)\n",
    "    \n",
    "    #section to add attributes of ID, max_area into the \"pred\" geoseries\n",
    "    # if ID!=None:\n",
    "    #add attributes of ID, max_area into pred \n",
    "    pred[\"new_ID\"] = ID\n",
    "    pred[\"max_intx_area\"] = max_area\n",
    "      \n",
    "    pred.head()\n",
    "    # append each polygon one-by-one to the list\n",
    "    new_list.append(pred)\n",
    "    # print(new_list)\n",
    "\n",
    "  print(f\"Total number of intersecting landslides with area and newly replaced IDs = {len(new_list)}\")\n",
    "        \n",
    "  #export the list to a shapefile\n",
    "  final_polygon = gpd.GeoDataFrame(pd.concat(new_list, ignore_index=True))\n",
    "  final_polygon.to_file(polygon_path)\n",
    "  # To save as a CSV\n",
    "  final_polygon.to_csv(csv_path1)\n",
    "  manual.to_csv(csv_path2)\n",
    "\n",
    "  return final_polygon"
   ]
  },
  {
   "cell_type": "code",
   "execution_count": 4,
   "metadata": {},
   "outputs": [
    {
     "name": "stderr",
     "output_type": "stream",
     "text": [
      "c:\\Users\\kusha\\anaconda3\\envs\\data_creation\\lib\\site-packages\\geopandas\\geodataframe.py:1322: SettingWithCopyWarning: \n",
      "A value is trying to be set on a copy of a slice from a DataFrame.\n",
      "Try using .loc[row_indexer,col_indexer] = value instead\n",
      "\n",
      "See the caveats in the documentation: https://pandas.pydata.org/pandas-docs/stable/user_guide/indexing.html#returning-a-view-versus-a-copy\n",
      "  super(GeoDataFrame, self).__setitem__(key, value)\n",
      "c:\\Users\\kusha\\anaconda3\\envs\\data_creation\\lib\\site-packages\\ipykernel_launcher.py:61: UserWarning: Column names longer than 10 characters will be truncated when saved to ESRI Shapefile.\n"
     ]
    },
    {
     "name": "stdout",
     "output_type": "stream",
     "text": [
      "Total number of intersecting landslides with area and newly replaced IDs = 10\n"
     ]
    }
   ],
   "source": [
    "output = intx_area_ID_count(prediction,manual,polygon_path,csv_path1, csv_path2)"
   ]
  },
  {
   "cell_type": "code",
   "execution_count": 5,
   "metadata": {},
   "outputs": [
    {
     "name": "stdout",
     "output_type": "stream",
     "text": [
      "Total number of intersecting landslides with area and newly replaced IDs = 140\n"
     ]
    }
   ],
   "source": [
    "print(f\"Total number of intersecting landslides with area and newly replaced IDs = {len(output)}\")\n",
    "# output.head(30)"
   ]
  },
  {
   "cell_type": "code",
   "execution_count": 6,
   "metadata": {},
   "outputs": [
    {
     "data": {
      "text/plain": [
       "<AxesSubplot:>"
      ]
     },
     "execution_count": 6,
     "metadata": {},
     "output_type": "execute_result"
    },
    {
     "data": {
      "image/png": "[encoded data removed]",
      "text/plain": [
       "<Figure size 432x288 with 1 Axes>"
      ]
     },
     "metadata": {
      "needs_background": "light"
     },
     "output_type": "display_data"
    }
   ],
   "source": [
    "# Make sure that the plots of the resulting shapefile look the same as that of the prediction shapefile\n",
    "\n",
    "prediction.plot()"
   ]
  },
  {
   "cell_type": "code",
   "execution_count": 7,
   "metadata": {},
   "outputs": [
    {
     "data": {
      "text/plain": [
       "<AxesSubplot:>"
      ]
     },
     "execution_count": 7,
     "metadata": {},
     "output_type": "execute_result"
    },
    {
     "data": {
      "image/png": "[encoded data removed]",
      "text/plain": [
       "<Figure size 432x288 with 1 Axes>"
      ]
     },
     "metadata": {
      "needs_background": "light"
     },
     "output_type": "display_data"
    }
   ],
   "source": [
    "output.plot()"
   ]
  }
 ],
 "metadata": {
  "interpreter": {
   "hash": "29e777a46f8e02b25ebbae6a0b65f018b431d7ff42f5ae23e488ba9622f67da6"
  },
  "kernelspec": {
   "display_name": "Python 3.7.11 ('data_creation')",
   "language": "python",
   "name": "python3"
  },
  "language_info": {
   "codemirror_mode": {
    "name": "ipython",
    "version": 3
   },
   "file_extension": ".py",
   "mimetype": "text/x-python",
   "name": "python",
   "nbconvert_exporter": "python",
   "pygments_lexer": "ipython3",
   "version": "3.7.11"
  }
 },
 "nbformat": 4,
 "nbformat_minor": 2
}
