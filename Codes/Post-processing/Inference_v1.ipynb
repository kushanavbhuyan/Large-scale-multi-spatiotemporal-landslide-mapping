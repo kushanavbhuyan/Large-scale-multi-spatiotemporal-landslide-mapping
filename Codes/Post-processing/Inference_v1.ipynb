{
 "cells": [
  {
   "cell_type": "markdown",
   "metadata": {
    "id": "hCjAscT8q48U"
   },
   "source": [
    "# Classify satellite images into landslide footprints \n",
    "If everything worked so far, we can then move on to actually classify an image provided we have enough confidence in the trained model. In this section, we will now load an image that we truly want to classify for real-world applications.\n",
    "\n",
    "*Version: 0.2*\n",
    "\n",
    "*Code update*\n",
    "1. No need for patch generation\n",
    "2. New stitching strategy with overlaps to avoid boundary artifacts\n",
    "3. Generate shapefiles directly"
   ]
  },
  {
   "cell_type": "code",
   "execution_count": 1,
   "metadata": {
    "colab": {
     "base_uri": "https://localhost:8080/"
    },
    "id": "mFWXqhP8H1jT",
    "outputId": "8e88f109-9a3c-4b8c-c8b1-fd5f846b77a7"
   },
   "outputs": [
    {
     "name": "stderr",
     "output_type": "stream",
     "text": [
      "/usr/local/lib/python3.8/dist-packages/geopandas/_compat.py:111: UserWarning: The Shapely GEOS version (3.10.2-CAPI-1.16.0) is incompatible with the GEOS version PyGEOS was compiled with (3.10.1-CAPI-1.16.0). Conversions between both will be slow.\n",
      "  warnings.warn(\n"
     ]
    },
    {
     "name": "stdout",
     "output_type": "stream",
     "text": [
      "Segmentation Models: using `keras` framework.\n",
      "time: 11.1 s (started: 2022-06-06 14:14:31 +02:00)\n"
     ]
    }
   ],
   "source": [
    "%load_ext autotime\n",
    "\n",
    "from osgeo import gdal\n",
    "import os\n",
    "import numpy as np\n",
    "import matplotlib.pyplot as plt\n",
    "from scipy.ndimage import label\n",
    "from keras.models import load_model\n",
    "from rasterio.features import shapes\n",
    "import rasterio\n",
    "import tensorflow as tf\n",
    "from tensorflow.keras.layers import *\n",
    "os.environ['TF_FORCE_GPU_ALLOW_GROWTH'] = 'true'\n",
    "\n",
    "from utils import *\n",
    "from losses import *\n",
    "from attention_Unets import *"
   ]
  },
  {
   "cell_type": "markdown",
   "metadata": {
    "id": "2WFUi_YgWfZc"
   },
   "source": [
    "## Model Configuration"
   ]
  },
  {
   "cell_type": "code",
   "execution_count": 2,
   "metadata": {
    "colab": {
     "base_uri": "https://localhost:8080/"
    },
    "id": "raQEoqBiG1Bh",
    "outputId": "1e53a113-aea5-46ef-b1f5-0a3ddc6b157d"
   },
   "outputs": [
    {
     "name": "stdout",
     "output_type": "stream",
     "text": [
      "time: 7.77 ms (started: 2022-06-06 14:14:43 +02:00)\n"
     ]
    }
   ],
   "source": [
    "#Pre-requisite codes for loading the model\n",
    "\n",
    "def accuracy(y_true, y_pred, threshold=0.5):\n",
    "    \"\"\"compute accuracy\"\"\"\n",
    "    #y_t = y_true[...,0]\n",
    "    #y_t = y_t[...,np.newaxis]\n",
    "    y_pred = K.round(y_pred +0.5 - threshold)\n",
    "    return K.equal(K.round(y_true), K.round(y_pred))\n",
    "\n",
    "def dice_coef(y_true, y_pred, smooth=0.0000001):\n",
    "    \"\"\"compute dice coef\"\"\"\n",
    "    #y_t = y_true[...,0]\n",
    "    #y_t = y_t[...,np.newaxis]\n",
    "    intersection = K.sum(K.abs(y_true * y_pred), axis=-1)\n",
    "    union = K.sum(y_true, axis=-1) + K.sum(y_pred, axis=-1)\n",
    "    return K.mean((2. * intersection + smooth) / (union + smooth), axis=-1)\n",
    "\n",
    "def dice_loss(y_true, y_pred):\n",
    "    \"\"\"compute dice loss\"\"\"\n",
    "    #y_t = y_true[...,0]\n",
    "    #y_t = y_t[...,np.newaxis]\n",
    "    return 1 - dice_coef(y_true, y_pred)\n",
    "\n",
    "# K.round() returns the Element-wise rounding to the closest integer!!!\n",
    "# So the threshold to determine a true positive is set here!!!!!\n",
    "def true_positives(y_true, y_pred, threshold=0.5):\n",
    "    \"\"\"compute true positive\"\"\"\n",
    "    #y_t = y_true[...,0]\n",
    "    #y_t = y_t[...,np.newaxis]\n",
    "    y_pred = K.round(y_pred +0.5 - threshold)\n",
    "    return K.round(y_true * y_pred)\n",
    "\n",
    "def false_positives(y_true, y_pred, threshold=0.5):\n",
    "    \"\"\"compute false positive\"\"\"\n",
    "    #y_t = y_true[...,0]\n",
    "    #y_t = y_t[...,np.newaxis]\n",
    "    y_pred = K.round(y_pred +0.5 - threshold)\n",
    "    return K.round((1 - y_true) * y_pred)\n",
    "\n",
    "def true_negatives(y_true, y_pred, threshold=0.5):\n",
    "    \"\"\"compute true negative\"\"\"\n",
    "    #y_t = y_true[...,0]\n",
    "    #y_t = y_t[...,np.newaxis]\n",
    "    y_pred = K.round(y_pred +0.5 - threshold)\n",
    "    return K.round((1 - y_true) * (1 - y_pred))\n",
    "\n",
    "def false_negatives(y_true, y_pred, threshold=0.5):\n",
    "    \"\"\"compute false negative\"\"\"\n",
    "    #y_t = y_true[...,0]\n",
    "    #y_t = y_t[...,np.newaxis]\n",
    "    y_pred = K.round(y_pred +0.5 - threshold)\n",
    "    return K.round((y_true) * (1 - y_pred))\n",
    "\n",
    "# K.sum() returns a single integer output unlike the K.round() which returns an element-wise matrix\n",
    "def sensitivity(y_true, y_pred):\n",
    "    \"\"\"compute sensitivity (recall)\"\"\"\n",
    "    #y_t = y_true[...,0]\n",
    "    #y_t = y_t[...,np.newaxis]\n",
    "    tp = true_positives(y_true, y_pred)\n",
    "    fn = false_negatives(y_true, y_pred)\n",
    "    return K.sum(tp) / (K.sum(tp) + K.sum(fn))\n",
    "\n",
    "def specificity(y_true, y_pred):\n",
    "    \"\"\"compute specificity ()\"\"\"\n",
    "    #y_t = y_true[...,0]\n",
    "    #y_t = y_t[...,np.newaxis]\n",
    "    tn = true_negatives(y_true, y_pred)\n",
    "    fp = false_positives(y_true, y_pred)\n",
    "    return K.sum(tn) / (K.sum(tn) + K.sum(fp))\n",
    "\n",
    "def recall_m(y_true, y_pred):\n",
    "    #y_t = y_true[...,0]\n",
    "    #y_t = y_t[...,np.newaxis]\n",
    "    tp = true_positives(y_true, y_pred)\n",
    "    fn = false_negatives(y_true, y_pred)\n",
    "    recall = K.sum(tp) / (K.sum(tp) + K.sum(fn)+ K.epsilon())\n",
    "    return recall\n",
    "\n",
    "def precision_m(y_true, y_pred):\n",
    "    #y_t = y_true[...,0]\n",
    "    #y_t = y_t[...,np.newaxis]\n",
    "    tp = true_positives(y_true, y_pred)\n",
    "    fp = false_positives(y_true, y_pred)\n",
    "    precision = K.sum(tp) / (K.sum(tp) + K.sum(fp)+ K.epsilon())\n",
    "    return precision\n",
    "\n",
    "def f1_m(y_true, y_pred):\n",
    "    precision = precision_m(y_true, y_pred)\n",
    "    recall = recall_m(y_true, y_pred)\n",
    "    return 2*((precision*recall)/(precision+recall+K.epsilon()))"
   ]
  },
  {
   "cell_type": "code",
   "execution_count": 3,
   "metadata": {
    "colab": {
     "base_uri": "https://localhost:8080/"
    },
    "id": "ANVfc20K5NVO",
    "outputId": "66abda31-7ca5-4c28-bb86-8bef3a146ffe"
   },
   "outputs": [
    {
     "name": "stdout",
     "output_type": "stream",
     "text": [
      "time: 69.9 ms (started: 2022-06-06 14:14:43 +02:00)\n"
     ]
    }
   ],
   "source": [
    "# Tversky\n",
    "def tversky(y_true, y_pred, alpha=0.3, beta=0.7):\n",
    "    \"\"\"\n",
    "    Function to calculate the Tversky loss for imbalanced data\n",
    "    :param prediction: the logits\n",
    "    :param ground_truth: the segmentation ground_truth\n",
    "    :param alpha: weight of false positives\n",
    "    :param beta: weight of false negatives\n",
    "    :param weight_map:\n",
    "    :return: the loss\n",
    "    \"\"\"\n",
    "    '''\n",
    "    EPSILON = 0.00001 (default)\n",
    "    '''\n",
    "    y_true_pos = K.flatten(y_true)\n",
    "    y_pred_pos = K.flatten(y_pred)\n",
    "    # TP\n",
    "    true_pos = K.sum(y_true_pos * y_pred_pos)\n",
    "    # FN\n",
    "    false_neg = K.sum(y_true_pos * (1-y_pred_pos))\n",
    "    # FP\n",
    "    false_pos = K.sum((1-y_true_pos) * y_pred_pos)\n",
    "    return 1 - (true_pos + K.epsilon())/(true_pos + alpha * false_neg + beta * false_pos + K.epsilon())"
   ]
  },
  {
   "cell_type": "code",
   "execution_count": 4,
   "metadata": {
    "colab": {
     "base_uri": "https://localhost:8080/"
    },
    "id": "EMd5O3ftEh7E",
    "jupyter": {
     "source_hidden": true
    },
    "outputId": "d8f2b2b8-b3ab-4701-c9a4-4e85392dbbc3",
    "tags": []
   },
   "outputs": [
    {
     "name": "stdout",
     "output_type": "stream",
     "text": [
      "time: 15.8 ms (started: 2022-06-06 14:14:43 +02:00)\n"
     ]
    }
   ],
   "source": [
    "# U-Net model \n",
    "PATCHSIZE = 128\n",
    "NBANDS = 5\n",
    "\n",
    "def UNet(loss, lr, filters, pretrained_weights = None, input_size = (PATCHSIZE, PATCHSIZE, NBANDS)):\n",
    "  \n",
    "    inputs = Input(input_size)\n",
    "    conv1_1 = Conv2D(filters, (3, 3), padding='same', kernel_initializer = 'he_normal')(inputs)\n",
    "    bn1_1 = BatchNormalization(axis=3)(conv1_1)\n",
    "    relu1_1 = Activation('relu')(bn1_1)\n",
    "    conv1_2 = Conv2D(filters, (3, 3), padding='same', kernel_initializer = 'he_normal')(relu1_1)\n",
    "    bn1_2 = BatchNormalization(axis=3)(conv1_2)\n",
    "    relu1_2 = Activation('relu')(bn1_2)\n",
    "    pool1 = MaxPooling2D(pool_size=(2, 2))(relu1_2)\n",
    "    \n",
    "    conv2_1 = Conv2D(filters*2, (3, 3), padding='same', kernel_initializer = 'he_normal')(pool1)\n",
    "    bn2_1 = BatchNormalization(axis=3)(conv2_1)\n",
    "    relu2_1 = Activation('relu')(bn2_1)\n",
    "    conv2_2 = Conv2D(filters*2, (3, 3), padding='same', kernel_initializer = 'he_normal')(relu2_1)\n",
    "    bn2_2 = BatchNormalization(axis=3)(conv2_2)\n",
    "    relu2_2 = Activation('relu')(bn2_2)\n",
    "    pool2 = MaxPooling2D(pool_size=(2, 2))(relu2_2)\n",
    "    \n",
    "    conv3_1 = Conv2D(filters*4, (3, 3), padding='same', kernel_initializer = 'he_normal')(pool2)\n",
    "    bn3_1 = BatchNormalization(axis=3)(conv3_1)\n",
    "    relu3_1 = Activation('relu')(bn3_1)\n",
    "    conv3_2 = Conv2D(filters*4, (3, 3), padding='same', kernel_initializer = 'he_normal')(relu3_1)\n",
    "    bn3_2 = BatchNormalization(axis=3)(conv3_2)\n",
    "    relu3_2 = Activation('relu')(bn3_2)\n",
    "    pool3 = MaxPooling2D(pool_size=(2, 2))(relu3_2)\n",
    "    \n",
    "    conv4_1 = Conv2D(filters*8, (3, 3), padding='same', kernel_initializer = 'he_normal')(pool3)\n",
    "    bn4_1 = BatchNormalization(axis=3)(conv4_1)\n",
    "    relu4_1 = Activation('relu')(bn4_1)\n",
    "    conv4_2 = Conv2D(filters*8, (3, 3), padding='same', kernel_initializer = 'he_normal')(relu4_1)\n",
    "    bn4_2 = BatchNormalization(axis=3)(conv4_2)\n",
    "    relu4_2 = Activation('relu')(bn4_2)\n",
    "    pool4 = MaxPooling2D(pool_size=(2, 2))(relu4_2)\n",
    "    \n",
    "    conv5_1 = Conv2D(filters*16, (3, 3), padding='same', kernel_initializer = 'he_normal')(pool4)\n",
    "    bn5_1 = BatchNormalization(axis=3)(conv5_1)\n",
    "    relu5_1 = Activation('relu')(bn5_1)\n",
    "    conv5_2 = Conv2D(filters*16, (3, 3), padding='same', kernel_initializer = 'he_normal')(relu5_1)\n",
    "    bn5_2 = BatchNormalization(axis=3)(conv5_2)\n",
    "    relu5_2 = Activation('relu')(bn5_2)\n",
    "    \n",
    "    up6 = Concatenate()([Conv2DTranspose(128, (2, 2), strides=(2, 2), padding='same')(relu5_2), relu4_2])\n",
    "    conv6_1 = Conv2D(filters*8, (3, 3), padding='same', kernel_initializer = 'he_normal')(up6)\n",
    "    bn6_1 = BatchNormalization(axis=3)(conv6_1)\n",
    "    relu6_1 = Activation('relu')(bn6_1)\n",
    "    conv6_2 = Conv2D(filters*8, (3, 3), padding='same', kernel_initializer = 'he_normal')(relu6_1)\n",
    "    bn6_2 = BatchNormalization(axis=3)(conv6_2)\n",
    "    relu6_2 = Activation('relu')(bn6_2)\n",
    "    \n",
    "    up7 = Concatenate()([Conv2DTranspose(64, (2, 2), strides=(2, 2), padding='same')(relu6_2), relu3_2])\n",
    "    conv7_1 = Conv2D(filters*4, (3, 3), padding='same', kernel_initializer = 'he_normal')(up7)\n",
    "    bn7_1 = BatchNormalization(axis=3)(conv7_1)\n",
    "    relu7_1 = Activation('relu')(bn7_1)\n",
    "    conv7_2 = Conv2D(filters*4, (3, 3), padding='same', kernel_initializer = 'he_normal')(relu7_1)\n",
    "    bn7_2 = BatchNormalization(axis=3)(conv7_2)\n",
    "    relu7_2 = Activation('relu')(bn7_2)\n",
    "    \n",
    "    up8 = Concatenate()([Conv2DTranspose(32, (2, 2), strides=(2, 2), padding='same')(relu7_2), relu2_2])\n",
    "    conv8_1 = Conv2D(filters*2, (3, 3), padding='same', kernel_initializer = 'he_normal')(up8)\n",
    "    bn8_1 = BatchNormalization(axis=3)(conv8_1)\n",
    "    relu8_1 = Activation('relu')(bn8_1)\n",
    "    conv8_2 = Conv2D(filters*2, (3, 3), padding='same', kernel_initializer = 'he_normal')(relu8_1)\n",
    "    bn8_2 = BatchNormalization(axis=3)(conv8_2)\n",
    "    relu8_2 = Activation('relu')(bn8_2)\n",
    "    \n",
    "    up9 = Concatenate()([Conv2DTranspose(16, (2, 2), strides=(2, 2), padding='same')(relu8_2), relu1_2])\n",
    "    conv9_1 = Conv2D(filters, (3, 3), padding='same', kernel_initializer = 'he_normal')(up9)\n",
    "    bn9_1 = BatchNormalization(axis=3)(conv9_1)\n",
    "    relu9_1 = Activation('relu')(bn9_1)\n",
    "    conv9_2 = Conv2D(filters, (3, 3), padding='same', kernel_initializer = 'he_normal')(relu9_1)\n",
    "    bn9_2 = BatchNormalization(axis=3)(conv9_2)\n",
    "    relu9_2 = Activation('relu')(bn9_2)\n",
    "    \n",
    "    conv10 = Conv2D(1, (1, 1), activation='sigmoid')(relu9_2)\n",
    "    \n",
    "    model = Model(inputs=[inputs], outputs=[conv10])\n",
    "    model.compile(#tf.keras.optimizers.SGD(learning_rate=lr, momentum=0.0, nesterov=False, name='SGD'), \n",
    "                 tf.keras.optimizers.Adam(learning_rate=lr), \n",
    "                 loss=loss, metrics=metrics)\n",
    "    \n",
    "    print(model.summary())\n",
    "\n",
    "    if(pretrained_weights):\n",
    "        model.load_weights(pretrained_weights)\n",
    "          \n",
    "    return model"
   ]
  },
  {
   "cell_type": "code",
   "execution_count": 5,
   "metadata": {
    "colab": {
     "base_uri": "https://localhost:8080/"
    },
    "id": "kUJ7AA3vEp8R",
    "outputId": "cbe0b90c-41cf-466e-912c-478e16e56fad"
   },
   "outputs": [
    {
     "name": "stdout",
     "output_type": "stream",
     "text": [
      "time: 22.4 ms (started: 2022-06-06 14:14:43 +02:00)\n"
     ]
    }
   ],
   "source": [
    "# Required HPs\n",
    "adam = tf.keras.optimizers.Adam(learning_rate=1e-4)\n",
    "optimizer = adam\n",
    "loss=tversky\n",
    "metrics = [accuracy, precision_m, recall_m, f1_m]"
   ]
  },
  {
   "cell_type": "markdown",
   "metadata": {
    "id": "klxIXe15E3xx"
   },
   "source": [
    "### Load Model or Weights\n",
    "You can either load the model or the weights. Either are fine."
   ]
  },
  {
   "cell_type": "code",
   "execution_count": 6,
   "metadata": {
    "colab": {
     "base_uri": "https://localhost:8080/"
    },
    "id": "hdyLmwMgq2Zl",
    "outputId": "8146bdb3-ebae-4f58-c225-fd89b5222e9c",
    "tags": []
   },
   "outputs": [
    {
     "name": "stderr",
     "output_type": "stream",
     "text": [
      "2022-06-06 14:14:45.087807: W tensorflow/core/common_runtime/gpu/gpu_bfc_allocator.cc:39] Overriding allow_growth setting because the TF_FORCE_GPU_ALLOW_GROWTH environment variable is set. Original config value was 0.\n"
     ]
    },
    {
     "name": "stdout",
     "output_type": "stream",
     "text": [
      "time: 4.57 s (started: 2022-06-06 14:14:43 +02:00)\n"
     ]
    }
   ],
   "source": [
    "PATCHSIZE=128\n",
    "NBANDS=5\n",
    "\n",
    "def ms_attUNet(lr,filtersFirstLayer, pretrained_weights = None, input_size = (PATCHSIZE, PATCHSIZE, NBANDS)):\n",
    "    \n",
    "                img_input = Input(shape=input_size, name='input_scale1')\n",
    "                scale_img_2 = AveragePooling2D(pool_size=(2, 2), name='input_scale2')(img_input)\n",
    "                scale_img_3 = AveragePooling2D(pool_size=(2, 2), name='input_scale3')(scale_img_2)\n",
    "                scale_img_4 = AveragePooling2D(pool_size=(2, 2), name='input_scale4')(scale_img_3)\n",
    "\n",
    "                conv1 = UnetConv2D(img_input, filtersFirstLayer, is_batchnorm=True, name='conv1')\n",
    "                pool1 = MaxPooling2D(pool_size=(2, 2))(conv1)\n",
    "\n",
    "                input2 = Conv2D(filtersFirstLayer*2, (3, 3), padding='same', activation='relu', name='conv_scale2')(scale_img_2)\n",
    "                input2 = concatenate([input2, pool1], axis=3)\n",
    "                conv2 = UnetConv2D(input2, filtersFirstLayer*2, is_batchnorm=True, name='conv2')\n",
    "                pool2 = MaxPooling2D(pool_size=(2, 2))(conv2)\n",
    "\n",
    "                input3 = Conv2D(filtersFirstLayer*4, (3, 3), padding='same', activation='relu', name='conv_scale3')(scale_img_3)\n",
    "                input3 = concatenate([input3, pool2], axis=3)\n",
    "                conv3 = UnetConv2D(input3, filtersFirstLayer*4, is_batchnorm=True, name='conv3')\n",
    "                pool3 = MaxPooling2D(pool_size=(2, 2))(conv3)\n",
    "\n",
    "                input4 = Conv2D(filtersFirstLayer*8, (3, 3), padding='same', activation='relu', name='conv_scale4')(scale_img_4)\n",
    "                input4 = concatenate([input4, pool3], axis=3)\n",
    "                conv4 = UnetConv2D(input4, filtersFirstLayer*2, is_batchnorm=True, name='conv4')\n",
    "                pool4 = MaxPooling2D(pool_size=(2, 2))(conv4)\n",
    "\n",
    "                center = UnetConv2D(pool4, filtersFirstLayer*16, is_batchnorm=True, name='center')\n",
    "\n",
    "                g1 = UnetGatingSignal(center, is_batchnorm=True, name='g1')\n",
    "                attn1 = AttnGatingBlock(conv4, g1, filtersFirstLayer*4, '_1')\n",
    "                up1 = concatenate([Conv2DTranspose(filtersFirstLayer, (3,3), strides=(2,2), padding='same', activation='relu', kernel_initializer=kinit)(center), attn1], name='up1')\n",
    "\n",
    "                g2 = UnetGatingSignal(up1, is_batchnorm=True, name='g2')\n",
    "                attn2 = AttnGatingBlock(conv3, g2, filtersFirstLayer*2, '_2')\n",
    "                up2 = concatenate([Conv2DTranspose(filtersFirstLayer*2, (3,3), strides=(2,2), padding='same', activation='relu', kernel_initializer=kinit)(up1), attn2], name='up2')\n",
    "\n",
    "                g3 = UnetGatingSignal(up1, is_batchnorm=True, name='g3')\n",
    "                attn3 = AttnGatingBlock(conv2, g3, filtersFirstLayer, '_3')\n",
    "                up3 = concatenate([Conv2DTranspose(filtersFirstLayer, (3,3), strides=(2,2), padding='same', activation='relu', kernel_initializer=kinit)(up2), attn3], name='up3')\n",
    "\n",
    "                up4 = concatenate([Conv2DTranspose(filtersFirstLayer, (3,3), strides=(2,2), padding='same', activation='relu', kernel_initializer=kinit)(up3), conv1], name='up4')\n",
    "\n",
    "                conv6 = UnetConv2D(up1, filtersFirstLayer*8, is_batchnorm=True, name='conv6')\n",
    "                conv7 = UnetConv2D(up2, filtersFirstLayer*4, is_batchnorm=True, name='conv7')\n",
    "                conv8 = UnetConv2D(up3, filtersFirstLayer*2, is_batchnorm=True, name='conv8')\n",
    "                conv9 = UnetConv2D(up4, filtersFirstLayer, is_batchnorm=True, name='conv9')\n",
    "\n",
    "                out6 = Conv2D(1, (1, 1), activation='sigmoid', name='pred1')(conv6)\n",
    "                out7 = Conv2D(1, (1, 1), activation='sigmoid', name='pred2')(conv7)\n",
    "                out8 = Conv2D(1, (1, 1), activation='sigmoid', name='pred3')(conv8)\n",
    "                out9 = Conv2D(1, (1, 1), activation='sigmoid', name='final')(conv9)\n",
    "\n",
    "                model = Model(inputs=[img_input], outputs=[out6, out7, out8, out9])\n",
    "\n",
    "                loss = {'pred1':focal_tversky,\n",
    "                        'pred2':focal_tversky,\n",
    "                        'pred3':focal_tversky,\n",
    "                        'final':losses.tversky_loss}\n",
    "\n",
    "                loss_weights = {'pred1':1,\n",
    "                                'pred2':1,\n",
    "                                'pred3':1,\n",
    "                                'final':1}\n",
    "                model.compile(optimizer=Adam(learning_rate = lr), loss=loss, loss_weights=loss_weights,\n",
    "                              metrics=metrics)\n",
    "                # model.summary()\n",
    "                \n",
    "                if(pretrained_weights):\n",
    "                    model.load_weights(pretrained_weights)\n",
    "                    \n",
    "                return model\n",
    "\n",
    "# Load the model\n",
    "# from keras.models import load_model\n",
    "# last_model = load_model(\"Checkpoints/model_attnUNet.hdf5\", \n",
    "#                    custom_objects={\"f1_m\": f1_m, \"accuracy\": accuracy, \"precision_m\": precision_m, \"recall_m\": recall_m}, compile=False) \n",
    "\n",
    "# Load weights\n",
    "last_model = ms_attUNet(lr=1e-4, filtersFirstLayer=32,pretrained_weights=None, input_size=(PATCHSIZE, PATCHSIZE, NBANDS))\n",
    "# # last_model.load_weights(\"/content/drive/MyDrive/Kushanav MSc Thesis shared folder/Local Dataset/All tiles/Saved models and weights/April 23rd/BEST_WEIGHT_BCE_valloss_0.36.hdf5\")\n",
    "last_model.load_weights(\"Checkpoints/weights_2014.hdf5\")"
   ]
  },
  {
   "cell_type": "markdown",
   "metadata": {
    "id": "iFSpTLICHnkY"
   },
   "source": [
    "## Load the images to classify"
   ]
  },
  {
   "cell_type": "code",
   "execution_count": 8,
   "metadata": {
    "colab": {
     "base_uri": "https://localhost:8080/"
    },
    "id": "zSZjdxBKmdw1",
    "outputId": "d8f43d58-9005-4a8f-a2c5-c6690862d789"
   },
   "outputs": [
    {
     "name": "stdout",
     "output_type": "stream",
     "text": [
      "Shape of the satellite image(1, 8907, 4709, 5)\n",
      "time: 1.06 s (started: 2022-06-06 14:31:22 +02:00)\n"
     ]
    }
   ],
   "source": [
    "# Set the required settings\n",
    "patchsize=128\n",
    "overlap=24\n",
    "nbands=5\n",
    "\n",
    "# Image that you use to predict on\n",
    "image_data = rasterio.open(\"Data/Scaled satellite images/2014_withNDVI.tif\") \n",
    "bands = [image_data.read(i+1) for i in range(nbands)]\n",
    "Xuse = np.stack(bands,axis=2)\n",
    "NROWS, NCOLS, NBANDS = Xuse.shape\n",
    "Xuse = np.expand_dims(Xuse, axis=0)\n",
    "print(f'Shape of the satellite image{Xuse.shape}')"
   ]
  },
  {
   "cell_type": "markdown",
   "metadata": {
    "id": "WkpAOYtP1uKI"
   },
   "source": [
    "## Predicton \n",
    "Prediction and stitching is performed at the same time. This code prevents the generation of boundary artifacts.\n",
    "\n",
    "**REMARK: VERY IMPORTANT !!!**\n",
    "\n",
    "*The code at this instance expects a sigmoid function derived output, meaning that the model should have a range of probabilities between\n",
    "0 and 1 (Eg. shape = (512,512,1)). Hence, at line 45, I use np.squeeze. However, if the shape of the model is one-hot encoded \n",
    "(like 512,512,2 {instead of 512,512,1}), then we use np.argmax at line 45 and the succeeding lines of code.*"
   ]
  },
  {
   "cell_type": "code",
   "execution_count": 9,
   "metadata": {
    "colab": {
     "base_uri": "https://localhost:8080/"
    },
    "id": "Eq6cYRVNlzM9",
    "outputId": "78a567d3-2a09-4046-c16b-3635a5172aa2"
   },
   "outputs": [
    {
     "name": "stdout",
     "output_type": "stream",
     "text": [
      "The shape of input image is not divisible by patch size removing last pixels\n",
      "the shape of new image is (1, 8832, 4608, 5)\n"
     ]
    },
    {
     "name": "stderr",
     "output_type": "stream",
     "text": [
      "2022-06-06 14:31:31.594969: W tensorflow/stream_executor/gpu/asm_compiler.cc:111] *** WARNING *** You are using ptxas 10.2.300, which is older than 11.1. ptxas before 11.1 is known to miscompile XLA code, leading to incorrect results or invalid-address errors.\n",
      "\n",
      "You may not need to update to CUDA 11.1; cherry-picking the ptxas binary is often sufficient.\n"
     ]
    },
    {
     "name": "stdout",
     "output_type": "stream",
     "text": [
      "time: 1min 45s (started: 2022-06-06 14:31:25 +02:00)\n"
     ]
    }
   ],
   "source": [
    "\"\"\"\n",
    "Code author: Ashok Dahal at a.dahal@utwente.nl\n",
    "\"\"\"\n",
    "\n",
    "# Initiate the code with even number divisibility\n",
    "_,Nrows,Ncols,NBands=Xuse.shape\n",
    "if Ncols%patchsize!=0 or Nrows%patchsize!=0:\n",
    "    print(\"The shape of input image is not divisible by patch size removing last pixels\")\n",
    "    newrow=int(Nrows/patchsize)\n",
    "    newcol=int(Ncols/patchsize)\n",
    "    Xuse=Xuse[:,:newrow*patchsize,:newcol*patchsize,:]\n",
    "    print(f\"the shape of new image is {Xuse.shape}\")\n",
    "\n",
    "# Overlapping\n",
    "_,Nrows,Ncols,NBands=Xuse.shape\n",
    "itrcol=int((Ncols-patchsize)/(patchsize-overlap))+1\n",
    "itrrow=int((Nrows-patchsize)/(patchsize-overlap))+1\n",
    "totalmap=np.zeros((Nrows,Ncols),dtype=np.float32)\n",
    "halfoverlap=int((overlap/2))\n",
    "# print(itrcol,itrrow)\n",
    "for i in range(itrrow):\n",
    "    if i ==0:\n",
    "        striptop=i\n",
    "        stripbottom=patchsize\n",
    "        #print(striptop,stripbottom)\n",
    "    else:\n",
    "        striptop=(patchsize-overlap)*i\n",
    "        stripbottom=(patchsize-overlap)*i+patchsize\n",
    "    for j in range(itrcol):\n",
    "        if j==0:\n",
    "            stripleft=j\n",
    "            stripright=patchsize\n",
    "        else:\n",
    "          # Prediction\n",
    "            stripleft=(patchsize-overlap)*j\n",
    "            stripright=(patchsize-overlap)*j+patchsize\n",
    "        Xuse_sub=Xuse[:,striptop:stripbottom,stripleft:stripright,:]\n",
    "        predictions=last_model.predict_on_batch(Xuse_sub)\n",
    "        predictions = (predictions[3] > 0.9).astype(np.uint8)\n",
    "        \n",
    "        # Check the last layer of the array for the above description and change accordingly.\n",
    "        # print(f'Shape of the image: {predictions.shape}')\n",
    "        # print(np.unique(predictions))\n",
    "        \n",
    "        # Prediction using the overlaps\n",
    "        if i==0: \n",
    "            filltop=int(i)\n",
    "            fillbottom=int((patchsize-overlap/2))\n",
    "            if j==0:\n",
    "                fillleft=int(j)\n",
    "                fillright=int((patchsize-overlap/2))  \n",
    "                totalmap[filltop:fillbottom,fillleft:fillright]=np.squeeze(predictions[:,:-halfoverlap,:-halfoverlap,:][0],axis=2)#,axis=2)#np.squeeze(np.squeeze(predictions[:,:-halfoverlap,:-halfoverlap,:], axis=3),axis=0)\n",
    "            else:\n",
    "                fillleft=int((patchsize-overlap/2)+(patchsize-overlap)*(j-1))\n",
    "                fillright=int((patchsize-overlap/2)+(patchsize-overlap)*j)\n",
    "                totalmap[filltop:fillbottom,fillleft:fillright]=np.squeeze(predictions[:,:-halfoverlap,halfoverlap:-halfoverlap,:][0], axis=2)#,axis=2)#np.squeeze(np.squeeze(predictions[:,:-halfoverlap,halfoverlap:-halfoverlap,:], axis=3),axis=0)\n",
    "       \n",
    "            # print(np.unique(totalmap))\n",
    "            # break\n",
    "        else:\n",
    "            filltop=int((patchsize-overlap/2)+(patchsize-overlap)*(i-1))\n",
    "            fillbottom=int((patchsize-overlap/2)+(patchsize-overlap)*i)\n",
    "            if j==0:\n",
    "                fillleft=int(j)\n",
    "                fillright=int((patchsize-overlap/2))  \n",
    "                totalmap[filltop:fillbottom,fillleft:fillright]=np.squeeze(predictions[:,halfoverlap:-halfoverlap,:-halfoverlap,:][0], axis=2)#np.squeeze(np.squeeze(predictions[:,halfoverlap:-halfoverlap,:-halfoverlap,:], axis=3),axis=0)\n",
    "            else:\n",
    "                fillleft=int((patchsize-overlap/2)+(patchsize-overlap)*(j-1))\n",
    "                fillright=int((patchsize-overlap/2)+(patchsize-overlap)*j)\n",
    "                totalmap[filltop:fillbottom,fillleft:fillright]=np.squeeze(predictions[:,halfoverlap:-halfoverlap,halfoverlap:-halfoverlap,:][0], axis=2)#np.squeeze(np.squeeze(predictions[:,halfoverlap:-halfoverlap,halfoverlap:-halfoverlap,:], axis=3),axis=0)"
   ]
  },
  {
   "cell_type": "markdown",
   "metadata": {
    "id": "VrHbI23AXFjo"
   },
   "source": [
    "## Visualise the predictions"
   ]
  },
  {
   "cell_type": "code",
   "execution_count": 10,
   "metadata": {
    "colab": {
     "base_uri": "https://localhost:8080/",
     "height": 287
    },
    "id": "7vQKw6Ri5vfc",
    "outputId": "720f64ed-5812-4aa6-db85-2076694cd6a5"
   },
   "outputs": [
    {
     "data": {
      "image/png": "[encoded data removed]",
      "text/plain": [
       "<Figure size 432x288 with 1 Axes>"
      ]
     },
     "metadata": {
      "needs_background": "light"
     },
     "output_type": "display_data"
    },
    {
     "name": "stdout",
     "output_type": "stream",
     "text": [
      "time: 1.46 s (started: 2022-06-06 14:33:10 +02:00)\n"
     ]
    }
   ],
   "source": [
    "# Convert from float to integer\n",
    "intmap = np.rint(totalmap)\n",
    "\n",
    "import matplotlib.pyplot as plt\n",
    "plt.imshow(intmap)\n",
    "predictions=intmap"
   ]
  },
  {
   "cell_type": "markdown",
   "metadata": {
    "id": "Wz_olzMZ2-u1"
   },
   "source": [
    "## Tranformation and save the predictions \n",
    "To add geo-reference to the predicted image from the satellite image and saved as a TIFF image.\n",
    "Use LZW compression to reduce the size of the predicted images."
   ]
  },
  {
   "cell_type": "code",
   "execution_count": 11,
   "metadata": {
    "colab": {
     "base_uri": "https://localhost:8080/"
    },
    "id": "i5XTZ_kOnEZM",
    "outputId": "68d5ad9d-179a-4f77-fabd-44a94964879f"
   },
   "outputs": [
    {
     "name": "stdout",
     "output_type": "stream",
     "text": [
      "time: 456 ms (started: 2022-06-06 14:35:29 +02:00)\n"
     ]
    }
   ],
   "source": [
    "save_file=\"Predictions/2014.tif\" ##Give the save name to save predicted data in here \n",
    "with rasterio.Env():\n",
    "    profile = image_data.profile\n",
    "    profile.update(\n",
    "        dtype=rasterio.int8,\n",
    "        count=1,\n",
    "        width= predictions.shape[-1], \n",
    "        height= predictions.shape[-2],\n",
    "        transform= image_data.transform*image_data.transform.scale(0.25,0.25),\n",
    "        compress='lzw')\n",
    "    with rasterio.open(save_file, 'w', **profile) as dst:\n",
    "        dst.write(predictions.astype(rasterio.int8), 1)"
   ]
  },
  {
   "cell_type": "markdown",
   "metadata": {
    "id": "F1zC7v4BsL4Z"
   },
   "source": [
    "## Convert predictions to a shapefile\n",
    "\n"
   ]
  },
  {
   "cell_type": "code",
   "execution_count": 12,
   "metadata": {
    "colab": {
     "base_uri": "https://localhost:8080/"
    },
    "id": "8gRtKU4BnEc9",
    "outputId": "e18a9a68-8c63-4f66-9620-57671ac2c5f7"
   },
   "outputs": [
    {
     "name": "stdout",
     "output_type": "stream",
     "text": [
      "Shapefile conversion successful !!!\n",
      "time: 13 s (started: 2022-06-06 14:35:31 +02:00)\n"
     ]
    }
   ],
   "source": [
    "import geopandas as gpd\n",
    "mask=predictions==1\n",
    "results = (\n",
    "        {'properties': {'raster_val': v}, 'geometry': s}\n",
    "        for i, (s, v) \n",
    "        in enumerate(\n",
    "            shapes(predictions, mask=mask, transform=image_data.transform)))\n",
    "\n",
    "geoms = list(results)\n",
    "gpd_polygonized_raster = gpd.GeoDataFrame.from_features(geoms)\n",
    "gpd_polygonized_raster = gpd_polygonized_raster.set_crs(image_data.crs)\n",
    "\n",
    "gpd_polygonized_raster.to_file(\"Predictions/2014.shp\")\n",
    "print(\"Shapefile conversion successful !!!\")"
   ]
  }
 ],
 "metadata": {
  "accelerator": "GPU",
  "colab": {
   "collapsed_sections": [],
   "machine_shape": "hm",
   "name": "Classification of satellite image_v1.ipynb",
   "provenance": []
  },
  "kernelspec": {
   "display_name": "Python",
   "language": "python",
   "name": "python3"
  },
  "language_info": {
   "codemirror_mode": {
    "name": "ipython",
    "version": 3
   },
   "file_extension": ".py",
   "mimetype": "text/x-python",
   "name": "python",
   "nbconvert_exporter": "python",
   "pygments_lexer": "ipython3",
   "version": "3.8.10"
  }
 },
 "nbformat": 4,
 "nbformat_minor": 4
}
