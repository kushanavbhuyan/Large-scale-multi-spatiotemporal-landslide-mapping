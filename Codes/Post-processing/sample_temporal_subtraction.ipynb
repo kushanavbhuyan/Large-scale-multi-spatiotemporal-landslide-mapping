{
 "cells": [
  {
   "cell_type": "markdown",
   "metadata": {},
   "source": [
    "## Data creation"
   ]
  },
  {
   "cell_type": "code",
   "execution_count": 1,
   "metadata": {},
   "outputs": [],
   "source": [
    "# Import libraries\n",
    "\n",
    "from utilities import *\n",
    "\n",
    "import rasterio\n",
    "from osgeo import gdal\n",
    "from osgeo import ogr\n",
    "from rasterio.mask import mask\n",
    "import os\n",
    "from rasterio import plot\n",
    "from rasterio.features import shapes\n",
    "from rasterio import features\n",
    "\n",
    "from glob import glob\n",
    "\n",
    "import numpy as np\n",
    "from shapely.geometry import box\n",
    "\n",
    "import numpy as np\n",
    "import xarray as xr\n",
    "import geopandas as gpd\n",
    "from geocube.api.core import make_geocube\n",
    "\n",
    "import matplotlib.pyplot as plt"
   ]
  },
  {
   "cell_type": "code",
   "execution_count": 2,
   "metadata": {},
   "outputs": [],
   "source": [
    "# Insert directories for input \n",
    "\n",
    "vec1_ds = \"Inventories/Predicted/China/2017.shp\" # Input destination to the Tn landslides\n",
    "vec2_ds = \"Inventories/Predicted/China/2014.shp\" # Input destination to the Tn-1 landslides\n",
    "\n",
    "subtracted_output_img = \"Inventories/Subtracted/China/2017_2014.tif\"\n",
    "subtracted_output_vector = \"Inventories/Subtracted/China/2017_2014.shp\""
   ]
  },
  {
   "cell_type": "code",
   "execution_count": 3,
   "metadata": {},
   "outputs": [],
   "source": [
    "# Function to convert the polygons to raster images. \n",
    "\n",
    "def temporal_subtraction(vector1, vector2, size, output_path):\n",
    "\n",
    "    \"\"\"\n",
    "    Arguments-\n",
    "    \n",
    "    (str): vector1: directory to the shapefile of the Tn landslide\n",
    "    (str): vector2: directory to the shapefile of the Tn-1 landslide\n",
    "    (integer): size: pixel size\n",
    "    (str): output_path: set directory to where to save\n",
    "    \"\"\"\n",
    "    v1 = gpd.read_file(vector1)\n",
    "    v2 = gpd.read_file(vector2)\n",
    "\n",
    "    raster1 = make_geocube(\n",
    "                            vector_data=v1,\n",
    "                            measurements=[\"raster_val\"],\n",
    "                            resolution=(-size, size),\n",
    "                            fill=0\n",
    "                           )\n",
    "    \n",
    "    raster2 = make_geocube(\n",
    "                            vector_data=v2,\n",
    "                            measurements=[\"raster_val\"],\n",
    "                            resolution=(-size, size),\n",
    "                            fill=0\n",
    "                           )\n",
    "    # subtraction (Tn - Tn-1)\n",
    "    minus = np.subtract(raster1,raster2).astype(\"uint16\")\n",
    "    \n",
    "    return minus.rio.to_raster(output_path)"
   ]
  },
  {
   "cell_type": "code",
   "execution_count": 4,
   "metadata": {},
   "outputs": [],
   "source": [
    "temporal_subtraction(vector1=vec1_ds, vector2=vec2_ds, size=3, output_path=subtracted_output_img)"
   ]
  },
  {
   "cell_type": "code",
   "execution_count": 5,
   "metadata": {},
   "outputs": [],
   "source": [
    "def vectorize(input_image, output_vector):\n",
    "    \n",
    "    #  get raster data source\n",
    "    open_image = gdal.Open(input_image)\n",
    "    input_band = open_image.GetRasterBand(1)\n",
    "\n",
    "    #  create output datasource\n",
    "    output_shp = output_vector\n",
    "    shp_driver = ogr.GetDriverByName(\"ESRI Shapefile\")\n",
    "\n",
    "    # create output file name\n",
    "    output_shapefile = shp_driver.CreateDataSource(output_shp)\n",
    "    new_shapefile = output_shapefile.CreateLayer(output_shp, srs=None)\n",
    "\n",
    "    gdal.Polygonize(input_band, None, new_shapefile, -1, [], callback=None)\n",
    "    new_shapefile.SyncToDisk()"
   ]
  },
  {
   "cell_type": "code",
   "execution_count": 8,
   "metadata": {},
   "outputs": [],
   "source": [
    "vectorize(input_image=subtracted_output_img, output_vector=subtracted_output_vector)"
   ]
  }
 ],
 "metadata": {
  "interpreter": {
   "hash": "29e777a46f8e02b25ebbae6a0b65f018b431d7ff42f5ae23e488ba9622f67da6"
  },
  "kernelspec": {
   "display_name": "Python 3.7.11 ('data_creation')",
   "language": "python",
   "name": "python3"
  },
  "language_info": {
   "codemirror_mode": {
    "name": "ipython",
    "version": 3
   },
   "file_extension": ".py",
   "mimetype": "text/x-python",
   "name": "python",
   "nbconvert_exporter": "python",
   "pygments_lexer": "ipython3",
   "version": "3.7.11"
  }
 },
 "nbformat": 4,
 "nbformat_minor": 2
}
