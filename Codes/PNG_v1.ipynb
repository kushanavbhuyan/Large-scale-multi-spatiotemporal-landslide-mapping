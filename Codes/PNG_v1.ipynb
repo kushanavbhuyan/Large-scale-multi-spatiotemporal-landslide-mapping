{
 "cells": [
  {
   "cell_type": "markdown",
   "metadata": {
    "id": "5C0H0BVGzC2c"
   },
   "source": [
    "# **Landslide Footprint Detection over Time with Transfer Learning**\n",
    "**Model: Multi-scale Attention U-Net**\n",
    "\n",
    "**Code Authors: Kushanav Bhuyan and Lorenzo Nava**\n",
    "\n"
   ]
  },
  {
   "cell_type": "markdown",
   "metadata": {
    "id": "FM7QdfvHzyww"
   },
   "source": [
    "## Libraries"
   ]
  },
  {
   "cell_type": "code",
   "execution_count": 1,
   "metadata": {
    "colab": {
     "base_uri": "https://localhost:8080/"
    },
    "executionInfo": {
     "elapsed": 15277,
     "status": "ok",
     "timestamp": 1619196726721,
     "user": {
      "displayName": "Kushanav Bhuyan",
      "photoUrl": "https://lh3.googleusercontent.com/a-/AOh14GhpJDzYajMCPL_21Vep_aig5cbphA73G195JQkf=s64",
      "userId": "13534778218088456884"
     },
     "user_tz": -120
    },
    "id": "WHTzdTb3y2Y8",
    "outputId": "4644402d-8522-4525-e6b6-10c2c5932c99"
   },
   "outputs": [
    {
     "name": "stdout",
     "output_type": "stream",
     "text": [
      "Importing packages.......\n",
      "%pylab is deprecated, use %matplotlib inline and import the required libraries.\n",
      "Populating the interactive namespace from numpy and matplotlib\n"
     ]
    },
    {
     "name": "stderr",
     "output_type": "stream",
     "text": [
      "2022-04-27 12:49:08.304933: W tensorflow/core/common_runtime/gpu/gpu_bfc_allocator.cc:39] Overriding allow_growth setting because the TF_FORCE_GPU_ALLOW_GROWTH environment variable is set. Original config value was 0.\n"
     ]
    },
    {
     "name": "stdout",
     "output_type": "stream",
     "text": [
      "Importing helper functions !!\n"
     ]
    },
    {
     "name": "stderr",
     "output_type": "stream",
     "text": [
      "/usr/local/lib/python3.8/dist-packages/geopandas/_compat.py:111: UserWarning: The Shapely GEOS version (3.8.0-CAPI-1.13.1 ) is incompatible with the GEOS version PyGEOS was compiled with (3.10.1-CAPI-1.16.0). Conversions between both will be slow.\n",
      "  warnings.warn(\n"
     ]
    },
    {
     "name": "stdout",
     "output_type": "stream",
     "text": [
      "Libraries imported....\n",
      "Helpers imported....\n",
      "time: 2.17 s (started: 2022-04-27 12:49:09 +02:00)\n"
     ]
    }
   ],
   "source": [
    "# Import the required Libraries\n",
    "\n",
    "print(\"Importing packages.......\")\n",
    "\n",
    "import os\n",
    "import numpy as np\n",
    "from osgeo import gdal\n",
    "import tensorflow.keras\n",
    "import tensorflow as tf\n",
    "\n",
    "# physical_devices = tf.config.list_physical_devices('GPU')\n",
    "# tf.config.experimental.set_memory_growth(physical_devices[0], True)\n",
    "\n",
    "# from tensorflow.compat.v1 import ConfigProto\n",
    "# from tensorflow.compat.v1 import InteractiveSession\n",
    "\n",
    "# config = ConfigProto()\n",
    "# config.gpu_options.allow_growth = True\n",
    "# session = InteractiveSession(config=config\n",
    "\n",
    "%matplotlib inline\n",
    "%pylab inline\n",
    "\n",
    "pylab.rcParams['figure.figsize'] = (15, 10)\n",
    "import matplotlib.pyplot as plt\n",
    "import matplotlib.patches as mpatches\n",
    "from skimage import exposure\n",
    "from sklearn.model_selection import train_test_split\n",
    "import pandas as pd\n",
    "from tqdm import tqdm\n",
    "\n",
    "from tensorflow.keras.models import *\n",
    "from tensorflow.keras.layers import *\n",
    "from tensorflow.keras.optimizers import *\n",
    "from tensorflow.keras.callbacks import ModelCheckpoint, LearningRateScheduler\n",
    "from tensorflow.keras import regularizers\n",
    "from tensorflow.keras import backend as keras\n",
    "from tensorflow.python.keras import backend as K\n",
    "sess = K.get_session()\n",
    "from tensorflow.compat.v1.keras.backend import set_session\n",
    "from tensorflow.keras.layers import LeakyReLU\n",
    "\n",
    "import pickle\n",
    "import matplotlib.pyplot as plt \n",
    "import sys\n",
    "\n",
    "# print(\"Installing packages.......\")\n",
    "\n",
    "# !pip install keras-tqdm\n",
    "# from keras_tqdm import TQDMCallback, TQDMNotebookCallback\n",
    "\n",
    "# !pip install ipython-autotime\n",
    "%load_ext autotime\n",
    "import imgaug.augmenters as iaa\n",
    "\n",
    "print(\"Importing helper functions !!\")\n",
    "\n",
    "from utils import *\n",
    "from losses import *\n",
    "from attention_Unets import *\n",
    "\n",
    "print(\"Libraries imported....\")\n",
    "print(\"Helpers imported....\")"
   ]
  },
  {
   "cell_type": "markdown",
   "metadata": {
    "id": "sJSfvuyV01zL"
   },
   "source": [
    "## Loading the data"
   ]
  },
  {
   "cell_type": "markdown",
   "metadata": {
    "id": "Du1-Gc6Pz3M8"
   },
   "source": [
    "### Define file directories"
   ]
  },
  {
   "cell_type": "code",
   "execution_count": 2,
   "metadata": {
    "colab": {
     "base_uri": "https://localhost:8080/"
    },
    "executionInfo": {
     "elapsed": 867,
     "status": "ok",
     "timestamp": 1619196729145,
     "user": {
      "displayName": "Kushanav Bhuyan",
      "photoUrl": "https://lh3.googleusercontent.com/a-/AOh14GhpJDzYajMCPL_21Vep_aig5cbphA73G195JQkf=s64",
      "userId": "13534778218088456884"
     },
     "user_tz": -120
    },
    "id": "d8yLtwr1z2Sm",
    "outputId": "0739ae69-8699-4758-a5d7-c7f8fa84f4b9"
   },
   "outputs": [
    {
     "name": "stdout",
     "output_type": "stream",
     "text": [
      "time: 1.1 ms (started: 2022-04-27 12:49:11 +02:00)\n"
     ]
    }
   ],
   "source": [
    "# Set file directory of the location where the data is stored\n",
    "Data_folder= \"path_to_data\""
   ]
  },
  {
   "cell_type": "markdown",
   "metadata": {
    "id": "AJJsdL6407tX"
   },
   "source": [
    "### Prepare required dataset\n",
    "Make a list of the satellite images"
   ]
  },
  {
   "cell_type": "code",
   "execution_count": 3,
   "metadata": {
    "colab": {
     "base_uri": "https://localhost:8080/"
    },
    "executionInfo": {
     "elapsed": 520,
     "status": "ok",
     "timestamp": 1619196729572,
     "user": {
      "displayName": "Kushanav Bhuyan",
      "photoUrl": "https://lh3.googleusercontent.com/a-/AOh14GhpJDzYajMCPL_21Vep_aig5cbphA73G195JQkf=s64",
      "userId": "13534778218088456884"
     },
     "user_tz": -120
    },
    "id": "uFOkKYBeL_ld",
    "outputId": "605bcd71-2f78-493d-b3f1-9d14ccc5a542"
   },
   "outputs": [
    {
     "name": "stdout",
     "output_type": "stream",
     "text": [
      "time: 35.5 ms (started: 2022-04-27 12:49:11 +02:00)\n"
     ]
    }
   ],
   "source": [
    "def readdata(directory, folder_name):\n",
    "      \n",
    "    data_path = os.path.join(directory, folder_name)\n",
    "    data_list = {}\n",
    "\n",
    "    for f in sorted(tqdm(os.listdir(data_path))):\n",
    "        fdir = os.path.join(data_path, f)\n",
    "        _, ext = os.path.splitext(f)\n",
    "        if ext.lower() == \".tif\":\n",
    "            imgtype = f[-50:-4] # Number of characters of the image file. Example, \"Image_1.tif\" = 11 characters\n",
    "            image_data=gdal.Open(fdir)\n",
    "            bands = [image_data.GetRasterBand(i+1).ReadAsArray() for i in range(image_data.RasterCount)]\n",
    "            data_list[imgtype] = np.stack(bands, axis=2) \n",
    "\n",
    "    return data_list"
   ]
  },
  {
   "cell_type": "code",
   "execution_count": 4,
   "metadata": {
    "colab": {
     "base_uri": "https://localhost:8080/"
    },
    "executionInfo": {
     "elapsed": 58741,
     "status": "ok",
     "timestamp": 1619196789000,
     "user": {
      "displayName": "Kushanav Bhuyan",
      "photoUrl": "https://lh3.googleusercontent.com/a-/AOh14GhpJDzYajMCPL_21Vep_aig5cbphA73G195JQkf=s64",
      "userId": "13534778218088456884"
     },
     "user_tz": -120
    },
    "id": "W5389bYrMAsG",
    "outputId": "ab5a70fe-78d8-437f-b6f9-412f666eecbb"
   },
   "outputs": [
    {
     "name": "stderr",
     "output_type": "stream",
     "text": [
      "100%|██████████| 5/5 [00:00<00:00, 27666.91it/s]\n",
      "100%|██████████| 6/6 [00:00<00:00, 32513.98it/s]\n"
     ]
    },
    {
     "name": "stdout",
     "output_type": "stream",
     "text": [
      "time: 41.9 s (started: 2022-04-27 12:49:11 +02:00)\n"
     ]
    }
   ],
   "source": [
    "image_list = readdata(directory=Data_folder, folder_name=\"Satellite images/Training\")\n",
    "label_list = readdata(directory=Data_folder, folder_name=\"Label images\")"
   ]
  },
  {
   "cell_type": "code",
   "execution_count": 5,
   "metadata": {
    "colab": {
     "base_uri": "https://localhost:8080/"
    },
    "executionInfo": {
     "elapsed": 1028,
     "status": "ok",
     "timestamp": 1619197633260,
     "user": {
      "displayName": "Kushanav Bhuyan",
      "photoUrl": "https://lh3.googleusercontent.com/a-/AOh14GhpJDzYajMCPL_21Vep_aig5cbphA73G195JQkf=s64",
      "userId": "13534778218088456884"
     },
     "user_tz": -120
    },
    "id": "HjMM4q3m6x4l",
    "outputId": "5db4106a-073c-416b-f6cc-7ec3ed7995a0"
   },
   "outputs": [
    {
     "name": "stdout",
     "output_type": "stream",
     "text": [
      "Number of satellite images: 4\n",
      "Shape of the image: (11579, 9241, 5)\n",
      "Number of label images: 5\n",
      "Shape of the image: (11579, 9241, 1)\n",
      "time: 4.11 ms (started: 2022-04-27 12:49:53 +02:00)\n"
     ]
    }
   ],
   "source": [
    "#Check If Everything Works (CIEW)\n",
    "print(\"Number of satellite images: \" + str(len(image_list)))\n",
    "print(\"Shape of the image: \"+ str(image_list[\"30_09_2017_A3\"].shape))\n",
    "\n",
    "print(\"Number of label images: \" + str(len(label_list)))\n",
    "print(\"Shape of the image: \"+ str(label_list[\"30_09_2017_A3\"].shape))"
   ]
  },
  {
   "cell_type": "code",
   "execution_count": 6,
   "metadata": {},
   "outputs": [
    {
     "name": "stdout",
     "output_type": "stream",
     "text": [
      "The collection of images available in the list are:\n",
      "------------------------------\n",
      "13_11_2020_A3\n",
      "19_10_2019_A3\n",
      "25_03_2018_A3\n",
      "30_09_2017_A3\n",
      "The collection of labels available in the list are:\n",
      "------------------------------\n",
      "13_11_2020_A3\n",
      "19_10_2019_A3\n",
      "25_03_2018_A3\n",
      "30_09_2017_A3\n",
      "A3_25_03_2018_withNDVI\n",
      "time: 28.2 ms (started: 2022-04-27 12:49:53 +02:00)\n"
     ]
    }
   ],
   "source": [
    "# Print all the stacks that are collected\n",
    "print(\"The collection of images available in the list are:\")\n",
    "print(\"-\"*30)\n",
    "print(*image_list, sep='\\n')\n",
    "\n",
    "print(\"The collection of labels available in the list are:\")\n",
    "print(\"-\"*30)\n",
    "print(*label_list, sep='\\n')"
   ]
  },
  {
   "cell_type": "markdown",
   "metadata": {
    "id": "Cz0fgioVCX7r"
   },
   "source": [
    "### Visualise the images"
   ]
  },
  {
   "cell_type": "code",
   "execution_count": 7,
   "metadata": {
    "id": "voV3zKbUBL-6"
   },
   "outputs": [
    {
     "name": "stdout",
     "output_type": "stream",
     "text": [
      "time: 95.3 ms (started: 2022-04-27 12:49:53 +02:00)\n"
     ]
    }
   ],
   "source": [
    "# Visualise both satellite and label images together\n",
    "# IMPORTANT NOTE: Use an 8-bit unsigned integer label image otherwise any other data type won't be visualised. \n",
    "\n",
    "sample_image=\"30_09_2017_A3\"\n",
    "sample_label=\"30_09_2017_A3\"\n",
    "\n",
    "def visualise_data(data,data2):\n",
    "    f, axarr = plt.subplots(1,2)   \n",
    "    data = data.astype(float)\n",
    "    for i in range(data.shape[2]):\n",
    "        p2, p98 = np.percentile(data[:, :, i], (2, 98))\n",
    "        data[:, :, i] = exposure.rescale_intensity(data[:, :, i],\n",
    "                                                      in_range=(p2, p98))\n",
    "    axarr[0].imshow(data[:,:,3])\n",
    "    axarr[0].set_title(\"Satellite image\")\n",
    "\n",
    "    a=axarr[1]\n",
    "    values = np.unique(data2.ravel())\n",
    "    im = axarr[1].imshow(data2[:,:,0].astype(\"uint8\"))\n",
    "    a.set_title(\"Labelled image\")\n",
    "    colors = [im.cmap(im.norm(value)) for value in values] \n",
    "    data2 = [\"Background\", \"Landslide footprints\"]\n",
    "    patches = [mpatches.Patch(color=colors[i], label=j) for i, j in zip(range(len(values)), data2)]\n",
    "    plt.legend(handles=patches, bbox_to_anchor=(1.05, 1), loc=2, borderaxespad=0. )\n",
    "\n",
    "# visualise_data(image_list[sample_image],label_list[sample_label])"
   ]
  },
  {
   "cell_type": "markdown",
   "metadata": {
    "id": "Wjt6-QOtDKM1"
   },
   "source": [
    "## Design patches, encode into categorical data, remove zero patches, and data augmentations\n"
   ]
  },
  {
   "cell_type": "markdown",
   "metadata": {
    "id": "eQ1vzOBTucaW"
   },
   "source": [
    "### Generate Patches and encode"
   ]
  },
  {
   "cell_type": "code",
   "execution_count": 8,
   "metadata": {
    "colab": {
     "base_uri": "https://localhost:8080/"
    },
    "executionInfo": {
     "elapsed": 1496,
     "status": "ok",
     "timestamp": 1619197639234,
     "user": {
      "displayName": "Kushanav Bhuyan",
      "photoUrl": "https://lh3.googleusercontent.com/a-/AOh14GhpJDzYajMCPL_21Vep_aig5cbphA73G195JQkf=s64",
      "userId": "13534778218088456884"
     },
     "user_tz": -120
    },
    "id": "yBiPnILADSIY",
    "outputId": "64b1b99f-5664-4a10-c87d-ca232799f356"
   },
   "outputs": [
    {
     "name": "stdout",
     "output_type": "stream",
     "text": [
      "time: 23.8 ms (started: 2022-04-27 12:49:53 +02:00)\n"
     ]
    }
   ],
   "source": [
    "def gridwise_sample(imgarray, patchsize):\n",
    "\n",
    "    \"\"\"Extract sample patches of size patchsize x patchsize from an image (imgarray) in a gridwise manner.\n",
    "    \"\"\"\n",
    "    nrows, ncols, nbands = imgarray.shape\n",
    "    patchsamples = np.zeros(shape=(0, patchsize, patchsize, nbands),\n",
    "                            dtype=imgarray.dtype)\n",
    "    for i in range(int(nrows/patchsize)):\n",
    "        for j in range(int(ncols/patchsize)):\n",
    "            tocat = imgarray[i*patchsize:(i+1)*patchsize,\n",
    "                             j*patchsize:(j+1)*patchsize, :]\n",
    "            tocat = np.expand_dims(tocat, axis=0)\n",
    "            patchsamples = np.concatenate((patchsamples, tocat),\n",
    "                                          axis=0)\n",
    "    return patchsamples"
   ]
  },
  {
   "cell_type": "code",
   "execution_count": 9,
   "metadata": {
    "colab": {
     "base_uri": "https://localhost:8080/"
    },
    "executionInfo": {
     "elapsed": 115661,
     "status": "ok",
     "timestamp": 1619197753411,
     "user": {
      "displayName": "Kushanav Bhuyan",
      "photoUrl": "https://lh3.googleusercontent.com/a-/AOh14GhpJDzYajMCPL_21Vep_aig5cbphA73G195JQkf=s64",
      "userId": "13534778218088456884"
     },
     "user_tz": -120
    },
    "id": "gRK4prcNUcJ2",
    "outputId": "42e15298-f168-4e54-f8df-76c31bdf3bd9"
   },
   "outputs": [
    {
     "name": "stderr",
     "output_type": "stream",
     "text": [
      "100%|██████████| 1/1 [08:32<00:00, 512.89s/it]\n"
     ]
    },
    {
     "name": "stdout",
     "output_type": "stream",
     "text": [
      "[  0. 255.]\n",
      "[0. 1.]\n",
      "There are 5934 number of image patches\n",
      "There are 5934 number of label patches\n",
      "time: 8min 44s (started: 2022-04-27 12:49:53 +02:00)\n"
     ]
    }
   ],
   "source": [
    "# FOR GENERATING TRAINING SITES\n",
    "\n",
    "PATCHSIZE = 128 \n",
    "NBANDS = image_list[\"19_10_2019_A3\"].shape[-1]\n",
    "\n",
    "Xtrain = np.zeros(shape=(0, PATCHSIZE, PATCHSIZE, NBANDS), dtype=np.float32)\n",
    "Ytrain = np.zeros(shape=(0, PATCHSIZE, PATCHSIZE, 1), dtype=np.float32)\n",
    "\n",
    "# Sample each training tile systematically in a gridwise manner\n",
    "train_areas = [\"add images here\"] \n",
    "\n",
    "for area in tqdm(train_areas):\n",
    "    X_toadd = gridwise_sample(image_list[area], PATCHSIZE)\n",
    "    Y_toadd = gridwise_sample(label_list[area], PATCHSIZE)\n",
    "    Xtrain = np.concatenate((Xtrain, X_toadd), axis=0)\n",
    "    Ytrain = np.concatenate((Ytrain, Y_toadd), axis=0)\n",
    "\n",
    "print(np.unique(Ytrain))\n",
    "# Encode all landslide and background labels into their respective classes \"0\" and \"1\" (Categorical)\n",
    "Ytrain[Ytrain==0] = 0\n",
    "# Ytrain[Ytrain==-1] = 0\n",
    "Ytrain[Ytrain==255] = 1\n",
    "print(np.unique(Ytrain))\n",
    "\n",
    "print(\"There are %i number of image patches\" % (Xtrain.shape[0]))\n",
    "print(\"There are %i number of label patches\" % (Ytrain.shape[0]))"
   ]
  },
  {
   "cell_type": "code",
   "execution_count": 10,
   "metadata": {
    "colab": {
     "base_uri": "https://localhost:8080/"
    },
    "executionInfo": {
     "elapsed": 123462,
     "status": "ok",
     "timestamp": 1619197761219,
     "user": {
      "displayName": "Kushanav Bhuyan",
      "photoUrl": "https://lh3.googleusercontent.com/a-/AOh14GhpJDzYajMCPL_21Vep_aig5cbphA73G195JQkf=s64",
      "userId": "13534778218088456884"
     },
     "user_tz": -120
    },
    "id": "VpPp5gi1G28D",
    "outputId": "22f76555-5563-46be-f613-eba849f843e3"
   },
   "outputs": [
    {
     "name": "stdout",
     "output_type": "stream",
     "text": [
      "Pixel percentage of landslides = 0.8456321127454078 %\n",
      "Pixel percentage of background = 99.1543678872546 %\n",
      "time: 1.1 s (started: 2022-04-27 12:58:37 +02:00)\n"
     ]
    }
   ],
   "source": [
    "#CIEW for training patches\n",
    "bd_px=len(Ytrain[Ytrain==1])/(len(Ytrain[Ytrain==1])+len(Ytrain[Ytrain==0]))\n",
    "bg_px=len(Ytrain[Ytrain==0])/(len(Ytrain[Ytrain==1])+len(Ytrain[Ytrain==0]))\n",
    "\n",
    "print(\"Pixel percentage of landslides = \" + str(bd_px* 100)+ \" %\") \n",
    "print(\"Pixel percentage of background = \" + str(bg_px* 100)+ \" %\")"
   ]
  },
  {
   "cell_type": "code",
   "execution_count": 11,
   "metadata": {},
   "outputs": [
    {
     "name": "stdout",
     "output_type": "stream",
     "text": [
      "time: 366 ms (started: 2022-04-27 12:58:38 +02:00)\n"
     ]
    }
   ],
   "source": [
    "Xtrain, Xtest, Ytrain, Ytest = train_test_split(Xtrain, Ytrain, test_size=0.33, random_state=42)"
   ]
  },
  {
   "cell_type": "code",
   "execution_count": 12,
   "metadata": {},
   "outputs": [
    {
     "name": "stdout",
     "output_type": "stream",
     "text": [
      "time: 595 µs (started: 2022-04-27 12:58:39 +02:00)\n"
     ]
    }
   ],
   "source": [
    "# Xtrain, Xval, Ytrain, Yval = train_test_split(Xtrain, Ytrain, test_size=0.33, random_state=42)"
   ]
  },
  {
   "cell_type": "code",
   "execution_count": 13,
   "metadata": {
    "colab": {
     "base_uri": "https://localhost:8080/"
    },
    "executionInfo": {
     "elapsed": 130451,
     "status": "ok",
     "timestamp": 1619197768215,
     "user": {
      "displayName": "Kushanav Bhuyan",
      "photoUrl": "https://lh3.googleusercontent.com/a-/AOh14GhpJDzYajMCPL_21Vep_aig5cbphA73G195JQkf=s64",
      "userId": "13534778218088456884"
     },
     "user_tz": -120
    },
    "id": "gFCKk8E3HIUp",
    "outputId": "c37ae13d-a597-48db-925c-ca20a0c957c6"
   },
   "outputs": [
    {
     "name": "stdout",
     "output_type": "stream",
     "text": [
      "time: 43.1 ms (started: 2022-04-27 12:58:39 +02:00)\n"
     ]
    }
   ],
   "source": [
    "# # FOR GENERATING TEST SITES\n",
    "\n",
    "# Xtest = np.zeros(shape=(0, PATCHSIZE, PATCHSIZE, NBANDS), dtype=np.float32)\n",
    "# Ytest = np.zeros(shape=(0, PATCHSIZE, PATCHSIZE, 1), dtype=np.float32)\n",
    "\n",
    "# # Sample each testing tile systematically in a gridwise manner\n",
    "\n",
    "# validation_areas = [\"image_2018_T14\", \"image_2018_T18\", \"image_2019_T14\", \"image_2019_T18\"]\n",
    "# for area in validation_areas:\n",
    "#     X_toadd = gridwise_sample(image_list[area], PATCHSIZE)\n",
    "#     Y_toadd = gridwise_sample(label_list[area], PATCHSIZE)\n",
    "#     Xtest = np.concatenate((Xtest, X_toadd), axis=0)\n",
    "#     Ytest = np.concatenate((Ytest, Y_toadd), axis=0)\n",
    "\n",
    "# print(np.unique(Ytest))\n",
    "# # encode all landslide and background classes as one class (Categorical)\n",
    "# Ytest[Ytest==0] = 0\n",
    "# # Ytrain[Ytrain==-1] = 0\n",
    "# Ytest[Ytest!=0] = 1\n",
    "# print(np.unique(Ytest))\n",
    "\n",
    "# print(\"There are %i number of testing patches\" % (Xtest.shape[0]))"
   ]
  },
  {
   "cell_type": "code",
   "execution_count": 14,
   "metadata": {
    "colab": {
     "base_uri": "https://localhost:8080/"
    },
    "executionInfo": {
     "elapsed": 131406,
     "status": "ok",
     "timestamp": 1619197769172,
     "user": {
      "displayName": "Kushanav Bhuyan",
      "photoUrl": "https://lh3.googleusercontent.com/a-/AOh14GhpJDzYajMCPL_21Vep_aig5cbphA73G195JQkf=s64",
      "userId": "13534778218088456884"
     },
     "user_tz": -120
    },
    "id": "bbdsGAeGHrTL",
    "outputId": "c8ac38fc-6892-411b-b7fd-8a229d0169b2"
   },
   "outputs": [
    {
     "name": "stdout",
     "output_type": "stream",
     "text": [
      "Pixel percentage of landslides = 0.8536852397986856 %\n",
      "Pixel percentage of background = 99.14631476020132 %\n",
      "time: 388 ms (started: 2022-04-27 12:58:39 +02:00)\n"
     ]
    }
   ],
   "source": [
    "#CIEW for test patches\n",
    "bd_px=len(Ytest[Ytest==1])/(len(Ytest[Ytest==1])+len(Ytest[Ytest==0]))\n",
    "bg_px=len(Ytest[Ytest==0])/(len(Ytest[Ytest==1])+len(Ytest[Ytest==0]))\n",
    "\n",
    "print(\"Pixel percentage of landslides = \" + str(bd_px* 100) + \" %\") \n",
    "print(\"Pixel percentage of background = \" + str(bg_px* 100)+ \" %\")"
   ]
  },
  {
   "cell_type": "markdown",
   "metadata": {},
   "source": [
    "### Remove Zero Patches"
   ]
  },
  {
   "cell_type": "code",
   "execution_count": 15,
   "metadata": {},
   "outputs": [
    {
     "name": "stdout",
     "output_type": "stream",
     "text": [
      "time: 2.4 ms (started: 2022-04-27 12:58:39 +02:00)\n"
     ]
    }
   ],
   "source": [
    "def remove_zeros(images_array,masks_array):\n",
    "    \n",
    "    all_zeros = []\n",
    "    for i in range(masks_array.shape[0]):\n",
    "        if masks_array[i].max() == 0:\n",
    "            all_zeros.append(i)\n",
    "    print(\"There are: {} arrays with just 0 values, and {} arrays with non zero values \".format(len(all_zeros), (\n",
    "                images_array.shape[0] - len(all_zeros))))\n",
    "    images = []\n",
    "    masks = []\n",
    "    for i in range(images_array.shape[0]):\n",
    "        if i not in all_zeros:\n",
    "            images.append(images_array[i])\n",
    "            masks.append(masks_array[i])\n",
    "\n",
    "    # Convert to array\n",
    "    images = np.array(images, dtype=\"float64\")\n",
    "    masks = np.array(masks, dtype=\"float32\")\n",
    "    print(\"Image shape: {}, Mask shape: {}\".format(images.shape, masks.shape))\n",
    "    return images, masks"
   ]
  },
  {
   "cell_type": "code",
   "execution_count": 16,
   "metadata": {},
   "outputs": [
    {
     "name": "stdout",
     "output_type": "stream",
     "text": [
      "There are: 3698 arrays with just 0 values, and 277 arrays with non zero values \n",
      "Image shape: (277, 128, 128, 5), Mask shape: (277, 128, 128, 1)\n",
      "------------------------------------------------------------\n",
      "There are: 1806 arrays with just 0 values, and 153 arrays with non zero values \n",
      "Image shape: (153, 128, 128, 5), Mask shape: (153, 128, 128, 1)\n",
      "------------------------------------------------------------\n",
      "There are 277 number of training patches\n",
      "There are 153 number of testing patches\n",
      "time: 523 ms (started: 2022-04-27 12:58:39 +02:00)\n"
     ]
    }
   ],
   "source": [
    "X_train, Y_train = remove_zeros(Xtrain, Ytrain)\n",
    "\n",
    "print(\"----\"*15)\n",
    "\n",
    "X_test, Y_test = remove_zeros(Xtest, Ytest)\n",
    "\n",
    "print(\"----\"*15)\n",
    "\n",
    "print(\"There are %i number of training patches\" % (X_train.shape[0]))\n",
    "print(\"There are %i number of testing patches\" % (X_test.shape[0]))"
   ]
  },
  {
   "cell_type": "code",
   "execution_count": 17,
   "metadata": {},
   "outputs": [
    {
     "name": "stdout",
     "output_type": "stream",
     "text": [
      "Pixel percentage of landslides = 12.078020116482401 %\n",
      "Pixel percentage of background = 87.9219798835176 %\n",
      "time: 58.9 ms (started: 2022-04-27 12:58:40 +02:00)\n"
     ]
    }
   ],
   "source": [
    "#CIEW for training patches\n",
    "bd_px=len(Y_train[Y_train==1])/(len(Y_train[Y_train==1])+len(Y_train[Y_train==0]))\n",
    "bg_px=len(Y_train[Y_train==0])/(len(Y_train[Y_train==1])+len(Y_train[Y_train==0]))\n",
    "\n",
    "print(\"Pixel percentage of landslides = \" + str(bd_px* 100)+ \" %\") \n",
    "print(\"Pixel percentage of background = \" + str(bg_px* 100)+ \" %\")"
   ]
  },
  {
   "cell_type": "code",
   "execution_count": 18,
   "metadata": {},
   "outputs": [
    {
     "name": "stdout",
     "output_type": "stream",
     "text": [
      "Pixel percentage of landslides = 10.930518854677288 %\n",
      "Pixel percentage of background = 89.06948114532271 %\n",
      "time: 109 ms (started: 2022-04-27 12:58:40 +02:00)\n"
     ]
    }
   ],
   "source": [
    "#CIEW for testing patches\n",
    "bd_px=len(Y_test[Y_test==1])/(len(Y_test[Y_test==1])+len(Y_test[Y_test==0]))\n",
    "bg_px=len(Y_test[Y_test==0])/(len(Y_test[Y_test==1])+len(Y_test[Y_test==0]))\n",
    "\n",
    "print(\"Pixel percentage of landslides = \" + str(bd_px* 100)+ \" %\") \n",
    "print(\"Pixel percentage of background = \" + str(bg_px* 100)+ \" %\")"
   ]
  },
  {
   "cell_type": "markdown",
   "metadata": {},
   "source": [
    "### Data augmentations"
   ]
  },
  {
   "cell_type": "code",
   "execution_count": 19,
   "metadata": {},
   "outputs": [
    {
     "name": "stdout",
     "output_type": "stream",
     "text": [
      "Shape of the image collection before augmentation: (277, 128, 128, 5)\n",
      "Shape of the label collection before augmentation: (277, 128, 128, 1)\n",
      "----------------------------------------\n",
      "Shape of the image collection after augmentation: (1939, 128, 128, 5)\n",
      "Shape of the label collection after augmentation: (1939, 128, 128, 1)\n",
      "time: 5.35 s (started: 2022-04-27 12:58:40 +02:00)\n"
     ]
    }
   ],
   "source": [
    "print(f'Shape of the image collection before augmentation: {X_train.shape}')\n",
    "print(f'Shape of the label collection before augmentation: {Y_train.shape}')\n",
    "\n",
    "# Geometric\n",
    "seq = iaa.Sequential([\n",
    "    iaa.Fliplr(1)\n",
    "])\n",
    "seq1 = iaa.Sequential([\n",
    "    iaa.Flipud(1)\n",
    "])\n",
    "\n",
    "seq2 = iaa.Sequential([\n",
    "    iaa.ShearX((-20, 20))\n",
    "])\n",
    "\n",
    "seq3 = iaa.Sequential([\n",
    "    iaa.ShearY((-20, 20))\n",
    "])\n",
    "\n",
    "seq4 = iaa.Sequential([\n",
    "    iaa.Rotate((-45, 45))\n",
    "])\n",
    "\n",
    "# Horizontal Flip\n",
    "X_aug, Y_aug = seq(images=X_train, heatmaps=Y_train)\n",
    "# Vertical Flip\n",
    "X_aug1, Y_aug1 = seq1(images=X_train, heatmaps=Y_train)\n",
    "# Shear X\n",
    "X_aug2, Y_aug2 = seq2(images=X_train, heatmaps=Y_train)\n",
    "# Shear Y\n",
    "X_aug3, Y_aug3 = seq3(images=X_train, heatmaps=Y_train)\n",
    "# Rotate +-45\n",
    "X_aug4, Y_aug4 = seq4(images=X_train, heatmaps=Y_train)\n",
    "\n",
    "# X_train = np.concatenate((X_train, X_aug1, X_aug2, X_aug3,  X_aug4), axis=0)\n",
    "# Y_train = np.concatenate((Y_train, Y_aug1, Y_aug2, Y_aug3,  Y_aug4), axis=0)\n",
    "\n",
    "# Radiometric\n",
    "seq5 = iaa.Sequential([\n",
    "    iaa.GaussianBlur(sigma=(0.0, 3.0))\n",
    "])\n",
    "\n",
    "seq6 = iaa.Sequential([\n",
    "    iaa.Sharpen(alpha=(0.0, 1.0), lightness=(0.75, 2.0))\n",
    "])\n",
    "\n",
    "# seq7 = iaa.Sequential([\n",
    "#     iaa.AdditiveGaussianNoise(scale=(0, 0.2*255))\n",
    "# ])\n",
    "\n",
    "# Blur\n",
    "X_aug5, Y_aug5 = seq5(images=X_train, heatmaps=Y_train)\n",
    "# Sharp\n",
    "X_aug6, Y_aug6 = seq6(images=X_train, heatmaps=Y_train)\n",
    "# # Noise\n",
    "# X_aug7, Y_aug7 = seq7(images=X_train.astype(np.uint8), heatmaps=Y_train)\n",
    "\n",
    "X_train = np.concatenate((X_train, X_aug1, X_aug2, X_aug3,  X_aug4, X_aug5 ,X_aug6), axis=0)\n",
    "Y_train = np.concatenate((Y_train, Y_aug1, Y_aug2, Y_aug3,  Y_aug4, Y_aug5 ,Y_aug6), axis=0)\n",
    "\n",
    "print(\"--\"*20)\n",
    "print(f'Shape of the image collection after augmentation: {X_train.shape}')\n",
    "print(f'Shape of the label collection after augmentation: {Y_train.shape}')"
   ]
  },
  {
   "cell_type": "code",
   "execution_count": 20,
   "metadata": {},
   "outputs": [
    {
     "name": "stdout",
     "output_type": "stream",
     "text": [
      "There are 1939 number of training patches\n",
      "------------------------------------------------------------\n",
      "Pixel percentage of landslides = 11.259086398920184 %\n",
      "Pixel percentage of background = 88.74091360107982 %\n",
      "time: 447 ms (started: 2022-04-27 12:58:45 +02:00)\n"
     ]
    }
   ],
   "source": [
    "print(\"There are %i number of training patches\" % (X_train.shape[0]))\n",
    "\n",
    "#CIEW for training patches\n",
    "bd_px=len(Y_train[Y_train==1])/(len(Y_train[Y_train==1])+len(Y_train[Y_train==0]))\n",
    "bg_px=len(Y_train[Y_train==0])/(len(Y_train[Y_train==1])+len(Y_train[Y_train==0]))\n",
    "\n",
    "print(\"----\"*15)\n",
    "\n",
    "print(\"Pixel percentage of landslides = \" + str(bd_px* 100)+ \" %\") \n",
    "print(\"Pixel percentage of background = \" + str(bg_px* 100)+ \" %\")"
   ]
  },
  {
   "cell_type": "markdown",
   "metadata": {
    "id": "pCr3n2WYvFWF"
   },
   "source": [
    "## Training the model "
   ]
  },
  {
   "cell_type": "code",
   "execution_count": 22,
   "metadata": {
    "colab": {
     "base_uri": "https://localhost:8080/"
    },
    "executionInfo": {
     "elapsed": 4803157,
     "status": "ok",
     "timestamp": 1619203324726,
     "user": {
      "displayName": "Kushanav Bhuyan",
      "photoUrl": "https://lh3.googleusercontent.com/a-/AOh14GhpJDzYajMCPL_21Vep_aig5cbphA73G195JQkf=s64",
      "userId": "13534778218088456884"
     },
     "user_tz": -120
    },
    "id": "TDVxeZmhzLZO",
    "outputId": "de8bba98-dfa3-4137-e57d-889d62dbf4e0",
    "tags": []
   },
   "outputs": [
    {
     "name": "stdout",
     "output_type": "stream",
     "text": [
      "---------------------------------------------------------------------------------------------------------------------\n",
      "Initialising in 3..........2..........1......................................\n",
      "Training on 1939 images with learning rate 0.0001, batch size 16, and number of filters 32\n"
     ]
    },
    {
     "name": "stderr",
     "output_type": "stream",
     "text": [
      "2022-04-27 14:40:59.877909: W tensorflow/core/framework/cpu_allocator_impl.cc:82] Allocation of 571801600 exceeds 10% of free system memory.\n",
      "2022-04-27 14:41:01.069566: W tensorflow/core/framework/cpu_allocator_impl.cc:82] Allocation of 571801600 exceeds 10% of free system memory.\n"
     ]
    },
    {
     "name": "stdout",
     "output_type": "stream",
     "text": [
      "Epoch 1/70\n",
      "\n",
      "Epoch 00001: val_final_loss improved from inf to 0.58357, saving model to Checkpoints/weights.01-0.58.hdf5\n",
      "110/110 - 47s - loss: 2.2174 - pred1_loss: 0.5419 - pred2_loss: 0.5323 - pred3_loss: 0.5797 - final_loss: 0.5636 - pred1_accuracy: 0.8282 - pred1_precision_m: 0.3809 - pred1_recall_m: 0.7767 - pred1_f1_m: 0.4984 - pred2_accuracy: 0.8051 - pred2_precision_m: 0.3850 - pred2_recall_m: 0.8520 - pred2_f1_m: 0.5119 - pred3_accuracy: 0.8022 - pred3_precision_m: 0.3600 - pred3_recall_m: 0.8464 - pred3_f1_m: 0.4923 - final_accuracy: 0.7921 - final_precision_m: 0.3374 - final_recall_m: 0.7901 - final_f1_m: 0.4613 - val_loss: 2.4637 - val_pred1_loss: 0.6153 - val_pred2_loss: 0.6105 - val_pred3_loss: 0.6543 - val_final_loss: 0.5836 - val_pred1_accuracy: 0.8012 - val_pred1_precision_m: 0.3296 - val_pred1_recall_m: 0.7211 - val_pred1_f1_m: 0.4456 - val_pred2_accuracy: 0.8222 - val_pred2_precision_m: 0.3673 - val_pred2_recall_m: 0.7711 - val_pred2_f1_m: 0.4920 - val_pred3_accuracy: 0.8494 - val_pred3_precision_m: 0.4217 - val_pred3_recall_m: 0.7995 - val_pred3_f1_m: 0.5463 - val_final_accuracy: 0.8723 - val_final_precision_m: 0.4796 - val_final_recall_m: 0.6849 - val_final_f1_m: 0.5543 - lr: 1.0000e-04 - 47s/epoch - 430ms/step\n",
      "Epoch 2/70\n",
      "\n",
      "Epoch 00002: val_final_loss improved from 0.58357 to 0.50366, saving model to Checkpoints/weights.02-0.50.hdf5\n",
      "110/110 - 32s - loss: 1.8186 - pred1_loss: 0.4620 - pred2_loss: 0.4478 - pred3_loss: 0.4772 - final_loss: 0.4316 - pred1_accuracy: 0.8712 - pred1_precision_m: 0.4629 - pred1_recall_m: 0.8205 - pred1_f1_m: 0.5801 - pred2_accuracy: 0.8770 - pred2_precision_m: 0.4797 - pred2_recall_m: 0.8502 - pred2_f1_m: 0.6015 - pred3_accuracy: 0.8671 - pred3_precision_m: 0.4582 - pred3_recall_m: 0.8749 - pred3_f1_m: 0.5902 - final_accuracy: 0.8506 - final_precision_m: 0.4273 - final_recall_m: 0.8923 - final_f1_m: 0.5668 - val_loss: 2.0891 - val_pred1_loss: 0.5323 - val_pred2_loss: 0.5047 - val_pred3_loss: 0.5485 - val_final_loss: 0.5037 - val_pred1_accuracy: 0.9008 - val_pred1_precision_m: 0.5797 - val_pred1_recall_m: 0.5996 - val_pred1_f1_m: 0.5827 - val_pred2_accuracy: 0.8754 - val_pred2_precision_m: 0.4792 - val_pred2_recall_m: 0.7666 - val_pred2_f1_m: 0.5843 - val_pred3_accuracy: 0.8538 - val_pred3_precision_m: 0.4316 - val_pred3_recall_m: 0.8476 - val_pred3_f1_m: 0.5664 - val_final_accuracy: 0.8652 - val_final_precision_m: 0.4586 - val_final_recall_m: 0.7977 - val_final_f1_m: 0.5742 - lr: 1.0000e-04 - 32s/epoch - 294ms/step\n",
      "Epoch 3/70\n",
      "\n",
      "Epoch 00003: val_final_loss improved from 0.50366 to 0.42753, saving model to Checkpoints/weights.03-0.43.hdf5\n",
      "110/110 - 32s - loss: 1.6514 - pred1_loss: 0.4231 - pred2_loss: 0.4087 - pred3_loss: 0.4356 - final_loss: 0.3839 - pred1_accuracy: 0.8913 - pred1_precision_m: 0.5114 - pred1_recall_m: 0.8283 - pred1_f1_m: 0.6211 - pred2_accuracy: 0.8976 - pred2_precision_m: 0.5289 - pred2_recall_m: 0.8546 - pred2_f1_m: 0.6425 - pred3_accuracy: 0.8907 - pred3_precision_m: 0.5092 - pred3_recall_m: 0.8769 - pred3_f1_m: 0.6336 - final_accuracy: 0.8755 - final_precision_m: 0.4728 - final_recall_m: 0.9025 - final_f1_m: 0.6102 - val_loss: 1.8611 - val_pred1_loss: 0.4608 - val_pred2_loss: 0.4723 - val_pred3_loss: 0.5005 - val_final_loss: 0.4275 - val_pred1_accuracy: 0.8954 - val_pred1_precision_m: 0.5319 - val_pred1_recall_m: 0.7239 - val_pred1_f1_m: 0.6073 - val_pred2_accuracy: 0.8381 - val_pred2_precision_m: 0.3982 - val_pred2_recall_m: 0.8883 - val_pred2_f1_m: 0.5445 - val_pred3_accuracy: 0.8259 - val_pred3_precision_m: 0.3808 - val_pred3_recall_m: 0.9070 - val_pred3_f1_m: 0.5314 - val_final_accuracy: 0.8394 - val_final_precision_m: 0.4028 - val_final_recall_m: 0.9040 - val_final_f1_m: 0.5518 - lr: 1.0000e-04 - 32s/epoch - 294ms/step\n",
      "Epoch 4/70\n",
      "\n",
      "Epoch 00004: val_final_loss improved from 0.42753 to 0.39806, saving model to Checkpoints/weights.04-0.40.hdf5\n",
      "110/110 - 33s - loss: 1.5408 - pred1_loss: 0.3957 - pred2_loss: 0.3850 - pred3_loss: 0.4085 - final_loss: 0.3516 - pred1_accuracy: 0.9059 - pred1_precision_m: 0.5536 - pred1_recall_m: 0.8387 - pred1_f1_m: 0.6559 - pred2_accuracy: 0.9092 - pred2_precision_m: 0.5647 - pred2_recall_m: 0.8596 - pred2_f1_m: 0.6703 - pred3_accuracy: 0.9049 - pred3_precision_m: 0.5488 - pred3_recall_m: 0.8758 - pred3_f1_m: 0.6638 - final_accuracy: 0.8933 - final_precision_m: 0.5151 - final_recall_m: 0.9000 - final_f1_m: 0.6443 - val_loss: 1.7907 - val_pred1_loss: 0.4811 - val_pred2_loss: 0.4545 - val_pred3_loss: 0.4570 - val_final_loss: 0.3981 - val_pred1_accuracy: 0.9029 - val_pred1_precision_m: 0.5813 - val_pred1_recall_m: 0.6560 - val_pred1_f1_m: 0.6068 - val_pred2_accuracy: 0.8925 - val_pred2_precision_m: 0.5312 - val_pred2_recall_m: 0.7492 - val_pred2_f1_m: 0.6126 - val_pred3_accuracy: 0.8965 - val_pred3_precision_m: 0.5424 - val_pred3_recall_m: 0.7662 - val_pred3_f1_m: 0.6271 - val_final_accuracy: 0.8943 - val_final_precision_m: 0.5373 - val_final_recall_m: 0.7611 - val_final_f1_m: 0.6214 - lr: 1.0000e-04 - 33s/epoch - 297ms/step\n",
      "Epoch 5/70\n",
      "\n",
      "Epoch 00005: val_final_loss improved from 0.39806 to 0.39792, saving model to Checkpoints/weights.05-0.40.hdf5\n",
      "110/110 - 32s - loss: 1.3967 - pred1_loss: 0.3583 - pred2_loss: 0.3506 - pred3_loss: 0.3731 - final_loss: 0.3147 - pred1_accuracy: 0.9206 - pred1_precision_m: 0.6012 - pred1_recall_m: 0.8563 - pred1_f1_m: 0.6962 - pred2_accuracy: 0.9231 - pred2_precision_m: 0.6106 - pred2_recall_m: 0.8721 - pred2_f1_m: 0.7075 - pred3_accuracy: 0.9196 - pred3_precision_m: 0.5950 - pred3_recall_m: 0.8863 - pred3_f1_m: 0.7012 - final_accuracy: 0.9108 - final_precision_m: 0.5630 - final_recall_m: 0.9060 - final_f1_m: 0.6833 - val_loss: 1.8359 - val_pred1_loss: 0.4908 - val_pred2_loss: 0.4785 - val_pred3_loss: 0.4686 - val_final_loss: 0.3979 - val_pred1_accuracy: 0.9074 - val_pred1_precision_m: 0.5916 - val_pred1_recall_m: 0.6428 - val_pred1_f1_m: 0.5995 - val_pred2_accuracy: 0.9121 - val_pred2_precision_m: 0.6084 - val_pred2_recall_m: 0.6622 - val_pred2_f1_m: 0.6199 - val_pred3_accuracy: 0.9064 - val_pred3_precision_m: 0.5708 - val_pred3_recall_m: 0.7169 - val_pred3_f1_m: 0.6236 - val_final_accuracy: 0.9057 - val_final_precision_m: 0.5669 - val_final_recall_m: 0.7262 - val_final_f1_m: 0.6250 - lr: 1.0000e-04 - 32s/epoch - 293ms/step\n",
      "Epoch 6/70\n",
      "\n",
      "Epoch 00006: val_final_loss improved from 0.39792 to 0.35120, saving model to Checkpoints/weights.06-0.35.hdf5\n",
      "110/110 - 32s - loss: 1.2849 - pred1_loss: 0.3336 - pred2_loss: 0.3236 - pred3_loss: 0.3440 - final_loss: 0.2837 - pred1_accuracy: 0.9305 - pred1_precision_m: 0.6386 - pred1_recall_m: 0.8641 - pred1_f1_m: 0.7249 - pred2_accuracy: 0.9330 - pred2_precision_m: 0.6473 - pred2_recall_m: 0.8830 - pred2_f1_m: 0.7375 - pred3_accuracy: 0.9305 - pred3_precision_m: 0.6348 - pred3_recall_m: 0.8921 - pred3_f1_m: 0.7323 - final_accuracy: 0.9244 - final_precision_m: 0.6084 - final_recall_m: 0.9076 - final_f1_m: 0.7186 - val_loss: 1.6804 - val_pred1_loss: 0.4695 - val_pred2_loss: 0.4270 - val_pred3_loss: 0.4327 - val_final_loss: 0.3512 - val_pred1_accuracy: 0.9280 - val_pred1_precision_m: 0.7359 - val_pred1_recall_m: 0.6164 - val_pred1_f1_m: 0.6609 - val_pred2_accuracy: 0.9334 - val_pred2_precision_m: 0.7388 - val_pred2_recall_m: 0.6751 - val_pred2_f1_m: 0.6984 - val_pred3_accuracy: 0.9332 - val_pred3_precision_m: 0.7260 - val_pred3_recall_m: 0.6935 - val_pred3_f1_m: 0.7031 - val_final_accuracy: 0.9313 - val_final_precision_m: 0.6951 - val_final_recall_m: 0.7284 - val_final_f1_m: 0.7056 - lr: 1.0000e-04 - 32s/epoch - 295ms/step\n",
      "Epoch 7/70\n",
      "\n",
      "Epoch 00007: val_final_loss improved from 0.35120 to 0.26962, saving model to Checkpoints/weights.07-0.27.hdf5\n",
      "110/110 - 32s - loss: 1.1265 - pred1_loss: 0.2929 - pred2_loss: 0.2850 - pred3_loss: 0.3042 - final_loss: 0.2444 - pred1_accuracy: 0.9417 - pred1_precision_m: 0.6857 - pred1_recall_m: 0.8857 - pred1_f1_m: 0.7672 - pred2_accuracy: 0.9440 - pred2_precision_m: 0.6952 - pred2_recall_m: 0.8987 - pred2_f1_m: 0.7778 - pred3_accuracy: 0.9420 - pred3_precision_m: 0.6840 - pred3_recall_m: 0.9061 - pred3_f1_m: 0.7731 - final_accuracy: 0.9374 - final_precision_m: 0.6605 - final_recall_m: 0.9176 - final_f1_m: 0.7614 - val_loss: 1.2533 - val_pred1_loss: 0.3357 - val_pred2_loss: 0.3148 - val_pred3_loss: 0.3332 - val_final_loss: 0.2696 - val_pred1_accuracy: 0.9381 - val_pred1_precision_m: 0.6939 - val_pred1_recall_m: 0.8090 - val_pred1_f1_m: 0.7394 - val_pred2_accuracy: 0.9361 - val_pred2_precision_m: 0.6680 - val_pred2_recall_m: 0.8635 - val_pred2_f1_m: 0.7485 - val_pred3_accuracy: 0.9299 - val_pred3_precision_m: 0.6348 - val_pred3_recall_m: 0.8839 - val_pred3_f1_m: 0.7345 - val_final_accuracy: 0.9281 - val_final_precision_m: 0.6268 - val_final_recall_m: 0.8852 - val_final_f1_m: 0.7293 - lr: 1.0000e-04 - 32s/epoch - 293ms/step\n",
      "Epoch 8/70\n",
      "\n",
      "Epoch 00008: val_final_loss did not improve from 0.26962\n",
      "110/110 - 31s - loss: 1.0373 - pred1_loss: 0.2696 - pred2_loss: 0.2646 - pred3_loss: 0.2819 - final_loss: 0.2212 - pred1_accuracy: 0.9492 - pred1_precision_m: 0.7103 - pred1_recall_m: 0.9006 - pred1_f1_m: 0.7878 - pred2_accuracy: 0.9506 - pred2_precision_m: 0.7165 - pred2_recall_m: 0.9088 - pred2_f1_m: 0.7943 - pred3_accuracy: 0.9488 - pred3_precision_m: 0.7059 - pred3_recall_m: 0.9138 - pred3_f1_m: 0.7895 - final_accuracy: 0.9450 - final_precision_m: 0.6843 - final_recall_m: 0.9237 - final_f1_m: 0.7790 - val_loss: 1.8359 - val_pred1_loss: 0.4888 - val_pred2_loss: 0.4876 - val_pred3_loss: 0.4717 - val_final_loss: 0.3878 - val_pred1_accuracy: 0.9288 - val_pred1_precision_m: 0.7756 - val_pred1_recall_m: 0.5815 - val_pred1_f1_m: 0.6513 - val_pred2_accuracy: 0.9299 - val_pred2_precision_m: 0.7889 - val_pred2_recall_m: 0.5845 - val_pred2_f1_m: 0.6623 - val_pred3_accuracy: 0.9324 - val_pred3_precision_m: 0.7834 - val_pred3_recall_m: 0.6146 - val_pred3_f1_m: 0.6806 - val_final_accuracy: 0.9323 - val_final_precision_m: 0.7726 - val_final_recall_m: 0.6262 - val_final_f1_m: 0.6834 - lr: 1.0000e-04 - 31s/epoch - 285ms/step\n",
      "Epoch 9/70\n",
      "\n",
      "Epoch 00009: val_final_loss improved from 0.26962 to 0.26312, saving model to Checkpoints/weights.09-0.26.hdf5\n",
      "110/110 - 32s - loss: 1.0233 - pred1_loss: 0.2703 - pred2_loss: 0.2625 - pred3_loss: 0.2773 - final_loss: 0.2132 - pred1_accuracy: 0.9490 - pred1_precision_m: 0.7127 - pred1_recall_m: 0.8969 - pred1_f1_m: 0.7883 - pred2_accuracy: 0.9510 - pred2_precision_m: 0.7218 - pred2_recall_m: 0.9084 - pred2_f1_m: 0.7975 - pred3_accuracy: 0.9497 - pred3_precision_m: 0.7134 - pred3_recall_m: 0.9122 - pred3_f1_m: 0.7935 - final_accuracy: 0.9467 - final_precision_m: 0.6962 - final_recall_m: 0.9198 - final_f1_m: 0.7852 - val_loss: 1.2822 - val_pred1_loss: 0.3533 - val_pred2_loss: 0.3266 - val_pred3_loss: 0.3392 - val_final_loss: 0.2631 - val_pred1_accuracy: 0.9195 - val_pred1_precision_m: 0.6248 - val_pred1_recall_m: 0.8343 - val_pred1_f1_m: 0.7122 - val_pred2_accuracy: 0.9385 - val_pred2_precision_m: 0.7154 - val_pred2_recall_m: 0.8120 - val_pred2_f1_m: 0.7591 - val_pred3_accuracy: 0.9402 - val_pred3_precision_m: 0.7274 - val_pred3_recall_m: 0.7974 - val_pred3_f1_m: 0.7595 - val_final_accuracy: 0.9358 - val_final_precision_m: 0.6978 - val_final_recall_m: 0.8156 - val_final_f1_m: 0.7505 - lr: 1.0000e-04 - 32s/epoch - 293ms/step\n",
      "Epoch 10/70\n",
      "\n",
      "Epoch 00010: val_final_loss improved from 0.26312 to 0.21230, saving model to Checkpoints/weights.10-0.21.hdf5\n",
      "110/110 - 32s - loss: 0.9634 - pred1_loss: 0.2541 - pred2_loss: 0.2488 - pred3_loss: 0.2628 - final_loss: 0.1977 - pred1_accuracy: 0.9546 - pred1_precision_m: 0.7380 - pred1_recall_m: 0.9027 - pred1_f1_m: 0.8074 - pred2_accuracy: 0.9556 - pred2_precision_m: 0.7415 - pred2_recall_m: 0.9122 - pred2_f1_m: 0.8124 - pred3_accuracy: 0.9539 - pred3_precision_m: 0.7308 - pred3_recall_m: 0.9166 - pred3_f1_m: 0.8071 - final_accuracy: 0.9514 - final_precision_m: 0.7151 - final_recall_m: 0.9234 - final_f1_m: 0.7996 - val_loss: 1.0506 - val_pred1_loss: 0.2779 - val_pred2_loss: 0.2747 - val_pred3_loss: 0.2857 - val_final_loss: 0.2123 - val_pred1_accuracy: 0.9481 - val_pred1_precision_m: 0.7265 - val_pred1_recall_m: 0.8623 - val_pred1_f1_m: 0.7865 - val_pred2_accuracy: 0.9393 - val_pred2_precision_m: 0.6677 - val_pred2_recall_m: 0.9075 - val_pred2_f1_m: 0.7678 - val_pred3_accuracy: 0.9370 - val_pred3_precision_m: 0.6596 - val_pred3_recall_m: 0.9091 - val_pred3_f1_m: 0.7632 - val_final_accuracy: 0.9338 - val_final_precision_m: 0.6427 - val_final_recall_m: 0.9135 - val_final_f1_m: 0.7527 - lr: 1.0000e-04 - 32s/epoch - 293ms/step\n",
      "Epoch 11/70\n",
      "\n",
      "Epoch 00011: val_final_loss improved from 0.21230 to 0.20961, saving model to Checkpoints/weights.11-0.21.hdf5\n",
      "110/110 - 32s - loss: 0.8971 - pred1_loss: 0.2359 - pred2_loss: 0.2330 - pred3_loss: 0.2460 - final_loss: 0.1822 - pred1_accuracy: 0.9596 - pred1_precision_m: 0.7524 - pred1_recall_m: 0.9182 - pred1_f1_m: 0.8215 - pred2_accuracy: 0.9602 - pred2_precision_m: 0.7558 - pred2_recall_m: 0.9237 - pred2_f1_m: 0.8250 - pred3_accuracy: 0.9590 - pred3_precision_m: 0.7474 - pred3_recall_m: 0.9262 - pred3_f1_m: 0.8204 - final_accuracy: 0.9570 - final_precision_m: 0.7343 - final_recall_m: 0.9309 - final_f1_m: 0.8138 - val_loss: 1.0563 - val_pred1_loss: 0.2685 - val_pred2_loss: 0.2860 - val_pred3_loss: 0.2922 - val_final_loss: 0.2096 - val_pred1_accuracy: 0.9546 - val_pred1_precision_m: 0.7819 - val_pred1_recall_m: 0.8421 - val_pred1_f1_m: 0.8097 - val_pred2_accuracy: 0.9564 - val_pred2_precision_m: 0.8125 - val_pred2_recall_m: 0.7984 - val_pred2_f1_m: 0.8041 - val_pred3_accuracy: 0.9569 - val_pred3_precision_m: 0.8139 - val_pred3_recall_m: 0.8034 - val_pred3_f1_m: 0.8070 - val_final_accuracy: 0.9562 - val_final_precision_m: 0.7996 - val_final_recall_m: 0.8165 - val_final_f1_m: 0.8066 - lr: 1.0000e-04 - 32s/epoch - 293ms/step\n",
      "Epoch 12/70\n",
      "\n",
      "Epoch 00012: val_final_loss improved from 0.20961 to 0.17450, saving model to Checkpoints/weights.12-0.17.hdf5\n",
      "110/110 - 32s - loss: 0.8809 - pred1_loss: 0.2336 - pred2_loss: 0.2304 - pred3_loss: 0.2419 - final_loss: 0.1749 - pred1_accuracy: 0.9600 - pred1_precision_m: 0.7580 - pred1_recall_m: 0.9173 - pred1_f1_m: 0.8248 - pred2_accuracy: 0.9605 - pred2_precision_m: 0.7635 - pred2_recall_m: 0.9221 - pred2_f1_m: 0.8293 - pred3_accuracy: 0.9593 - pred3_precision_m: 0.7556 - pred3_recall_m: 0.9243 - pred3_f1_m: 0.8250 - final_accuracy: 0.9578 - final_precision_m: 0.7452 - final_recall_m: 0.9281 - final_f1_m: 0.8200 - val_loss: 0.9176 - val_pred1_loss: 0.2427 - val_pred2_loss: 0.2486 - val_pred3_loss: 0.2518 - val_final_loss: 0.1745 - val_pred1_accuracy: 0.9634 - val_pred1_precision_m: 0.8362 - val_pred1_recall_m: 0.8371 - val_pred1_f1_m: 0.8313 - val_pred2_accuracy: 0.9617 - val_pred2_precision_m: 0.8288 - val_pred2_recall_m: 0.8337 - val_pred2_f1_m: 0.8259 - val_pred3_accuracy: 0.9616 - val_pred3_precision_m: 0.8245 - val_pred3_recall_m: 0.8454 - val_pred3_f1_m: 0.8302 - val_final_accuracy: 0.9606 - val_final_precision_m: 0.8128 - val_final_recall_m: 0.8534 - val_final_f1_m: 0.8281 - lr: 1.0000e-04 - 32s/epoch - 292ms/step\n",
      "Epoch 13/70\n",
      "\n",
      "Epoch 00013: val_final_loss did not improve from 0.17450\n",
      "110/110 - 31s - loss: 0.8120 - pred1_loss: 0.2173 - pred2_loss: 0.2145 - pred3_loss: 0.2237 - final_loss: 0.1565 - pred1_accuracy: 0.9624 - pred1_precision_m: 0.7769 - pred1_recall_m: 0.9205 - pred1_f1_m: 0.8387 - pred2_accuracy: 0.9628 - pred2_precision_m: 0.7800 - pred2_recall_m: 0.9238 - pred2_f1_m: 0.8411 - pred3_accuracy: 0.9617 - pred3_precision_m: 0.7727 - pred3_recall_m: 0.9260 - pred3_f1_m: 0.8374 - final_accuracy: 0.9603 - final_precision_m: 0.7629 - final_recall_m: 0.9288 - final_f1_m: 0.8325 - val_loss: 1.2408 - val_pred1_loss: 0.3601 - val_pred2_loss: 0.3145 - val_pred3_loss: 0.3284 - val_final_loss: 0.2378 - val_pred1_accuracy: 0.9516 - val_pred1_precision_m: 0.8559 - val_pred1_recall_m: 0.6848 - val_pred1_f1_m: 0.7577 - val_pred2_accuracy: 0.9570 - val_pred2_precision_m: 0.8614 - val_pred2_recall_m: 0.7464 - val_pred2_f1_m: 0.7978 - val_pred3_accuracy: 0.9563 - val_pred3_precision_m: 0.8661 - val_pred3_recall_m: 0.7375 - val_pred3_f1_m: 0.7947 - val_final_accuracy: 0.9562 - val_final_precision_m: 0.8560 - val_final_recall_m: 0.7505 - val_final_f1_m: 0.7982 - lr: 1.0000e-04 - 31s/epoch - 285ms/step\n",
      "Epoch 14/70\n",
      "\n",
      "Epoch 00014: val_final_loss did not improve from 0.17450\n",
      "110/110 - 31s - loss: 0.7444 - pred1_loss: 0.1994 - pred2_loss: 0.1971 - pred3_loss: 0.2070 - final_loss: 0.1410 - pred1_accuracy: 0.9670 - pred1_precision_m: 0.7976 - pred1_recall_m: 0.9349 - pred1_f1_m: 0.8591 - pred2_accuracy: 0.9672 - pred2_precision_m: 0.7997 - pred2_recall_m: 0.9365 - pred2_f1_m: 0.8607 - pred3_accuracy: 0.9659 - pred3_precision_m: 0.7912 - pred3_recall_m: 0.9380 - pred3_f1_m: 0.8561 - final_accuracy: 0.9647 - final_precision_m: 0.7826 - final_recall_m: 0.9406 - final_f1_m: 0.8519 - val_loss: 1.1219 - val_pred1_loss: 0.2463 - val_pred2_loss: 0.3077 - val_pred3_loss: 0.3329 - val_final_loss: 0.2351 - val_pred1_accuracy: 0.9440 - val_pred1_precision_m: 0.6769 - val_pred1_recall_m: 0.9437 - val_pred1_f1_m: 0.7863 - val_pred2_accuracy: 0.9088 - val_pred2_precision_m: 0.5611 - val_pred2_recall_m: 0.9697 - val_pred2_f1_m: 0.7091 - val_pred3_accuracy: 0.8959 - val_pred3_precision_m: 0.5272 - val_pred3_recall_m: 0.9718 - val_pred3_f1_m: 0.6818 - val_final_accuracy: 0.8982 - val_final_precision_m: 0.5322 - val_final_recall_m: 0.9680 - val_final_f1_m: 0.6850 - lr: 1.0000e-04 - 31s/epoch - 285ms/step\n",
      "Epoch 15/70\n",
      "\n",
      "Epoch 00015: val_final_loss did not improve from 0.17450\n",
      "110/110 - 31s - loss: 0.7336 - pred1_loss: 0.1963 - pred2_loss: 0.1950 - pred3_loss: 0.2043 - final_loss: 0.1380 - pred1_accuracy: 0.9679 - pred1_precision_m: 0.8004 - pred1_recall_m: 0.9351 - pred1_f1_m: 0.8605 - pred2_accuracy: 0.9680 - pred2_precision_m: 0.7985 - pred2_recall_m: 0.9376 - pred2_f1_m: 0.8598 - pred3_accuracy: 0.9668 - pred3_precision_m: 0.7910 - pred3_recall_m: 0.9381 - pred3_f1_m: 0.8553 - final_accuracy: 0.9657 - final_precision_m: 0.7832 - final_recall_m: 0.9393 - final_f1_m: 0.8511 - val_loss: 1.3179 - val_pred1_loss: 0.3352 - val_pred2_loss: 0.3548 - val_pred3_loss: 0.3644 - val_final_loss: 0.2635 - val_pred1_accuracy: 0.9564 - val_pred1_precision_m: 0.8805 - val_pred1_recall_m: 0.7290 - val_pred1_f1_m: 0.7961 - val_pred2_accuracy: 0.9556 - val_pred2_precision_m: 0.9082 - val_pred2_recall_m: 0.7012 - val_pred2_f1_m: 0.7908 - val_pred3_accuracy: 0.9546 - val_pred3_precision_m: 0.9013 - val_pred3_recall_m: 0.7000 - val_pred3_f1_m: 0.7874 - val_final_accuracy: 0.9552 - val_final_precision_m: 0.8919 - val_final_recall_m: 0.7144 - val_final_f1_m: 0.7927 - lr: 1.0000e-04 - 31s/epoch - 285ms/step\n",
      "Epoch 16/70\n",
      "\n",
      "Epoch 00016: val_final_loss improved from 0.17450 to 0.15278, saving model to Checkpoints/weights.16-0.15.hdf5\n",
      "110/110 - 32s - loss: 0.7470 - pred1_loss: 0.2001 - pred2_loss: 0.1999 - pred3_loss: 0.2082 - final_loss: 0.1389 - pred1_accuracy: 0.9675 - pred1_precision_m: 0.8053 - pred1_recall_m: 0.9298 - pred1_f1_m: 0.8602 - pred2_accuracy: 0.9671 - pred2_precision_m: 0.8026 - pred2_recall_m: 0.9314 - pred2_f1_m: 0.8586 - pred3_accuracy: 0.9659 - pred3_precision_m: 0.7949 - pred3_recall_m: 0.9319 - pred3_f1_m: 0.8538 - final_accuracy: 0.9649 - final_precision_m: 0.7882 - final_recall_m: 0.9329 - final_f1_m: 0.8502 - val_loss: 0.8256 - val_pred1_loss: 0.2185 - val_pred2_loss: 0.2247 - val_pred3_loss: 0.2296 - val_final_loss: 0.1528 - val_pred1_accuracy: 0.9622 - val_pred1_precision_m: 0.7700 - val_pred1_recall_m: 0.9026 - val_pred1_f1_m: 0.8292 - val_pred2_accuracy: 0.9610 - val_pred2_precision_m: 0.7696 - val_pred2_recall_m: 0.8961 - val_pred2_f1_m: 0.8270 - val_pred3_accuracy: 0.9594 - val_pred3_precision_m: 0.7601 - val_pred3_recall_m: 0.8997 - val_pred3_f1_m: 0.8231 - val_final_accuracy: 0.9580 - val_final_precision_m: 0.7521 - val_final_recall_m: 0.9006 - val_final_f1_m: 0.8187 - lr: 1.0000e-04 - 32s/epoch - 293ms/step\n",
      "Epoch 17/70\n",
      "\n",
      "Epoch 00017: val_final_loss improved from 0.15278 to 0.12594, saving model to Checkpoints/weights.17-0.13.hdf5\n",
      "110/110 - 32s - loss: 0.6912 - pred1_loss: 0.1844 - pred2_loss: 0.1860 - pred3_loss: 0.1941 - final_loss: 0.1267 - pred1_accuracy: 0.9705 - pred1_precision_m: 0.8160 - pred1_recall_m: 0.9424 - pred1_f1_m: 0.8732 - pred2_accuracy: 0.9698 - pred2_precision_m: 0.8121 - pred2_recall_m: 0.9422 - pred2_f1_m: 0.8702 - pred3_accuracy: 0.9685 - pred3_precision_m: 0.8032 - pred3_recall_m: 0.9433 - pred3_f1_m: 0.8652 - final_accuracy: 0.9674 - final_precision_m: 0.7960 - final_recall_m: 0.9446 - final_f1_m: 0.8613 - val_loss: 0.6934 - val_pred1_loss: 0.1829 - val_pred2_loss: 0.1887 - val_pred3_loss: 0.1958 - val_final_loss: 0.1259 - val_pred1_accuracy: 0.9705 - val_pred1_precision_m: 0.8161 - val_pred1_recall_m: 0.9138 - val_pred1_f1_m: 0.8617 - val_pred2_accuracy: 0.9695 - val_pred2_precision_m: 0.8247 - val_pred2_recall_m: 0.9136 - val_pred2_f1_m: 0.8665 - val_pred3_accuracy: 0.9668 - val_pred3_precision_m: 0.8047 - val_pred3_recall_m: 0.9231 - val_pred3_f1_m: 0.8596 - val_final_accuracy: 0.9663 - val_final_precision_m: 0.8039 - val_final_recall_m: 0.9184 - val_final_f1_m: 0.8570 - lr: 1.0000e-04 - 32s/epoch - 293ms/step\n",
      "Epoch 18/70\n",
      "\n",
      "Epoch 00018: val_final_loss improved from 0.12594 to 0.12108, saving model to Checkpoints/weights.18-0.12.hdf5\n",
      "110/110 - 32s - loss: 0.6920 - pred1_loss: 0.1839 - pred2_loss: 0.1866 - pred3_loss: 0.1949 - final_loss: 0.1266 - pred1_accuracy: 0.9717 - pred1_precision_m: 0.8190 - pred1_recall_m: 0.9404 - pred1_f1_m: 0.8731 - pred2_accuracy: 0.9706 - pred2_precision_m: 0.8130 - pred2_recall_m: 0.9405 - pred2_f1_m: 0.8690 - pred3_accuracy: 0.9693 - pred3_precision_m: 0.8046 - pred3_recall_m: 0.9405 - pred3_f1_m: 0.8637 - final_accuracy: 0.9684 - final_precision_m: 0.7990 - final_recall_m: 0.9405 - final_f1_m: 0.8603 - val_loss: 0.6918 - val_pred1_loss: 0.1920 - val_pred2_loss: 0.1873 - val_pred3_loss: 0.1915 - val_final_loss: 0.1211 - val_pred1_accuracy: 0.9735 - val_pred1_precision_m: 0.8608 - val_pred1_recall_m: 0.8966 - val_pred1_f1_m: 0.8777 - val_pred2_accuracy: 0.9718 - val_pred2_precision_m: 0.8388 - val_pred2_recall_m: 0.9157 - val_pred2_f1_m: 0.8749 - val_pred3_accuracy: 0.9688 - val_pred3_precision_m: 0.8109 - val_pred3_recall_m: 0.9338 - val_pred3_f1_m: 0.8673 - val_final_accuracy: 0.9680 - val_final_precision_m: 0.8072 - val_final_recall_m: 0.9290 - val_final_f1_m: 0.8631 - lr: 1.0000e-04 - 32s/epoch - 292ms/step\n",
      "Epoch 19/70\n",
      "\n",
      "Epoch 00019: val_final_loss did not improve from 0.12108\n",
      "110/110 - 31s - loss: 0.6654 - pred1_loss: 0.1768 - pred2_loss: 0.1803 - pred3_loss: 0.1879 - final_loss: 0.1204 - pred1_accuracy: 0.9728 - pred1_precision_m: 0.8266 - pred1_recall_m: 0.9457 - pred1_f1_m: 0.8805 - pred2_accuracy: 0.9715 - pred2_precision_m: 0.8192 - pred2_recall_m: 0.9455 - pred2_f1_m: 0.8753 - pred3_accuracy: 0.9704 - pred3_precision_m: 0.8114 - pred3_recall_m: 0.9455 - pred3_f1_m: 0.8704 - final_accuracy: 0.9696 - final_precision_m: 0.8061 - final_recall_m: 0.9453 - final_f1_m: 0.8672 - val_loss: 0.6779 - val_pred1_loss: 0.1756 - val_pred2_loss: 0.1851 - val_pred3_loss: 0.1950 - val_final_loss: 0.1221 - val_pred1_accuracy: 0.9726 - val_pred1_precision_m: 0.8394 - val_pred1_recall_m: 0.9284 - val_pred1_f1_m: 0.8811 - val_pred2_accuracy: 0.9647 - val_pred2_precision_m: 0.7786 - val_pred2_recall_m: 0.9530 - val_pred2_f1_m: 0.8565 - val_pred3_accuracy: 0.9614 - val_pred3_precision_m: 0.7610 - val_pred3_recall_m: 0.9563 - val_pred3_f1_m: 0.8471 - val_final_accuracy: 0.9603 - val_final_precision_m: 0.7547 - val_final_recall_m: 0.9551 - val_final_f1_m: 0.8427 - lr: 1.0000e-04 - 31s/epoch - 285ms/step\n",
      "Epoch 20/70\n",
      "\n",
      "Epoch 00020: val_final_loss improved from 0.12108 to 0.11647, saving model to Checkpoints/weights.20-0.12.hdf5\n",
      "110/110 - 32s - loss: 0.6267 - pred1_loss: 0.1650 - pred2_loss: 0.1706 - pred3_loss: 0.1789 - final_loss: 0.1121 - pred1_accuracy: 0.9750 - pred1_precision_m: 0.8405 - pred1_recall_m: 0.9503 - pred1_f1_m: 0.8909 - pred2_accuracy: 0.9732 - pred2_precision_m: 0.8300 - pred2_recall_m: 0.9493 - pred2_f1_m: 0.8840 - pred3_accuracy: 0.9719 - pred3_precision_m: 0.8211 - pred3_recall_m: 0.9484 - pred3_f1_m: 0.8782 - final_accuracy: 0.9711 - final_precision_m: 0.8164 - final_recall_m: 0.9480 - final_f1_m: 0.8752 - val_loss: 0.6618 - val_pred1_loss: 0.1740 - val_pred2_loss: 0.1817 - val_pred3_loss: 0.1896 - val_final_loss: 0.1165 - val_pred1_accuracy: 0.9745 - val_pred1_precision_m: 0.8556 - val_pred1_recall_m: 0.9200 - val_pred1_f1_m: 0.8860 - val_pred2_accuracy: 0.9728 - val_pred2_precision_m: 0.8511 - val_pred2_recall_m: 0.9157 - val_pred2_f1_m: 0.8819 - val_pred3_accuracy: 0.9714 - val_pred3_precision_m: 0.8424 - val_pred3_recall_m: 0.9120 - val_pred3_f1_m: 0.8756 - val_final_accuracy: 0.9703 - val_final_precision_m: 0.8335 - val_final_recall_m: 0.9147 - val_final_f1_m: 0.8721 - lr: 1.0000e-04 - 32s/epoch - 295ms/step\n",
      "Epoch 21/70\n",
      "\n",
      "Epoch 00021: val_final_loss did not improve from 0.11647\n",
      "110/110 - 31s - loss: 0.5974 - pred1_loss: 0.1565 - pred2_loss: 0.1644 - pred3_loss: 0.1713 - final_loss: 0.1053 - pred1_accuracy: 0.9768 - pred1_precision_m: 0.8447 - pred1_recall_m: 0.9448 - pred1_f1_m: 0.8911 - pred2_accuracy: 0.9744 - pred2_precision_m: 0.8304 - pred2_recall_m: 0.9427 - pred2_f1_m: 0.8817 - pred3_accuracy: 0.9733 - pred3_precision_m: 0.8228 - pred3_recall_m: 0.9427 - pred3_f1_m: 0.8771 - final_accuracy: 0.9725 - final_precision_m: 0.8182 - final_recall_m: 0.9424 - final_f1_m: 0.8743 - val_loss: 0.7893 - val_pred1_loss: 0.1728 - val_pred2_loss: 0.2301 - val_pred3_loss: 0.2331 - val_final_loss: 0.1532 - val_pred1_accuracy: 0.9781 - val_pred1_precision_m: 0.8824 - val_pred1_recall_m: 0.9098 - val_pred1_f1_m: 0.8956 - val_pred2_accuracy: 0.9727 - val_pred2_precision_m: 0.9075 - val_pred2_recall_m: 0.8371 - val_pred2_f1_m: 0.8704 - val_pred3_accuracy: 0.9722 - val_pred3_precision_m: 0.9012 - val_pred3_recall_m: 0.8375 - val_pred3_f1_m: 0.8677 - val_final_accuracy: 0.9715 - val_final_precision_m: 0.8957 - val_final_recall_m: 0.8358 - val_final_f1_m: 0.8643 - lr: 1.0000e-04 - 31s/epoch - 285ms/step\n",
      "Epoch 22/70\n",
      "\n",
      "Epoch 00022: val_final_loss did not improve from 0.11647\n",
      "110/110 - 31s - loss: 0.5837 - pred1_loss: 0.1512 - pred2_loss: 0.1610 - pred3_loss: 0.1686 - final_loss: 0.1030 - pred1_accuracy: 0.9781 - pred1_precision_m: 0.8564 - pred1_recall_m: 0.9557 - pred1_f1_m: 0.9022 - pred2_accuracy: 0.9756 - pred2_precision_m: 0.8417 - pred2_recall_m: 0.9522 - pred2_f1_m: 0.8917 - pred3_accuracy: 0.9742 - pred3_precision_m: 0.8326 - pred3_recall_m: 0.9515 - pred3_f1_m: 0.8860 - final_accuracy: 0.9736 - final_precision_m: 0.8283 - final_recall_m: 0.9509 - final_f1_m: 0.8831 - val_loss: 0.6721 - val_pred1_loss: 0.1732 - val_pred2_loss: 0.1890 - val_pred3_loss: 0.1917 - val_final_loss: 0.1183 - val_pred1_accuracy: 0.9712 - val_pred1_precision_m: 0.8127 - val_pred1_recall_m: 0.9359 - val_pred1_f1_m: 0.8684 - val_pred2_accuracy: 0.9609 - val_pred2_precision_m: 0.7501 - val_pred2_recall_m: 0.9618 - val_pred2_f1_m: 0.8413 - val_pred3_accuracy: 0.9621 - val_pred3_precision_m: 0.7643 - val_pred3_recall_m: 0.9515 - val_pred3_f1_m: 0.8469 - val_final_accuracy: 0.9617 - val_final_precision_m: 0.7623 - val_final_recall_m: 0.9489 - val_final_f1_m: 0.8447 - lr: 1.0000e-04 - 31s/epoch - 285ms/step\n",
      "Epoch 23/70\n",
      "\n",
      "Epoch 00023: val_final_loss improved from 0.11647 to 0.11259, saving model to Checkpoints/weights.23-0.11.hdf5\n",
      "110/110 - 32s - loss: 0.6267 - pred1_loss: 0.1679 - pred2_loss: 0.1711 - pred3_loss: 0.1781 - final_loss: 0.1096 - pred1_accuracy: 0.9753 - pred1_precision_m: 0.8374 - pred1_recall_m: 0.9369 - pred1_f1_m: 0.8828 - pred2_accuracy: 0.9736 - pred2_precision_m: 0.8256 - pred2_recall_m: 0.9386 - pred2_f1_m: 0.8766 - pred3_accuracy: 0.9722 - pred3_precision_m: 0.8165 - pred3_recall_m: 0.9380 - pred3_f1_m: 0.8708 - final_accuracy: 0.9715 - final_precision_m: 0.8125 - final_recall_m: 0.9371 - final_f1_m: 0.8680 - val_loss: 0.6532 - val_pred1_loss: 0.1784 - val_pred2_loss: 0.1766 - val_pred3_loss: 0.1856 - val_final_loss: 0.1126 - val_pred1_accuracy: 0.9774 - val_pred1_precision_m: 0.8928 - val_pred1_recall_m: 0.8859 - val_pred1_f1_m: 0.8885 - val_pred2_accuracy: 0.9752 - val_pred2_precision_m: 0.8744 - val_pred2_recall_m: 0.8998 - val_pred2_f1_m: 0.8858 - val_pred3_accuracy: 0.9734 - val_pred3_precision_m: 0.8630 - val_pred3_recall_m: 0.8977 - val_pred3_f1_m: 0.8784 - val_final_accuracy: 0.9728 - val_final_precision_m: 0.8604 - val_final_recall_m: 0.8950 - val_final_f1_m: 0.8762 - lr: 1.0000e-04 - 32s/epoch - 293ms/step\n",
      "Epoch 24/70\n",
      "\n",
      "Epoch 00024: val_final_loss did not improve from 0.11259\n",
      "110/110 - 31s - loss: 0.5627 - pred1_loss: 0.1456 - pred2_loss: 0.1557 - pred3_loss: 0.1636 - final_loss: 0.0978 - pred1_accuracy: 0.9793 - pred1_precision_m: 0.8662 - pred1_recall_m: 0.9564 - pred1_f1_m: 0.9083 - pred2_accuracy: 0.9765 - pred2_precision_m: 0.8481 - pred2_recall_m: 0.9542 - pred2_f1_m: 0.8966 - pred3_accuracy: 0.9750 - pred3_precision_m: 0.8384 - pred3_recall_m: 0.9533 - pred3_f1_m: 0.8905 - final_accuracy: 0.9743 - final_precision_m: 0.8338 - final_recall_m: 0.9527 - final_f1_m: 0.8875 - val_loss: 0.6331 - val_pred1_loss: 0.1480 - val_pred2_loss: 0.1785 - val_pred3_loss: 0.1881 - val_final_loss: 0.1185 - val_pred1_accuracy: 0.9802 - val_pred1_precision_m: 0.8838 - val_pred1_recall_m: 0.9309 - val_pred1_f1_m: 0.9066 - val_pred2_accuracy: 0.9759 - val_pred2_precision_m: 0.8857 - val_pred2_recall_m: 0.9024 - val_pred2_f1_m: 0.8937 - val_pred3_accuracy: 0.9750 - val_pred3_precision_m: 0.8874 - val_pred3_recall_m: 0.8886 - val_pred3_f1_m: 0.8871 - val_final_accuracy: 0.9741 - val_final_precision_m: 0.8836 - val_final_recall_m: 0.8834 - val_final_f1_m: 0.8827 - lr: 1.0000e-04 - 31s/epoch - 285ms/step\n",
      "Epoch 25/70\n",
      "\n",
      "Epoch 00025: val_final_loss did not improve from 0.11259\n",
      "110/110 - 32s - loss: 0.5741 - pred1_loss: 0.1477 - pred2_loss: 0.1595 - pred3_loss: 0.1669 - final_loss: 0.1001 - pred1_accuracy: 0.9792 - pred1_precision_m: 0.8649 - pred1_recall_m: 0.9528 - pred1_f1_m: 0.9051 - pred2_accuracy: 0.9760 - pred2_precision_m: 0.8470 - pred2_recall_m: 0.9488 - pred2_f1_m: 0.8924 - pred3_accuracy: 0.9746 - pred3_precision_m: 0.8382 - pred3_recall_m: 0.9471 - pred3_f1_m: 0.8862 - final_accuracy: 0.9739 - final_precision_m: 0.8339 - final_recall_m: 0.9463 - final_f1_m: 0.8833 - val_loss: 0.7213 - val_pred1_loss: 0.1910 - val_pred2_loss: 0.1959 - val_pred3_loss: 0.2052 - val_final_loss: 0.1292 - val_pred1_accuracy: 0.9755 - val_pred1_precision_m: 0.8906 - val_pred1_recall_m: 0.8912 - val_pred1_f1_m: 0.8902 - val_pred2_accuracy: 0.9699 - val_pred2_precision_m: 0.8437 - val_pred2_recall_m: 0.9008 - val_pred2_f1_m: 0.8711 - val_pred3_accuracy: 0.9685 - val_pred3_precision_m: 0.8392 - val_pred3_recall_m: 0.8928 - val_pred3_f1_m: 0.8648 - val_final_accuracy: 0.9675 - val_final_precision_m: 0.8326 - val_final_recall_m: 0.8917 - val_final_f1_m: 0.8608 - lr: 1.0000e-04 - 32s/epoch - 287ms/step\n",
      "Epoch 26/70\n",
      "\n",
      "Epoch 00026: val_final_loss improved from 0.11259 to 0.10108, saving model to Checkpoints/weights.26-0.10.hdf5\n",
      "110/110 - 32s - loss: 0.5953 - pred1_loss: 0.1563 - pred2_loss: 0.1647 - pred3_loss: 0.1716 - final_loss: 0.1027 - pred1_accuracy: 0.9770 - pred1_precision_m: 0.8460 - pred1_recall_m: 0.9454 - pred1_f1_m: 0.8922 - pred2_accuracy: 0.9742 - pred2_precision_m: 0.8293 - pred2_recall_m: 0.9522 - pred2_f1_m: 0.8814 - pred3_accuracy: 0.9727 - pred3_precision_m: 0.8194 - pred3_recall_m: 0.9511 - pred3_f1_m: 0.8750 - final_accuracy: 0.9721 - final_precision_m: 0.8161 - final_recall_m: 0.9501 - final_f1_m: 0.8726 - val_loss: 0.5847 - val_pred1_loss: 0.1452 - val_pred2_loss: 0.1661 - val_pred3_loss: 0.1723 - val_final_loss: 0.1011 - val_pred1_accuracy: 0.9789 - val_pred1_precision_m: 0.8603 - val_pred1_recall_m: 0.9493 - val_pred1_f1_m: 0.9013 - val_pred2_accuracy: 0.9699 - val_pred2_precision_m: 0.7977 - val_pred2_recall_m: 0.9576 - val_pred2_f1_m: 0.8694 - val_pred3_accuracy: 0.9692 - val_pred3_precision_m: 0.8005 - val_pred3_recall_m: 0.9502 - val_pred3_f1_m: 0.8685 - val_final_accuracy: 0.9700 - val_final_precision_m: 0.8097 - val_final_recall_m: 0.9422 - val_final_f1_m: 0.8706 - lr: 1.0000e-04 - 32s/epoch - 293ms/step\n",
      "Epoch 27/70\n",
      "\n",
      "Epoch 00027: val_final_loss did not improve from 0.10108\n",
      "110/110 - 31s - loss: 0.5408 - pred1_loss: 0.1379 - pred2_loss: 0.1508 - pred3_loss: 0.1588 - final_loss: 0.0932 - pred1_accuracy: 0.9810 - pred1_precision_m: 0.8740 - pred1_recall_m: 0.9607 - pred1_f1_m: 0.9145 - pred2_accuracy: 0.9774 - pred2_precision_m: 0.8519 - pred2_recall_m: 0.9557 - pred2_f1_m: 0.8996 - pred3_accuracy: 0.9758 - pred3_precision_m: 0.8423 - pred3_recall_m: 0.9541 - pred3_f1_m: 0.8932 - final_accuracy: 0.9752 - final_precision_m: 0.8390 - final_recall_m: 0.9526 - final_f1_m: 0.8907 - val_loss: 0.6403 - val_pred1_loss: 0.1471 - val_pred2_loss: 0.1836 - val_pred3_loss: 0.1915 - val_final_loss: 0.1181 - val_pred1_accuracy: 0.9824 - val_pred1_precision_m: 0.9214 - val_pred1_recall_m: 0.9181 - val_pred1_f1_m: 0.9188 - val_pred2_accuracy: 0.9772 - val_pred2_precision_m: 0.9059 - val_pred2_recall_m: 0.8824 - val_pred2_f1_m: 0.8936 - val_pred3_accuracy: 0.9754 - val_pred3_precision_m: 0.8984 - val_pred3_recall_m: 0.8779 - val_pred3_f1_m: 0.8871 - val_final_accuracy: 0.9748 - val_final_precision_m: 0.8959 - val_final_recall_m: 0.8739 - val_final_f1_m: 0.8841 - lr: 1.0000e-04 - 31s/epoch - 285ms/step\n",
      "Epoch 28/70\n",
      "\n",
      "Epoch 00028: val_final_loss did not improve from 0.10108\n",
      "110/110 - 31s - loss: 0.5311 - pred1_loss: 0.1354 - pred2_loss: 0.1480 - pred3_loss: 0.1564 - final_loss: 0.0913 - pred1_accuracy: 0.9818 - pred1_precision_m: 0.8763 - pred1_recall_m: 0.9615 - pred1_f1_m: 0.9155 - pred2_accuracy: 0.9785 - pred2_precision_m: 0.8553 - pred2_recall_m: 0.9575 - pred2_f1_m: 0.9019 - pred3_accuracy: 0.9768 - pred3_precision_m: 0.8448 - pred3_recall_m: 0.9548 - pred3_f1_m: 0.8947 - final_accuracy: 0.9761 - final_precision_m: 0.8403 - final_recall_m: 0.9539 - final_f1_m: 0.8915 - val_loss: 0.6190 - val_pred1_loss: 0.1472 - val_pred2_loss: 0.1781 - val_pred3_loss: 0.1828 - val_final_loss: 0.1109 - val_pred1_accuracy: 0.9822 - val_pred1_precision_m: 0.9056 - val_pred1_recall_m: 0.9297 - val_pred1_f1_m: 0.9163 - val_pred2_accuracy: 0.9781 - val_pred2_precision_m: 0.9041 - val_pred2_recall_m: 0.8940 - val_pred2_f1_m: 0.8987 - val_pred3_accuracy: 0.9771 - val_pred3_precision_m: 0.8994 - val_pred3_recall_m: 0.8895 - val_pred3_f1_m: 0.8942 - val_final_accuracy: 0.9762 - val_final_precision_m: 0.8938 - val_final_recall_m: 0.8867 - val_final_f1_m: 0.8900 - lr: 1.0000e-04 - 31s/epoch - 285ms/step\n",
      "Epoch 29/70\n",
      "\n",
      "Epoch 00029: val_final_loss improved from 0.10108 to 0.08848, saving model to Checkpoints/weights.29-0.09.hdf5\n",
      "110/110 - 32s - loss: 0.5175 - pred1_loss: 0.1307 - pred2_loss: 0.1450 - pred3_loss: 0.1533 - final_loss: 0.0886 - pred1_accuracy: 0.9824 - pred1_precision_m: 0.8866 - pred1_recall_m: 0.9602 - pred1_f1_m: 0.9213 - pred2_accuracy: 0.9788 - pred2_precision_m: 0.8624 - pred2_recall_m: 0.9562 - pred2_f1_m: 0.9057 - pred3_accuracy: 0.9772 - pred3_precision_m: 0.8526 - pred3_recall_m: 0.9539 - pred3_f1_m: 0.8988 - final_accuracy: 0.9766 - final_precision_m: 0.8491 - final_recall_m: 0.9525 - final_f1_m: 0.8961 - val_loss: 0.5084 - val_pred1_loss: 0.1175 - val_pred2_loss: 0.1469 - val_pred3_loss: 0.1555 - val_final_loss: 0.0885 - val_pred1_accuracy: 0.9835 - val_pred1_precision_m: 0.8775 - val_pred1_recall_m: 0.9698 - val_pred1_f1_m: 0.9189 - val_pred2_accuracy: 0.9777 - val_pred2_precision_m: 0.8600 - val_pred2_recall_m: 0.9487 - val_pred2_f1_m: 0.9014 - val_pred3_accuracy: 0.9746 - val_pred3_precision_m: 0.8398 - val_pred3_recall_m: 0.9492 - val_pred3_f1_m: 0.8909 - val_final_accuracy: 0.9745 - val_final_precision_m: 0.8418 - val_final_recall_m: 0.9438 - val_final_f1_m: 0.8897 - lr: 1.0000e-04 - 32s/epoch - 292ms/step\n",
      "Epoch 30/70\n",
      "\n",
      "Epoch 00030: val_final_loss did not improve from 0.08848\n",
      "110/110 - 31s - loss: 0.5136 - pred1_loss: 0.1311 - pred2_loss: 0.1431 - pred3_loss: 0.1514 - final_loss: 0.0879 - pred1_accuracy: 0.9829 - pred1_precision_m: 0.8804 - pred1_recall_m: 0.9635 - pred1_f1_m: 0.9187 - pred2_accuracy: 0.9796 - pred2_precision_m: 0.8611 - pred2_recall_m: 0.9608 - pred2_f1_m: 0.9070 - pred3_accuracy: 0.9779 - pred3_precision_m: 0.8503 - pred3_recall_m: 0.9583 - pred3_f1_m: 0.8996 - final_accuracy: 0.9772 - final_precision_m: 0.8449 - final_recall_m: 0.9572 - final_f1_m: 0.8959 - val_loss: 0.6271 - val_pred1_loss: 0.1391 - val_pred2_loss: 0.1898 - val_pred3_loss: 0.1862 - val_final_loss: 0.1120 - val_pred1_accuracy: 0.9828 - val_pred1_precision_m: 0.8977 - val_pred1_recall_m: 0.9348 - val_pred1_f1_m: 0.9149 - val_pred2_accuracy: 0.9767 - val_pred2_precision_m: 0.9027 - val_pred2_recall_m: 0.8797 - val_pred2_f1_m: 0.8907 - val_pred3_accuracy: 0.9761 - val_pred3_precision_m: 0.8913 - val_pred3_recall_m: 0.8879 - val_pred3_f1_m: 0.8895 - val_final_accuracy: 0.9755 - val_final_precision_m: 0.8888 - val_final_recall_m: 0.8859 - val_final_f1_m: 0.8872 - lr: 1.0000e-04 - 31s/epoch - 285ms/step\n",
      "Epoch 31/70\n",
      "\n",
      "Epoch 00031: val_final_loss did not improve from 0.08848\n",
      "110/110 - 31s - loss: 0.5660 - pred1_loss: 0.1464 - pred2_loss: 0.1592 - pred3_loss: 0.1646 - final_loss: 0.0958 - pred1_accuracy: 0.9791 - pred1_precision_m: 0.8604 - pred1_recall_m: 0.9474 - pred1_f1_m: 0.9009 - pred2_accuracy: 0.9755 - pred2_precision_m: 0.8392 - pred2_recall_m: 0.9427 - pred2_f1_m: 0.8866 - pred3_accuracy: 0.9743 - pred3_precision_m: 0.8325 - pred3_recall_m: 0.9410 - pred3_f1_m: 0.8820 - final_accuracy: 0.9737 - final_precision_m: 0.8284 - final_recall_m: 0.9497 - final_f1_m: 0.8794 - val_loss: 0.5376 - val_pred1_loss: 0.1275 - val_pred2_loss: 0.1561 - val_pred3_loss: 0.1626 - val_final_loss: 0.0915 - val_pred1_accuracy: 0.9822 - val_pred1_precision_m: 0.8755 - val_pred1_recall_m: 0.9641 - val_pred1_f1_m: 0.9167 - val_pred2_accuracy: 0.9720 - val_pred2_precision_m: 0.8103 - val_pred2_recall_m: 0.9656 - val_pred2_f1_m: 0.8804 - val_pred3_accuracy: 0.9701 - val_pred3_precision_m: 0.8034 - val_pred3_recall_m: 0.9630 - val_pred3_f1_m: 0.8756 - val_final_accuracy: 0.9709 - val_final_precision_m: 0.8104 - val_final_recall_m: 0.9581 - val_final_f1_m: 0.8778 - lr: 1.0000e-04 - 31s/epoch - 285ms/step\n",
      "Epoch 32/70\n",
      "\n",
      "Epoch 00032: val_final_loss did not improve from 0.08848\n",
      "110/110 - 32s - loss: 0.4859 - pred1_loss: 0.1222 - pred2_loss: 0.1367 - pred3_loss: 0.1450 - final_loss: 0.0820 - pred1_accuracy: 0.9837 - pred1_precision_m: 0.8848 - pred1_recall_m: 0.9595 - pred1_f1_m: 0.9202 - pred2_accuracy: 0.9801 - pred2_precision_m: 0.8617 - pred2_recall_m: 0.9550 - pred2_f1_m: 0.9052 - pred3_accuracy: 0.9783 - pred3_precision_m: 0.8504 - pred3_recall_m: 0.9524 - pred3_f1_m: 0.8977 - final_accuracy: 0.9776 - final_precision_m: 0.8464 - final_recall_m: 0.9509 - final_f1_m: 0.8946 - val_loss: 0.6867 - val_pred1_loss: 0.1676 - val_pred2_loss: 0.1954 - val_pred3_loss: 0.1992 - val_final_loss: 0.1246 - val_pred1_accuracy: 0.9821 - val_pred1_precision_m: 0.9367 - val_pred1_recall_m: 0.8828 - val_pred1_f1_m: 0.9085 - val_pred2_accuracy: 0.9780 - val_pred2_precision_m: 0.9304 - val_pred2_recall_m: 0.8693 - val_pred2_f1_m: 0.8985 - val_pred3_accuracy: 0.9772 - val_pred3_precision_m: 0.9268 - val_pred3_recall_m: 0.8646 - val_pred3_f1_m: 0.8944 - val_final_accuracy: 0.9763 - val_final_precision_m: 0.9250 - val_final_recall_m: 0.8575 - val_final_f1_m: 0.8897 - lr: 1.0000e-04 - 32s/epoch - 287ms/step\n",
      "Epoch 33/70\n",
      "\n",
      "Epoch 00033: val_final_loss improved from 0.08848 to 0.08145, saving model to Checkpoints/weights.33-0.08.hdf5\n",
      "110/110 - 32s - loss: 0.4712 - pred1_loss: 0.1153 - pred2_loss: 0.1336 - pred3_loss: 0.1422 - final_loss: 0.0801 - pred1_accuracy: 0.9853 - pred1_precision_m: 0.8938 - pred1_recall_m: 0.9617 - pred1_f1_m: 0.9261 - pred2_accuracy: 0.9810 - pred2_precision_m: 0.8668 - pred2_recall_m: 0.9548 - pred2_f1_m: 0.9080 - pred3_accuracy: 0.9792 - pred3_precision_m: 0.8559 - pred3_recall_m: 0.9522 - pred3_f1_m: 0.9006 - final_accuracy: 0.9785 - final_precision_m: 0.8520 - final_recall_m: 0.9506 - final_f1_m: 0.8976 - val_loss: 0.4703 - val_pred1_loss: 0.1070 - val_pred2_loss: 0.1385 - val_pred3_loss: 0.1434 - val_final_loss: 0.0815 - val_pred1_accuracy: 0.9869 - val_pred1_precision_m: 0.9090 - val_pred1_recall_m: 0.9682 - val_pred1_f1_m: 0.9365 - val_pred2_accuracy: 0.9814 - val_pred2_precision_m: 0.8914 - val_pred2_recall_m: 0.9389 - val_pred2_f1_m: 0.9144 - val_pred3_accuracy: 0.9798 - val_pred3_precision_m: 0.8815 - val_pred3_recall_m: 0.9397 - val_pred3_f1_m: 0.9096 - val_final_accuracy: 0.9788 - val_final_precision_m: 0.8773 - val_final_recall_m: 0.9335 - val_final_f1_m: 0.9044 - lr: 1.0000e-04 - 32s/epoch - 295ms/step\n",
      "Epoch 34/70\n",
      "\n",
      "Epoch 00034: val_final_loss did not improve from 0.08145\n",
      "110/110 - 31s - loss: 0.4699 - pred1_loss: 0.1182 - pred2_loss: 0.1325 - pred3_loss: 0.1406 - final_loss: 0.0786 - pred1_accuracy: 0.9848 - pred1_precision_m: 0.8926 - pred1_recall_m: 0.9589 - pred1_f1_m: 0.9241 - pred2_accuracy: 0.9811 - pred2_precision_m: 0.8688 - pred2_recall_m: 0.9638 - pred2_f1_m: 0.9093 - pred3_accuracy: 0.9793 - pred3_precision_m: 0.8577 - pred3_recall_m: 0.9617 - pred3_f1_m: 0.9020 - final_accuracy: 0.9787 - final_precision_m: 0.8534 - final_recall_m: 0.9603 - final_f1_m: 0.8989 - val_loss: 0.5160 - val_pred1_loss: 0.1392 - val_pred2_loss: 0.1455 - val_pred3_loss: 0.1481 - val_final_loss: 0.0832 - val_pred1_accuracy: 0.9851 - val_pred1_precision_m: 0.9412 - val_pred1_recall_m: 0.9147 - val_pred1_f1_m: 0.9277 - val_pred2_accuracy: 0.9826 - val_pred2_precision_m: 0.9207 - val_pred2_recall_m: 0.9201 - val_pred2_f1_m: 0.9202 - val_pred3_accuracy: 0.9803 - val_pred3_precision_m: 0.8959 - val_pred3_recall_m: 0.9286 - val_pred3_f1_m: 0.9116 - val_final_accuracy: 0.9792 - val_final_precision_m: 0.8869 - val_final_recall_m: 0.9281 - val_final_f1_m: 0.9068 - lr: 1.0000e-04 - 31s/epoch - 285ms/step\n",
      "Epoch 35/70\n",
      "\n",
      "Epoch 00035: val_final_loss improved from 0.08145 to 0.07660, saving model to Checkpoints/weights.35-0.08.hdf5\n",
      "110/110 - 32s - loss: 0.4406 - pred1_loss: 0.1073 - pred2_loss: 0.1253 - pred3_loss: 0.1342 - final_loss: 0.0738 - pred1_accuracy: 0.9864 - pred1_precision_m: 0.9075 - pred1_recall_m: 0.9732 - pred1_f1_m: 0.9389 - pred2_accuracy: 0.9824 - pred2_precision_m: 0.8829 - pred2_recall_m: 0.9669 - pred2_f1_m: 0.9224 - pred3_accuracy: 0.9805 - pred3_precision_m: 0.8711 - pred3_recall_m: 0.9638 - pred3_f1_m: 0.9145 - final_accuracy: 0.9798 - final_precision_m: 0.8671 - final_recall_m: 0.9621 - final_f1_m: 0.9114 - val_loss: 0.4497 - val_pred1_loss: 0.1069 - val_pred2_loss: 0.1280 - val_pred3_loss: 0.1381 - val_final_loss: 0.0766 - val_pred1_accuracy: 0.9875 - val_pred1_precision_m: 0.9298 - val_pred1_recall_m: 0.9552 - val_pred1_f1_m: 0.9422 - val_pred2_accuracy: 0.9814 - val_pred2_precision_m: 0.8897 - val_pred2_recall_m: 0.9547 - val_pred2_f1_m: 0.9209 - val_pred3_accuracy: 0.9796 - val_pred3_precision_m: 0.8815 - val_pred3_recall_m: 0.9466 - val_pred3_f1_m: 0.9126 - val_final_accuracy: 0.9789 - val_final_precision_m: 0.8785 - val_final_recall_m: 0.9419 - val_final_f1_m: 0.9089 - lr: 1.0000e-04 - 32s/epoch - 292ms/step\n",
      "Epoch 36/70\n",
      "\n",
      "Epoch 00036: val_final_loss did not improve from 0.07660\n",
      "110/110 - 31s - loss: 0.4442 - pred1_loss: 0.1091 - pred2_loss: 0.1257 - pred3_loss: 0.1349 - final_loss: 0.0744 - pred1_accuracy: 0.9864 - pred1_precision_m: 0.9038 - pred1_recall_m: 0.9709 - pred1_f1_m: 0.9350 - pred2_accuracy: 0.9823 - pred2_precision_m: 0.8772 - pred2_recall_m: 0.9676 - pred2_f1_m: 0.9187 - pred3_accuracy: 0.9804 - pred3_precision_m: 0.8667 - pred3_recall_m: 0.9641 - pred3_f1_m: 0.9114 - final_accuracy: 0.9797 - final_precision_m: 0.8623 - final_recall_m: 0.9623 - final_f1_m: 0.9083 - val_loss: 0.5046 - val_pred1_loss: 0.1328 - val_pred2_loss: 0.1408 - val_pred3_loss: 0.1474 - val_final_loss: 0.0836 - val_pred1_accuracy: 0.9844 - val_pred1_precision_m: 0.9118 - val_pred1_recall_m: 0.9341 - val_pred1_f1_m: 0.9220 - val_pred2_accuracy: 0.9774 - val_pred2_precision_m: 0.8509 - val_pred2_recall_m: 0.9613 - val_pred2_f1_m: 0.9022 - val_pred3_accuracy: 0.9767 - val_pred3_precision_m: 0.8561 - val_pred3_recall_m: 0.9517 - val_pred3_f1_m: 0.9013 - val_final_accuracy: 0.9761 - val_final_precision_m: 0.8541 - val_final_recall_m: 0.9464 - val_final_f1_m: 0.8978 - lr: 1.0000e-04 - 31s/epoch - 285ms/step\n",
      "Epoch 37/70\n",
      "\n",
      "Epoch 00037: val_final_loss did not improve from 0.07660\n",
      "110/110 - 31s - loss: 0.5599 - pred1_loss: 0.1442 - pred2_loss: 0.1566 - pred3_loss: 0.1641 - final_loss: 0.0949 - pred1_accuracy: 0.9796 - pred1_precision_m: 0.8661 - pred1_recall_m: 0.9560 - pred1_f1_m: 0.9056 - pred2_accuracy: 0.9763 - pred2_precision_m: 0.8462 - pred2_recall_m: 0.9497 - pred2_f1_m: 0.8916 - pred3_accuracy: 0.9744 - pred3_precision_m: 0.8356 - pred3_recall_m: 0.9477 - pred3_f1_m: 0.8848 - final_accuracy: 0.9739 - final_precision_m: 0.8330 - final_recall_m: 0.9460 - final_f1_m: 0.8827 - val_loss: 0.8318 - val_pred1_loss: 0.1992 - val_pred2_loss: 0.2521 - val_pred3_loss: 0.2320 - val_final_loss: 0.1485 - val_pred1_accuracy: 0.9776 - val_pred1_precision_m: 0.9372 - val_pred1_recall_m: 0.8505 - val_pred1_f1_m: 0.8912 - val_pred2_accuracy: 0.9714 - val_pred2_precision_m: 0.9390 - val_pred2_recall_m: 0.7940 - val_pred2_f1_m: 0.8598 - val_pred3_accuracy: 0.9730 - val_pred3_precision_m: 0.9283 - val_pred3_recall_m: 0.8196 - val_pred3_f1_m: 0.8696 - val_final_accuracy: 0.9721 - val_final_precision_m: 0.9250 - val_final_recall_m: 0.8145 - val_final_f1_m: 0.8651 - lr: 1.0000e-04 - 31s/epoch - 285ms/step\n",
      "Epoch 38/70\n",
      "\n",
      "Epoch 00038: val_final_loss did not improve from 0.07660\n",
      "110/110 - 31s - loss: 0.4975 - pred1_loss: 0.1264 - pred2_loss: 0.1402 - pred3_loss: 0.1478 - final_loss: 0.0830 - pred1_accuracy: 0.9834 - pred1_precision_m: 0.8902 - pred1_recall_m: 0.9644 - pred1_f1_m: 0.9251 - pred2_accuracy: 0.9798 - pred2_precision_m: 0.8660 - pred2_recall_m: 0.9596 - pred2_f1_m: 0.9091 - pred3_accuracy: 0.9779 - pred3_precision_m: 0.8560 - pred3_recall_m: 0.9577 - pred3_f1_m: 0.9029 - final_accuracy: 0.9775 - final_precision_m: 0.8523 - final_recall_m: 0.9554 - final_f1_m: 0.8994 - val_loss: 0.6136 - val_pred1_loss: 0.1509 - val_pred2_loss: 0.1891 - val_pred3_loss: 0.1729 - val_final_loss: 0.1008 - val_pred1_accuracy: 0.9831 - val_pred1_precision_m: 0.9378 - val_pred1_recall_m: 0.9002 - val_pred1_f1_m: 0.9175 - val_pred2_accuracy: 0.9780 - val_pred2_precision_m: 0.9349 - val_pred2_recall_m: 0.8517 - val_pred2_f1_m: 0.8857 - val_pred3_accuracy: 0.9766 - val_pred3_precision_m: 0.8924 - val_pred3_recall_m: 0.8861 - val_pred3_f1_m: 0.8840 - val_final_accuracy: 0.9757 - val_final_precision_m: 0.8868 - val_final_recall_m: 0.8858 - val_final_f1_m: 0.8818 - lr: 1.0000e-04 - 31s/epoch - 285ms/step\n",
      "Epoch 39/70\n",
      "\n",
      "Epoch 00039: val_final_loss did not improve from 0.07660\n",
      "110/110 - 31s - loss: 0.5003 - pred1_loss: 0.1214 - pred2_loss: 0.1435 - pred3_loss: 0.1503 - final_loss: 0.0850 - pred1_accuracy: 0.9841 - pred1_precision_m: 0.8979 - pred1_recall_m: 0.9663 - pred1_f1_m: 0.9304 - pred2_accuracy: 0.9789 - pred2_precision_m: 0.8670 - pred2_recall_m: 0.9570 - pred2_f1_m: 0.9090 - pred3_accuracy: 0.9773 - pred3_precision_m: 0.8574 - pred3_recall_m: 0.9547 - pred3_f1_m: 0.9026 - final_accuracy: 0.9767 - final_precision_m: 0.8545 - final_recall_m: 0.9523 - final_f1_m: 0.8997 - val_loss: 0.4609 - val_pred1_loss: 0.1114 - val_pred2_loss: 0.1324 - val_pred3_loss: 0.1395 - val_final_loss: 0.0775 - val_pred1_accuracy: 0.9878 - val_pred1_precision_m: 0.9401 - val_pred1_recall_m: 0.9514 - val_pred1_f1_m: 0.9455 - val_pred2_accuracy: 0.9818 - val_pred2_precision_m: 0.8977 - val_pred2_recall_m: 0.9479 - val_pred2_f1_m: 0.9221 - val_pred3_accuracy: 0.9793 - val_pred3_precision_m: 0.8794 - val_pred3_recall_m: 0.9469 - val_pred3_f1_m: 0.9118 - val_final_accuracy: 0.9790 - val_final_precision_m: 0.8821 - val_final_recall_m: 0.9390 - val_final_f1_m: 0.9096 - lr: 1.0000e-04 - 31s/epoch - 285ms/step\n",
      "Epoch 40/70\n",
      "\n",
      "Epoch 00040: val_final_loss did not improve from 0.07660\n",
      "110/110 - 31s - loss: 0.4473 - pred1_loss: 0.1081 - pred2_loss: 0.1270 - pred3_loss: 0.1368 - final_loss: 0.0753 - pred1_accuracy: 0.9867 - pred1_precision_m: 0.9050 - pred1_recall_m: 0.9735 - pred1_f1_m: 0.9370 - pred2_accuracy: 0.9823 - pred2_precision_m: 0.8781 - pred2_recall_m: 0.9672 - pred2_f1_m: 0.9193 - pred3_accuracy: 0.9802 - pred3_precision_m: 0.8649 - pred3_recall_m: 0.9638 - pred3_f1_m: 0.9102 - final_accuracy: 0.9797 - final_precision_m: 0.8612 - final_recall_m: 0.9620 - final_f1_m: 0.9072 - val_loss: 0.5665 - val_pred1_loss: 0.1477 - val_pred2_loss: 0.1604 - val_pred3_loss: 0.1644 - val_final_loss: 0.0938 - val_pred1_accuracy: 0.9835 - val_pred1_precision_m: 0.9303 - val_pred1_recall_m: 0.9210 - val_pred1_f1_m: 0.9246 - val_pred2_accuracy: 0.9798 - val_pred2_precision_m: 0.9064 - val_pred2_recall_m: 0.9167 - val_pred2_f1_m: 0.9112 - val_pred3_accuracy: 0.9778 - val_pred3_precision_m: 0.8868 - val_pred3_recall_m: 0.9178 - val_pred3_f1_m: 0.9018 - val_final_accuracy: 0.9771 - val_final_precision_m: 0.8827 - val_final_recall_m: 0.9178 - val_final_f1_m: 0.8997 - lr: 1.0000e-04 - 31s/epoch - 285ms/step\n",
      "Epoch 41/70\n",
      "\n",
      "Epoch 00041: val_final_loss did not improve from 0.07660\n",
      "110/110 - 31s - loss: 0.4556 - pred1_loss: 0.1137 - pred2_loss: 0.1287 - pred3_loss: 0.1377 - final_loss: 0.0756 - pred1_accuracy: 0.9857 - pred1_precision_m: 0.9042 - pred1_recall_m: 0.9705 - pred1_f1_m: 0.9358 - pred2_accuracy: 0.9822 - pred2_precision_m: 0.8817 - pred2_recall_m: 0.9643 - pred2_f1_m: 0.9205 - pred3_accuracy: 0.9800 - pred3_precision_m: 0.8693 - pred3_recall_m: 0.9610 - pred3_f1_m: 0.9122 - final_accuracy: 0.9795 - final_precision_m: 0.8655 - final_recall_m: 0.9595 - final_f1_m: 0.9093 - val_loss: 0.4449 - val_pred1_loss: 0.0994 - val_pred2_loss: 0.1282 - val_pred3_loss: 0.1397 - val_final_loss: 0.0776 - val_pred1_accuracy: 0.9884 - val_pred1_precision_m: 0.9340 - val_pred1_recall_m: 0.9591 - val_pred1_f1_m: 0.9462 - val_pred2_accuracy: 0.9821 - val_pred2_precision_m: 0.9006 - val_pred2_recall_m: 0.9493 - val_pred2_f1_m: 0.9241 - val_pred3_accuracy: 0.9789 - val_pred3_precision_m: 0.8800 - val_pred3_recall_m: 0.9456 - val_pred3_f1_m: 0.9109 - val_final_accuracy: 0.9782 - val_final_precision_m: 0.8775 - val_final_recall_m: 0.9411 - val_final_f1_m: 0.9075 - lr: 1.0000e-04 - 31s/epoch - 284ms/step\n",
      "Epoch 42/70\n",
      "\n",
      "Epoch 00042: val_final_loss improved from 0.07660 to 0.07090, saving model to Checkpoints/weights.42-0.07.hdf5\n",
      "110/110 - 33s - loss: 0.4296 - pred1_loss: 0.1069 - pred2_loss: 0.1216 - pred3_loss: 0.1307 - final_loss: 0.0704 - pred1_accuracy: 0.9861 - pred1_precision_m: 0.9086 - pred1_recall_m: 0.9685 - pred1_f1_m: 0.9358 - pred2_accuracy: 0.9826 - pred2_precision_m: 0.8869 - pred2_recall_m: 0.9637 - pred2_f1_m: 0.9220 - pred3_accuracy: 0.9805 - pred3_precision_m: 0.8752 - pred3_recall_m: 0.9605 - pred3_f1_m: 0.9140 - final_accuracy: 0.9800 - final_precision_m: 0.8721 - final_recall_m: 0.9584 - final_f1_m: 0.9112 - val_loss: 0.4104 - val_pred1_loss: 0.0877 - val_pred2_loss: 0.1220 - val_pred3_loss: 0.1298 - val_final_loss: 0.0709 - val_pred1_accuracy: 0.9893 - val_pred1_precision_m: 0.9242 - val_pred1_recall_m: 0.9703 - val_pred1_f1_m: 0.9466 - val_pred2_accuracy: 0.9828 - val_pred2_precision_m: 0.8895 - val_pred2_recall_m: 0.9592 - val_pred2_f1_m: 0.9228 - val_pred3_accuracy: 0.9796 - val_pred3_precision_m: 0.8646 - val_pred3_recall_m: 0.9625 - val_pred3_f1_m: 0.9109 - val_final_accuracy: 0.9784 - val_final_precision_m: 0.8578 - val_final_recall_m: 0.9604 - val_final_f1_m: 0.9061 - lr: 1.0000e-04 - 33s/epoch - 296ms/step\n",
      "Epoch 43/70\n",
      "\n",
      "Epoch 00043: val_final_loss did not improve from 0.07090\n",
      "110/110 - 31s - loss: 0.4282 - pred1_loss: 0.1027 - pred2_loss: 0.1221 - pred3_loss: 0.1316 - final_loss: 0.0718 - pred1_accuracy: 0.9876 - pred1_precision_m: 0.9076 - pred1_recall_m: 0.9759 - pred1_f1_m: 0.9377 - pred2_accuracy: 0.9834 - pred2_precision_m: 0.8807 - pred2_recall_m: 0.9681 - pred2_f1_m: 0.9194 - pred3_accuracy: 0.9814 - pred3_precision_m: 0.8683 - pred3_recall_m: 0.9649 - pred3_f1_m: 0.9111 - final_accuracy: 0.9806 - final_precision_m: 0.8623 - final_recall_m: 0.9640 - final_f1_m: 0.9075 - val_loss: 0.4804 - val_pred1_loss: 0.1102 - val_pred2_loss: 0.1410 - val_pred3_loss: 0.1459 - val_final_loss: 0.0833 - val_pred1_accuracy: 0.9878 - val_pred1_precision_m: 0.9371 - val_pred1_recall_m: 0.9391 - val_pred1_f1_m: 0.9377 - val_pred2_accuracy: 0.9834 - val_pred2_precision_m: 0.9274 - val_pred2_recall_m: 0.9275 - val_pred2_f1_m: 0.9273 - val_pred3_accuracy: 0.9811 - val_pred3_precision_m: 0.9076 - val_pred3_recall_m: 0.9253 - val_pred3_f1_m: 0.9160 - val_final_accuracy: 0.9798 - val_final_precision_m: 0.8995 - val_final_recall_m: 0.9223 - val_final_f1_m: 0.9105 - lr: 1.0000e-04 - 31s/epoch - 285ms/step\n",
      "Epoch 44/70\n",
      "\n",
      "Epoch 00044: val_final_loss did not improve from 0.07090\n",
      "110/110 - 31s - loss: 0.4310 - pred1_loss: 0.1036 - pred2_loss: 0.1226 - pred3_loss: 0.1327 - final_loss: 0.0721 - pred1_accuracy: 0.9873 - pred1_precision_m: 0.9167 - pred1_recall_m: 0.9728 - pred1_f1_m: 0.9436 - pred2_accuracy: 0.9830 - pred2_precision_m: 0.8874 - pred2_recall_m: 0.9663 - pred2_f1_m: 0.9245 - pred3_accuracy: 0.9806 - pred3_precision_m: 0.8737 - pred3_recall_m: 0.9624 - pred3_f1_m: 0.9152 - final_accuracy: 0.9801 - final_precision_m: 0.8705 - final_recall_m: 0.9600 - final_f1_m: 0.9122 - val_loss: 0.4703 - val_pred1_loss: 0.1113 - val_pred2_loss: 0.1351 - val_pred3_loss: 0.1441 - val_final_loss: 0.0797 - val_pred1_accuracy: 0.9864 - val_pred1_precision_m: 0.9119 - val_pred1_recall_m: 0.9584 - val_pred1_f1_m: 0.9336 - val_pred2_accuracy: 0.9817 - val_pred2_precision_m: 0.8987 - val_pred2_recall_m: 0.9419 - val_pred2_f1_m: 0.9196 - val_pred3_accuracy: 0.9786 - val_pred3_precision_m: 0.8757 - val_pred3_recall_m: 0.9441 - val_pred3_f1_m: 0.9085 - val_final_accuracy: 0.9778 - val_final_precision_m: 0.8727 - val_final_recall_m: 0.9406 - val_final_f1_m: 0.9053 - lr: 1.0000e-04 - 31s/epoch - 284ms/step\n",
      "Epoch 45/70\n",
      "\n",
      "Epoch 00045: val_final_loss did not improve from 0.07090\n",
      "110/110 - 31s - loss: 0.4261 - pred1_loss: 0.1037 - pred2_loss: 0.1208 - pred3_loss: 0.1308 - final_loss: 0.0708 - pred1_accuracy: 0.9873 - pred1_precision_m: 0.9061 - pred1_recall_m: 0.9754 - pred1_f1_m: 0.9377 - pred2_accuracy: 0.9836 - pred2_precision_m: 0.8844 - pred2_recall_m: 0.9688 - pred2_f1_m: 0.9230 - pred3_accuracy: 0.9813 - pred3_precision_m: 0.8706 - pred3_recall_m: 0.9652 - pred3_f1_m: 0.9141 - final_accuracy: 0.9807 - final_precision_m: 0.8660 - final_recall_m: 0.9639 - final_f1_m: 0.9107 - val_loss: 0.4389 - val_pred1_loss: 0.1002 - val_pred2_loss: 0.1292 - val_pred3_loss: 0.1343 - val_final_loss: 0.0752 - val_pred1_accuracy: 0.9889 - val_pred1_precision_m: 0.9370 - val_pred1_recall_m: 0.9558 - val_pred1_f1_m: 0.9458 - val_pred2_accuracy: 0.9848 - val_pred2_precision_m: 0.9223 - val_pred2_recall_m: 0.9291 - val_pred2_f1_m: 0.9256 - val_pred3_accuracy: 0.9826 - val_pred3_precision_m: 0.9026 - val_pred3_recall_m: 0.9361 - val_pred3_f1_m: 0.9190 - val_final_accuracy: 0.9817 - val_final_precision_m: 0.9003 - val_final_recall_m: 0.9303 - val_final_f1_m: 0.9150 - lr: 1.0000e-04 - 31s/epoch - 285ms/step\n",
      "Epoch 46/70\n",
      "\n",
      "Epoch 00046: val_final_loss did not improve from 0.07090\n",
      "110/110 - 31s - loss: 0.4644 - pred1_loss: 0.1166 - pred2_loss: 0.1300 - pred3_loss: 0.1403 - final_loss: 0.0774 - pred1_accuracy: 0.9858 - pred1_precision_m: 0.9036 - pred1_recall_m: 0.9664 - pred1_f1_m: 0.9333 - pred2_accuracy: 0.9824 - pred2_precision_m: 0.8800 - pred2_recall_m: 0.9637 - pred2_f1_m: 0.9189 - pred3_accuracy: 0.9799 - pred3_precision_m: 0.8646 - pred3_recall_m: 0.9604 - pred3_f1_m: 0.9089 - final_accuracy: 0.9794 - final_precision_m: 0.8613 - final_recall_m: 0.9585 - final_f1_m: 0.9060 - val_loss: 0.6608 - val_pred1_loss: 0.1701 - val_pred2_loss: 0.1756 - val_pred3_loss: 0.1948 - val_final_loss: 0.1202 - val_pred1_accuracy: 0.9741 - val_pred1_precision_m: 0.8441 - val_pred1_recall_m: 0.9375 - val_pred1_f1_m: 0.8846 - val_pred2_accuracy: 0.9690 - val_pred2_precision_m: 0.8002 - val_pred2_recall_m: 0.9492 - val_pred2_f1_m: 0.8658 - val_pred3_accuracy: 0.9615 - val_pred3_precision_m: 0.7592 - val_pred3_recall_m: 0.9511 - val_pred3_f1_m: 0.8423 - val_final_accuracy: 0.9597 - val_final_precision_m: 0.7513 - val_final_recall_m: 0.9467 - val_final_f1_m: 0.8358 - lr: 1.0000e-04 - 31s/epoch - 285ms/step\n",
      "Epoch 47/70\n",
      "\n",
      "Epoch 00047: val_final_loss improved from 0.07090 to 0.06492, saving model to Checkpoints/weights.47-0.06.hdf5\n",
      "110/110 - 33s - loss: 0.4111 - pred1_loss: 0.0981 - pred2_loss: 0.1169 - pred3_loss: 0.1277 - final_loss: 0.0683 - pred1_accuracy: 0.9882 - pred1_precision_m: 0.9208 - pred1_recall_m: 0.9766 - pred1_f1_m: 0.9477 - pred2_accuracy: 0.9841 - pred2_precision_m: 0.8946 - pred2_recall_m: 0.9691 - pred2_f1_m: 0.9299 - pred3_accuracy: 0.9817 - pred3_precision_m: 0.8796 - pred3_recall_m: 0.9652 - pred3_f1_m: 0.9199 - final_accuracy: 0.9812 - final_precision_m: 0.8761 - final_recall_m: 0.9630 - final_f1_m: 0.9169 - val_loss: 0.3720 - val_pred1_loss: 0.0786 - val_pred2_loss: 0.1068 - val_pred3_loss: 0.1217 - val_final_loss: 0.0649 - val_pred1_accuracy: 0.9917 - val_pred1_precision_m: 0.9509 - val_pred1_recall_m: 0.9774 - val_pred1_f1_m: 0.9637 - val_pred2_accuracy: 0.9854 - val_pred2_precision_m: 0.9003 - val_pred2_recall_m: 0.9680 - val_pred2_f1_m: 0.9324 - val_pred3_accuracy: 0.9824 - val_pred3_precision_m: 0.8850 - val_pred3_recall_m: 0.9609 - val_pred3_f1_m: 0.9211 - val_final_accuracy: 0.9821 - val_final_precision_m: 0.8882 - val_final_recall_m: 0.9538 - val_final_f1_m: 0.9195 - lr: 1.0000e-04 - 33s/epoch - 303ms/step\n",
      "Epoch 48/70\n",
      "\n",
      "Epoch 00048: val_final_loss did not improve from 0.06492\n",
      "110/110 - 31s - loss: 0.3827 - pred1_loss: 0.0902 - pred2_loss: 0.1089 - pred3_loss: 0.1202 - final_loss: 0.0634 - pred1_accuracy: 0.9894 - pred1_precision_m: 0.9220 - pred1_recall_m: 0.9793 - pred1_f1_m: 0.9469 - pred2_accuracy: 0.9855 - pred2_precision_m: 0.8967 - pred2_recall_m: 0.9732 - pred2_f1_m: 0.9310 - pred3_accuracy: 0.9829 - pred3_precision_m: 0.8808 - pred3_recall_m: 0.9698 - pred3_f1_m: 0.9212 - final_accuracy: 0.9822 - final_precision_m: 0.8763 - final_recall_m: 0.9680 - final_f1_m: 0.9177 - val_loss: 0.4142 - val_pred1_loss: 0.0877 - val_pred2_loss: 0.1225 - val_pred3_loss: 0.1318 - val_final_loss: 0.0723 - val_pred1_accuracy: 0.9910 - val_pred1_precision_m: 0.9486 - val_pred1_recall_m: 0.9628 - val_pred1_f1_m: 0.9556 - val_pred2_accuracy: 0.9853 - val_pred2_precision_m: 0.9228 - val_pred2_recall_m: 0.9363 - val_pred2_f1_m: 0.9293 - val_pred3_accuracy: 0.9824 - val_pred3_precision_m: 0.8976 - val_pred3_recall_m: 0.9347 - val_pred3_f1_m: 0.9155 - val_final_accuracy: 0.9815 - val_final_precision_m: 0.8942 - val_final_recall_m: 0.9312 - val_final_f1_m: 0.9121 - lr: 1.0000e-04 - 31s/epoch - 284ms/step\n",
      "Epoch 49/70\n",
      "\n",
      "Epoch 00049: val_final_loss improved from 0.06492 to 0.06489, saving model to Checkpoints/weights.49-0.06.hdf5\n",
      "110/110 - 32s - loss: 0.4401 - pred1_loss: 0.1067 - pred2_loss: 0.1255 - pred3_loss: 0.1347 - final_loss: 0.0731 - pred1_accuracy: 0.9870 - pred1_precision_m: 0.9146 - pred1_recall_m: 0.9705 - pred1_f1_m: 0.9412 - pred2_accuracy: 0.9828 - pred2_precision_m: 0.8875 - pred2_recall_m: 0.9638 - pred2_f1_m: 0.9232 - pred3_accuracy: 0.9806 - pred3_precision_m: 0.8747 - pred3_recall_m: 0.9599 - pred3_f1_m: 0.9143 - final_accuracy: 0.9801 - final_precision_m: 0.8713 - final_recall_m: 0.9577 - final_f1_m: 0.9113 - val_loss: 0.3848 - val_pred1_loss: 0.0855 - val_pred2_loss: 0.1113 - val_pred3_loss: 0.1232 - val_final_loss: 0.0649 - val_pred1_accuracy: 0.9900 - val_pred1_precision_m: 0.9290 - val_pred1_recall_m: 0.9716 - val_pred1_f1_m: 0.9492 - val_pred2_accuracy: 0.9829 - val_pred2_precision_m: 0.8704 - val_pred2_recall_m: 0.9761 - val_pred2_f1_m: 0.9188 - val_pred3_accuracy: 0.9797 - val_pred3_precision_m: 0.8550 - val_pred3_recall_m: 0.9742 - val_pred3_f1_m: 0.9099 - val_final_accuracy: 0.9790 - val_final_precision_m: 0.8500 - val_final_recall_m: 0.9709 - val_final_f1_m: 0.9055 - lr: 1.0000e-04 - 32s/epoch - 292ms/step\n",
      "Epoch 50/70\n",
      "\n",
      "Epoch 00050: val_final_loss did not improve from 0.06489\n",
      "110/110 - 31s - loss: 0.4032 - pred1_loss: 0.0955 - pred2_loss: 0.1145 - pred3_loss: 0.1257 - final_loss: 0.0675 - pred1_accuracy: 0.9890 - pred1_precision_m: 0.9236 - pred1_recall_m: 0.9777 - pred1_f1_m: 0.9494 - pred2_accuracy: 0.9848 - pred2_precision_m: 0.8951 - pred2_recall_m: 0.9708 - pred2_f1_m: 0.9305 - pred3_accuracy: 0.9824 - pred3_precision_m: 0.8806 - pred3_recall_m: 0.9662 - pred3_f1_m: 0.9204 - final_accuracy: 0.9817 - final_precision_m: 0.8753 - final_recall_m: 0.9648 - final_f1_m: 0.9168 - val_loss: 0.3791 - val_pred1_loss: 0.0745 - val_pred2_loss: 0.1179 - val_pred3_loss: 0.1213 - val_final_loss: 0.0654 - val_pred1_accuracy: 0.9915 - val_pred1_precision_m: 0.9320 - val_pred1_recall_m: 0.9735 - val_pred1_f1_m: 0.9520 - val_pred2_accuracy: 0.9867 - val_pred2_precision_m: 0.9305 - val_pred2_recall_m: 0.9421 - val_pred2_f1_m: 0.9360 - val_pred3_accuracy: 0.9837 - val_pred3_precision_m: 0.8984 - val_pred3_recall_m: 0.9526 - val_pred3_f1_m: 0.9244 - val_final_accuracy: 0.9828 - val_final_precision_m: 0.8949 - val_final_recall_m: 0.9483 - val_final_f1_m: 0.9205 - lr: 1.0000e-04 - 31s/epoch - 285ms/step\n",
      "Epoch 51/70\n",
      "\n",
      "Epoch 00051: val_final_loss did not improve from 0.06489\n",
      "110/110 - 31s - loss: 0.3825 - pred1_loss: 0.0898 - pred2_loss: 0.1089 - pred3_loss: 0.1203 - final_loss: 0.0636 - pred1_accuracy: 0.9897 - pred1_precision_m: 0.9219 - pred1_recall_m: 0.9705 - pred1_f1_m: 0.9454 - pred2_accuracy: 0.9858 - pred2_precision_m: 0.8972 - pred2_recall_m: 0.9678 - pred2_f1_m: 0.9288 - pred3_accuracy: 0.9832 - pred3_precision_m: 0.8812 - pred3_recall_m: 0.9663 - pred3_f1_m: 0.9183 - final_accuracy: 0.9825 - final_precision_m: 0.8765 - final_recall_m: 0.9618 - final_f1_m: 0.9149 - val_loss: 0.3981 - val_pred1_loss: 0.0722 - val_pred2_loss: 0.1194 - val_pred3_loss: 0.1332 - val_final_loss: 0.0733 - val_pred1_accuracy: 0.9924 - val_pred1_precision_m: 0.9511 - val_pred1_recall_m: 0.9794 - val_pred1_f1_m: 0.9646 - val_pred2_accuracy: 0.9867 - val_pred2_precision_m: 0.9323 - val_pred2_recall_m: 0.9412 - val_pred2_f1_m: 0.9363 - val_pred3_accuracy: 0.9845 - val_pred3_precision_m: 0.9262 - val_pred3_recall_m: 0.9310 - val_pred3_f1_m: 0.9285 - val_final_accuracy: 0.9835 - val_final_precision_m: 0.9232 - val_final_recall_m: 0.9266 - val_final_f1_m: 0.9247 - lr: 1.0000e-04 - 31s/epoch - 284ms/step\n",
      "Epoch 52/70\n",
      "\n",
      "Epoch 00052: val_final_loss improved from 0.06489 to 0.06055, saving model to Checkpoints/weights.52-0.06.hdf5\n",
      "110/110 - 34s - loss: 0.3596 - pred1_loss: 0.0833 - pred2_loss: 0.1021 - pred3_loss: 0.1146 - final_loss: 0.0597 - pred1_accuracy: 0.9907 - pred1_precision_m: 0.9274 - pred1_recall_m: 0.9728 - pred1_f1_m: 0.9494 - pred2_accuracy: 0.9869 - pred2_precision_m: 0.9036 - pred2_recall_m: 0.9725 - pred2_f1_m: 0.9344 - pred3_accuracy: 0.9843 - pred3_precision_m: 0.8880 - pred3_recall_m: 0.9690 - pred3_f1_m: 0.9250 - final_accuracy: 0.9836 - final_precision_m: 0.8835 - final_recall_m: 0.9664 - final_f1_m: 0.9216 - val_loss: 0.3501 - val_pred1_loss: 0.0746 - val_pred2_loss: 0.1012 - val_pred3_loss: 0.1138 - val_final_loss: 0.0606 - val_pred1_accuracy: 0.9913 - val_pred1_precision_m: 0.9337 - val_pred1_recall_m: 0.9837 - val_pred1_f1_m: 0.9574 - val_pred2_accuracy: 0.9872 - val_pred2_precision_m: 0.9140 - val_pred2_recall_m: 0.9625 - val_pred2_f1_m: 0.9374 - val_pred3_accuracy: 0.9843 - val_pred3_precision_m: 0.8947 - val_pred3_recall_m: 0.9591 - val_pred3_f1_m: 0.9256 - val_final_accuracy: 0.9831 - val_final_precision_m: 0.8876 - val_final_recall_m: 0.9572 - val_final_f1_m: 0.9208 - lr: 1.0000e-04 - 34s/epoch - 306ms/step\n",
      "Epoch 53/70\n",
      "\n",
      "Epoch 00053: val_final_loss did not improve from 0.06055\n",
      "110/110 - 31s - loss: 0.4259 - pred1_loss: 0.1011 - pred2_loss: 0.1210 - pred3_loss: 0.1323 - final_loss: 0.0715 - pred1_accuracy: 0.9880 - pred1_precision_m: 0.9117 - pred1_recall_m: 0.9744 - pred1_f1_m: 0.9380 - pred2_accuracy: 0.9835 - pred2_precision_m: 0.8831 - pred2_recall_m: 0.9663 - pred2_f1_m: 0.9194 - pred3_accuracy: 0.9810 - pred3_precision_m: 0.8688 - pred3_recall_m: 0.9623 - pred3_f1_m: 0.9095 - final_accuracy: 0.9804 - final_precision_m: 0.8641 - final_recall_m: 0.9614 - final_f1_m: 0.9066 - val_loss: 0.4567 - val_pred1_loss: 0.1026 - val_pred2_loss: 0.1304 - val_pred3_loss: 0.1411 - val_final_loss: 0.0826 - val_pred1_accuracy: 0.9891 - val_pred1_precision_m: 0.9519 - val_pred1_recall_m: 0.9499 - val_pred1_f1_m: 0.9507 - val_pred2_accuracy: 0.9847 - val_pred2_precision_m: 0.9221 - val_pred2_recall_m: 0.9384 - val_pred2_f1_m: 0.9299 - val_pred3_accuracy: 0.9828 - val_pred3_precision_m: 0.9141 - val_pred3_recall_m: 0.9289 - val_pred3_f1_m: 0.9212 - val_final_accuracy: 0.9814 - val_final_precision_m: 0.9162 - val_final_recall_m: 0.9178 - val_final_f1_m: 0.9167 - lr: 1.0000e-04 - 31s/epoch - 284ms/step\n",
      "Epoch 54/70\n",
      "\n",
      "Epoch 00054: val_final_loss did not improve from 0.06055\n",
      "110/110 - 31s - loss: 0.3712 - pred1_loss: 0.0847 - pred2_loss: 0.1059 - pred3_loss: 0.1184 - final_loss: 0.0622 - pred1_accuracy: 0.9906 - pred1_precision_m: 0.9290 - pred1_recall_m: 0.9811 - pred1_f1_m: 0.9519 - pred2_accuracy: 0.9863 - pred2_precision_m: 0.9015 - pred2_recall_m: 0.9740 - pred2_f1_m: 0.9343 - pred3_accuracy: 0.9837 - pred3_precision_m: 0.8858 - pred3_recall_m: 0.9691 - pred3_f1_m: 0.9234 - final_accuracy: 0.9830 - final_precision_m: 0.8818 - final_recall_m: 0.9667 - final_f1_m: 0.9201 - val_loss: 0.4061 - val_pred1_loss: 0.0864 - val_pred2_loss: 0.1209 - val_pred3_loss: 0.1279 - val_final_loss: 0.0708 - val_pred1_accuracy: 0.9914 - val_pred1_precision_m: 0.9591 - val_pred1_recall_m: 0.9661 - val_pred1_f1_m: 0.9623 - val_pred2_accuracy: 0.9867 - val_pred2_precision_m: 0.9433 - val_pred2_recall_m: 0.9389 - val_pred2_f1_m: 0.9410 - val_pred3_accuracy: 0.9839 - val_pred3_precision_m: 0.9180 - val_pred3_recall_m: 0.9428 - val_pred3_f1_m: 0.9302 - val_final_accuracy: 0.9826 - val_final_precision_m: 0.9131 - val_final_recall_m: 0.9370 - val_final_f1_m: 0.9248 - lr: 1.0000e-04 - 31s/epoch - 285ms/step\n",
      "Epoch 55/70\n",
      "\n",
      "Epoch 00055: val_final_loss did not improve from 0.06055\n",
      "110/110 - 31s - loss: 0.3947 - pred1_loss: 0.0943 - pred2_loss: 0.1113 - pred3_loss: 0.1236 - final_loss: 0.0654 - pred1_accuracy: 0.9891 - pred1_precision_m: 0.9282 - pred1_recall_m: 0.9759 - pred1_f1_m: 0.9512 - pred2_accuracy: 0.9853 - pred2_precision_m: 0.9028 - pred2_recall_m: 0.9708 - pred2_f1_m: 0.9352 - pred3_accuracy: 0.9827 - pred3_precision_m: 0.8869 - pred3_recall_m: 0.9656 - pred3_f1_m: 0.9242 - final_accuracy: 0.9820 - final_precision_m: 0.8828 - final_recall_m: 0.9635 - final_f1_m: 0.9209 - val_loss: 0.4238 - val_pred1_loss: 0.0882 - val_pred2_loss: 0.1199 - val_pred3_loss: 0.1368 - val_final_loss: 0.0790 - val_pred1_accuracy: 0.9912 - val_pred1_precision_m: 0.9539 - val_pred1_recall_m: 0.9657 - val_pred1_f1_m: 0.9592 - val_pred2_accuracy: 0.9861 - val_pred2_precision_m: 0.9259 - val_pred2_recall_m: 0.9453 - val_pred2_f1_m: 0.9352 - val_pred3_accuracy: 0.9834 - val_pred3_precision_m: 0.9170 - val_pred3_recall_m: 0.9320 - val_pred3_f1_m: 0.9242 - val_final_accuracy: 0.9823 - val_final_precision_m: 0.9170 - val_final_recall_m: 0.9200 - val_final_f1_m: 0.9183 - lr: 1.0000e-04 - 31s/epoch - 285ms/step\n",
      "Epoch 56/70\n",
      "\n",
      "Epoch 00056: val_final_loss did not improve from 0.06055\n",
      "110/110 - 31s - loss: 0.3806 - pred1_loss: 0.0908 - pred2_loss: 0.1081 - pred3_loss: 0.1194 - final_loss: 0.0624 - pred1_accuracy: 0.9896 - pred1_precision_m: 0.9259 - pred1_recall_m: 0.9790 - pred1_f1_m: 0.9510 - pred2_accuracy: 0.9858 - pred2_precision_m: 0.9032 - pred2_recall_m: 0.9712 - pred2_f1_m: 0.9355 - pred3_accuracy: 0.9832 - pred3_precision_m: 0.8855 - pred3_recall_m: 0.9685 - pred3_f1_m: 0.9244 - final_accuracy: 0.9825 - final_precision_m: 0.8810 - final_recall_m: 0.9668 - final_f1_m: 0.9213 - val_loss: 0.3615 - val_pred1_loss: 0.0793 - val_pred2_loss: 0.1021 - val_pred3_loss: 0.1177 - val_final_loss: 0.0624 - val_pred1_accuracy: 0.9912 - val_pred1_precision_m: 0.9432 - val_pred1_recall_m: 0.9730 - val_pred1_f1_m: 0.9577 - val_pred2_accuracy: 0.9870 - val_pred2_precision_m: 0.9206 - val_pred2_recall_m: 0.9659 - val_pred2_f1_m: 0.9426 - val_pred3_accuracy: 0.9828 - val_pred3_precision_m: 0.8935 - val_pred3_recall_m: 0.9625 - val_pred3_f1_m: 0.9267 - val_final_accuracy: 0.9822 - val_final_precision_m: 0.8933 - val_final_recall_m: 0.9554 - val_final_f1_m: 0.9233 - lr: 1.0000e-04 - 31s/epoch - 285ms/step\n",
      "Epoch 57/70\n",
      "\n",
      "Epoch 00057: val_final_loss did not improve from 0.06055\n",
      "110/110 - 31s - loss: 0.3922 - pred1_loss: 0.0928 - pred2_loss: 0.1109 - pred3_loss: 0.1234 - final_loss: 0.0650 - pred1_accuracy: 0.9893 - pred1_precision_m: 0.9271 - pred1_recall_m: 0.9766 - pred1_f1_m: 0.9510 - pred2_accuracy: 0.9855 - pred2_precision_m: 0.9031 - pred2_recall_m: 0.9703 - pred2_f1_m: 0.9351 - pred3_accuracy: 0.9827 - pred3_precision_m: 0.8867 - pred3_recall_m: 0.9650 - pred3_f1_m: 0.9238 - final_accuracy: 0.9821 - final_precision_m: 0.8820 - final_recall_m: 0.9633 - final_f1_m: 0.9203 - val_loss: 0.3673 - val_pred1_loss: 0.0729 - val_pred2_loss: 0.1075 - val_pred3_loss: 0.1238 - val_final_loss: 0.0631 - val_pred1_accuracy: 0.9909 - val_pred1_precision_m: 0.9311 - val_pred1_recall_m: 0.9887 - val_pred1_f1_m: 0.9587 - val_pred2_accuracy: 0.9843 - val_pred2_precision_m: 0.8932 - val_pred2_recall_m: 0.9733 - val_pred2_f1_m: 0.9315 - val_pred3_accuracy: 0.9789 - val_pred3_precision_m: 0.8574 - val_pred3_recall_m: 0.9745 - val_pred3_f1_m: 0.9121 - val_final_accuracy: 0.9793 - val_final_precision_m: 0.8626 - val_final_recall_m: 0.9706 - val_final_f1_m: 0.9133 - lr: 1.0000e-04 - 31s/epoch - 284ms/step\n",
      "Epoch 58/70\n",
      "\n",
      "Epoch 00058: val_final_loss did not improve from 0.06055\n",
      "110/110 - 31s - loss: 0.3727 - pred1_loss: 0.0851 - pred2_loss: 0.1059 - pred3_loss: 0.1191 - final_loss: 0.0626 - pred1_accuracy: 0.9905 - pred1_precision_m: 0.9278 - pred1_recall_m: 0.9713 - pred1_f1_m: 0.9489 - pred2_accuracy: 0.9862 - pred2_precision_m: 0.8970 - pred2_recall_m: 0.9661 - pred2_f1_m: 0.9298 - pred3_accuracy: 0.9833 - pred3_precision_m: 0.8796 - pred3_recall_m: 0.9611 - pred3_f1_m: 0.9180 - final_accuracy: 0.9825 - final_precision_m: 0.8739 - final_recall_m: 0.9598 - final_f1_m: 0.9142 - val_loss: 0.4569 - val_pred1_loss: 0.1042 - val_pred2_loss: 0.1277 - val_pred3_loss: 0.1402 - val_final_loss: 0.0848 - val_pred1_accuracy: 0.9903 - val_pred1_precision_m: 0.9673 - val_pred1_recall_m: 0.9500 - val_pred1_f1_m: 0.9581 - val_pred2_accuracy: 0.9865 - val_pred2_precision_m: 0.9416 - val_pred2_recall_m: 0.9318 - val_pred2_f1_m: 0.9362 - val_pred3_accuracy: 0.9842 - val_pred3_precision_m: 0.9344 - val_pred3_recall_m: 0.9208 - val_pred3_f1_m: 0.9274 - val_final_accuracy: 0.9825 - val_final_precision_m: 0.9338 - val_final_recall_m: 0.9055 - val_final_f1_m: 0.9192 - lr: 1.0000e-04 - 31s/epoch - 284ms/step\n",
      "Epoch 59/70\n",
      "\n",
      "Epoch 00059: val_final_loss improved from 0.06055 to 0.05320, saving model to Checkpoints/weights.59-0.05.hdf5\n",
      "110/110 - 32s - loss: 0.3341 - pred1_loss: 0.0750 - pred2_loss: 0.0949 - pred3_loss: 0.1087 - final_loss: 0.0555 - pred1_accuracy: 0.9919 - pred1_precision_m: 0.9448 - pred1_recall_m: 0.9837 - pred1_f1_m: 0.9637 - pred2_accuracy: 0.9880 - pred2_precision_m: 0.9195 - pred2_recall_m: 0.9767 - pred2_f1_m: 0.9470 - pred3_accuracy: 0.9851 - pred3_precision_m: 0.9014 - pred3_recall_m: 0.9720 - pred3_f1_m: 0.9351 - final_accuracy: 0.9844 - final_precision_m: 0.8968 - final_recall_m: 0.9700 - final_f1_m: 0.9316 - val_loss: 0.3006 - val_pred1_loss: 0.0597 - val_pred2_loss: 0.0838 - val_pred3_loss: 0.1039 - val_final_loss: 0.0532 - val_pred1_accuracy: 0.9934 - val_pred1_precision_m: 0.9478 - val_pred1_recall_m: 0.9898 - val_pred1_f1_m: 0.9680 - val_pred2_accuracy: 0.9891 - val_pred2_precision_m: 0.9189 - val_pred2_recall_m: 0.9808 - val_pred2_f1_m: 0.9485 - val_pred3_accuracy: 0.9844 - val_pred3_precision_m: 0.8908 - val_pred3_recall_m: 0.9754 - val_pred3_f1_m: 0.9310 - val_final_accuracy: 0.9839 - val_final_precision_m: 0.8906 - val_final_recall_m: 0.9692 - val_final_f1_m: 0.9280 - lr: 1.0000e-04 - 32s/epoch - 292ms/step\n",
      "Epoch 60/70\n",
      "\n",
      "Epoch 00060: val_final_loss did not improve from 0.05320\n",
      "110/110 - 31s - loss: 0.3299 - pred1_loss: 0.0738 - pred2_loss: 0.0931 - pred3_loss: 0.1078 - final_loss: 0.0553 - pred1_accuracy: 0.9922 - pred1_precision_m: 0.9387 - pred1_recall_m: 0.9822 - pred1_f1_m: 0.9588 - pred2_accuracy: 0.9885 - pred2_precision_m: 0.9148 - pred2_recall_m: 0.9783 - pred2_f1_m: 0.9440 - pred3_accuracy: 0.9856 - pred3_precision_m: 0.8965 - pred3_recall_m: 0.9722 - pred3_f1_m: 0.9314 - final_accuracy: 0.9847 - final_precision_m: 0.8916 - final_recall_m: 0.9698 - final_f1_m: 0.9281 - val_loss: 0.3896 - val_pred1_loss: 0.0798 - val_pred2_loss: 0.1127 - val_pred3_loss: 0.1274 - val_final_loss: 0.0696 - val_pred1_accuracy: 0.9927 - val_pred1_precision_m: 0.9660 - val_pred1_recall_m: 0.9699 - val_pred1_f1_m: 0.9676 - val_pred2_accuracy: 0.9874 - val_pred2_precision_m: 0.9351 - val_pred2_recall_m: 0.9467 - val_pred2_f1_m: 0.9405 - val_pred3_accuracy: 0.9851 - val_pred3_precision_m: 0.9260 - val_pred3_recall_m: 0.9365 - val_pred3_f1_m: 0.9309 - val_final_accuracy: 0.9840 - val_final_precision_m: 0.9208 - val_final_recall_m: 0.9321 - val_final_f1_m: 0.9261 - lr: 1.0000e-04 - 31s/epoch - 284ms/step\n",
      "Epoch 61/70\n",
      "\n",
      "Epoch 00061: val_final_loss did not improve from 0.05320\n",
      "110/110 - 31s - loss: 0.3739 - pred1_loss: 0.0873 - pred2_loss: 0.1059 - pred3_loss: 0.1188 - final_loss: 0.0619 - pred1_accuracy: 0.9899 - pred1_precision_m: 0.9346 - pred1_recall_m: 0.9790 - pred1_f1_m: 0.9561 - pred2_accuracy: 0.9859 - pred2_precision_m: 0.9072 - pred2_recall_m: 0.9728 - pred2_f1_m: 0.9385 - pred3_accuracy: 0.9831 - pred3_precision_m: 0.8897 - pred3_recall_m: 0.9677 - pred3_f1_m: 0.9266 - final_accuracy: 0.9825 - final_precision_m: 0.8863 - final_recall_m: 0.9654 - final_f1_m: 0.9238 - val_loss: 0.3481 - val_pred1_loss: 0.0703 - val_pred2_loss: 0.0992 - val_pred3_loss: 0.1185 - val_final_loss: 0.0600 - val_pred1_accuracy: 0.9932 - val_pred1_precision_m: 0.9597 - val_pred1_recall_m: 0.9761 - val_pred1_f1_m: 0.9673 - val_pred2_accuracy: 0.9891 - val_pred2_precision_m: 0.9388 - val_pred2_recall_m: 0.9558 - val_pred2_f1_m: 0.9469 - val_pred3_accuracy: 0.9858 - val_pred3_precision_m: 0.9247 - val_pred3_recall_m: 0.9436 - val_pred3_f1_m: 0.9339 - val_final_accuracy: 0.9848 - val_final_precision_m: 0.9135 - val_final_recall_m: 0.9488 - val_final_f1_m: 0.9305 - lr: 1.0000e-04 - 31s/epoch - 285ms/step\n",
      "Epoch 62/70\n",
      "\n",
      "Epoch 00062: val_final_loss did not improve from 0.05320\n",
      "110/110 - 31s - loss: 0.3308 - pred1_loss: 0.0747 - pred2_loss: 0.0932 - pred3_loss: 0.1075 - final_loss: 0.0553 - pred1_accuracy: 0.9922 - pred1_precision_m: 0.9386 - pred1_recall_m: 0.9748 - pred1_f1_m: 0.9562 - pred2_accuracy: 0.9885 - pred2_precision_m: 0.9138 - pred2_recall_m: 0.9694 - pred2_f1_m: 0.9406 - pred3_accuracy: 0.9856 - pred3_precision_m: 0.8949 - pred3_recall_m: 0.9691 - pred3_f1_m: 0.9283 - final_accuracy: 0.9848 - final_precision_m: 0.8898 - final_recall_m: 0.9621 - final_f1_m: 0.9242 - val_loss: 0.2998 - val_pred1_loss: 0.0593 - val_pred2_loss: 0.0847 - val_pred3_loss: 0.1025 - val_final_loss: 0.0533 - val_pred1_accuracy: 0.9940 - val_pred1_precision_m: 0.9573 - val_pred1_recall_m: 0.9848 - val_pred1_f1_m: 0.9704 - val_pred2_accuracy: 0.9889 - val_pred2_precision_m: 0.9211 - val_pred2_recall_m: 0.9761 - val_pred2_f1_m: 0.9477 - val_pred3_accuracy: 0.9850 - val_pred3_precision_m: 0.8967 - val_pred3_recall_m: 0.9738 - val_pred3_f1_m: 0.9336 - val_final_accuracy: 0.9845 - val_final_precision_m: 0.8991 - val_final_recall_m: 0.9655 - val_final_f1_m: 0.9311 - lr: 1.0000e-04 - 31s/epoch - 284ms/step\n",
      "Epoch 63/70\n",
      "\n",
      "Epoch 00063: val_final_loss did not improve from 0.05320\n",
      "110/110 - 31s - loss: 0.3202 - pred1_loss: 0.0721 - pred2_loss: 0.0894 - pred3_loss: 0.1051 - final_loss: 0.0536 - pred1_accuracy: 0.9924 - pred1_precision_m: 0.9453 - pred1_recall_m: 0.9854 - pred1_f1_m: 0.9646 - pred2_accuracy: 0.9889 - pred2_precision_m: 0.9209 - pred2_recall_m: 0.9805 - pred2_f1_m: 0.9489 - pred3_accuracy: 0.9859 - pred3_precision_m: 0.9017 - pred3_recall_m: 0.9742 - pred3_f1_m: 0.9355 - final_accuracy: 0.9850 - final_precision_m: 0.8956 - final_recall_m: 0.9720 - final_f1_m: 0.9315 - val_loss: 0.3483 - val_pred1_loss: 0.0571 - val_pred2_loss: 0.1106 - val_pred3_loss: 0.1172 - val_final_loss: 0.0634 - val_pred1_accuracy: 0.9940 - val_pred1_precision_m: 0.9500 - val_pred1_recall_m: 0.9893 - val_pred1_f1_m: 0.9686 - val_pred2_accuracy: 0.9888 - val_pred2_precision_m: 0.9526 - val_pred2_recall_m: 0.9392 - val_pred2_f1_m: 0.9457 - val_pred3_accuracy: 0.9866 - val_pred3_precision_m: 0.9341 - val_pred3_recall_m: 0.9404 - val_pred3_f1_m: 0.9372 - val_final_accuracy: 0.9855 - val_final_precision_m: 0.9315 - val_final_recall_m: 0.9335 - val_final_f1_m: 0.9324 - lr: 1.0000e-04 - 31s/epoch - 286ms/step\n",
      "Epoch 64/70\n",
      "\n",
      "Epoch 00064: val_final_loss did not improve from 0.05320\n",
      "110/110 - 31s - loss: 0.3387 - pred1_loss: 0.0748 - pred2_loss: 0.0968 - pred3_loss: 0.1105 - final_loss: 0.0565 - pred1_accuracy: 0.9922 - pred1_precision_m: 0.9403 - pred1_recall_m: 0.9840 - pred1_f1_m: 0.9599 - pred2_accuracy: 0.9878 - pred2_precision_m: 0.9120 - pred2_recall_m: 0.9771 - pred2_f1_m: 0.9415 - pred3_accuracy: 0.9849 - pred3_precision_m: 0.8939 - pred3_recall_m: 0.9717 - pred3_f1_m: 0.9293 - final_accuracy: 0.9841 - final_precision_m: 0.8884 - final_recall_m: 0.9707 - final_f1_m: 0.9257 - val_loss: 0.3468 - val_pred1_loss: 0.0695 - val_pred2_loss: 0.0944 - val_pred3_loss: 0.1186 - val_final_loss: 0.0642 - val_pred1_accuracy: 0.9933 - val_pred1_precision_m: 0.9633 - val_pred1_recall_m: 0.9759 - val_pred1_f1_m: 0.9693 - val_pred2_accuracy: 0.9893 - val_pred2_precision_m: 0.9373 - val_pred2_recall_m: 0.9641 - val_pred2_f1_m: 0.9501 - val_pred3_accuracy: 0.9856 - val_pred3_precision_m: 0.9210 - val_pred3_recall_m: 0.9462 - val_pred3_f1_m: 0.9332 - val_final_accuracy: 0.9843 - val_final_precision_m: 0.9146 - val_final_recall_m: 0.9420 - val_final_f1_m: 0.9278 - lr: 1.0000e-04 - 31s/epoch - 284ms/step\n",
      "Epoch 65/70\n",
      "\n",
      "Epoch 00065: val_final_loss did not improve from 0.05320\n",
      "110/110 - 31s - loss: 0.3794 - pred1_loss: 0.0893 - pred2_loss: 0.1066 - pred3_loss: 0.1202 - final_loss: 0.0633 - pred1_accuracy: 0.9901 - pred1_precision_m: 0.9341 - pred1_recall_m: 0.9749 - pred1_f1_m: 0.9535 - pred2_accuracy: 0.9864 - pred2_precision_m: 0.9096 - pred2_recall_m: 0.9687 - pred2_f1_m: 0.9373 - pred3_accuracy: 0.9834 - pred3_precision_m: 0.8904 - pred3_recall_m: 0.9645 - pred3_f1_m: 0.9251 - final_accuracy: 0.9827 - final_precision_m: 0.8869 - final_recall_m: 0.9615 - final_f1_m: 0.9216 - val_loss: 0.3597 - val_pred1_loss: 0.0723 - val_pred2_loss: 0.1051 - val_pred3_loss: 0.1197 - val_final_loss: 0.0625 - val_pred1_accuracy: 0.9929 - val_pred1_precision_m: 0.9540 - val_pred1_recall_m: 0.9792 - val_pred1_f1_m: 0.9660 - val_pred2_accuracy: 0.9849 - val_pred2_precision_m: 0.8898 - val_pred2_recall_m: 0.9763 - val_pred2_f1_m: 0.9303 - val_pred3_accuracy: 0.9813 - val_pred3_precision_m: 0.8680 - val_pred3_recall_m: 0.9709 - val_pred3_f1_m: 0.9160 - val_final_accuracy: 0.9810 - val_final_precision_m: 0.8703 - val_final_recall_m: 0.9654 - val_final_f1_m: 0.9148 - lr: 1.0000e-04 - 31s/epoch - 284ms/step\n",
      "Epoch 66/70\n",
      "\n",
      "Epoch 00066: val_final_loss did not improve from 0.05320\n",
      "110/110 - 31s - loss: 0.3879 - pred1_loss: 0.0894 - pred2_loss: 0.1106 - pred3_loss: 0.1229 - final_loss: 0.0651 - pred1_accuracy: 0.9899 - pred1_precision_m: 0.9336 - pred1_recall_m: 0.9783 - pred1_f1_m: 0.9550 - pred2_accuracy: 0.9854 - pred2_precision_m: 0.9015 - pred2_recall_m: 0.9706 - pred2_f1_m: 0.9340 - pred3_accuracy: 0.9826 - pred3_precision_m: 0.8838 - pred3_recall_m: 0.9665 - pred3_f1_m: 0.9224 - final_accuracy: 0.9817 - final_precision_m: 0.8768 - final_recall_m: 0.9656 - final_f1_m: 0.9180 - val_loss: 0.3949 - val_pred1_loss: 0.0746 - val_pred2_loss: 0.1141 - val_pred3_loss: 0.1326 - val_final_loss: 0.0736 - val_pred1_accuracy: 0.9932 - val_pred1_precision_m: 0.9641 - val_pred1_recall_m: 0.9721 - val_pred1_f1_m: 0.9675 - val_pred2_accuracy: 0.9877 - val_pred2_precision_m: 0.9449 - val_pred2_recall_m: 0.9456 - val_pred2_f1_m: 0.9450 - val_pred3_accuracy: 0.9852 - val_pred3_precision_m: 0.9385 - val_pred3_recall_m: 0.9282 - val_pred3_f1_m: 0.9332 - val_final_accuracy: 0.9840 - val_final_precision_m: 0.9324 - val_final_recall_m: 0.9224 - val_final_f1_m: 0.9272 - lr: 1.0000e-04 - 31s/epoch - 285ms/step\n",
      "Epoch 67/70\n",
      "\n",
      "Epoch 00067: val_final_loss improved from 0.05320 to 0.05048, saving model to Checkpoints/weights.67-0.05.hdf5\n",
      "110/110 - 32s - loss: 0.3431 - pred1_loss: 0.0757 - pred2_loss: 0.0998 - pred3_loss: 0.1107 - final_loss: 0.0569 - pred1_accuracy: 0.9918 - pred1_precision_m: 0.9435 - pred1_recall_m: 0.9842 - pred1_f1_m: 0.9633 - pred2_accuracy: 0.9872 - pred2_precision_m: 0.9116 - pred2_recall_m: 0.9764 - pred2_f1_m: 0.9425 - pred3_accuracy: 0.9849 - pred3_precision_m: 0.8986 - pred3_recall_m: 0.9718 - pred3_f1_m: 0.9335 - final_accuracy: 0.9842 - final_precision_m: 0.8937 - final_recall_m: 0.9698 - final_f1_m: 0.9298 - val_loss: 0.2775 - val_pred1_loss: 0.0507 - val_pred2_loss: 0.0784 - val_pred3_loss: 0.0979 - val_final_loss: 0.0505 - val_pred1_accuracy: 0.9953 - val_pred1_precision_m: 0.9679 - val_pred1_recall_m: 0.9874 - val_pred1_f1_m: 0.9773 - val_pred2_accuracy: 0.9906 - val_pred2_precision_m: 0.9345 - val_pred2_recall_m: 0.9800 - val_pred2_f1_m: 0.9565 - val_pred3_accuracy: 0.9869 - val_pred3_precision_m: 0.9117 - val_pred3_recall_m: 0.9700 - val_pred3_f1_m: 0.9399 - val_final_accuracy: 0.9857 - val_final_precision_m: 0.9066 - val_final_recall_m: 0.9647 - val_final_f1_m: 0.9347 - lr: 1.0000e-04 - 32s/epoch - 292ms/step\n",
      "Epoch 68/70\n",
      "\n",
      "Epoch 00068: val_final_loss did not improve from 0.05048\n",
      "110/110 - 31s - loss: 0.3062 - pred1_loss: 0.0664 - pred2_loss: 0.0865 - pred3_loss: 0.1018 - final_loss: 0.0515 - pred1_accuracy: 0.9932 - pred1_precision_m: 0.9515 - pred1_recall_m: 0.9872 - pred1_f1_m: 0.9688 - pred2_accuracy: 0.9894 - pred2_precision_m: 0.9247 - pred2_recall_m: 0.9811 - pred2_f1_m: 0.9515 - pred3_accuracy: 0.9863 - pred3_precision_m: 0.9051 - pred3_recall_m: 0.9757 - pred3_f1_m: 0.9386 - final_accuracy: 0.9854 - final_precision_m: 0.8996 - final_recall_m: 0.9733 - final_f1_m: 0.9344 - val_loss: 0.3323 - val_pred1_loss: 0.0634 - val_pred2_loss: 0.0959 - val_pred3_loss: 0.1137 - val_final_loss: 0.0594 - val_pred1_accuracy: 0.9941 - val_pred1_precision_m: 0.9608 - val_pred1_recall_m: 0.9768 - val_pred1_f1_m: 0.9685 - val_pred2_accuracy: 0.9901 - val_pred2_precision_m: 0.9497 - val_pred2_recall_m: 0.9534 - val_pred2_f1_m: 0.9514 - val_pred3_accuracy: 0.9870 - val_pred3_precision_m: 0.9355 - val_pred3_recall_m: 0.9437 - val_pred3_f1_m: 0.9396 - val_final_accuracy: 0.9858 - val_final_precision_m: 0.9274 - val_final_recall_m: 0.9423 - val_final_f1_m: 0.9348 - lr: 1.0000e-04 - 31s/epoch - 284ms/step\n",
      "Epoch 69/70\n",
      "\n",
      "Epoch 00069: val_final_loss did not improve from 0.05048\n",
      "110/110 - 31s - loss: 0.3700 - pred1_loss: 0.0839 - pred2_loss: 0.1057 - pred3_loss: 0.1186 - final_loss: 0.0618 - pred1_accuracy: 0.9908 - pred1_precision_m: 0.9404 - pred1_recall_m: 0.9779 - pred1_f1_m: 0.9585 - pred2_accuracy: 0.9864 - pred2_precision_m: 0.9116 - pred2_recall_m: 0.9702 - pred2_f1_m: 0.9394 - pred3_accuracy: 0.9836 - pred3_precision_m: 0.8943 - pred3_recall_m: 0.9655 - pred3_f1_m: 0.9278 - final_accuracy: 0.9828 - final_precision_m: 0.8891 - final_recall_m: 0.9639 - final_f1_m: 0.9242 - val_loss: 0.2895 - val_pred1_loss: 0.0545 - val_pred2_loss: 0.0807 - val_pred3_loss: 0.1018 - val_final_loss: 0.0525 - val_pred1_accuracy: 0.9945 - val_pred1_precision_m: 0.9603 - val_pred1_recall_m: 0.9889 - val_pred1_f1_m: 0.9742 - val_pred2_accuracy: 0.9899 - val_pred2_precision_m: 0.9264 - val_pred2_recall_m: 0.9797 - val_pred2_f1_m: 0.9520 - val_pred3_accuracy: 0.9847 - val_pred3_precision_m: 0.8901 - val_pred3_recall_m: 0.9769 - val_pred3_f1_m: 0.9313 - val_final_accuracy: 0.9836 - val_final_precision_m: 0.8862 - val_final_recall_m: 0.9714 - val_final_f1_m: 0.9267 - lr: 1.0000e-04 - 31s/epoch - 285ms/step\n",
      "Epoch 70/70\n",
      "\n",
      "Epoch 00070: val_final_loss did not improve from 0.05048\n",
      "110/110 - 31s - loss: 0.3046 - pred1_loss: 0.0669 - pred2_loss: 0.0855 - pred3_loss: 0.1013 - final_loss: 0.0509 - pred1_accuracy: 0.9931 - pred1_precision_m: 0.9474 - pred1_recall_m: 0.9869 - pred1_f1_m: 0.9656 - pred2_accuracy: 0.9896 - pred2_precision_m: 0.9244 - pred2_recall_m: 0.9814 - pred2_f1_m: 0.9509 - pred3_accuracy: 0.9865 - pred3_precision_m: 0.9044 - pred3_recall_m: 0.9759 - pred3_f1_m: 0.9375 - final_accuracy: 0.9855 - final_precision_m: 0.8978 - final_recall_m: 0.9743 - final_f1_m: 0.9332 - val_loss: 0.2906 - val_pred1_loss: 0.0546 - val_pred2_loss: 0.0824 - val_pred3_loss: 0.1016 - val_final_loss: 0.0520 - val_pred1_accuracy: 0.9943 - val_pred1_precision_m: 0.9637 - val_pred1_recall_m: 0.9869 - val_pred1_f1_m: 0.9751 - val_pred2_accuracy: 0.9903 - val_pred2_precision_m: 0.9366 - val_pred2_recall_m: 0.9733 - val_pred2_f1_m: 0.9544 - val_pred3_accuracy: 0.9857 - val_pred3_precision_m: 0.9068 - val_pred3_recall_m: 0.9694 - val_pred3_f1_m: 0.9370 - val_final_accuracy: 0.9846 - val_final_precision_m: 0.9003 - val_final_recall_m: 0.9660 - val_final_f1_m: 0.9319 - lr: 1.0000e-04 - 31s/epoch - 285ms/step\n",
      "5/5 - 2s - loss: 1.8123 - pred1_loss: 0.5005 - pred2_loss: 0.4815 - pred3_loss: 0.4660 - final_loss: 0.3643 - pred1_accuracy: 0.9158 - pred1_precision_m: 0.6066 - pred1_recall_m: 0.6031 - pred1_f1_m: 0.6038 - pred2_accuracy: 0.9185 - pred2_precision_m: 0.6220 - pred2_recall_m: 0.6237 - pred2_f1_m: 0.6211 - pred3_accuracy: 0.9178 - pred3_precision_m: 0.6117 - pred3_recall_m: 0.6526 - pred3_f1_m: 0.6296 - final_accuracy: 0.9178 - final_precision_m: 0.6127 - final_recall_m: 0.6494 - final_f1_m: 0.6286 - 2s/epoch - 405ms/step\n",
      "The metrics for the test set with learning rate 0.0001,  filters 32, and batch size 16 is [1.8122721910476685, 0.5004895925521851, 0.48146170377731323, 0.46602195501327515, 0.36429885029792786, 0.9157730937004089, 0.6065622568130493, 0.6031131744384766, 0.6038413047790527, 0.9184730052947998, 0.6219738721847534, 0.6236854791641235, 0.6210644841194153, 0.9178474545478821, 0.6116591691970825, 0.6525708436965942, 0.6296442747116089, 0.9177736639976501, 0.6126705408096313, 0.6493851542472839, 0.6286212801933289]\n",
      "__________________________________________________________________________________________________________________________________________________________________________\n",
      "time: 37min 24s (started: 2022-04-27 14:40:56 +02:00)\n"
     ]
    }
   ],
   "source": [
    "pretrained_weights = \"Weights/weights_China.hdf5\" # Add the path of the weights the previous region\n",
    "\n",
    "# Number of epochs\n",
    "NUMBER_EPOCHS = 70\n",
    "\n",
    "# List of hyperparameters\n",
    "lr = [1e-4]\n",
    "batch_size_list = [16]\n",
    "filters = [32]\n",
    "\n",
    "# Dictionary of results\n",
    "results = {\n",
    "           \"filters\": [],\n",
    "           \"learning_rate\": [],\n",
    "           \"batch_size\": [],\n",
    "           \"loss\": [],\n",
    "           \"accuracy\": [],\n",
    "           \"precision\": [],\n",
    "           \"recall\": [],\n",
    "           \"f1\": []\n",
    "           }\n",
    "\n",
    "# Multi-scales for training and testing\n",
    "gt1 = Y_train[:,::8,::8,:]\n",
    "gt2 = Y_train[:,::4,::4,:]\n",
    "gt3 = Y_train[:,::2,::2,:]\n",
    "gt4 = Y_train\n",
    "gt_train = [gt1,gt2,gt3,gt4]\n",
    "\n",
    "# gv1 = Yval[:,::8,::8,:]\n",
    "# gv2 = Yval[:,::4,::4,:]\n",
    "# gv3 = Yval[:,::2,::2,:]\n",
    "# gv4 = Yval\n",
    "# gv_val = [gv1,gv2,gv3,gv4]\n",
    "\n",
    "gte1 = Y_test[:,::8,::8,:]\n",
    "gte2 = Y_test[:,::4,::4,:]\n",
    "gte3 = Y_test[:,::2,::2,:]\n",
    "gte4 = Y_test\n",
    "gt_test = [gte1,gte2,gte3,gte4]\n",
    "\n",
    "\n",
    "for learning_rate in lr:\n",
    "\n",
    "    for batch_size in batch_size_list:\n",
    "\n",
    "        for no_filters in filters:\n",
    "\n",
    "            # Define the model architecture\n",
    "            def ms_attUNet(lr,filtersFirstLayer, pretrained_weights = pretrained_weights, input_size = (PATCHSIZE, PATCHSIZE, NBANDS)):\n",
    "    \n",
    "                img_input = Input(shape=input_size, name='input_scale1')\n",
    "                scale_img_2 = AveragePooling2D(pool_size=(2, 2), name='input_scale2')(img_input)\n",
    "                scale_img_3 = AveragePooling2D(pool_size=(2, 2), name='input_scale3')(scale_img_2)\n",
    "                scale_img_4 = AveragePooling2D(pool_size=(2, 2), name='input_scale4')(scale_img_3)\n",
    "\n",
    "                conv1 = UnetConv2D(img_input, filtersFirstLayer, is_batchnorm=True, name='conv1')\n",
    "                pool1 = MaxPooling2D(pool_size=(2, 2))(conv1)\n",
    "\n",
    "                input2 = Conv2D(filtersFirstLayer*2, (3, 3), padding='same', activation='relu', name='conv_scale2')(scale_img_2)\n",
    "                input2 = concatenate([input2, pool1], axis=3)\n",
    "                conv2 = UnetConv2D(input2, filtersFirstLayer*2, is_batchnorm=True, name='conv2')\n",
    "                pool2 = MaxPooling2D(pool_size=(2, 2))(conv2)\n",
    "\n",
    "                input3 = Conv2D(filtersFirstLayer*4, (3, 3), padding='same', activation='relu', name='conv_scale3')(scale_img_3)\n",
    "                input3 = concatenate([input3, pool2], axis=3)\n",
    "                conv3 = UnetConv2D(input3, filtersFirstLayer*4, is_batchnorm=True, name='conv3')\n",
    "                pool3 = MaxPooling2D(pool_size=(2, 2))(conv3)\n",
    "\n",
    "                input4 = Conv2D(filtersFirstLayer*8, (3, 3), padding='same', activation='relu', name='conv_scale4')(scale_img_4)\n",
    "                input4 = concatenate([input4, pool3], axis=3)\n",
    "                conv4 = UnetConv2D(input4, filtersFirstLayer*2, is_batchnorm=True, name='conv4')\n",
    "                pool4 = MaxPooling2D(pool_size=(2, 2))(conv4)\n",
    "\n",
    "                center = UnetConv2D(pool4, filtersFirstLayer*16, is_batchnorm=True, name='center')\n",
    "\n",
    "                g1 = UnetGatingSignal(center, is_batchnorm=True, name='g1')\n",
    "                attn1 = AttnGatingBlock(conv4, g1, filtersFirstLayer*4, '_1')\n",
    "                up1 = concatenate([Conv2DTranspose(filtersFirstLayer, (3,3), strides=(2,2), padding='same', activation='relu', kernel_initializer=kinit)(center), attn1], name='up1')\n",
    "\n",
    "                g2 = UnetGatingSignal(up1, is_batchnorm=True, name='g2')\n",
    "                attn2 = AttnGatingBlock(conv3, g2, filtersFirstLayer*2, '_2')\n",
    "                up2 = concatenate([Conv2DTranspose(filtersFirstLayer*2, (3,3), strides=(2,2), padding='same', activation='relu', kernel_initializer=kinit)(up1), attn2], name='up2')\n",
    "\n",
    "                g3 = UnetGatingSignal(up1, is_batchnorm=True, name='g3')\n",
    "                attn3 = AttnGatingBlock(conv2, g3, filtersFirstLayer, '_3')\n",
    "                up3 = concatenate([Conv2DTranspose(filtersFirstLayer, (3,3), strides=(2,2), padding='same', activation='relu', kernel_initializer=kinit)(up2), attn3], name='up3')\n",
    "\n",
    "                up4 = concatenate([Conv2DTranspose(filtersFirstLayer, (3,3), strides=(2,2), padding='same', activation='relu', kernel_initializer=kinit)(up3), conv1], name='up4')\n",
    "\n",
    "                conv6 = UnetConv2D(up1, filtersFirstLayer*8, is_batchnorm=True, name='conv6')\n",
    "                conv7 = UnetConv2D(up2, filtersFirstLayer*4, is_batchnorm=True, name='conv7')\n",
    "                conv8 = UnetConv2D(up3, filtersFirstLayer*2, is_batchnorm=True, name='conv8')\n",
    "                conv9 = UnetConv2D(up4, filtersFirstLayer, is_batchnorm=True, name='conv9')\n",
    "\n",
    "                out6 = Conv2D(1, (1, 1), activation='sigmoid', name='pred1')(conv6)\n",
    "                out7 = Conv2D(1, (1, 1), activation='sigmoid', name='pred2')(conv7)\n",
    "                out8 = Conv2D(1, (1, 1), activation='sigmoid', name='pred3')(conv8)\n",
    "                out9 = Conv2D(1, (1, 1), activation='sigmoid', name='final')(conv9)\n",
    "\n",
    "                model = Model(inputs=[img_input], outputs=[out6, out7, out8, out9])\n",
    "\n",
    "                loss = {'pred1':focal_tversky,\n",
    "                        'pred2':focal_tversky,\n",
    "                        'pred3':focal_tversky,\n",
    "                        'final':losses.tversky_loss}\n",
    "\n",
    "                loss_weights = {'pred1':1,\n",
    "                                'pred2':1,\n",
    "                                'pred3':1,\n",
    "                                'final':1}\n",
    "                model.compile(optimizer=Adam(learning_rate = lr), loss=loss, loss_weights=loss_weights,\n",
    "                              metrics=metrics)\n",
    "                # model.summary()\n",
    "                \n",
    "                if(pretrained_weights):\n",
    "                    model.load_weights(pretrained_weights)\n",
    "                    \n",
    "                return model\n",
    "            \n",
    "            # Load the model\n",
    "            model = ms_attUNet(lr=learning_rate, filtersFirstLayer=no_filters,pretrained_weights=None, input_size=(PATCHSIZE, PATCHSIZE, NBANDS))\n",
    "    \n",
    "            print(\"---------------------------------------------------------------------------------------------------------------------\")\n",
    "\n",
    "            print(\"Initialising in 3..........2..........1......................................\")\n",
    "\n",
    "            print(f'Training on {X_train.shape[0]} images with learning rate {learning_rate}, batch size {batch_size}, and number of filters {no_filters}')\n",
    "\n",
    "            # Checkpoint for saving the weights \n",
    "            checkpoint_path = os.path.join('Checkpoints/','weights.{epoch:02d}-{val_final_loss:.2f}.hdf5')\n",
    "\n",
    "            # Create a callback that saves the model's weights at every epoch\n",
    "            callback = tf.keras.callbacks.ModelCheckpoint(filepath=checkpoint_path,\n",
    "                                                            save_weights_only=True, save_best_only=True, monitor=\"val_final_loss\", mode = \"min\",\n",
    "                                                            verbose=1)\n",
    "\n",
    "            # Create a callback to reduce the learning rate using the ReduceLROnPlateau function\n",
    "            reduce_lr = tf.keras.callbacks.ReduceLROnPlateau(monitor=\"val_final_loss\", factor=0.33, patience=15, mode=\"min\")\n",
    "            \n",
    "            early_stop = tf.keras.callbacks.EarlyStopping(monitor = 'val_final_loss', # what is the metric to measure\n",
    "                              patience = 40, # how many epochs to continue running the model after seeing an increase in val_loss\n",
    "                              restore_best_weights = True) # update the mod\n",
    "            \n",
    "            # Compile the checkpoints and other settings as a callback\n",
    "            callback_list = [callback, reduce_lr, early_stop]\n",
    "\n",
    "            history = model.fit(X_train, gt_train,\n",
    "                        epochs=NUMBER_EPOCHS,\n",
    "                        batch_size=batch_size,\n",
    "                        validation_split = 0.1,\n",
    "                        # validation_data=(Xval, gv_val),\n",
    "                        callbacks=callback_list,\n",
    "                        verbose=2) \n",
    "\n",
    "            ########      EVALUATION      ###########\n",
    "            tf.keras.backend.clear_session()\n",
    "            evaluate = model.evaluate(X_test, gt_test, verbose=2)\n",
    "\n",
    "            ########      Saving results      ###########\n",
    "            results[\"filters\"].append(no_filters)\n",
    "            results[\"learning_rate\"].append(learning_rate)\n",
    "            results[\"batch_size\"].append(batch_size)\n",
    "            results[\"loss\"].append(evaluate[16])\n",
    "            results[\"accuracy\"].append(evaluate[17])\n",
    "            results[\"precision\"].append(evaluate[18])\n",
    "            results[\"recall\"].append(evaluate[19])\n",
    "            results[\"f1\"].append(evaluate[20])\n",
    "\n",
    "            # Convert results to a pandas dataframe\n",
    "            results_df = pd.DataFrame(results)\n",
    "\n",
    "            # Export as a CSV\n",
    "            save_path_results = f'Results in CSV'\n",
    "            if not os.path.exists(save_path_results):\n",
    "                os.makedirs(save_path_results)\n",
    "\n",
    "            results_df.to_csv(f'{save_path_results}/learning_rate_{learning_rate}_batch_size_{batch_size}_filters_{no_filters}.csv', index=False)\n",
    "\n",
    "            tf.compat.v1.reset_default_graph()\n",
    "\n",
    "            print(f\"The metrics for the test set with learning rate {learning_rate},  filters {no_filters}, and batch size {batch_size} is {evaluate}\")\n",
    "            print(\"__________________________________________________________________________________________________________________________________________________________________________\")"
   ]
  },
  {
   "cell_type": "markdown",
   "metadata": {
    "id": "SmFTAVATJPM1"
   },
   "source": [
    "## Testing the model"
   ]
  },
  {
   "cell_type": "markdown",
   "metadata": {
    "id": "jAHNFP8KuPCa"
   },
   "source": [
    "### Evaluate the model"
   ]
  },
  {
   "cell_type": "markdown",
   "metadata": {
    "id": "ldFjQDOvnR--"
   },
   "source": [
    "LOAD MODELS FROM SAVED WEIGHTS (FOR PARTICULAR EPOCH WITH BEST PERFORMANCE)"
   ]
  },
  {
   "cell_type": "code",
   "execution_count": null,
   "metadata": {
    "colab": {
     "base_uri": "https://localhost:8080/"
    },
    "executionInfo": {
     "elapsed": 39299,
     "status": "ok",
     "timestamp": 1618838110223,
     "user": {
      "displayName": "Kushanav Bhuyan",
      "photoUrl": "https://lh3.googleusercontent.com/a-/AOh14GhpJDzYajMCPL_21Vep_aig5cbphA73G195JQkf=s64",
      "userId": "13534778218088456884"
     },
     "user_tz": -120
    },
    "id": "E_vxRDOnZ93p",
    "outputId": "eb105caa-cf00-48da-95f6-c9f1d5a8876b"
   },
   "outputs": [],
   "source": [
    "def ms_attUNet(lr,filtersFirstLayer, pretrained_weights = None, input_size = (PATCHSIZE, PATCHSIZE, NBANDS)):\n",
    "    \n",
    "                img_input = Input(shape=input_size, name='input_scale1')\n",
    "                scale_img_2 = AveragePooling2D(pool_size=(2, 2), name='input_scale2')(img_input)\n",
    "                scale_img_3 = AveragePooling2D(pool_size=(2, 2), name='input_scale3')(scale_img_2)\n",
    "                scale_img_4 = AveragePooling2D(pool_size=(2, 2), name='input_scale4')(scale_img_3)\n",
    "\n",
    "                conv1 = UnetConv2D(img_input, filtersFirstLayer, is_batchnorm=True, name='conv1')\n",
    "                pool1 = MaxPooling2D(pool_size=(2, 2))(conv1)\n",
    "\n",
    "                input2 = Conv2D(filtersFirstLayer*2, (3, 3), padding='same', activation='relu', name='conv_scale2')(scale_img_2)\n",
    "                input2 = concatenate([input2, pool1], axis=3)\n",
    "                conv2 = UnetConv2D(input2, filtersFirstLayer*2, is_batchnorm=True, name='conv2')\n",
    "                pool2 = MaxPooling2D(pool_size=(2, 2))(conv2)\n",
    "\n",
    "                input3 = Conv2D(filtersFirstLayer*4, (3, 3), padding='same', activation='relu', name='conv_scale3')(scale_img_3)\n",
    "                input3 = concatenate([input3, pool2], axis=3)\n",
    "                conv3 = UnetConv2D(input3, filtersFirstLayer*4, is_batchnorm=True, name='conv3')\n",
    "                pool3 = MaxPooling2D(pool_size=(2, 2))(conv3)\n",
    "\n",
    "                input4 = Conv2D(filtersFirstLayer*8, (3, 3), padding='same', activation='relu', name='conv_scale4')(scale_img_4)\n",
    "                input4 = concatenate([input4, pool3], axis=3)\n",
    "                conv4 = UnetConv2D(input4, filtersFirstLayer*2, is_batchnorm=True, name='conv4')\n",
    "                pool4 = MaxPooling2D(pool_size=(2, 2))(conv4)\n",
    "\n",
    "                center = UnetConv2D(pool4, filtersFirstLayer*16, is_batchnorm=True, name='center')\n",
    "\n",
    "                g1 = UnetGatingSignal(center, is_batchnorm=True, name='g1')\n",
    "                attn1 = AttnGatingBlock(conv4, g1, filtersFirstLayer*4, '_1')\n",
    "                up1 = concatenate([Conv2DTranspose(filtersFirstLayer, (3,3), strides=(2,2), padding='same', activation='relu', kernel_initializer=kinit)(center), attn1], name='up1')\n",
    "\n",
    "                g2 = UnetGatingSignal(up1, is_batchnorm=True, name='g2')\n",
    "                attn2 = AttnGatingBlock(conv3, g2, filtersFirstLayer*2, '_2')\n",
    "                up2 = concatenate([Conv2DTranspose(filtersFirstLayer*2, (3,3), strides=(2,2), padding='same', activation='relu', kernel_initializer=kinit)(up1), attn2], name='up2')\n",
    "\n",
    "                g3 = UnetGatingSignal(up1, is_batchnorm=True, name='g3')\n",
    "                attn3 = AttnGatingBlock(conv2, g3, filtersFirstLayer, '_3')\n",
    "                up3 = concatenate([Conv2DTranspose(filtersFirstLayer, (3,3), strides=(2,2), padding='same', activation='relu', kernel_initializer=kinit)(up2), attn3], name='up3')\n",
    "\n",
    "                up4 = concatenate([Conv2DTranspose(filtersFirstLayer, (3,3), strides=(2,2), padding='same', activation='relu', kernel_initializer=kinit)(up3), conv1], name='up4')\n",
    "\n",
    "                conv6 = UnetConv2D(up1, filtersFirstLayer*8, is_batchnorm=True, name='conv6')\n",
    "                conv7 = UnetConv2D(up2, filtersFirstLayer*4, is_batchnorm=True, name='conv7')\n",
    "                conv8 = UnetConv2D(up3, filtersFirstLayer*2, is_batchnorm=True, name='conv8')\n",
    "                conv9 = UnetConv2D(up4, filtersFirstLayer, is_batchnorm=True, name='conv9')\n",
    "\n",
    "                out6 = Conv2D(1, (1, 1), activation='sigmoid', name='pred1')(conv6)\n",
    "                out7 = Conv2D(1, (1, 1), activation='sigmoid', name='pred2')(conv7)\n",
    "                out8 = Conv2D(1, (1, 1), activation='sigmoid', name='pred3')(conv8)\n",
    "                out9 = Conv2D(1, (1, 1), activation='sigmoid', name='final')(conv9)\n",
    "\n",
    "                model = Model(inputs=[img_input], outputs=[out6, out7, out8, out9])\n",
    "\n",
    "                loss = {'pred1':focal_tversky,\n",
    "                        'pred2':focal_tversky,\n",
    "                        'pred3':focal_tversky,\n",
    "                        'final':losses.tversky_loss}\n",
    "\n",
    "                loss_weights = {'pred1':1,\n",
    "                                'pred2':1,\n",
    "                                'pred3':1,\n",
    "                                'final':1}\n",
    "                model.compile(optimizer=Adam(lr = lr), loss=loss, loss_weights=loss_weights,\n",
    "                              metrics=metrics)\n",
    "                model.summary()\n",
    "                \n",
    "                if(pretrained_weights):\n",
    "                    model.load_weights(pretrained_weights)\n",
    "                    \n",
    "                return model\n",
    "\n",
    "# To load model weights from older runs, if present.\n",
    "# Please load previous metrics and functions and other required variables.\n",
    "# Also, insert the argument values manually for the model.\n",
    "\n",
    "best_model = ms_attUNet(lr=1e-4, filtersFirstLayer=32,pretrained_weights=None, input_size=(PATCHSIZE, PATCHSIZE, NBANDS))\n",
    "best_model.load_weights(\"Checkpoints/weights.196-0.06.hdf5\")\n",
    "results = best_model.evaluate(X_test, gt_test, verbose=0)\n",
    "print(f'The metric evaluations are {results}')\n",
    "\n",
    "# RUN TO SAVE THE MODEL IF YOU HAVE NOT SET ANY CHECKPOINTS; OTHERWISE NO NEED TO RUN THIS CODE\n",
    "# This saves the weight as the model (might not be the best; depends which one you choose)\n",
    "\n",
    "import imp, h5py\n",
    "imp.reload(h5py)\n",
    "model_fname = \"Checkpoints/model_attnUNet.hdf5\".format(filters, batch_size_list, lr)\n",
    "best_model.save(model_fname)\n",
    "print(\"Model Saved !!\")"
   ]
  },
  {
   "cell_type": "markdown",
   "metadata": {
    "id": "ktTIs3ibnVEq"
   },
   "source": [
    "LOAD MODELS FROM CURRENT RUN (Last Model)"
   ]
  },
  {
   "cell_type": "code",
   "execution_count": null,
   "metadata": {
    "colab": {
     "base_uri": "https://localhost:8080/"
    },
    "executionInfo": {
     "elapsed": 4195,
     "status": "ok",
     "timestamp": 1611692292014,
     "user": {
      "displayName": "Kushanav Bhuyan",
      "photoUrl": "https://lh3.googleusercontent.com/a-/AOh14GhpJDzYajMCPL_21Vep_aig5cbphA73G195JQkf=s64",
      "userId": "13534778218088456884"
     },
     "user_tz": -60
    },
    "id": "4reSJk2Ew4XX",
    "outputId": "e4ce2e0a-6386-4fb1-bbe9-63fc0e073eb8"
   },
   "outputs": [],
   "source": [
    "# To load model from current run\n",
    "model.evaluate(Xtest, Ytest, verbose=2)"
   ]
  },
  {
   "cell_type": "markdown",
   "metadata": {
    "id": "L6IYYcW6uVJ0"
   },
   "source": [
    "### Predict the model "
   ]
  },
  {
   "cell_type": "code",
   "execution_count": null,
   "metadata": {
    "colab": {
     "base_uri": "https://localhost:8080/"
    },
    "executionInfo": {
     "elapsed": 1057,
     "status": "ok",
     "timestamp": 1611692388400,
     "user": {
      "displayName": "Kushanav Bhuyan",
      "photoUrl": "https://lh3.googleusercontent.com/a-/AOh14GhpJDzYajMCPL_21Vep_aig5cbphA73G195JQkf=s64",
      "userId": "13534778218088456884"
     },
     "user_tz": -60
    },
    "id": "GmfMiSUnPc7J",
    "outputId": "6f6d5d89-3029-4432-dba4-583ee6cc4069"
   },
   "outputs": [],
   "source": [
    "def visualize_prediction(data,mask,predict):\n",
    "    f, axarr = plt.subplots(1,3)\n",
    "    data = data[:, :, 3] \n",
    "    axarr[0].imshow(data)\n",
    "    axarr[0].set_title(\"Satellite image\")\n",
    "\n",
    "    a=axarr[1]\n",
    "    values = np.unique(mask.ravel())\n",
    "    im = axarr[1].imshow(mask[:,:,0])\n",
    "    a.set_title(\"Ground truth labeled image\")\n",
    "    colors = [im.cmap(im.norm(value)) for value in values]\n",
    "\n",
    "    b=axarr[2]\n",
    "    values = np.unique(predict.ravel())\n",
    "    im = axarr[2].imshow(predict[:,:,0])\n",
    "    b.set_title(\"Predicted image\")\n",
    "    colors = [im.cmap(im.norm(value)) for value in values]\n",
    "\n",
    "    mask = [\"Background\", \"Landslide footprints\"]\n",
    "    patches = [mpatches.Patch(color=colors[i], label=j) for i, j in zip(range(len(values)), mask)]\n",
    "    plt.legend(handles=patches, bbox_to_anchor=(1.05, 1), loc=2, borderaxespad=0. )"
   ]
  },
  {
   "cell_type": "code",
   "execution_count": null,
   "metadata": {
    "colab": {
     "base_uri": "https://localhost:8080/",
     "height": 394
    },
    "executionInfo": {
     "elapsed": 7201,
     "status": "ok",
     "timestamp": 1611692401903,
     "user": {
      "displayName": "Kushanav Bhuyan",
      "photoUrl": "https://lh3.googleusercontent.com/a-/AOh14GhpJDzYajMCPL_21Vep_aig5cbphA73G195JQkf=s64",
      "userId": "13534778218088456884"
     },
     "user_tz": -60
    },
    "id": "2R0sUb2VPnBc",
    "outputId": "9b2d4e65-f6b3-4547-befc-a2732aa91d2f"
   },
   "outputs": [],
   "source": [
    "# Select the model and predict on the test image\n",
    "prediction = best_model.predict(Xtest)\n",
    "\n",
    "# Run this code if the predicted data needs to be in \"int\" type and if you need to do THRESHOLDING.\n",
    "prediction[prediction>0.5]=1\n",
    "prediction[prediction<0.5]=0\n",
    "\n",
    "PATCH_NO = random.randint(0, len(Xtest)-1)\n",
    "test = Ytest[PATCH_NO]\n",
    "\n",
    "print(\"Precision: \", (precision_m(test, prediction[PATCH_NO])))\n",
    "print(\"Recall: \" , recall_m(test, prediction[PATCH_NO]))\n",
    "print(\"F1-score: \" , f1_m(test, prediction[PATCH_NO]))\n",
    "\n",
    "visualize_prediction(Xtest[PATCH_NO].astype('uint8'),Ytest[PATCH_NO], prediction[PATCH_NO])\n",
    "print(\"Site number= %i\" % (PATCH_NO))"
   ]
  },
  {
   "cell_type": "code",
   "execution_count": null,
   "metadata": {},
   "outputs": [],
   "source": [
    "# Plot the first few predictions\n",
    "for i in range(10):\n",
    "    preds_train_1 = model.predict(np.expand_dims(X_test[i],axis = 0), verbose=1)\n",
    "    # It's possible to change the 0.5 threshold to show better results;\n",
    "    preds_train_t1 = (preds_train_1[3] > 0.5).astype(np.uint8)\n",
    "    f, axarr = plt.subplots(1,3,figsize=(10,10))\n",
    "    axarr[0].imshow(X_test[i][:,:,:3])\n",
    "    axarr[1].imshow(np.squeeze(Y_test[i]))\n",
    "    axarr[2].imshow(np.squeeze(preds_train_t1))"
   ]
  }
 ],
 "metadata": {
  "accelerator": "GPU",
  "colab": {
   "authorship_tag": "ABX9TyOZg4r3JA6/w8iI+xXJFZGJ",
   "collapsed_sections": [
    "FM7QdfvHzyww",
    "sJSfvuyV01zL",
    "Wjt6-QOtDKM1",
    "HfLAs-f3O59V"
   ],
   "machine_shape": "hm",
   "name": "Local_v0.3.1.ipynb",
   "provenance": [
    {
     "file_id": "14VGS6iC4C5lY2O9U_veYZMeX0u8MGMuX",
     "timestamp": 1610574487969
    },
    {
     "file_id": "10ci_zSfdTzMzqO2m7J9Nwme_Ebr5PX-P",
     "timestamp": 1609747228851
    }
   ],
   "toc_visible": true
  },
  "interpreter": {
   "hash": "28ea9cb954659dbdeb242555929885b4da1f2c57e320f1a07e78377d39f2b6a8"
  },
  "kernelspec": {
   "display_name": "Python",
   "language": "python",
   "name": "python3"
  },
  "language_info": {
   "codemirror_mode": {
    "name": "ipython",
    "version": 3
   },
   "file_extension": ".py",
   "mimetype": "text/x-python",
   "name": "python",
   "nbconvert_exporter": "python",
   "pygments_lexer": "ipython3",
   "version": "3.8.10"
  }
 },
 "nbformat": 4,
 "nbformat_minor": 4
}
